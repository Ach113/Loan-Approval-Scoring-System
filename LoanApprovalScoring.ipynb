{
 "cells": [
  {
   "cell_type": "code",
   "execution_count": 1,
   "id": "880acac1",
   "metadata": {},
   "outputs": [],
   "source": [
    "import pandas as pd\n",
    "import numpy as np\n",
    "\n",
    "import matplotlib.pyplot as plt\n",
    "import seaborn as sns"
   ]
  },
  {
   "cell_type": "code",
   "execution_count": 3,
   "id": "1dc2174f",
   "metadata": {},
   "outputs": [
    {
     "name": "stderr",
     "output_type": "stream",
     "text": [
      "C:\\Users\\achib\\anaconda3\\lib\\site-packages\\IPython\\core\\interactiveshell.py:3165: DtypeWarning: Columns (19) have mixed types.Specify dtype option on import or set low_memory=False.\n",
      "  has_raised = await self.run_ast_nodes(code_ast.body, cell_name,\n"
     ]
    },
    {
     "data": {
      "text/html": [
       "<div>\n",
       "<style scoped>\n",
       "    .dataframe tbody tr th:only-of-type {\n",
       "        vertical-align: middle;\n",
       "    }\n",
       "\n",
       "    .dataframe tbody tr th {\n",
       "        vertical-align: top;\n",
       "    }\n",
       "\n",
       "    .dataframe thead th {\n",
       "        text-align: right;\n",
       "    }\n",
       "</style>\n",
       "<table border=\"1\" class=\"dataframe\">\n",
       "  <thead>\n",
       "    <tr style=\"text-align: right;\">\n",
       "      <th></th>\n",
       "      <th>id</th>\n",
       "      <th>member_id</th>\n",
       "      <th>loan_amnt</th>\n",
       "      <th>funded_amnt</th>\n",
       "      <th>funded_amnt_inv</th>\n",
       "      <th>term</th>\n",
       "      <th>int_rate</th>\n",
       "      <th>installment</th>\n",
       "      <th>grade</th>\n",
       "      <th>sub_grade</th>\n",
       "      <th>...</th>\n",
       "      <th>total_bal_il</th>\n",
       "      <th>il_util</th>\n",
       "      <th>open_rv_12m</th>\n",
       "      <th>open_rv_24m</th>\n",
       "      <th>max_bal_bc</th>\n",
       "      <th>all_util</th>\n",
       "      <th>total_rev_hi_lim</th>\n",
       "      <th>inq_fi</th>\n",
       "      <th>total_cu_tl</th>\n",
       "      <th>inq_last_12m</th>\n",
       "    </tr>\n",
       "  </thead>\n",
       "  <tbody>\n",
       "    <tr>\n",
       "      <th>0</th>\n",
       "      <td>1077501</td>\n",
       "      <td>1296599</td>\n",
       "      <td>5000</td>\n",
       "      <td>5000</td>\n",
       "      <td>4975.0</td>\n",
       "      <td>36 months</td>\n",
       "      <td>10.65</td>\n",
       "      <td>162.87</td>\n",
       "      <td>B</td>\n",
       "      <td>B2</td>\n",
       "      <td>...</td>\n",
       "      <td>NaN</td>\n",
       "      <td>NaN</td>\n",
       "      <td>NaN</td>\n",
       "      <td>NaN</td>\n",
       "      <td>NaN</td>\n",
       "      <td>NaN</td>\n",
       "      <td>NaN</td>\n",
       "      <td>NaN</td>\n",
       "      <td>NaN</td>\n",
       "      <td>NaN</td>\n",
       "    </tr>\n",
       "    <tr>\n",
       "      <th>1</th>\n",
       "      <td>1077430</td>\n",
       "      <td>1314167</td>\n",
       "      <td>2500</td>\n",
       "      <td>2500</td>\n",
       "      <td>2500.0</td>\n",
       "      <td>60 months</td>\n",
       "      <td>15.27</td>\n",
       "      <td>59.83</td>\n",
       "      <td>C</td>\n",
       "      <td>C4</td>\n",
       "      <td>...</td>\n",
       "      <td>NaN</td>\n",
       "      <td>NaN</td>\n",
       "      <td>NaN</td>\n",
       "      <td>NaN</td>\n",
       "      <td>NaN</td>\n",
       "      <td>NaN</td>\n",
       "      <td>NaN</td>\n",
       "      <td>NaN</td>\n",
       "      <td>NaN</td>\n",
       "      <td>NaN</td>\n",
       "    </tr>\n",
       "    <tr>\n",
       "      <th>2</th>\n",
       "      <td>1077175</td>\n",
       "      <td>1313524</td>\n",
       "      <td>2400</td>\n",
       "      <td>2400</td>\n",
       "      <td>2400.0</td>\n",
       "      <td>36 months</td>\n",
       "      <td>15.96</td>\n",
       "      <td>84.33</td>\n",
       "      <td>C</td>\n",
       "      <td>C5</td>\n",
       "      <td>...</td>\n",
       "      <td>NaN</td>\n",
       "      <td>NaN</td>\n",
       "      <td>NaN</td>\n",
       "      <td>NaN</td>\n",
       "      <td>NaN</td>\n",
       "      <td>NaN</td>\n",
       "      <td>NaN</td>\n",
       "      <td>NaN</td>\n",
       "      <td>NaN</td>\n",
       "      <td>NaN</td>\n",
       "    </tr>\n",
       "    <tr>\n",
       "      <th>3</th>\n",
       "      <td>1076863</td>\n",
       "      <td>1277178</td>\n",
       "      <td>10000</td>\n",
       "      <td>10000</td>\n",
       "      <td>10000.0</td>\n",
       "      <td>36 months</td>\n",
       "      <td>13.49</td>\n",
       "      <td>339.31</td>\n",
       "      <td>C</td>\n",
       "      <td>C1</td>\n",
       "      <td>...</td>\n",
       "      <td>NaN</td>\n",
       "      <td>NaN</td>\n",
       "      <td>NaN</td>\n",
       "      <td>NaN</td>\n",
       "      <td>NaN</td>\n",
       "      <td>NaN</td>\n",
       "      <td>NaN</td>\n",
       "      <td>NaN</td>\n",
       "      <td>NaN</td>\n",
       "      <td>NaN</td>\n",
       "    </tr>\n",
       "    <tr>\n",
       "      <th>4</th>\n",
       "      <td>1075358</td>\n",
       "      <td>1311748</td>\n",
       "      <td>3000</td>\n",
       "      <td>3000</td>\n",
       "      <td>3000.0</td>\n",
       "      <td>60 months</td>\n",
       "      <td>12.69</td>\n",
       "      <td>67.79</td>\n",
       "      <td>B</td>\n",
       "      <td>B5</td>\n",
       "      <td>...</td>\n",
       "      <td>NaN</td>\n",
       "      <td>NaN</td>\n",
       "      <td>NaN</td>\n",
       "      <td>NaN</td>\n",
       "      <td>NaN</td>\n",
       "      <td>NaN</td>\n",
       "      <td>NaN</td>\n",
       "      <td>NaN</td>\n",
       "      <td>NaN</td>\n",
       "      <td>NaN</td>\n",
       "    </tr>\n",
       "  </tbody>\n",
       "</table>\n",
       "<p>5 rows × 74 columns</p>\n",
       "</div>"
      ],
      "text/plain": [
       "        id  member_id  loan_amnt  funded_amnt  funded_amnt_inv        term  \\\n",
       "0  1077501    1296599       5000         5000           4975.0   36 months   \n",
       "1  1077430    1314167       2500         2500           2500.0   60 months   \n",
       "2  1077175    1313524       2400         2400           2400.0   36 months   \n",
       "3  1076863    1277178      10000        10000          10000.0   36 months   \n",
       "4  1075358    1311748       3000         3000           3000.0   60 months   \n",
       "\n",
       "   int_rate  installment grade sub_grade  ... total_bal_il il_util  \\\n",
       "0     10.65       162.87     B        B2  ...          NaN     NaN   \n",
       "1     15.27        59.83     C        C4  ...          NaN     NaN   \n",
       "2     15.96        84.33     C        C5  ...          NaN     NaN   \n",
       "3     13.49       339.31     C        C1  ...          NaN     NaN   \n",
       "4     12.69        67.79     B        B5  ...          NaN     NaN   \n",
       "\n",
       "  open_rv_12m  open_rv_24m max_bal_bc all_util total_rev_hi_lim inq_fi  \\\n",
       "0         NaN          NaN        NaN      NaN              NaN    NaN   \n",
       "1         NaN          NaN        NaN      NaN              NaN    NaN   \n",
       "2         NaN          NaN        NaN      NaN              NaN    NaN   \n",
       "3         NaN          NaN        NaN      NaN              NaN    NaN   \n",
       "4         NaN          NaN        NaN      NaN              NaN    NaN   \n",
       "\n",
       "  total_cu_tl inq_last_12m  \n",
       "0         NaN          NaN  \n",
       "1         NaN          NaN  \n",
       "2         NaN          NaN  \n",
       "3         NaN          NaN  \n",
       "4         NaN          NaN  \n",
       "\n",
       "[5 rows x 74 columns]"
      ]
     },
     "execution_count": 3,
     "metadata": {},
     "output_type": "execute_result"
    }
   ],
   "source": [
    "# hello world\n",
    "data = pd.read_csv('loan_data_2007_2014.csv')\n",
    "data.head()"
   ]
  },
  {
   "cell_type": "markdown",
   "id": "9382c931",
   "metadata": {},
   "source": [
    "## Data Inspection"
   ]
  },
  {
   "cell_type": "markdown",
   "id": "b9002688",
   "metadata": {},
   "source": [
    "### loan_amnt"
   ]
  },
  {
   "cell_type": "code",
   "execution_count": 11,
   "id": "f73d7385",
   "metadata": {},
   "outputs": [
    {
     "name": "stdout",
     "output_type": "stream",
     "text": [
      "count    466285.000000\n",
      "mean      14317.277577\n",
      "std        8286.509164\n",
      "min         500.000000\n",
      "25%        8000.000000\n",
      "50%       12000.000000\n",
      "75%       20000.000000\n",
      "max       35000.000000\n",
      "Name: loan_amnt, dtype: float64\n"
     ]
    },
    {
     "data": {
      "text/plain": [
       "0"
      ]
     },
     "execution_count": 11,
     "metadata": {},
     "output_type": "execute_result"
    }
   ],
   "source": [
    "print(data['loan_amnt'].describe())\n",
    "data['loan_amnt'].isnull().sum()"
   ]
  },
  {
   "cell_type": "markdown",
   "id": "90927bf8",
   "metadata": {},
   "source": [
    "### funded_amnt"
   ]
  },
  {
   "cell_type": "code",
   "execution_count": 12,
   "id": "f1f8abb8",
   "metadata": {},
   "outputs": [
    {
     "name": "stdout",
     "output_type": "stream",
     "text": [
      "count    466285.000000\n",
      "mean      14291.801044\n",
      "std        8274.371300\n",
      "min         500.000000\n",
      "25%        8000.000000\n",
      "50%       12000.000000\n",
      "75%       20000.000000\n",
      "max       35000.000000\n",
      "Name: funded_amnt, dtype: float64\n",
      "0\n"
     ]
    }
   ],
   "source": [
    "print(data['funded_amnt'].describe())\n",
    "print(data['funded_amnt'].isnull().sum())"
   ]
  },
  {
   "cell_type": "markdown",
   "id": "db0a9822",
   "metadata": {},
   "source": [
    "### funded_amnt_inv"
   ]
  },
  {
   "cell_type": "code",
   "execution_count": 13,
   "id": "73bb7c8f",
   "metadata": {},
   "outputs": [
    {
     "name": "stdout",
     "output_type": "stream",
     "text": [
      "count    466285.000000\n",
      "mean      14222.329888\n",
      "std        8297.637788\n",
      "min           0.000000\n",
      "25%        8000.000000\n",
      "50%       12000.000000\n",
      "75%       19950.000000\n",
      "max       35000.000000\n",
      "Name: funded_amnt_inv, dtype: float64\n",
      "0\n"
     ]
    }
   ],
   "source": [
    "print(data['funded_amnt_inv'].describe())\n",
    "print(data['funded_amnt_inv'].isnull().sum())"
   ]
  },
  {
   "cell_type": "markdown",
   "id": "14f858e5",
   "metadata": {},
   "source": [
    "### term"
   ]
  },
  {
   "cell_type": "code",
   "execution_count": 15,
   "id": "c0f21d1e",
   "metadata": {},
   "outputs": [
    {
     "name": "stdout",
     "output_type": "stream",
     "text": [
      " 36 months    337953\n",
      " 60 months    128332\n",
      "Name: term, dtype: int64\n",
      "0\n"
     ]
    }
   ],
   "source": [
    "print(data['term'].value_counts())\n",
    "print(data['term'].isnull().sum())"
   ]
  },
  {
   "cell_type": "markdown",
   "id": "414a5435",
   "metadata": {},
   "source": [
    "### int_rate"
   ]
  },
  {
   "cell_type": "code",
   "execution_count": 16,
   "id": "6a9c941f",
   "metadata": {},
   "outputs": [
    {
     "name": "stdout",
     "output_type": "stream",
     "text": [
      "count    466285.000000\n",
      "mean         13.829236\n",
      "std           4.357587\n",
      "min           5.420000\n",
      "25%          10.990000\n",
      "50%          13.660000\n",
      "75%          16.490000\n",
      "max          26.060000\n",
      "Name: int_rate, dtype: float64\n",
      "0\n"
     ]
    }
   ],
   "source": [
    "print(data['int_rate'].describe())\n",
    "print(data['int_rate'].isnull().sum())"
   ]
  },
  {
   "cell_type": "markdown",
   "id": "f649e27d",
   "metadata": {},
   "source": [
    "### installment"
   ]
  },
  {
   "cell_type": "code",
   "execution_count": 17,
   "id": "db6c8927",
   "metadata": {},
   "outputs": [
    {
     "name": "stdout",
     "output_type": "stream",
     "text": [
      "count    466285.000000\n",
      "mean        432.061201\n",
      "std         243.485550\n",
      "min          15.670000\n",
      "25%         256.690000\n",
      "50%         379.890000\n",
      "75%         566.580000\n",
      "max        1409.990000\n",
      "Name: installment, dtype: float64\n",
      "0\n"
     ]
    }
   ],
   "source": [
    "print(data['installment'].describe())\n",
    "print(data['installment'].isnull().sum())"
   ]
  },
  {
   "cell_type": "markdown",
   "id": "8df62132",
   "metadata": {},
   "source": [
    "### grade"
   ]
  },
  {
   "cell_type": "code",
   "execution_count": 18,
   "id": "4f969c84",
   "metadata": {},
   "outputs": [
    {
     "name": "stdout",
     "output_type": "stream",
     "text": [
      "B    136929\n",
      "C    125293\n",
      "D     76888\n",
      "A     74867\n",
      "E     35757\n",
      "F     13229\n",
      "G      3322\n",
      "Name: grade, dtype: int64\n",
      "0\n"
     ]
    }
   ],
   "source": [
    "print(data['grade'].value_counts())\n",
    "print(data['grade'].isnull().sum())"
   ]
  },
  {
   "cell_type": "markdown",
   "id": "034e6757",
   "metadata": {},
   "source": [
    "### sub_grade"
   ]
  },
  {
   "cell_type": "code",
   "execution_count": 19,
   "id": "78c9152a",
   "metadata": {},
   "outputs": [
    {
     "name": "stdout",
     "output_type": "stream",
     "text": [
      "B3    31686\n",
      "B4    30505\n",
      "C1    26953\n",
      "C2    26740\n",
      "B2    26610\n",
      "C3    25317\n",
      "B5    25252\n",
      "C4    24105\n",
      "B1    22876\n",
      "C5    22178\n",
      "A5    21757\n",
      "D1    19261\n",
      "A4    19045\n",
      "D2    17046\n",
      "D3    14916\n",
      "D4    14099\n",
      "A3    12568\n",
      "D5    11566\n",
      "A2    10956\n",
      "A1    10541\n",
      "E1     9033\n",
      "E2     8669\n",
      "E3     6976\n",
      "E4     5992\n",
      "E5     5087\n",
      "F1     3940\n",
      "F2     3001\n",
      "F3     2708\n",
      "F4     2067\n",
      "F5     1513\n",
      "G1     1109\n",
      "G2      823\n",
      "G3      583\n",
      "G4      422\n",
      "G5      385\n",
      "Name: sub_grade, dtype: int64\n",
      "0\n"
     ]
    }
   ],
   "source": [
    "print(data['sub_grade'].value_counts())\n",
    "print(data['sub_grade'].isnull().sum())"
   ]
  },
  {
   "cell_type": "markdown",
   "id": "d91fb342",
   "metadata": {},
   "source": [
    "### emp_length"
   ]
  },
  {
   "cell_type": "code",
   "execution_count": 20,
   "id": "648c8873",
   "metadata": {},
   "outputs": [
    {
     "name": "stdout",
     "output_type": "stream",
     "text": [
      "10+ years    150049\n",
      "2 years       41373\n",
      "3 years       36596\n",
      "< 1 year      36265\n",
      "5 years       30774\n",
      "1 year        29622\n",
      "4 years       28023\n",
      "7 years       26180\n",
      "6 years       26112\n",
      "8 years       22395\n",
      "9 years       17888\n",
      "Name: emp_length, dtype: int64\n",
      "21008\n"
     ]
    }
   ],
   "source": [
    "print(data['emp_length'].value_counts())\n",
    "print(data['emp_length'].isnull().sum())"
   ]
  },
  {
   "cell_type": "markdown",
   "id": "ef44e620",
   "metadata": {},
   "source": [
    "### home_ownership"
   ]
  },
  {
   "cell_type": "code",
   "execution_count": 21,
   "id": "f3a71f64",
   "metadata": {},
   "outputs": [
    {
     "name": "stdout",
     "output_type": "stream",
     "text": [
      "MORTGAGE    235875\n",
      "RENT        188473\n",
      "OWN          41704\n",
      "OTHER          182\n",
      "NONE            50\n",
      "ANY              1\n",
      "Name: home_ownership, dtype: int64\n",
      "0\n"
     ]
    }
   ],
   "source": [
    "print(data['home_ownership'].value_counts())\n",
    "print(data['home_ownership'].isnull().sum())"
   ]
  },
  {
   "cell_type": "markdown",
   "id": "b0da6dfb",
   "metadata": {},
   "source": [
    "### annual_inc"
   ]
  },
  {
   "cell_type": "code",
   "execution_count": 22,
   "id": "9c8c9fdf",
   "metadata": {},
   "outputs": [
    {
     "name": "stdout",
     "output_type": "stream",
     "text": [
      "count    4.662810e+05\n",
      "mean     7.327738e+04\n",
      "std      5.496357e+04\n",
      "min      1.896000e+03\n",
      "25%      4.500000e+04\n",
      "50%      6.300000e+04\n",
      "75%      8.896000e+04\n",
      "max      7.500000e+06\n",
      "Name: annual_inc, dtype: float64\n",
      "4\n"
     ]
    }
   ],
   "source": [
    "print(data['annual_inc'].describe())\n",
    "print(data['annual_inc'].isnull().sum())"
   ]
  },
  {
   "cell_type": "markdown",
   "id": "d745c32f",
   "metadata": {},
   "source": [
    "### verification_status"
   ]
  },
  {
   "cell_type": "code",
   "execution_count": 24,
   "id": "1fdee9bb",
   "metadata": {},
   "outputs": [
    {
     "name": "stdout",
     "output_type": "stream",
     "text": [
      "Verified           168055\n",
      "Source Verified    149993\n",
      "Not Verified       148237\n",
      "Name: verification_status, dtype: int64\n",
      "0\n"
     ]
    }
   ],
   "source": [
    "print(data['verification_status'].value_counts())\n",
    "print(data['verification_status'].isnull().sum())"
   ]
  },
  {
   "cell_type": "markdown",
   "id": "92697e2a",
   "metadata": {},
   "source": [
    "### issue_d"
   ]
  },
  {
   "cell_type": "code",
   "execution_count": 26,
   "id": "3438f7fd",
   "metadata": {},
   "outputs": [
    {
     "name": "stdout",
     "output_type": "stream",
     "text": [
      "count     466285\n",
      "unique        91\n",
      "top       Oct-14\n",
      "freq       38782\n",
      "Name: issue_d, dtype: object\n",
      "0\n"
     ]
    }
   ],
   "source": [
    "print(data['issue_d'].describe())\n",
    "print(data['issue_d'].isnull().sum())"
   ]
  },
  {
   "cell_type": "markdown",
   "id": "1b0b0ff7",
   "metadata": {},
   "source": [
    "### loan_status"
   ]
  },
  {
   "cell_type": "code",
   "execution_count": 27,
   "id": "52b399cd",
   "metadata": {},
   "outputs": [
    {
     "name": "stdout",
     "output_type": "stream",
     "text": [
      "Current                                                224226\n",
      "Fully Paid                                             184739\n",
      "Charged Off                                             42475\n",
      "Late (31-120 days)                                       6900\n",
      "In Grace Period                                          3146\n",
      "Does not meet the credit policy. Status:Fully Paid       1988\n",
      "Late (16-30 days)                                        1218\n",
      "Default                                                   832\n",
      "Does not meet the credit policy. Status:Charged Off       761\n",
      "Name: loan_status, dtype: int64\n",
      "0\n"
     ]
    }
   ],
   "source": [
    "print(data['loan_status'].value_counts())\n",
    "print(data['loan_status'].isnull().sum())"
   ]
  },
  {
   "cell_type": "markdown",
   "id": "5bb4d552",
   "metadata": {},
   "source": [
    "### pymnt_plan"
   ]
  },
  {
   "cell_type": "code",
   "execution_count": 28,
   "id": "68accb85",
   "metadata": {},
   "outputs": [
    {
     "name": "stdout",
     "output_type": "stream",
     "text": [
      "n    466276\n",
      "y         9\n",
      "Name: pymnt_plan, dtype: int64\n",
      "0\n"
     ]
    }
   ],
   "source": [
    "print(data['pymnt_plan'].value_counts())\n",
    "print(data['pymnt_plan'].isnull().sum())"
   ]
  },
  {
   "cell_type": "markdown",
   "id": "60fbffb1",
   "metadata": {},
   "source": [
    "### purpose"
   ]
  },
  {
   "cell_type": "code",
   "execution_count": 29,
   "id": "d66bdfa4",
   "metadata": {},
   "outputs": [
    {
     "name": "stdout",
     "output_type": "stream",
     "text": [
      "debt_consolidation    274195\n",
      "credit_card           104157\n",
      "home_improvement       26537\n",
      "other                  23690\n",
      "major_purchase          9828\n",
      "small_business          7013\n",
      "car                     5397\n",
      "medical                 4602\n",
      "moving                  2994\n",
      "vacation                2487\n",
      "wedding                 2343\n",
      "house                   2269\n",
      "educational              422\n",
      "renewable_energy         351\n",
      "Name: purpose, dtype: int64\n",
      "0\n"
     ]
    }
   ],
   "source": [
    "print(data['purpose'].value_counts())\n",
    "print(data['purpose'].isnull().sum())"
   ]
  }
 ],
 "metadata": {
  "kernelspec": {
   "display_name": "Python 3",
   "language": "python",
   "name": "python3"
  },
  "language_info": {
   "codemirror_mode": {
    "name": "ipython",
    "version": 3
   },
   "file_extension": ".py",
   "mimetype": "text/x-python",
   "name": "python",
   "nbconvert_exporter": "python",
   "pygments_lexer": "ipython3",
   "version": "3.8.8"
  }
 },
 "nbformat": 4,
 "nbformat_minor": 5
}
