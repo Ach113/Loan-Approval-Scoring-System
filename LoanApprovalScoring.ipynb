{
 "cells": [
  {
   "cell_type": "code",
   "execution_count": 108,
   "id": "880acac1",
   "metadata": {},
   "outputs": [],
   "source": [
    "import pandas as pd\n",
    "import numpy as np\n",
    "\n",
    "import matplotlib.pyplot as plt\n",
    "import seaborn as sns"
   ]
  },
  {
   "cell_type": "code",
   "execution_count": 109,
   "id": "1dc2174f",
   "metadata": {},
   "outputs": [
    {
     "data": {
      "text/html": [
       "<div>\n",
       "<style scoped>\n",
       "    .dataframe tbody tr th:only-of-type {\n",
       "        vertical-align: middle;\n",
       "    }\n",
       "\n",
       "    .dataframe tbody tr th {\n",
       "        vertical-align: top;\n",
       "    }\n",
       "\n",
       "    .dataframe thead th {\n",
       "        text-align: right;\n",
       "    }\n",
       "</style>\n",
       "<table border=\"1\" class=\"dataframe\">\n",
       "  <thead>\n",
       "    <tr style=\"text-align: right;\">\n",
       "      <th></th>\n",
       "      <th>id</th>\n",
       "      <th>member_id</th>\n",
       "      <th>loan_amnt</th>\n",
       "      <th>funded_amnt</th>\n",
       "      <th>funded_amnt_inv</th>\n",
       "      <th>term</th>\n",
       "      <th>int_rate</th>\n",
       "      <th>installment</th>\n",
       "      <th>grade</th>\n",
       "      <th>sub_grade</th>\n",
       "      <th>...</th>\n",
       "      <th>total_bal_il</th>\n",
       "      <th>il_util</th>\n",
       "      <th>open_rv_12m</th>\n",
       "      <th>open_rv_24m</th>\n",
       "      <th>max_bal_bc</th>\n",
       "      <th>all_util</th>\n",
       "      <th>total_rev_hi_lim</th>\n",
       "      <th>inq_fi</th>\n",
       "      <th>total_cu_tl</th>\n",
       "      <th>inq_last_12m</th>\n",
       "    </tr>\n",
       "  </thead>\n",
       "  <tbody>\n",
       "    <tr>\n",
       "      <th>0</th>\n",
       "      <td>1077501</td>\n",
       "      <td>1296599</td>\n",
       "      <td>5000</td>\n",
       "      <td>5000</td>\n",
       "      <td>4975.0</td>\n",
       "      <td>36 months</td>\n",
       "      <td>10.65</td>\n",
       "      <td>162.87</td>\n",
       "      <td>B</td>\n",
       "      <td>B2</td>\n",
       "      <td>...</td>\n",
       "      <td>NaN</td>\n",
       "      <td>NaN</td>\n",
       "      <td>NaN</td>\n",
       "      <td>NaN</td>\n",
       "      <td>NaN</td>\n",
       "      <td>NaN</td>\n",
       "      <td>NaN</td>\n",
       "      <td>NaN</td>\n",
       "      <td>NaN</td>\n",
       "      <td>NaN</td>\n",
       "    </tr>\n",
       "    <tr>\n",
       "      <th>1</th>\n",
       "      <td>1077430</td>\n",
       "      <td>1314167</td>\n",
       "      <td>2500</td>\n",
       "      <td>2500</td>\n",
       "      <td>2500.0</td>\n",
       "      <td>60 months</td>\n",
       "      <td>15.27</td>\n",
       "      <td>59.83</td>\n",
       "      <td>C</td>\n",
       "      <td>C4</td>\n",
       "      <td>...</td>\n",
       "      <td>NaN</td>\n",
       "      <td>NaN</td>\n",
       "      <td>NaN</td>\n",
       "      <td>NaN</td>\n",
       "      <td>NaN</td>\n",
       "      <td>NaN</td>\n",
       "      <td>NaN</td>\n",
       "      <td>NaN</td>\n",
       "      <td>NaN</td>\n",
       "      <td>NaN</td>\n",
       "    </tr>\n",
       "    <tr>\n",
       "      <th>2</th>\n",
       "      <td>1077175</td>\n",
       "      <td>1313524</td>\n",
       "      <td>2400</td>\n",
       "      <td>2400</td>\n",
       "      <td>2400.0</td>\n",
       "      <td>36 months</td>\n",
       "      <td>15.96</td>\n",
       "      <td>84.33</td>\n",
       "      <td>C</td>\n",
       "      <td>C5</td>\n",
       "      <td>...</td>\n",
       "      <td>NaN</td>\n",
       "      <td>NaN</td>\n",
       "      <td>NaN</td>\n",
       "      <td>NaN</td>\n",
       "      <td>NaN</td>\n",
       "      <td>NaN</td>\n",
       "      <td>NaN</td>\n",
       "      <td>NaN</td>\n",
       "      <td>NaN</td>\n",
       "      <td>NaN</td>\n",
       "    </tr>\n",
       "    <tr>\n",
       "      <th>3</th>\n",
       "      <td>1076863</td>\n",
       "      <td>1277178</td>\n",
       "      <td>10000</td>\n",
       "      <td>10000</td>\n",
       "      <td>10000.0</td>\n",
       "      <td>36 months</td>\n",
       "      <td>13.49</td>\n",
       "      <td>339.31</td>\n",
       "      <td>C</td>\n",
       "      <td>C1</td>\n",
       "      <td>...</td>\n",
       "      <td>NaN</td>\n",
       "      <td>NaN</td>\n",
       "      <td>NaN</td>\n",
       "      <td>NaN</td>\n",
       "      <td>NaN</td>\n",
       "      <td>NaN</td>\n",
       "      <td>NaN</td>\n",
       "      <td>NaN</td>\n",
       "      <td>NaN</td>\n",
       "      <td>NaN</td>\n",
       "    </tr>\n",
       "    <tr>\n",
       "      <th>4</th>\n",
       "      <td>1075358</td>\n",
       "      <td>1311748</td>\n",
       "      <td>3000</td>\n",
       "      <td>3000</td>\n",
       "      <td>3000.0</td>\n",
       "      <td>60 months</td>\n",
       "      <td>12.69</td>\n",
       "      <td>67.79</td>\n",
       "      <td>B</td>\n",
       "      <td>B5</td>\n",
       "      <td>...</td>\n",
       "      <td>NaN</td>\n",
       "      <td>NaN</td>\n",
       "      <td>NaN</td>\n",
       "      <td>NaN</td>\n",
       "      <td>NaN</td>\n",
       "      <td>NaN</td>\n",
       "      <td>NaN</td>\n",
       "      <td>NaN</td>\n",
       "      <td>NaN</td>\n",
       "      <td>NaN</td>\n",
       "    </tr>\n",
       "  </tbody>\n",
       "</table>\n",
       "<p>5 rows × 74 columns</p>\n",
       "</div>"
      ],
      "text/plain": [
       "        id  member_id  loan_amnt  funded_amnt  funded_amnt_inv        term  \\\n",
       "0  1077501    1296599       5000         5000           4975.0   36 months   \n",
       "1  1077430    1314167       2500         2500           2500.0   60 months   \n",
       "2  1077175    1313524       2400         2400           2400.0   36 months   \n",
       "3  1076863    1277178      10000        10000          10000.0   36 months   \n",
       "4  1075358    1311748       3000         3000           3000.0   60 months   \n",
       "\n",
       "   int_rate  installment grade sub_grade  ... total_bal_il il_util  \\\n",
       "0     10.65       162.87     B        B2  ...          NaN     NaN   \n",
       "1     15.27        59.83     C        C4  ...          NaN     NaN   \n",
       "2     15.96        84.33     C        C5  ...          NaN     NaN   \n",
       "3     13.49       339.31     C        C1  ...          NaN     NaN   \n",
       "4     12.69        67.79     B        B5  ...          NaN     NaN   \n",
       "\n",
       "  open_rv_12m  open_rv_24m max_bal_bc all_util total_rev_hi_lim inq_fi  \\\n",
       "0         NaN          NaN        NaN      NaN              NaN    NaN   \n",
       "1         NaN          NaN        NaN      NaN              NaN    NaN   \n",
       "2         NaN          NaN        NaN      NaN              NaN    NaN   \n",
       "3         NaN          NaN        NaN      NaN              NaN    NaN   \n",
       "4         NaN          NaN        NaN      NaN              NaN    NaN   \n",
       "\n",
       "  total_cu_tl inq_last_12m  \n",
       "0         NaN          NaN  \n",
       "1         NaN          NaN  \n",
       "2         NaN          NaN  \n",
       "3         NaN          NaN  \n",
       "4         NaN          NaN  \n",
       "\n",
       "[5 rows x 74 columns]"
      ]
     },
     "execution_count": 109,
     "metadata": {},
     "output_type": "execute_result"
    }
   ],
   "source": [
    "# hello world\n",
    "data = pd.read_csv('loan_data_2007_2014.csv', low_memory=False)\n",
    "data.head()"
   ]
  },
  {
   "cell_type": "code",
   "execution_count": 110,
   "id": "969c9105",
   "metadata": {},
   "outputs": [],
   "source": [
    "def calculate_woe(df, feature, y):\n",
    "    ''' calculates WoE and IV for each feature '''\n",
    "    df = pd.concat([df[feature], y], axis=1)\n",
    "    target = df.columns.values[1]\n",
    "    \n",
    "    # calculate number of occurences of the given bin (support)\n",
    "    support = df.groupby(feature, as_index=False)[target].count()\n",
    "    # calculate the proportion of positive occurences \n",
    "    n_pos = df.groupby(feature, as_index = False)[target].mean()\n",
    "    # get dataframe of (binned_feature, support, n_pos)\n",
    "    df = pd.concat([support, n_pos], axis=1).iloc[:, [0, 1, 3]]\n",
    "    df.columns = [feature, 'support', 'pos%']\n",
    "    # count of positive/negative occurences\n",
    "    positive = df['pos%'] * df['support']\n",
    "    negative = (1 - df['pos%']) * df['support']\n",
    "    # calculate what percentage of total positives/negatives given feature bin has\n",
    "    pos = positive / positive.sum(); neg = negative / negative.sum()\n",
    "    # finally calculate WoE and sort dataframe by WoE for plotting\n",
    "    df['WoE'] = np.log(pos / neg)\n",
    "    df = df.sort_values(['WoE']).reset_index(drop=True)\n",
    "    # calculate IV using WoE\n",
    "    df['IV'] = abs(((pos - neg) * df['WoE']).sum())\n",
    "    return df\n",
    "\n",
    "def plot_woe(df):\n",
    "    ''' plots support, WoE and IV of each feature '''\n",
    "    plt.figure(figsize=(10, 5))\n",
    "    plt.plot(df.iloc[:, 0].astype(str), df['WoE'], marker = 'o', color='black')\n",
    "    plt.xlabel(df.columns[0])\n",
    "    plt.ylabel('WoE')"
   ]
  },
  {
   "cell_type": "code",
   "execution_count": 111,
   "id": "02d62c42",
   "metadata": {},
   "outputs": [],
   "source": [
    "# preprocess the target column\n",
    "''' \n",
    "Current                                                224226\n",
    "Fully Paid                                             184739\n",
    "Charged Off                                             42475\n",
    "Late (31-120 days)                                       6900\n",
    "In Grace Period                                          3146\n",
    "Does not meet the credit policy. Status:Fully Paid       1988\n",
    "Late (16-30 days)                                        1218\n",
    "Default                                                   832\n",
    "Does not meet the credit policy. Status:Charged Off       761\n",
    "'''\n",
    "\n",
    "# following features will be labeled `0` to indicate \"bad\" loans\n",
    "data['loan_status'] = data['loan_status'].replace(['Charged Off', 'Late (31-120 days)', 'Default',\n",
    "                                                  'Does not meet the credit policy. Status:Charged Off'], 0)\n",
    "# following features will be labeled `1` to indicate \"good\" loans\n",
    "data['loan_status'] = data['loan_status'].replace(['Current', 'Fully Paid', 'In Grace Period', 'Late (16-30 days)',\n",
    "                                                  'Does not meet the credit policy. Status:Fully Paid'], 1)\n"
   ]
  },
  {
   "cell_type": "markdown",
   "id": "9382c931",
   "metadata": {},
   "source": [
    "## Data Preprocessing"
   ]
  },
  {
   "cell_type": "code",
   "execution_count": 112,
   "id": "51bee37e",
   "metadata": {},
   "outputs": [],
   "source": [
    "X_woe = pd.DataFrame()"
   ]
  },
  {
   "cell_type": "markdown",
   "id": "b9002688",
   "metadata": {},
   "source": [
    "### loan_amnt"
   ]
  },
  {
   "cell_type": "code",
   "execution_count": 113,
   "id": "4e31f474",
   "metadata": {},
   "outputs": [
    {
     "data": {
      "text/html": [
       "<div>\n",
       "<style scoped>\n",
       "    .dataframe tbody tr th:only-of-type {\n",
       "        vertical-align: middle;\n",
       "    }\n",
       "\n",
       "    .dataframe tbody tr th {\n",
       "        vertical-align: top;\n",
       "    }\n",
       "\n",
       "    .dataframe thead th {\n",
       "        text-align: right;\n",
       "    }\n",
       "</style>\n",
       "<table border=\"1\" class=\"dataframe\">\n",
       "  <thead>\n",
       "    <tr style=\"text-align: right;\">\n",
       "      <th></th>\n",
       "      <th>loan_amnt</th>\n",
       "      <th>support</th>\n",
       "      <th>pos%</th>\n",
       "      <th>WoE</th>\n",
       "      <th>IV</th>\n",
       "    </tr>\n",
       "  </thead>\n",
       "  <tbody>\n",
       "    <tr>\n",
       "      <th>0</th>\n",
       "      <td>(20000.0, 35000.0]</td>\n",
       "      <td>97758</td>\n",
       "      <td>0.884337</td>\n",
       "      <td>-0.063688</td>\n",
       "      <td>0.001856</td>\n",
       "    </tr>\n",
       "    <tr>\n",
       "      <th>1</th>\n",
       "      <td>(12000.0, 20000.0]</td>\n",
       "      <td>134488</td>\n",
       "      <td>0.889090</td>\n",
       "      <td>-0.016360</td>\n",
       "      <td>0.001856</td>\n",
       "    </tr>\n",
       "    <tr>\n",
       "      <th>2</th>\n",
       "      <td>(8000.0, 12000.0]</td>\n",
       "      <td>108713</td>\n",
       "      <td>0.892166</td>\n",
       "      <td>0.015211</td>\n",
       "      <td>0.001856</td>\n",
       "    </tr>\n",
       "    <tr>\n",
       "      <th>3</th>\n",
       "      <td>(499.999, 8000.0]</td>\n",
       "      <td>125326</td>\n",
       "      <td>0.896095</td>\n",
       "      <td>0.056725</td>\n",
       "      <td>0.001856</td>\n",
       "    </tr>\n",
       "  </tbody>\n",
       "</table>\n",
       "</div>"
      ],
      "text/plain": [
       "            loan_amnt  support      pos%       WoE        IV\n",
       "0  (20000.0, 35000.0]    97758  0.884337 -0.063688  0.001856\n",
       "1  (12000.0, 20000.0]   134488  0.889090 -0.016360  0.001856\n",
       "2   (8000.0, 12000.0]   108713  0.892166  0.015211  0.001856\n",
       "3   (499.999, 8000.0]   125326  0.896095  0.056725  0.001856"
      ]
     },
     "execution_count": 113,
     "metadata": {},
     "output_type": "execute_result"
    },
    {
     "data": {
      "image/png": "[encoded data removed]",
      "text/plain": [
       "<Figure size 720x360 with 1 Axes>"
      ]
     },
     "metadata": {
      "needs_background": "light"
     },
     "output_type": "display_data"
    }
   ],
   "source": [
    "X_woe['loan_amnt'] = pd.qcut(data['loan_amnt'], 4)\n",
    "df_temp = calculate_woe(X_woe, 'loan_amnt', data['loan_status'])\n",
    "plot_woe(df_temp)\n",
    "df_temp"
   ]
  },
  {
   "cell_type": "markdown",
   "id": "90927bf8",
   "metadata": {},
   "source": [
    "### funded_amnt"
   ]
  },
  {
   "cell_type": "code",
   "execution_count": 114,
   "id": "d49bf4cd",
   "metadata": {},
   "outputs": [
    {
     "data": {
      "text/html": [
       "<div>\n",
       "<style scoped>\n",
       "    .dataframe tbody tr th:only-of-type {\n",
       "        vertical-align: middle;\n",
       "    }\n",
       "\n",
       "    .dataframe tbody tr th {\n",
       "        vertical-align: top;\n",
       "    }\n",
       "\n",
       "    .dataframe thead th {\n",
       "        text-align: right;\n",
       "    }\n",
       "</style>\n",
       "<table border=\"1\" class=\"dataframe\">\n",
       "  <thead>\n",
       "    <tr style=\"text-align: right;\">\n",
       "      <th></th>\n",
       "      <th>funded_amnt</th>\n",
       "      <th>support</th>\n",
       "      <th>pos%</th>\n",
       "      <th>WoE</th>\n",
       "      <th>IV</th>\n",
       "    </tr>\n",
       "  </thead>\n",
       "  <tbody>\n",
       "    <tr>\n",
       "      <th>0</th>\n",
       "      <td>(20000.0, 35000.0]</td>\n",
       "      <td>97239</td>\n",
       "      <td>0.884882</td>\n",
       "      <td>-0.058352</td>\n",
       "      <td>0.001663</td>\n",
       "    </tr>\n",
       "    <tr>\n",
       "      <th>1</th>\n",
       "      <td>(12000.0, 20000.0]</td>\n",
       "      <td>134579</td>\n",
       "      <td>0.888957</td>\n",
       "      <td>-0.017709</td>\n",
       "      <td>0.001663</td>\n",
       "    </tr>\n",
       "    <tr>\n",
       "      <th>2</th>\n",
       "      <td>(8000.0, 12000.0]</td>\n",
       "      <td>108880</td>\n",
       "      <td>0.891927</td>\n",
       "      <td>0.012732</td>\n",
       "      <td>0.001663</td>\n",
       "    </tr>\n",
       "    <tr>\n",
       "      <th>3</th>\n",
       "      <td>(499.999, 8000.0]</td>\n",
       "      <td>125587</td>\n",
       "      <td>0.895984</td>\n",
       "      <td>0.055539</td>\n",
       "      <td>0.001663</td>\n",
       "    </tr>\n",
       "  </tbody>\n",
       "</table>\n",
       "</div>"
      ],
      "text/plain": [
       "          funded_amnt  support      pos%       WoE        IV\n",
       "0  (20000.0, 35000.0]    97239  0.884882 -0.058352  0.001663\n",
       "1  (12000.0, 20000.0]   134579  0.888957 -0.017709  0.001663\n",
       "2   (8000.0, 12000.0]   108880  0.891927  0.012732  0.001663\n",
       "3   (499.999, 8000.0]   125587  0.895984  0.055539  0.001663"
      ]
     },
     "execution_count": 114,
     "metadata": {},
     "output_type": "execute_result"
    },
    {
     "data": {
      "image/png": "[encoded data removed]",
      "text/plain": [
       "<Figure size 720x360 with 1 Axes>"
      ]
     },
     "metadata": {
      "needs_background": "light"
     },
     "output_type": "display_data"
    }
   ],
   "source": [
    "X_woe['funded_amnt'] = pd.qcut(data['funded_amnt'], 4)\n",
    "df_temp = calculate_woe(X_woe, 'funded_amnt', data['loan_status'])\n",
    "plot_woe(df_temp)\n",
    "df_temp"
   ]
  },
  {
   "cell_type": "markdown",
   "id": "db0a9822",
   "metadata": {},
   "source": [
    "### funded_amnt_inv"
   ]
  },
  {
   "cell_type": "code",
   "execution_count": 115,
   "id": "907d38f5",
   "metadata": {},
   "outputs": [
    {
     "data": {
      "text/html": [
       "<div>\n",
       "<style scoped>\n",
       "    .dataframe tbody tr th:only-of-type {\n",
       "        vertical-align: middle;\n",
       "    }\n",
       "\n",
       "    .dataframe tbody tr th {\n",
       "        vertical-align: top;\n",
       "    }\n",
       "\n",
       "    .dataframe thead th {\n",
       "        text-align: right;\n",
       "    }\n",
       "</style>\n",
       "<table border=\"1\" class=\"dataframe\">\n",
       "  <thead>\n",
       "    <tr style=\"text-align: right;\">\n",
       "      <th></th>\n",
       "      <th>funded_amnt_inv</th>\n",
       "      <th>support</th>\n",
       "      <th>pos%</th>\n",
       "      <th>WoE</th>\n",
       "      <th>IV</th>\n",
       "    </tr>\n",
       "  </thead>\n",
       "  <tbody>\n",
       "    <tr>\n",
       "      <th>0</th>\n",
       "      <td>(23333.333, 35000.0]</td>\n",
       "      <td>74892</td>\n",
       "      <td>0.887785</td>\n",
       "      <td>-0.029530</td>\n",
       "      <td>0.000162</td>\n",
       "    </tr>\n",
       "    <tr>\n",
       "      <th>1</th>\n",
       "      <td>(11666.667, 23333.333]</td>\n",
       "      <td>183004</td>\n",
       "      <td>0.890877</td>\n",
       "      <td>0.001884</td>\n",
       "      <td>0.000162</td>\n",
       "    </tr>\n",
       "    <tr>\n",
       "      <th>2</th>\n",
       "      <td>(-35.0, 11666.667]</td>\n",
       "      <td>208389</td>\n",
       "      <td>0.891578</td>\n",
       "      <td>0.009115</td>\n",
       "      <td>0.000162</td>\n",
       "    </tr>\n",
       "  </tbody>\n",
       "</table>\n",
       "</div>"
      ],
      "text/plain": [
       "          funded_amnt_inv  support      pos%       WoE        IV\n",
       "0    (23333.333, 35000.0]    74892  0.887785 -0.029530  0.000162\n",
       "1  (11666.667, 23333.333]   183004  0.890877  0.001884  0.000162\n",
       "2      (-35.0, 11666.667]   208389  0.891578  0.009115  0.000162"
      ]
     },
     "execution_count": 115,
     "metadata": {},
     "output_type": "execute_result"
    },
    {
     "data": {
      "image/png": "[encoded data removed]",
      "text/plain": [
       "<Figure size 720x360 with 1 Axes>"
      ]
     },
     "metadata": {
      "needs_background": "light"
     },
     "output_type": "display_data"
    }
   ],
   "source": [
    "X_woe['funded_amnt_inv'] = pd.cut(data['funded_amnt_inv'], 3)\n",
    "df_temp = calculate_woe(X_woe, 'funded_amnt_inv', data['loan_status'])\n",
    "plot_woe(df_temp)\n",
    "df_temp"
   ]
  },
  {
   "cell_type": "markdown",
   "id": "14f858e5",
   "metadata": {},
   "source": [
    "### term"
   ]
  },
  {
   "cell_type": "code",
   "execution_count": 116,
   "id": "d6fa3ebd",
   "metadata": {},
   "outputs": [
    {
     "data": {
      "text/html": [
       "<div>\n",
       "<style scoped>\n",
       "    .dataframe tbody tr th:only-of-type {\n",
       "        vertical-align: middle;\n",
       "    }\n",
       "\n",
       "    .dataframe tbody tr th {\n",
       "        vertical-align: top;\n",
       "    }\n",
       "\n",
       "    .dataframe thead th {\n",
       "        text-align: right;\n",
       "    }\n",
       "</style>\n",
       "<table border=\"1\" class=\"dataframe\">\n",
       "  <thead>\n",
       "    <tr style=\"text-align: right;\">\n",
       "      <th></th>\n",
       "      <th>term</th>\n",
       "      <th>support</th>\n",
       "      <th>pos%</th>\n",
       "      <th>WoE</th>\n",
       "      <th>IV</th>\n",
       "    </tr>\n",
       "  </thead>\n",
       "  <tbody>\n",
       "    <tr>\n",
       "      <th>0</th>\n",
       "      <td>60 months</td>\n",
       "      <td>128332</td>\n",
       "      <td>0.858508</td>\n",
       "      <td>-0.294894</td>\n",
       "      <td>0.03886</td>\n",
       "    </tr>\n",
       "    <tr>\n",
       "      <th>1</th>\n",
       "      <td>36 months</td>\n",
       "      <td>337953</td>\n",
       "      <td>0.902915</td>\n",
       "      <td>0.132203</td>\n",
       "      <td>0.03886</td>\n",
       "    </tr>\n",
       "  </tbody>\n",
       "</table>\n",
       "</div>"
      ],
      "text/plain": [
       "         term  support      pos%       WoE       IV\n",
       "0   60 months   128332  0.858508 -0.294894  0.03886\n",
       "1   36 months   337953  0.902915  0.132203  0.03886"
      ]
     },
     "execution_count": 116,
     "metadata": {},
     "output_type": "execute_result"
    },
    {
     "data": {
      "image/png": "[encoded data removed]",
      "text/plain": [
       "<Figure size 720x360 with 1 Axes>"
      ]
     },
     "metadata": {
      "needs_background": "light"
     },
     "output_type": "display_data"
    }
   ],
   "source": [
    "df_temp = calculate_woe(data, 'term', data['loan_status'])\n",
    "plot_woe(df_temp)\n",
    "df_temp"
   ]
  },
  {
   "cell_type": "markdown",
   "id": "414a5435",
   "metadata": {},
   "source": [
    "### int_rate"
   ]
  },
  {
   "cell_type": "code",
   "execution_count": 117,
   "id": "cc4e16d7",
   "metadata": {},
   "outputs": [
    {
     "data": {
      "text/html": [
       "<div>\n",
       "<style scoped>\n",
       "    .dataframe tbody tr th:only-of-type {\n",
       "        vertical-align: middle;\n",
       "    }\n",
       "\n",
       "    .dataframe tbody tr th {\n",
       "        vertical-align: top;\n",
       "    }\n",
       "\n",
       "    .dataframe thead th {\n",
       "        text-align: right;\n",
       "    }\n",
       "</style>\n",
       "<table border=\"1\" class=\"dataframe\">\n",
       "  <thead>\n",
       "    <tr style=\"text-align: right;\">\n",
       "      <th></th>\n",
       "      <th>int_rate</th>\n",
       "      <th>support</th>\n",
       "      <th>pos%</th>\n",
       "      <th>WoE</th>\n",
       "      <th>IV</th>\n",
       "    </tr>\n",
       "  </thead>\n",
       "  <tbody>\n",
       "    <tr>\n",
       "      <th>0</th>\n",
       "      <td>(19.18, 26.06]</td>\n",
       "      <td>54591</td>\n",
       "      <td>0.792603</td>\n",
       "      <td>-0.757155</td>\n",
       "      <td>0.221917</td>\n",
       "    </tr>\n",
       "    <tr>\n",
       "      <th>1</th>\n",
       "      <td>(12.3, 19.18]</td>\n",
       "      <td>239482</td>\n",
       "      <td>0.875431</td>\n",
       "      <td>-0.147986</td>\n",
       "      <td>0.221917</td>\n",
       "    </tr>\n",
       "    <tr>\n",
       "      <th>2</th>\n",
       "      <td>(5.399, 12.3]</td>\n",
       "      <td>172212</td>\n",
       "      <td>0.943012</td>\n",
       "      <td>0.708396</td>\n",
       "      <td>0.221917</td>\n",
       "    </tr>\n",
       "  </tbody>\n",
       "</table>\n",
       "</div>"
      ],
      "text/plain": [
       "         int_rate  support      pos%       WoE        IV\n",
       "0  (19.18, 26.06]    54591  0.792603 -0.757155  0.221917\n",
       "1   (12.3, 19.18]   239482  0.875431 -0.147986  0.221917\n",
       "2   (5.399, 12.3]   172212  0.943012  0.708396  0.221917"
      ]
     },
     "execution_count": 117,
     "metadata": {},
     "output_type": "execute_result"
    },
    {
     "data": {
      "image/png": "[encoded data removed]",
      "text/plain": [
       "<Figure size 720x360 with 1 Axes>"
      ]
     },
     "metadata": {
      "needs_background": "light"
     },
     "output_type": "display_data"
    }
   ],
   "source": [
    "X_woe['int_rate'] = pd.cut(data['int_rate'], 3)\n",
    "df_temp = calculate_woe(X_woe, 'int_rate', data['loan_status'])\n",
    "plot_woe(df_temp)\n",
    "df_temp"
   ]
  },
  {
   "cell_type": "markdown",
   "id": "f649e27d",
   "metadata": {},
   "source": [
    "### installment"
   ]
  },
  {
   "cell_type": "code",
   "execution_count": 118,
   "id": "77e6ad46",
   "metadata": {},
   "outputs": [
    {
     "data": {
      "text/html": [
       "<div>\n",
       "<style scoped>\n",
       "    .dataframe tbody tr th:only-of-type {\n",
       "        vertical-align: middle;\n",
       "    }\n",
       "\n",
       "    .dataframe tbody tr th {\n",
       "        vertical-align: top;\n",
       "    }\n",
       "\n",
       "    .dataframe thead th {\n",
       "        text-align: right;\n",
       "    }\n",
       "</style>\n",
       "<table border=\"1\" class=\"dataframe\">\n",
       "  <thead>\n",
       "    <tr style=\"text-align: right;\">\n",
       "      <th></th>\n",
       "      <th>installment</th>\n",
       "      <th>support</th>\n",
       "      <th>pos%</th>\n",
       "      <th>WoE</th>\n",
       "      <th>IV</th>\n",
       "    </tr>\n",
       "  </thead>\n",
       "  <tbody>\n",
       "    <tr>\n",
       "      <th>0</th>\n",
       "      <td>(495.35, 1409.99]</td>\n",
       "      <td>155425</td>\n",
       "      <td>0.885057</td>\n",
       "      <td>-0.056627</td>\n",
       "      <td>0.002326</td>\n",
       "    </tr>\n",
       "    <tr>\n",
       "      <th>1</th>\n",
       "      <td>(300.39, 495.35]</td>\n",
       "      <td>155363</td>\n",
       "      <td>0.890463</td>\n",
       "      <td>-0.002365</td>\n",
       "      <td>0.002326</td>\n",
       "    </tr>\n",
       "    <tr>\n",
       "      <th>2</th>\n",
       "      <td>(15.669, 300.39]</td>\n",
       "      <td>155497</td>\n",
       "      <td>0.896557</td>\n",
       "      <td>0.061702</td>\n",
       "      <td>0.002326</td>\n",
       "    </tr>\n",
       "  </tbody>\n",
       "</table>\n",
       "</div>"
      ],
      "text/plain": [
       "         installment  support      pos%       WoE        IV\n",
       "0  (495.35, 1409.99]   155425  0.885057 -0.056627  0.002326\n",
       "1   (300.39, 495.35]   155363  0.890463 -0.002365  0.002326\n",
       "2   (15.669, 300.39]   155497  0.896557  0.061702  0.002326"
      ]
     },
     "execution_count": 118,
     "metadata": {},
     "output_type": "execute_result"
    },
    {
     "data": {
      "image/png": "[encoded data removed]",
      "text/plain": [
       "<Figure size 720x360 with 1 Axes>"
      ]
     },
     "metadata": {
      "needs_background": "light"
     },
     "output_type": "display_data"
    }
   ],
   "source": [
    "X_woe['installment'] = pd.qcut(data['installment'], 3)\n",
    "df_temp = calculate_woe(X_woe, 'installment', data['loan_status'])\n",
    "plot_woe(df_temp)\n",
    "df_temp"
   ]
  },
  {
   "cell_type": "markdown",
   "id": "8df62132",
   "metadata": {},
   "source": [
    "### grade"
   ]
  },
  {
   "cell_type": "code",
   "execution_count": 119,
   "id": "012d97b0",
   "metadata": {},
   "outputs": [
    {
     "data": {
      "text/html": [
       "<div>\n",
       "<style scoped>\n",
       "    .dataframe tbody tr th:only-of-type {\n",
       "        vertical-align: middle;\n",
       "    }\n",
       "\n",
       "    .dataframe tbody tr th {\n",
       "        vertical-align: top;\n",
       "    }\n",
       "\n",
       "    .dataframe thead th {\n",
       "        text-align: right;\n",
       "    }\n",
       "</style>\n",
       "<table border=\"1\" class=\"dataframe\">\n",
       "  <thead>\n",
       "    <tr style=\"text-align: right;\">\n",
       "      <th></th>\n",
       "      <th>grade</th>\n",
       "      <th>support</th>\n",
       "      <th>pos%</th>\n",
       "      <th>WoE</th>\n",
       "      <th>IV</th>\n",
       "    </tr>\n",
       "  </thead>\n",
       "  <tbody>\n",
       "    <tr>\n",
       "      <th>0</th>\n",
       "      <td>G</td>\n",
       "      <td>3322</td>\n",
       "      <td>0.721854</td>\n",
       "      <td>-1.144166</td>\n",
       "      <td>0.205307</td>\n",
       "    </tr>\n",
       "    <tr>\n",
       "      <th>1</th>\n",
       "      <td>F</td>\n",
       "      <td>13229</td>\n",
       "      <td>0.758712</td>\n",
       "      <td>-0.952214</td>\n",
       "      <td>0.205307</td>\n",
       "    </tr>\n",
       "    <tr>\n",
       "      <th>2</th>\n",
       "      <td>E</td>\n",
       "      <td>35757</td>\n",
       "      <td>0.805241</td>\n",
       "      <td>-0.678466</td>\n",
       "      <td>0.205307</td>\n",
       "    </tr>\n",
       "    <tr>\n",
       "      <th>3</th>\n",
       "      <td>D</td>\n",
       "      <td>76888</td>\n",
       "      <td>0.845906</td>\n",
       "      <td>-0.395001</td>\n",
       "      <td>0.205307</td>\n",
       "    </tr>\n",
       "    <tr>\n",
       "      <th>4</th>\n",
       "      <td>C</td>\n",
       "      <td>125293</td>\n",
       "      <td>0.885197</td>\n",
       "      <td>-0.055251</td>\n",
       "      <td>0.205307</td>\n",
       "    </tr>\n",
       "    <tr>\n",
       "      <th>5</th>\n",
       "      <td>B</td>\n",
       "      <td>136929</td>\n",
       "      <td>0.921426</td>\n",
       "      <td>0.364043</td>\n",
       "      <td>0.205307</td>\n",
       "    </tr>\n",
       "    <tr>\n",
       "      <th>6</th>\n",
       "      <td>A</td>\n",
       "      <td>74867</td>\n",
       "      <td>0.961305</td>\n",
       "      <td>1.114730</td>\n",
       "      <td>0.205307</td>\n",
       "    </tr>\n",
       "  </tbody>\n",
       "</table>\n",
       "</div>"
      ],
      "text/plain": [
       "  grade  support      pos%       WoE        IV\n",
       "0     G     3322  0.721854 -1.144166  0.205307\n",
       "1     F    13229  0.758712 -0.952214  0.205307\n",
       "2     E    35757  0.805241 -0.678466  0.205307\n",
       "3     D    76888  0.845906 -0.395001  0.205307\n",
       "4     C   125293  0.885197 -0.055251  0.205307\n",
       "5     B   136929  0.921426  0.364043  0.205307\n",
       "6     A    74867  0.961305  1.114730  0.205307"
      ]
     },
     "execution_count": 119,
     "metadata": {},
     "output_type": "execute_result"
    },
    {
     "data": {
      "image/png": "[encoded data removed]",
      "text/plain": [
       "<Figure size 720x360 with 1 Axes>"
      ]
     },
     "metadata": {
      "needs_background": "light"
     },
     "output_type": "display_data"
    }
   ],
   "source": [
    "df_temp = calculate_woe(data, 'grade', data['loan_status'])\n",
    "plot_woe(df_temp)\n",
    "df_temp"
   ]
  },
  {
   "cell_type": "markdown",
   "id": "034e6757",
   "metadata": {},
   "source": [
    "### sub_grade"
   ]
  },
  {
   "cell_type": "code",
   "execution_count": 120,
   "id": "eec0093f",
   "metadata": {},
   "outputs": [
    {
     "data": {
      "text/html": [
       "<div>\n",
       "<style scoped>\n",
       "    .dataframe tbody tr th:only-of-type {\n",
       "        vertical-align: middle;\n",
       "    }\n",
       "\n",
       "    .dataframe tbody tr th {\n",
       "        vertical-align: top;\n",
       "    }\n",
       "\n",
       "    .dataframe thead th {\n",
       "        text-align: right;\n",
       "    }\n",
       "</style>\n",
       "<table border=\"1\" class=\"dataframe\">\n",
       "  <thead>\n",
       "    <tr style=\"text-align: right;\">\n",
       "      <th></th>\n",
       "      <th>sub_grade</th>\n",
       "      <th>support</th>\n",
       "      <th>pos%</th>\n",
       "      <th>WoE</th>\n",
       "      <th>IV</th>\n",
       "    </tr>\n",
       "  </thead>\n",
       "  <tbody>\n",
       "    <tr>\n",
       "      <th>0</th>\n",
       "      <td>G1</td>\n",
       "      <td>1109</td>\n",
       "      <td>0.706943</td>\n",
       "      <td>-1.217260</td>\n",
       "      <td>0.211104</td>\n",
       "    </tr>\n",
       "    <tr>\n",
       "      <th>1</th>\n",
       "      <td>F5</td>\n",
       "      <td>1513</td>\n",
       "      <td>0.708526</td>\n",
       "      <td>-1.209608</td>\n",
       "      <td>0.211104</td>\n",
       "    </tr>\n",
       "    <tr>\n",
       "      <th>2</th>\n",
       "      <td>G5</td>\n",
       "      <td>385</td>\n",
       "      <td>0.711688</td>\n",
       "      <td>-1.194246</td>\n",
       "      <td>0.211104</td>\n",
       "    </tr>\n",
       "    <tr>\n",
       "      <th>3</th>\n",
       "      <td>G3</td>\n",
       "      <td>583</td>\n",
       "      <td>0.715266</td>\n",
       "      <td>-1.176746</td>\n",
       "      <td>0.211104</td>\n",
       "    </tr>\n",
       "    <tr>\n",
       "      <th>4</th>\n",
       "      <td>G2</td>\n",
       "      <td>823</td>\n",
       "      <td>0.736330</td>\n",
       "      <td>-1.070861</td>\n",
       "      <td>0.211104</td>\n",
       "    </tr>\n",
       "    <tr>\n",
       "      <th>5</th>\n",
       "      <td>F4</td>\n",
       "      <td>2067</td>\n",
       "      <td>0.745041</td>\n",
       "      <td>-1.025507</td>\n",
       "      <td>0.211104</td>\n",
       "    </tr>\n",
       "    <tr>\n",
       "      <th>6</th>\n",
       "      <td>F3</td>\n",
       "      <td>2708</td>\n",
       "      <td>0.750739</td>\n",
       "      <td>-0.995289</td>\n",
       "      <td>0.211104</td>\n",
       "    </tr>\n",
       "    <tr>\n",
       "      <th>7</th>\n",
       "      <td>G4</td>\n",
       "      <td>422</td>\n",
       "      <td>0.751185</td>\n",
       "      <td>-0.992903</td>\n",
       "      <td>0.211104</td>\n",
       "    </tr>\n",
       "    <tr>\n",
       "      <th>8</th>\n",
       "      <td>F2</td>\n",
       "      <td>3001</td>\n",
       "      <td>0.768411</td>\n",
       "      <td>-0.898486</td>\n",
       "      <td>0.211104</td>\n",
       "    </tr>\n",
       "    <tr>\n",
       "      <th>9</th>\n",
       "      <td>E5</td>\n",
       "      <td>5087</td>\n",
       "      <td>0.780224</td>\n",
       "      <td>-0.830871</td>\n",
       "      <td>0.211104</td>\n",
       "    </tr>\n",
       "    <tr>\n",
       "      <th>10</th>\n",
       "      <td>F1</td>\n",
       "      <td>3940</td>\n",
       "      <td>0.783249</td>\n",
       "      <td>-0.813144</td>\n",
       "      <td>0.211104</td>\n",
       "    </tr>\n",
       "    <tr>\n",
       "      <th>11</th>\n",
       "      <td>E4</td>\n",
       "      <td>5992</td>\n",
       "      <td>0.787550</td>\n",
       "      <td>-0.787624</td>\n",
       "      <td>0.211104</td>\n",
       "    </tr>\n",
       "    <tr>\n",
       "      <th>12</th>\n",
       "      <td>E2</td>\n",
       "      <td>8669</td>\n",
       "      <td>0.805745</td>\n",
       "      <td>-0.675251</td>\n",
       "      <td>0.211104</td>\n",
       "    </tr>\n",
       "    <tr>\n",
       "      <th>13</th>\n",
       "      <td>E3</td>\n",
       "      <td>6976</td>\n",
       "      <td>0.809920</td>\n",
       "      <td>-0.648355</td>\n",
       "      <td>0.211104</td>\n",
       "    </tr>\n",
       "    <tr>\n",
       "      <th>14</th>\n",
       "      <td>E1</td>\n",
       "      <td>9033</td>\n",
       "      <td>0.826968</td>\n",
       "      <td>-0.533556</td>\n",
       "      <td>0.211104</td>\n",
       "    </tr>\n",
       "    <tr>\n",
       "      <th>15</th>\n",
       "      <td>D5</td>\n",
       "      <td>11566</td>\n",
       "      <td>0.830451</td>\n",
       "      <td>-0.509015</td>\n",
       "      <td>0.211104</td>\n",
       "    </tr>\n",
       "    <tr>\n",
       "      <th>16</th>\n",
       "      <td>D4</td>\n",
       "      <td>14099</td>\n",
       "      <td>0.835520</td>\n",
       "      <td>-0.472577</td>\n",
       "      <td>0.211104</td>\n",
       "    </tr>\n",
       "    <tr>\n",
       "      <th>17</th>\n",
       "      <td>D3</td>\n",
       "      <td>14916</td>\n",
       "      <td>0.847546</td>\n",
       "      <td>-0.382360</td>\n",
       "      <td>0.211104</td>\n",
       "    </tr>\n",
       "    <tr>\n",
       "      <th>18</th>\n",
       "      <td>D2</td>\n",
       "      <td>17046</td>\n",
       "      <td>0.849349</td>\n",
       "      <td>-0.368341</td>\n",
       "      <td>0.211104</td>\n",
       "    </tr>\n",
       "    <tr>\n",
       "      <th>19</th>\n",
       "      <td>D1</td>\n",
       "      <td>19261</td>\n",
       "      <td>0.858470</td>\n",
       "      <td>-0.295200</td>\n",
       "      <td>0.211104</td>\n",
       "    </tr>\n",
       "    <tr>\n",
       "      <th>20</th>\n",
       "      <td>C5</td>\n",
       "      <td>22178</td>\n",
       "      <td>0.870683</td>\n",
       "      <td>-0.190836</td>\n",
       "      <td>0.211104</td>\n",
       "    </tr>\n",
       "    <tr>\n",
       "      <th>21</th>\n",
       "      <td>C4</td>\n",
       "      <td>24105</td>\n",
       "      <td>0.878946</td>\n",
       "      <td>-0.115355</td>\n",
       "      <td>0.211104</td>\n",
       "    </tr>\n",
       "    <tr>\n",
       "      <th>22</th>\n",
       "      <td>C3</td>\n",
       "      <td>25317</td>\n",
       "      <td>0.884109</td>\n",
       "      <td>-0.065909</td>\n",
       "      <td>0.211104</td>\n",
       "    </tr>\n",
       "    <tr>\n",
       "      <th>23</th>\n",
       "      <td>C2</td>\n",
       "      <td>26740</td>\n",
       "      <td>0.892932</td>\n",
       "      <td>0.023202</td>\n",
       "      <td>0.211104</td>\n",
       "    </tr>\n",
       "    <tr>\n",
       "      <th>24</th>\n",
       "      <td>C1</td>\n",
       "      <td>26953</td>\n",
       "      <td>0.896078</td>\n",
       "      <td>0.056547</td>\n",
       "      <td>0.211104</td>\n",
       "    </tr>\n",
       "    <tr>\n",
       "      <th>25</th>\n",
       "      <td>B5</td>\n",
       "      <td>25252</td>\n",
       "      <td>0.904324</td>\n",
       "      <td>0.148381</td>\n",
       "      <td>0.211104</td>\n",
       "    </tr>\n",
       "    <tr>\n",
       "      <th>26</th>\n",
       "      <td>B4</td>\n",
       "      <td>30505</td>\n",
       "      <td>0.912998</td>\n",
       "      <td>0.252957</td>\n",
       "      <td>0.211104</td>\n",
       "    </tr>\n",
       "    <tr>\n",
       "      <th>27</th>\n",
       "      <td>B3</td>\n",
       "      <td>31686</td>\n",
       "      <td>0.921038</td>\n",
       "      <td>0.358686</td>\n",
       "      <td>0.211104</td>\n",
       "    </tr>\n",
       "    <tr>\n",
       "      <th>28</th>\n",
       "      <td>B2</td>\n",
       "      <td>26610</td>\n",
       "      <td>0.931567</td>\n",
       "      <td>0.513170</td>\n",
       "      <td>0.211104</td>\n",
       "    </tr>\n",
       "    <tr>\n",
       "      <th>29</th>\n",
       "      <td>B1</td>\n",
       "      <td>22876</td>\n",
       "      <td>0.940287</td>\n",
       "      <td>0.658787</td>\n",
       "      <td>0.211104</td>\n",
       "    </tr>\n",
       "    <tr>\n",
       "      <th>30</th>\n",
       "      <td>A5</td>\n",
       "      <td>21757</td>\n",
       "      <td>0.949533</td>\n",
       "      <td>0.836817</td>\n",
       "      <td>0.211104</td>\n",
       "    </tr>\n",
       "    <tr>\n",
       "      <th>31</th>\n",
       "      <td>A4</td>\n",
       "      <td>19045</td>\n",
       "      <td>0.955684</td>\n",
       "      <td>0.973235</td>\n",
       "      <td>0.211104</td>\n",
       "    </tr>\n",
       "    <tr>\n",
       "      <th>32</th>\n",
       "      <td>A3</td>\n",
       "      <td>12568</td>\n",
       "      <td>0.964990</td>\n",
       "      <td>1.218653</td>\n",
       "      <td>0.211104</td>\n",
       "    </tr>\n",
       "    <tr>\n",
       "      <th>33</th>\n",
       "      <td>A2</td>\n",
       "      <td>10956</td>\n",
       "      <td>0.971431</td>\n",
       "      <td>1.428610</td>\n",
       "      <td>0.211104</td>\n",
       "    </tr>\n",
       "    <tr>\n",
       "      <th>34</th>\n",
       "      <td>A1</td>\n",
       "      <td>10541</td>\n",
       "      <td>0.980837</td>\n",
       "      <td>1.837567</td>\n",
       "      <td>0.211104</td>\n",
       "    </tr>\n",
       "  </tbody>\n",
       "</table>\n",
       "</div>"
      ],
      "text/plain": [
       "   sub_grade  support      pos%       WoE        IV\n",
       "0         G1     1109  0.706943 -1.217260  0.211104\n",
       "1         F5     1513  0.708526 -1.209608  0.211104\n",
       "2         G5      385  0.711688 -1.194246  0.211104\n",
       "3         G3      583  0.715266 -1.176746  0.211104\n",
       "4         G2      823  0.736330 -1.070861  0.211104\n",
       "5         F4     2067  0.745041 -1.025507  0.211104\n",
       "6         F3     2708  0.750739 -0.995289  0.211104\n",
       "7         G4      422  0.751185 -0.992903  0.211104\n",
       "8         F2     3001  0.768411 -0.898486  0.211104\n",
       "9         E5     5087  0.780224 -0.830871  0.211104\n",
       "10        F1     3940  0.783249 -0.813144  0.211104\n",
       "11        E4     5992  0.787550 -0.787624  0.211104\n",
       "12        E2     8669  0.805745 -0.675251  0.211104\n",
       "13        E3     6976  0.809920 -0.648355  0.211104\n",
       "14        E1     9033  0.826968 -0.533556  0.211104\n",
       "15        D5    11566  0.830451 -0.509015  0.211104\n",
       "16        D4    14099  0.835520 -0.472577  0.211104\n",
       "17        D3    14916  0.847546 -0.382360  0.211104\n",
       "18        D2    17046  0.849349 -0.368341  0.211104\n",
       "19        D1    19261  0.858470 -0.295200  0.211104\n",
       "20        C5    22178  0.870683 -0.190836  0.211104\n",
       "21        C4    24105  0.878946 -0.115355  0.211104\n",
       "22        C3    25317  0.884109 -0.065909  0.211104\n",
       "23        C2    26740  0.892932  0.023202  0.211104\n",
       "24        C1    26953  0.896078  0.056547  0.211104\n",
       "25        B5    25252  0.904324  0.148381  0.211104\n",
       "26        B4    30505  0.912998  0.252957  0.211104\n",
       "27        B3    31686  0.921038  0.358686  0.211104\n",
       "28        B2    26610  0.931567  0.513170  0.211104\n",
       "29        B1    22876  0.940287  0.658787  0.211104\n",
       "30        A5    21757  0.949533  0.836817  0.211104\n",
       "31        A4    19045  0.955684  0.973235  0.211104\n",
       "32        A3    12568  0.964990  1.218653  0.211104\n",
       "33        A2    10956  0.971431  1.428610  0.211104\n",
       "34        A1    10541  0.980837  1.837567  0.211104"
      ]
     },
     "execution_count": 120,
     "metadata": {},
     "output_type": "execute_result"
    },
    {
     "data": {
      "image/png": "[encoded data removed]",
      "text/plain": [
       "<Figure size 720x360 with 1 Axes>"
      ]
     },
     "metadata": {
      "needs_background": "light"
     },
     "output_type": "display_data"
    }
   ],
   "source": [
    "df_temp = calculate_woe(data, 'sub_grade', data['loan_status'])\n",
    "plot_woe(df_temp)\n",
    "df_temp"
   ]
  },
  {
   "cell_type": "code",
   "execution_count": 121,
   "id": "489649b5",
   "metadata": {},
   "outputs": [
    {
     "data": {
      "text/html": [
       "<div>\n",
       "<style scoped>\n",
       "    .dataframe tbody tr th:only-of-type {\n",
       "        vertical-align: middle;\n",
       "    }\n",
       "\n",
       "    .dataframe tbody tr th {\n",
       "        vertical-align: top;\n",
       "    }\n",
       "\n",
       "    .dataframe thead th {\n",
       "        text-align: right;\n",
       "    }\n",
       "</style>\n",
       "<table border=\"1\" class=\"dataframe\">\n",
       "  <thead>\n",
       "    <tr style=\"text-align: right;\">\n",
       "      <th></th>\n",
       "      <th>sub_grade</th>\n",
       "      <th>support</th>\n",
       "      <th>pos%</th>\n",
       "      <th>WoE</th>\n",
       "      <th>IV</th>\n",
       "    </tr>\n",
       "  </thead>\n",
       "  <tbody>\n",
       "    <tr>\n",
       "      <th>0</th>\n",
       "      <td>(-0.001, 14.0]</td>\n",
       "      <td>52308</td>\n",
       "      <td>0.788178</td>\n",
       "      <td>-0.783868</td>\n",
       "      <td>0.304499</td>\n",
       "    </tr>\n",
       "    <tr>\n",
       "      <th>1</th>\n",
       "      <td>(14.0, 18.0]</td>\n",
       "      <td>57627</td>\n",
       "      <td>0.841706</td>\n",
       "      <td>-0.426866</td>\n",
       "      <td>0.304499</td>\n",
       "    </tr>\n",
       "    <tr>\n",
       "      <th>2</th>\n",
       "      <td>(18.0, 20.0]</td>\n",
       "      <td>41439</td>\n",
       "      <td>0.865006</td>\n",
       "      <td>-0.240335</td>\n",
       "      <td>0.304499</td>\n",
       "    </tr>\n",
       "    <tr>\n",
       "      <th>3</th>\n",
       "      <td>(20.0, 22.0]</td>\n",
       "      <td>49422</td>\n",
       "      <td>0.881591</td>\n",
       "      <td>-0.090259</td>\n",
       "      <td>0.304499</td>\n",
       "    </tr>\n",
       "    <tr>\n",
       "      <th>4</th>\n",
       "      <td>(22.0, 24.0]</td>\n",
       "      <td>53693</td>\n",
       "      <td>0.894511</td>\n",
       "      <td>0.039831</td>\n",
       "      <td>0.304499</td>\n",
       "    </tr>\n",
       "    <tr>\n",
       "      <th>5</th>\n",
       "      <td>(24.0, 26.0]</td>\n",
       "      <td>55757</td>\n",
       "      <td>0.909070</td>\n",
       "      <td>0.204485</td>\n",
       "      <td>0.304499</td>\n",
       "    </tr>\n",
       "    <tr>\n",
       "      <th>6</th>\n",
       "      <td>(26.0, 27.0]</td>\n",
       "      <td>31686</td>\n",
       "      <td>0.921038</td>\n",
       "      <td>0.358686</td>\n",
       "      <td>0.304499</td>\n",
       "    </tr>\n",
       "    <tr>\n",
       "      <th>7</th>\n",
       "      <td>(27.0, 29.0]</td>\n",
       "      <td>49486</td>\n",
       "      <td>0.935598</td>\n",
       "      <td>0.578196</td>\n",
       "      <td>0.304499</td>\n",
       "    </tr>\n",
       "    <tr>\n",
       "      <th>8</th>\n",
       "      <td>(29.0, 31.0]</td>\n",
       "      <td>40802</td>\n",
       "      <td>0.952404</td>\n",
       "      <td>0.898403</td>\n",
       "      <td>0.304499</td>\n",
       "    </tr>\n",
       "    <tr>\n",
       "      <th>9</th>\n",
       "      <td>(31.0, 34.0]</td>\n",
       "      <td>34065</td>\n",
       "      <td>0.971965</td>\n",
       "      <td>1.448035</td>\n",
       "      <td>0.304499</td>\n",
       "    </tr>\n",
       "  </tbody>\n",
       "</table>\n",
       "</div>"
      ],
      "text/plain": [
       "        sub_grade  support      pos%       WoE        IV\n",
       "0  (-0.001, 14.0]    52308  0.788178 -0.783868  0.304499\n",
       "1    (14.0, 18.0]    57627  0.841706 -0.426866  0.304499\n",
       "2    (18.0, 20.0]    41439  0.865006 -0.240335  0.304499\n",
       "3    (20.0, 22.0]    49422  0.881591 -0.090259  0.304499\n",
       "4    (22.0, 24.0]    53693  0.894511  0.039831  0.304499\n",
       "5    (24.0, 26.0]    55757  0.909070  0.204485  0.304499\n",
       "6    (26.0, 27.0]    31686  0.921038  0.358686  0.304499\n",
       "7    (27.0, 29.0]    49486  0.935598  0.578196  0.304499\n",
       "8    (29.0, 31.0]    40802  0.952404  0.898403  0.304499\n",
       "9    (31.0, 34.0]    34065  0.971965  1.448035  0.304499"
      ]
     },
     "execution_count": 121,
     "metadata": {},
     "output_type": "execute_result"
    },
    {
     "data": {
      "image/png": "[encoded data removed]",
      "text/plain": [
       "<Figure size 720x360 with 1 Axes>"
      ]
     },
     "metadata": {
      "needs_background": "light"
     },
     "output_type": "display_data"
    }
   ],
   "source": [
    "# since grades are ordinal data (we can compare them), its best to use a label encoder here. Otherwise we have too many features\n",
    "grades = list(data['sub_grade'].unique())\n",
    "grades.sort(reverse=True) # sorts grades as [G5, G4, ... A2, A1]\n",
    "grades_map = dict(zip(grades, list(range(len(grades))))) # get dict of corresponding indices\n",
    "data['sub_grade'] = data['sub_grade'].apply(lambda x: grades_map[x])\n",
    "# plot the results\n",
    "X_woe['sub_grade'] = pd.qcut(data['sub_grade'], 10)\n",
    "df_temp = calculate_woe(X_woe, 'sub_grade', data['loan_status'])\n",
    "plot_woe(df_temp)\n",
    "df_temp"
   ]
  },
  {
   "cell_type": "markdown",
   "id": "2c3e2ea9",
   "metadata": {},
   "source": [
    "We have effectively reduced number of features from 35 to 10 while also increasing the IV"
   ]
  },
  {
   "cell_type": "markdown",
   "id": "d91fb342",
   "metadata": {},
   "source": [
    "### emp_length"
   ]
  },
  {
   "cell_type": "code",
   "execution_count": 122,
   "id": "648c8873",
   "metadata": {},
   "outputs": [
    {
     "name": "stdout",
     "output_type": "stream",
     "text": [
      "10+ years    150049\n",
      "2 years       41373\n",
      "3 years       36596\n",
      "< 1 year      36265\n",
      "5 years       30774\n",
      "1 year        29622\n",
      "4 years       28023\n",
      "7 years       26180\n",
      "6 years       26112\n",
      "8 years       22395\n",
      "9 years       17888\n",
      "Name: emp_length, dtype: int64\n",
      "21008\n"
     ]
    }
   ],
   "source": [
    "print(data['emp_length'].value_counts())\n",
    "print(data['emp_length'].isnull().sum())"
   ]
  },
  {
   "cell_type": "code",
   "execution_count": 123,
   "id": "c79d1081",
   "metadata": {},
   "outputs": [],
   "source": [
    "# lots of nan, best strategy would be to make it a separate category\n",
    "data['emp_length'] = data['emp_length'].fillna('NaN')"
   ]
  },
  {
   "cell_type": "code",
   "execution_count": 124,
   "id": "ecc1ba73",
   "metadata": {},
   "outputs": [
    {
     "data": {
      "text/html": [
       "<div>\n",
       "<style scoped>\n",
       "    .dataframe tbody tr th:only-of-type {\n",
       "        vertical-align: middle;\n",
       "    }\n",
       "\n",
       "    .dataframe tbody tr th {\n",
       "        vertical-align: top;\n",
       "    }\n",
       "\n",
       "    .dataframe thead th {\n",
       "        text-align: right;\n",
       "    }\n",
       "</style>\n",
       "<table border=\"1\" class=\"dataframe\">\n",
       "  <thead>\n",
       "    <tr style=\"text-align: right;\">\n",
       "      <th></th>\n",
       "      <th>emp_length</th>\n",
       "      <th>support</th>\n",
       "      <th>pos%</th>\n",
       "      <th>WoE</th>\n",
       "      <th>IV</th>\n",
       "    </tr>\n",
       "  </thead>\n",
       "  <tbody>\n",
       "    <tr>\n",
       "      <th>0</th>\n",
       "      <td>NaN</td>\n",
       "      <td>21008</td>\n",
       "      <td>0.867384</td>\n",
       "      <td>-0.219821</td>\n",
       "      <td>0.003532</td>\n",
       "    </tr>\n",
       "    <tr>\n",
       "      <th>1</th>\n",
       "      <td>&lt; 1 year</td>\n",
       "      <td>36265</td>\n",
       "      <td>0.881015</td>\n",
       "      <td>-0.095769</td>\n",
       "      <td>0.003532</td>\n",
       "    </tr>\n",
       "    <tr>\n",
       "      <th>2</th>\n",
       "      <td>6 years</td>\n",
       "      <td>26112</td>\n",
       "      <td>0.882889</td>\n",
       "      <td>-0.077766</td>\n",
       "      <td>0.003532</td>\n",
       "    </tr>\n",
       "    <tr>\n",
       "      <th>3</th>\n",
       "      <td>5 years</td>\n",
       "      <td>30774</td>\n",
       "      <td>0.885033</td>\n",
       "      <td>-0.056866</td>\n",
       "      <td>0.003532</td>\n",
       "    </tr>\n",
       "    <tr>\n",
       "      <th>4</th>\n",
       "      <td>9 years</td>\n",
       "      <td>17888</td>\n",
       "      <td>0.887914</td>\n",
       "      <td>-0.028239</td>\n",
       "      <td>0.003532</td>\n",
       "    </tr>\n",
       "    <tr>\n",
       "      <th>5</th>\n",
       "      <td>1 year</td>\n",
       "      <td>29622</td>\n",
       "      <td>0.888124</td>\n",
       "      <td>-0.026127</td>\n",
       "      <td>0.003532</td>\n",
       "    </tr>\n",
       "    <tr>\n",
       "      <th>6</th>\n",
       "      <td>7 years</td>\n",
       "      <td>26180</td>\n",
       "      <td>0.888655</td>\n",
       "      <td>-0.020764</td>\n",
       "      <td>0.003532</td>\n",
       "    </tr>\n",
       "    <tr>\n",
       "      <th>7</th>\n",
       "      <td>8 years</td>\n",
       "      <td>22395</td>\n",
       "      <td>0.889931</td>\n",
       "      <td>-0.007810</td>\n",
       "      <td>0.003532</td>\n",
       "    </tr>\n",
       "    <tr>\n",
       "      <th>8</th>\n",
       "      <td>2 years</td>\n",
       "      <td>41373</td>\n",
       "      <td>0.890242</td>\n",
       "      <td>-0.004624</td>\n",
       "      <td>0.003532</td>\n",
       "    </tr>\n",
       "    <tr>\n",
       "      <th>9</th>\n",
       "      <td>4 years</td>\n",
       "      <td>28023</td>\n",
       "      <td>0.890411</td>\n",
       "      <td>-0.002893</td>\n",
       "      <td>0.003532</td>\n",
       "    </tr>\n",
       "    <tr>\n",
       "      <th>10</th>\n",
       "      <td>3 years</td>\n",
       "      <td>36596</td>\n",
       "      <td>0.890480</td>\n",
       "      <td>-0.002192</td>\n",
       "      <td>0.003532</td>\n",
       "    </tr>\n",
       "    <tr>\n",
       "      <th>11</th>\n",
       "      <td>10+ years</td>\n",
       "      <td>150049</td>\n",
       "      <td>0.900353</td>\n",
       "      <td>0.103304</td>\n",
       "      <td>0.003532</td>\n",
       "    </tr>\n",
       "  </tbody>\n",
       "</table>\n",
       "</div>"
      ],
      "text/plain": [
       "   emp_length  support      pos%       WoE        IV\n",
       "0         NaN    21008  0.867384 -0.219821  0.003532\n",
       "1    < 1 year    36265  0.881015 -0.095769  0.003532\n",
       "2     6 years    26112  0.882889 -0.077766  0.003532\n",
       "3     5 years    30774  0.885033 -0.056866  0.003532\n",
       "4     9 years    17888  0.887914 -0.028239  0.003532\n",
       "5      1 year    29622  0.888124 -0.026127  0.003532\n",
       "6     7 years    26180  0.888655 -0.020764  0.003532\n",
       "7     8 years    22395  0.889931 -0.007810  0.003532\n",
       "8     2 years    41373  0.890242 -0.004624  0.003532\n",
       "9     4 years    28023  0.890411 -0.002893  0.003532\n",
       "10    3 years    36596  0.890480 -0.002192  0.003532\n",
       "11  10+ years   150049  0.900353  0.103304  0.003532"
      ]
     },
     "execution_count": 124,
     "metadata": {},
     "output_type": "execute_result"
    },
    {
     "data": {
      "image/png": "[encoded data removed]",
      "text/plain": [
       "<Figure size 720x360 with 1 Axes>"
      ]
     },
     "metadata": {
      "needs_background": "light"
     },
     "output_type": "display_data"
    }
   ],
   "source": [
    "df_temp = calculate_woe(data, 'emp_length', data['loan_status'])\n",
    "plot_woe(df_temp)\n",
    "df_temp"
   ]
  },
  {
   "cell_type": "code",
   "execution_count": 125,
   "id": "f73d4003",
   "metadata": {},
   "outputs": [],
   "source": [
    "# again, we have an ordinal feature, best to label encode it\n",
    "emp_len = ['NaN', '< 1 year', '1 year', '2 years', '3 years', '4 years', '5 years', \n",
    "           '6 years', '7 years', '8 years', '9 years', '10+ years']\n",
    "emp_len_map = dict(zip(emp_len, range(len(emp_len))))\n",
    "data['emp_length'] = data['emp_length'].apply(lambda x: emp_len_map[x])"
   ]
  },
  {
   "cell_type": "code",
   "execution_count": 126,
   "id": "a21816a9",
   "metadata": {},
   "outputs": [
    {
     "data": {
      "text/html": [
       "<div>\n",
       "<style scoped>\n",
       "    .dataframe tbody tr th:only-of-type {\n",
       "        vertical-align: middle;\n",
       "    }\n",
       "\n",
       "    .dataframe tbody tr th {\n",
       "        vertical-align: top;\n",
       "    }\n",
       "\n",
       "    .dataframe thead th {\n",
       "        text-align: right;\n",
       "    }\n",
       "</style>\n",
       "<table border=\"1\" class=\"dataframe\">\n",
       "  <thead>\n",
       "    <tr style=\"text-align: right;\">\n",
       "      <th></th>\n",
       "      <th>emp_length</th>\n",
       "      <th>support</th>\n",
       "      <th>pos%</th>\n",
       "      <th>WoE</th>\n",
       "      <th>IV</th>\n",
       "    </tr>\n",
       "  </thead>\n",
       "  <tbody>\n",
       "    <tr>\n",
       "      <th>0</th>\n",
       "      <td>(-0.011, 2.75]</td>\n",
       "      <td>86895</td>\n",
       "      <td>0.880143</td>\n",
       "      <td>-0.104062</td>\n",
       "      <td>0.004514</td>\n",
       "    </tr>\n",
       "    <tr>\n",
       "      <th>1</th>\n",
       "      <td>(5.5, 8.25]</td>\n",
       "      <td>83066</td>\n",
       "      <td>0.885501</td>\n",
       "      <td>-0.052260</td>\n",
       "      <td>0.004514</td>\n",
       "    </tr>\n",
       "    <tr>\n",
       "      <th>2</th>\n",
       "      <td>(2.75, 5.5]</td>\n",
       "      <td>105992</td>\n",
       "      <td>0.890369</td>\n",
       "      <td>-0.003327</td>\n",
       "      <td>0.004514</td>\n",
       "    </tr>\n",
       "    <tr>\n",
       "      <th>3</th>\n",
       "      <td>(8.25, 11.0]</td>\n",
       "      <td>190332</td>\n",
       "      <td>0.897957</td>\n",
       "      <td>0.076887</td>\n",
       "      <td>0.004514</td>\n",
       "    </tr>\n",
       "  </tbody>\n",
       "</table>\n",
       "</div>"
      ],
      "text/plain": [
       "       emp_length  support      pos%       WoE        IV\n",
       "0  (-0.011, 2.75]    86895  0.880143 -0.104062  0.004514\n",
       "1     (5.5, 8.25]    83066  0.885501 -0.052260  0.004514\n",
       "2     (2.75, 5.5]   105992  0.890369 -0.003327  0.004514\n",
       "3    (8.25, 11.0]   190332  0.897957  0.076887  0.004514"
      ]
     },
     "execution_count": 126,
     "metadata": {},
     "output_type": "execute_result"
    },
    {
     "data": {
      "image/png": "[encoded data removed]",
      "text/plain": [
       "<Figure size 720x360 with 1 Axes>"
      ]
     },
     "metadata": {
      "needs_background": "light"
     },
     "output_type": "display_data"
    }
   ],
   "source": [
    "# plot the results\n",
    "X_woe['emp_length'] = pd.cut(data['emp_length'], 4)\n",
    "df_temp = calculate_woe(X_woe, 'emp_length', data['loan_status'])\n",
    "plot_woe(df_temp)\n",
    "df_temp"
   ]
  },
  {
   "cell_type": "markdown",
   "id": "ef44e620",
   "metadata": {},
   "source": [
    "### home_ownership"
   ]
  },
  {
   "cell_type": "code",
   "execution_count": 127,
   "id": "f3a71f64",
   "metadata": {},
   "outputs": [
    {
     "name": "stdout",
     "output_type": "stream",
     "text": [
      "MORTGAGE    235875\n",
      "RENT        188473\n",
      "OWN          41704\n",
      "OTHER          182\n",
      "NONE            50\n",
      "ANY              1\n",
      "Name: home_ownership, dtype: int64\n",
      "0\n"
     ]
    }
   ],
   "source": [
    "print(data['home_ownership'].value_counts())\n",
    "print(data['home_ownership'].isnull().sum())"
   ]
  },
  {
   "cell_type": "code",
   "execution_count": 128,
   "id": "8180cec6",
   "metadata": {},
   "outputs": [
    {
     "data": {
      "text/html": [
       "<div>\n",
       "<style scoped>\n",
       "    .dataframe tbody tr th:only-of-type {\n",
       "        vertical-align: middle;\n",
       "    }\n",
       "\n",
       "    .dataframe tbody tr th {\n",
       "        vertical-align: top;\n",
       "    }\n",
       "\n",
       "    .dataframe thead th {\n",
       "        text-align: right;\n",
       "    }\n",
       "</style>\n",
       "<table border=\"1\" class=\"dataframe\">\n",
       "  <thead>\n",
       "    <tr style=\"text-align: right;\">\n",
       "      <th></th>\n",
       "      <th>home_ownership</th>\n",
       "      <th>support</th>\n",
       "      <th>pos%</th>\n",
       "      <th>WoE</th>\n",
       "      <th>IV</th>\n",
       "    </tr>\n",
       "  </thead>\n",
       "  <tbody>\n",
       "    <tr>\n",
       "      <th>0</th>\n",
       "      <td>RENT</td>\n",
       "      <td>188473</td>\n",
       "      <td>0.873897</td>\n",
       "      <td>-0.161980</td>\n",
       "      <td>0.021149</td>\n",
       "    </tr>\n",
       "    <tr>\n",
       "      <th>1</th>\n",
       "      <td>OWN</td>\n",
       "      <td>41704</td>\n",
       "      <td>0.891737</td>\n",
       "      <td>0.010764</td>\n",
       "      <td>0.021149</td>\n",
       "    </tr>\n",
       "    <tr>\n",
       "      <th>2</th>\n",
       "      <td>MORTGAGE</td>\n",
       "      <td>236108</td>\n",
       "      <td>0.903917</td>\n",
       "      <td>0.143679</td>\n",
       "      <td>0.021149</td>\n",
       "    </tr>\n",
       "  </tbody>\n",
       "</table>\n",
       "</div>"
      ],
      "text/plain": [
       "  home_ownership  support      pos%       WoE        IV\n",
       "0           RENT   188473  0.873897 -0.161980  0.021149\n",
       "1            OWN    41704  0.891737  0.010764  0.021149\n",
       "2       MORTGAGE   236108  0.903917  0.143679  0.021149"
      ]
     },
     "execution_count": 128,
     "metadata": {},
     "output_type": "execute_result"
    },
    {
     "data": {
      "image/png": "[encoded data removed]",
      "text/plain": [
       "<Figure size 720x360 with 1 Axes>"
      ]
     },
     "metadata": {
      "needs_background": "light"
     },
     "output_type": "display_data"
    }
   ],
   "source": [
    "# features ANY/NONE/OTHER contain too few samples, therefore we aggregate them with mode - MORTGAGE\n",
    "data['home_ownership'] = data['home_ownership'].replace(['ANY', 'NONE', 'OTHER'], 'MORTGAGE')\n",
    "df_temp = calculate_woe(data, 'home_ownership', data['loan_status'])\n",
    "plot_woe(df_temp)\n",
    "df_temp"
   ]
  },
  {
   "cell_type": "markdown",
   "id": "b0da6dfb",
   "metadata": {},
   "source": [
    "### annual_inc"
   ]
  },
  {
   "cell_type": "code",
   "execution_count": 129,
   "id": "9c8c9fdf",
   "metadata": {},
   "outputs": [
    {
     "name": "stdout",
     "output_type": "stream",
     "text": [
      "count    4.662810e+05\n",
      "mean     7.327738e+04\n",
      "std      5.496357e+04\n",
      "min      1.896000e+03\n",
      "25%      4.500000e+04\n",
      "50%      6.300000e+04\n",
      "75%      8.896000e+04\n",
      "max      7.500000e+06\n",
      "Name: annual_inc, dtype: float64\n",
      "4\n"
     ]
    }
   ],
   "source": [
    "print(data['annual_inc'].describe())\n",
    "print(data['annual_inc'].isnull().sum())"
   ]
  },
  {
   "cell_type": "code",
   "execution_count": 130,
   "id": "80324a29",
   "metadata": {},
   "outputs": [
    {
     "data": {
      "text/html": [
       "<div>\n",
       "<style scoped>\n",
       "    .dataframe tbody tr th:only-of-type {\n",
       "        vertical-align: middle;\n",
       "    }\n",
       "\n",
       "    .dataframe tbody tr th {\n",
       "        vertical-align: top;\n",
       "    }\n",
       "\n",
       "    .dataframe thead th {\n",
       "        text-align: right;\n",
       "    }\n",
       "</style>\n",
       "<table border=\"1\" class=\"dataframe\">\n",
       "  <thead>\n",
       "    <tr style=\"text-align: right;\">\n",
       "      <th></th>\n",
       "      <th>annual_inc</th>\n",
       "      <th>support</th>\n",
       "      <th>pos%</th>\n",
       "      <th>WoE</th>\n",
       "      <th>IV</th>\n",
       "    </tr>\n",
       "  </thead>\n",
       "  <tbody>\n",
       "    <tr>\n",
       "      <th>0</th>\n",
       "      <td>(1895.999, 50000.0]</td>\n",
       "      <td>157715</td>\n",
       "      <td>0.865390</td>\n",
       "      <td>-0.237035</td>\n",
       "      <td>0.047585</td>\n",
       "    </tr>\n",
       "    <tr>\n",
       "      <th>1</th>\n",
       "      <td>(50000.0, 78000.0]</td>\n",
       "      <td>153609</td>\n",
       "      <td>0.890404</td>\n",
       "      <td>-0.002965</td>\n",
       "      <td>0.047585</td>\n",
       "    </tr>\n",
       "    <tr>\n",
       "      <th>2</th>\n",
       "      <td>(78000.0, 7500000.0]</td>\n",
       "      <td>154957</td>\n",
       "      <td>0.916732</td>\n",
       "      <td>0.300913</td>\n",
       "      <td>0.047585</td>\n",
       "    </tr>\n",
       "  </tbody>\n",
       "</table>\n",
       "</div>"
      ],
      "text/plain": [
       "             annual_inc  support      pos%       WoE        IV\n",
       "0   (1895.999, 50000.0]   157715  0.865390 -0.237035  0.047585\n",
       "1    (50000.0, 78000.0]   153609  0.890404 -0.002965  0.047585\n",
       "2  (78000.0, 7500000.0]   154957  0.916732  0.300913  0.047585"
      ]
     },
     "execution_count": 130,
     "metadata": {},
     "output_type": "execute_result"
    },
    {
     "data": {
      "image/png": "[encoded data removed]",
      "text/plain": [
       "<Figure size 720x360 with 1 Axes>"
      ]
     },
     "metadata": {
      "needs_background": "light"
     },
     "output_type": "display_data"
    }
   ],
   "source": [
    "X_woe['annual_inc'] = pd.qcut(data['annual_inc'], 3)\n",
    "df_temp = calculate_woe(X_woe, 'annual_inc', data['loan_status'])\n",
    "plot_woe(df_temp)\n",
    "df_temp"
   ]
  },
  {
   "cell_type": "markdown",
   "id": "d745c32f",
   "metadata": {},
   "source": [
    "### verification_status"
   ]
  },
  {
   "cell_type": "code",
   "execution_count": 131,
   "id": "eb15cfea",
   "metadata": {},
   "outputs": [
    {
     "data": {
      "text/html": [
       "<div>\n",
       "<style scoped>\n",
       "    .dataframe tbody tr th:only-of-type {\n",
       "        vertical-align: middle;\n",
       "    }\n",
       "\n",
       "    .dataframe tbody tr th {\n",
       "        vertical-align: top;\n",
       "    }\n",
       "\n",
       "    .dataframe thead th {\n",
       "        text-align: right;\n",
       "    }\n",
       "</style>\n",
       "<table border=\"1\" class=\"dataframe\">\n",
       "  <thead>\n",
       "    <tr style=\"text-align: right;\">\n",
       "      <th></th>\n",
       "      <th>verification_status</th>\n",
       "      <th>support</th>\n",
       "      <th>pos%</th>\n",
       "      <th>WoE</th>\n",
       "      <th>IV</th>\n",
       "    </tr>\n",
       "  </thead>\n",
       "  <tbody>\n",
       "    <tr>\n",
       "      <th>0</th>\n",
       "      <td>Verified</td>\n",
       "      <td>168055</td>\n",
       "      <td>0.872631</td>\n",
       "      <td>-0.173420</td>\n",
       "      <td>0.018854</td>\n",
       "    </tr>\n",
       "    <tr>\n",
       "      <th>1</th>\n",
       "      <td>Source Verified</td>\n",
       "      <td>149993</td>\n",
       "      <td>0.895882</td>\n",
       "      <td>0.054438</td>\n",
       "      <td>0.018854</td>\n",
       "    </tr>\n",
       "    <tr>\n",
       "      <th>2</th>\n",
       "      <td>Not Verified</td>\n",
       "      <td>148237</td>\n",
       "      <td>0.905921</td>\n",
       "      <td>0.166972</td>\n",
       "      <td>0.018854</td>\n",
       "    </tr>\n",
       "  </tbody>\n",
       "</table>\n",
       "</div>"
      ],
      "text/plain": [
       "  verification_status  support      pos%       WoE        IV\n",
       "0            Verified   168055  0.872631 -0.173420  0.018854\n",
       "1     Source Verified   149993  0.895882  0.054438  0.018854\n",
       "2        Not Verified   148237  0.905921  0.166972  0.018854"
      ]
     },
     "execution_count": 131,
     "metadata": {},
     "output_type": "execute_result"
    },
    {
     "data": {
      "image/png": "[encoded data removed]",
      "text/plain": [
       "<Figure size 720x360 with 1 Axes>"
      ]
     },
     "metadata": {
      "needs_background": "light"
     },
     "output_type": "display_data"
    }
   ],
   "source": [
    "df_temp = calculate_woe(data, 'verification_status', data['loan_status'])\n",
    "plot_woe(df_temp)\n",
    "df_temp"
   ]
  },
  {
   "cell_type": "markdown",
   "id": "92697e2a",
   "metadata": {},
   "source": [
    "### issue_d"
   ]
  },
  {
   "cell_type": "code",
   "execution_count": 132,
   "id": "3438f7fd",
   "metadata": {},
   "outputs": [
    {
     "name": "stdout",
     "output_type": "stream",
     "text": [
      "count     466285\n",
      "unique        91\n",
      "top       Oct-14\n",
      "freq       38782\n",
      "Name: issue_d, dtype: object\n",
      "0\n"
     ]
    }
   ],
   "source": [
    "# based on domain knowledge, its best to omit this feature, banks to not give any preference to any specific issue dates\n",
    "print(data['issue_d'].describe())\n",
    "print(data['issue_d'].isnull().sum())"
   ]
  },
  {
   "cell_type": "markdown",
   "id": "5bb4d552",
   "metadata": {},
   "source": [
    "### pymnt_plan"
   ]
  },
  {
   "cell_type": "code",
   "execution_count": 133,
   "id": "68accb85",
   "metadata": {},
   "outputs": [
    {
     "name": "stdout",
     "output_type": "stream",
     "text": [
      "n    466276\n",
      "y         9\n",
      "Name: pymnt_plan, dtype: int64\n",
      "0\n"
     ]
    }
   ],
   "source": [
    "# omit this feature, features with value `y` are encountered very rarely\n",
    "print(data['pymnt_plan'].value_counts())\n",
    "print(data['pymnt_plan'].isnull().sum())"
   ]
  },
  {
   "cell_type": "markdown",
   "id": "60fbffb1",
   "metadata": {},
   "source": [
    "### purpose"
   ]
  },
  {
   "cell_type": "code",
   "execution_count": 134,
   "id": "c5d2a829",
   "metadata": {},
   "outputs": [
    {
     "data": {
      "text/html": [
       "<div>\n",
       "<style scoped>\n",
       "    .dataframe tbody tr th:only-of-type {\n",
       "        vertical-align: middle;\n",
       "    }\n",
       "\n",
       "    .dataframe tbody tr th {\n",
       "        vertical-align: top;\n",
       "    }\n",
       "\n",
       "    .dataframe thead th {\n",
       "        text-align: right;\n",
       "    }\n",
       "</style>\n",
       "<table border=\"1\" class=\"dataframe\">\n",
       "  <thead>\n",
       "    <tr style=\"text-align: right;\">\n",
       "      <th></th>\n",
       "      <th>purpose</th>\n",
       "      <th>support</th>\n",
       "      <th>pos%</th>\n",
       "      <th>WoE</th>\n",
       "      <th>IV</th>\n",
       "    </tr>\n",
       "  </thead>\n",
       "  <tbody>\n",
       "    <tr>\n",
       "      <th>0</th>\n",
       "      <td>small_business</td>\n",
       "      <td>7013</td>\n",
       "      <td>0.784258</td>\n",
       "      <td>-0.807190</td>\n",
       "      <td>0.036295</td>\n",
       "    </tr>\n",
       "    <tr>\n",
       "      <th>1</th>\n",
       "      <td>educational</td>\n",
       "      <td>422</td>\n",
       "      <td>0.791469</td>\n",
       "      <td>-0.764040</td>\n",
       "      <td>0.036295</td>\n",
       "    </tr>\n",
       "    <tr>\n",
       "      <th>2</th>\n",
       "      <td>renewable_energy</td>\n",
       "      <td>351</td>\n",
       "      <td>0.846154</td>\n",
       "      <td>-0.393096</td>\n",
       "      <td>0.036295</td>\n",
       "    </tr>\n",
       "    <tr>\n",
       "      <th>3</th>\n",
       "      <td>moving</td>\n",
       "      <td>2994</td>\n",
       "      <td>0.847361</td>\n",
       "      <td>-0.383790</td>\n",
       "      <td>0.036295</td>\n",
       "    </tr>\n",
       "    <tr>\n",
       "      <th>4</th>\n",
       "      <td>house</td>\n",
       "      <td>2269</td>\n",
       "      <td>0.859850</td>\n",
       "      <td>-0.283798</td>\n",
       "      <td>0.036295</td>\n",
       "    </tr>\n",
       "    <tr>\n",
       "      <th>5</th>\n",
       "      <td>other</td>\n",
       "      <td>23690</td>\n",
       "      <td>0.862009</td>\n",
       "      <td>-0.265764</td>\n",
       "      <td>0.036295</td>\n",
       "    </tr>\n",
       "    <tr>\n",
       "      <th>6</th>\n",
       "      <td>medical</td>\n",
       "      <td>4602</td>\n",
       "      <td>0.866145</td>\n",
       "      <td>-0.230548</td>\n",
       "      <td>0.036295</td>\n",
       "    </tr>\n",
       "    <tr>\n",
       "      <th>7</th>\n",
       "      <td>wedding</td>\n",
       "      <td>2343</td>\n",
       "      <td>0.878361</td>\n",
       "      <td>-0.120843</td>\n",
       "      <td>0.036295</td>\n",
       "    </tr>\n",
       "    <tr>\n",
       "      <th>8</th>\n",
       "      <td>vacation</td>\n",
       "      <td>2487</td>\n",
       "      <td>0.882187</td>\n",
       "      <td>-0.084535</td>\n",
       "      <td>0.036295</td>\n",
       "    </tr>\n",
       "    <tr>\n",
       "      <th>9</th>\n",
       "      <td>debt_consolidation</td>\n",
       "      <td>274195</td>\n",
       "      <td>0.886690</td>\n",
       "      <td>-0.040475</td>\n",
       "      <td>0.036295</td>\n",
       "    </tr>\n",
       "    <tr>\n",
       "      <th>10</th>\n",
       "      <td>home_improvement</td>\n",
       "      <td>26537</td>\n",
       "      <td>0.901835</td>\n",
       "      <td>0.119940</td>\n",
       "      <td>0.036295</td>\n",
       "    </tr>\n",
       "    <tr>\n",
       "      <th>11</th>\n",
       "      <td>major_purchase</td>\n",
       "      <td>9828</td>\n",
       "      <td>0.904457</td>\n",
       "      <td>0.149910</td>\n",
       "      <td>0.036295</td>\n",
       "    </tr>\n",
       "    <tr>\n",
       "      <th>12</th>\n",
       "      <td>car</td>\n",
       "      <td>5397</td>\n",
       "      <td>0.910876</td>\n",
       "      <td>0.226539</td>\n",
       "      <td>0.036295</td>\n",
       "    </tr>\n",
       "    <tr>\n",
       "      <th>13</th>\n",
       "      <td>credit_card</td>\n",
       "      <td>104157</td>\n",
       "      <td>0.913774</td>\n",
       "      <td>0.262772</td>\n",
       "      <td>0.036295</td>\n",
       "    </tr>\n",
       "  </tbody>\n",
       "</table>\n",
       "</div>"
      ],
      "text/plain": [
       "               purpose  support      pos%       WoE        IV\n",
       "0       small_business     7013  0.784258 -0.807190  0.036295\n",
       "1          educational      422  0.791469 -0.764040  0.036295\n",
       "2     renewable_energy      351  0.846154 -0.393096  0.036295\n",
       "3               moving     2994  0.847361 -0.383790  0.036295\n",
       "4                house     2269  0.859850 -0.283798  0.036295\n",
       "5                other    23690  0.862009 -0.265764  0.036295\n",
       "6              medical     4602  0.866145 -0.230548  0.036295\n",
       "7              wedding     2343  0.878361 -0.120843  0.036295\n",
       "8             vacation     2487  0.882187 -0.084535  0.036295\n",
       "9   debt_consolidation   274195  0.886690 -0.040475  0.036295\n",
       "10    home_improvement    26537  0.901835  0.119940  0.036295\n",
       "11      major_purchase     9828  0.904457  0.149910  0.036295\n",
       "12                 car     5397  0.910876  0.226539  0.036295\n",
       "13         credit_card   104157  0.913774  0.262772  0.036295"
      ]
     },
     "execution_count": 134,
     "metadata": {},
     "output_type": "execute_result"
    },
    {
     "data": {
      "image/png": "[encoded data removed]",
      "text/plain": [
       "<Figure size 720x360 with 1 Axes>"
      ]
     },
     "metadata": {
      "needs_background": "light"
     },
     "output_type": "display_data"
    }
   ],
   "source": [
    "df_temp = calculate_woe(data, 'purpose', data['loan_status'])\n",
    "plot_woe(df_temp)\n",
    "df_temp"
   ]
  },
  {
   "cell_type": "markdown",
   "id": "3072b5e3",
   "metadata": {},
   "source": [
    "-----------------------------------------------------------------------"
   ]
  },
  {
   "cell_type": "code",
   "execution_count": 135,
   "id": "0d7d94a7",
   "metadata": {},
   "outputs": [
    {
     "name": "stdout",
     "output_type": "stream",
     "text": [
      "id\n",
      "member_id\n",
      "loan_amnt\n",
      "funded_amnt\n",
      "funded_amnt_inv\n",
      "term\n",
      "int_rate\n",
      "installment\n",
      "grade\n",
      "sub_grade\n",
      "emp_title\n",
      "emp_length\n",
      "home_ownership\n",
      "annual_inc\n",
      "verification_status\n",
      "issue_d\n",
      "loan_status\n",
      "pymnt_plan\n",
      "url\n",
      "desc\n",
      "purpose\n",
      "title\n",
      "zip_code\n",
      "addr_state\n",
      "dti\n",
      "delinq_2yrs\n",
      "earliest_cr_line\n",
      "inq_last_6mths\n",
      "mths_since_last_delinq\n",
      "mths_since_last_record\n",
      "open_acc\n",
      "pub_rec\n",
      "revol_bal\n",
      "revol_util\n",
      "total_acc\n",
      "initial_list_status\n",
      "out_prncp\n",
      "out_prncp_inv\n",
      "total_pymnt\n",
      "total_pymnt_inv\n",
      "total_rec_prncp\n",
      "total_rec_int\n",
      "total_rec_late_fee\n",
      "recoveries\n",
      "collection_recovery_fee\n",
      "last_pymnt_d\n",
      "last_pymnt_amnt\n",
      "next_pymnt_d\n",
      "last_credit_pull_d\n",
      "collections_12_mths_ex_med\n",
      "mths_since_last_major_derog\n",
      "policy_code\n",
      "application_type\n",
      "annual_inc_joint\n",
      "dti_joint\n",
      "verification_status_joint\n",
      "acc_now_delinq\n",
      "tot_coll_amt\n",
      "tot_cur_bal\n",
      "open_acc_6m\n",
      "open_il_6m\n",
      "open_il_12m\n",
      "open_il_24m\n",
      "mths_since_rcnt_il\n",
      "total_bal_il\n",
      "il_util\n",
      "open_rv_12m\n",
      "open_rv_24m\n",
      "max_bal_bc\n",
      "all_util\n",
      "total_rev_hi_lim\n",
      "inq_fi\n",
      "total_cu_tl\n",
      "inq_last_12m\n"
     ]
    }
   ],
   "source": [
    "#function to print all the columns\n",
    "def printcolumns():\n",
    "    for col in data:\n",
    "        print(col)\n",
    "printcolumns()"
   ]
  },
  {
   "cell_type": "code",
   "execution_count": 136,
   "id": "a88ea2f9",
   "metadata": {},
   "outputs": [
    {
     "data": {
      "text/plain": [
       "\" \\ndti:debt to income ratio\\ndelinq_2years: The number of 30+ days past-due incidences of delinquency in the borrower's credit file for the past 2 years.\\nearlist_cr_line:The date the borrower's earliest reported credit line was opened.\\ninq_last_6mths:The number of inquiries in past 6 months (excluding auto and mortgage inquiries\\nmths since last delinq:The number of months since the borrower's last delinquency.\\nmths_since_last_record: The number of months since the last public record.\\nopen_acc: The number of open credit lines in the borrower's credit file.\\npub rec: Number of derogatory public records\\nrevol_bal: Total credit revolving balance\\n\""
      ]
     },
     "execution_count": 136,
     "metadata": {},
     "output_type": "execute_result"
    }
   ],
   "source": [
    "\"\"\" \n",
    "dti:debt to income ratio\n",
    "delinq_2years: The number of 30+ days past-due incidences of delinquency in the borrower's credit file for the past 2 years.\n",
    "earlist_cr_line:The date the borrower's earliest reported credit line was opened.\n",
    "inq_last_6mths:The number of inquiries in past 6 months (excluding auto and mortgage inquiries\n",
    "mths since last delinq:The number of months since the borrower's last delinquency.\n",
    "mths_since_last_record: The number of months since the last public record.\n",
    "open_acc: The number of open credit lines in the borrower's credit file.\n",
    "pub rec: Number of derogatory public records\n",
    "revol_bal: Total credit revolving balance\n",
    "\"\"\""
   ]
  },
  {
   "cell_type": "code",
   "execution_count": 137,
   "id": "13a7b601",
   "metadata": {},
   "outputs": [],
   "source": [
    "#title, zip_code,addr_state features are not important. So, i am not considering those features"
   ]
  },
  {
   "cell_type": "markdown",
   "id": "dfe03955",
   "metadata": {},
   "source": [
    "# dti"
   ]
  },
  {
   "cell_type": "code",
   "execution_count": 138,
   "id": "1bbc167e",
   "metadata": {},
   "outputs": [
    {
     "name": "stdout",
     "output_type": "stream",
     "text": [
      "14.40    410\n",
      "19.20    381\n",
      "12.00    369\n",
      "16.80    368\n",
      "18.00    365\n",
      "        ... \n",
      "37.51      2\n",
      "39.94      1\n",
      "38.95      1\n",
      "35.54      1\n",
      "39.14      1\n",
      "Name: dti, Length: 3997, dtype: int64\n",
      "0\n"
     ]
    }
   ],
   "source": [
    "print(data['dti'].value_counts())\n",
    "print(data['dti'].isnull().sum())"
   ]
  },
  {
   "cell_type": "code",
   "execution_count": 139,
   "id": "4f0b4258",
   "metadata": {},
   "outputs": [
    {
     "data": {
      "text/html": [
       "<div>\n",
       "<style scoped>\n",
       "    .dataframe tbody tr th:only-of-type {\n",
       "        vertical-align: middle;\n",
       "    }\n",
       "\n",
       "    .dataframe tbody tr th {\n",
       "        vertical-align: top;\n",
       "    }\n",
       "\n",
       "    .dataframe thead th {\n",
       "        text-align: right;\n",
       "    }\n",
       "</style>\n",
       "<table border=\"1\" class=\"dataframe\">\n",
       "  <thead>\n",
       "    <tr style=\"text-align: right;\">\n",
       "      <th></th>\n",
       "      <th>dti</th>\n",
       "      <th>support</th>\n",
       "      <th>pos%</th>\n",
       "      <th>WoE</th>\n",
       "      <th>IV</th>\n",
       "    </tr>\n",
       "  </thead>\n",
       "  <tbody>\n",
       "    <tr>\n",
       "      <th>0</th>\n",
       "      <td>(22.78, 39.99]</td>\n",
       "      <td>116522</td>\n",
       "      <td>0.870016</td>\n",
       "      <td>-0.196744</td>\n",
       "      <td>0.0247</td>\n",
       "    </tr>\n",
       "    <tr>\n",
       "      <th>1</th>\n",
       "      <td>(16.87, 22.78]</td>\n",
       "      <td>116511</td>\n",
       "      <td>0.883041</td>\n",
       "      <td>-0.076295</td>\n",
       "      <td>0.0247</td>\n",
       "    </tr>\n",
       "    <tr>\n",
       "      <th>2</th>\n",
       "      <td>(11.36, 16.87]</td>\n",
       "      <td>116620</td>\n",
       "      <td>0.899906</td>\n",
       "      <td>0.098333</td>\n",
       "      <td>0.0247</td>\n",
       "    </tr>\n",
       "    <tr>\n",
       "      <th>3</th>\n",
       "      <td>(-0.001, 11.36]</td>\n",
       "      <td>116632</td>\n",
       "      <td>0.909785</td>\n",
       "      <td>0.213164</td>\n",
       "      <td>0.0247</td>\n",
       "    </tr>\n",
       "  </tbody>\n",
       "</table>\n",
       "</div>"
      ],
      "text/plain": [
       "               dti  support      pos%       WoE      IV\n",
       "0   (22.78, 39.99]   116522  0.870016 -0.196744  0.0247\n",
       "1   (16.87, 22.78]   116511  0.883041 -0.076295  0.0247\n",
       "2   (11.36, 16.87]   116620  0.899906  0.098333  0.0247\n",
       "3  (-0.001, 11.36]   116632  0.909785  0.213164  0.0247"
      ]
     },
     "execution_count": 139,
     "metadata": {},
     "output_type": "execute_result"
    },
    {
     "data": {
      "image/png": "[encoded data removed]",
      "text/plain": [
       "<Figure size 720x360 with 1 Axes>"
      ]
     },
     "metadata": {
      "needs_background": "light"
     },
     "output_type": "display_data"
    }
   ],
   "source": [
    "X_woe['dti'] = pd.qcut(data['dti'], 4)\n",
    "df_temp = calculate_woe(X_woe, 'dti', data['loan_status'])\n",
    "plot_woe(df_temp)\n",
    "df_temp"
   ]
  },
  {
   "cell_type": "markdown",
   "id": "0afb0c53",
   "metadata": {},
   "source": [
    "# delinq_2yrs"
   ]
  },
  {
   "cell_type": "code",
   "execution_count": 140,
   "id": "dfff5893",
   "metadata": {},
   "outputs": [
    {
     "name": "stdout",
     "output_type": "stream",
     "text": [
      "0.0     382954\n",
      "1.0      56224\n",
      "2.0      16310\n",
      "3.0       5684\n",
      "4.0       2378\n",
      "5.0       1236\n",
      "6.0        629\n",
      "7.0        346\n",
      "8.0        177\n",
      "9.0        111\n",
      "10.0        65\n",
      "11.0        41\n",
      "12.0        38\n",
      "13.0        25\n",
      "14.0         8\n",
      "15.0         7\n",
      "18.0         6\n",
      "16.0         5\n",
      "17.0         3\n",
      "19.0         3\n",
      "21.0         2\n",
      "22.0         2\n",
      "29.0         1\n",
      "24.0         1\n",
      "Name: delinq_2yrs, dtype: int64\n",
      "29\n"
     ]
    }
   ],
   "source": [
    "print(data['delinq_2yrs'].value_counts())\n",
    "print(data['delinq_2yrs'].isnull().sum())"
   ]
  },
  {
   "cell_type": "code",
   "execution_count": 141,
   "id": "300ab058",
   "metadata": {},
   "outputs": [
    {
     "data": {
      "text/plain": [
       "count    466256.000000\n",
       "mean          0.284678\n",
       "std           0.797365\n",
       "min           0.000000\n",
       "25%           0.000000\n",
       "50%           0.000000\n",
       "75%           0.000000\n",
       "max          29.000000\n",
       "Name: delinq_2yrs, dtype: float64"
      ]
     },
     "execution_count": 141,
     "metadata": {},
     "output_type": "execute_result"
    }
   ],
   "source": [
    "data['delinq_2yrs'].describe()"
   ]
  },
  {
   "cell_type": "code",
   "execution_count": 142,
   "id": "880f7bad",
   "metadata": {},
   "outputs": [],
   "source": [
    "#as there are only 29 null values we can replace them with the median of the data\n",
    "data['delinq_2yrs'] = data['delinq_2yrs'].replace([None,np.nan], 0.0)"
   ]
  },
  {
   "cell_type": "code",
   "execution_count": 143,
   "id": "dfe5d312",
   "metadata": {},
   "outputs": [
    {
     "name": "stdout",
     "output_type": "stream",
     "text": [
      "0\n"
     ]
    }
   ],
   "source": [
    "print(data['delinq_2yrs'].isnull().sum())"
   ]
  },
  {
   "cell_type": "code",
   "execution_count": 144,
   "id": "83ec8d73",
   "metadata": {},
   "outputs": [
    {
     "data": {
      "text/html": [
       "<div>\n",
       "<style scoped>\n",
       "    .dataframe tbody tr th:only-of-type {\n",
       "        vertical-align: middle;\n",
       "    }\n",
       "\n",
       "    .dataframe tbody tr th {\n",
       "        vertical-align: top;\n",
       "    }\n",
       "\n",
       "    .dataframe thead th {\n",
       "        text-align: right;\n",
       "    }\n",
       "</style>\n",
       "<table border=\"1\" class=\"dataframe\">\n",
       "  <thead>\n",
       "    <tr style=\"text-align: right;\">\n",
       "      <th></th>\n",
       "      <th>delinq_2yrs</th>\n",
       "      <th>support</th>\n",
       "      <th>pos%</th>\n",
       "      <th>WoE</th>\n",
       "      <th>IV</th>\n",
       "    </tr>\n",
       "  </thead>\n",
       "  <tbody>\n",
       "    <tr>\n",
       "      <th>0</th>\n",
       "      <td>(19.333, 29.0]</td>\n",
       "      <td>6</td>\n",
       "      <td>0.833333</td>\n",
       "      <td>-0.488406</td>\n",
       "      <td>0.000022</td>\n",
       "    </tr>\n",
       "    <tr>\n",
       "      <th>1</th>\n",
       "      <td>(9.667, 19.333]</td>\n",
       "      <td>201</td>\n",
       "      <td>0.845771</td>\n",
       "      <td>-0.396033</td>\n",
       "      <td>0.000022</td>\n",
       "    </tr>\n",
       "    <tr>\n",
       "      <th>2</th>\n",
       "      <td>(-0.029, 9.667]</td>\n",
       "      <td>466078</td>\n",
       "      <td>0.890714</td>\n",
       "      <td>0.000207</td>\n",
       "      <td>0.000022</td>\n",
       "    </tr>\n",
       "  </tbody>\n",
       "</table>\n",
       "</div>"
      ],
      "text/plain": [
       "       delinq_2yrs  support      pos%       WoE        IV\n",
       "0   (19.333, 29.0]        6  0.833333 -0.488406  0.000022\n",
       "1  (9.667, 19.333]      201  0.845771 -0.396033  0.000022\n",
       "2  (-0.029, 9.667]   466078  0.890714  0.000207  0.000022"
      ]
     },
     "execution_count": 144,
     "metadata": {},
     "output_type": "execute_result"
    },
    {
     "data": {
      "image/png": "[encoded data removed]",
      "text/plain": [
       "<Figure size 720x360 with 1 Axes>"
      ]
     },
     "metadata": {
      "needs_background": "light"
     },
     "output_type": "display_data"
    }
   ],
   "source": [
    "X_woe['delinq_2yrs'] = pd.cut(data['delinq_2yrs'], 3)\n",
    "df_temp = calculate_woe(X_woe, 'delinq_2yrs', data['loan_status'])\n",
    "plot_woe(df_temp)\n",
    "df_temp"
   ]
  },
  {
   "cell_type": "markdown",
   "id": "2e4ae552",
   "metadata": {},
   "source": [
    "# earliest_cr_line"
   ]
  },
  {
   "cell_type": "code",
   "execution_count": 145,
   "id": "487565d9",
   "metadata": {},
   "outputs": [
    {
     "name": "stdout",
     "output_type": "stream",
     "text": [
      "Oct-00    3674\n",
      "Aug-00    3597\n",
      "Aug-01    3455\n",
      "Oct-99    3406\n",
      "Oct-01    3329\n",
      "          ... \n",
      "Jul-55       1\n",
      "Feb-57       1\n",
      "Oct-54       1\n",
      "May-53       1\n",
      "Nov-56       1\n",
      "Name: earliest_cr_line, Length: 664, dtype: int64\n",
      "29\n"
     ]
    }
   ],
   "source": [
    "print(data['earliest_cr_line'].value_counts())\n",
    "print(data['earliest_cr_line'].isnull().sum())"
   ]
  },
  {
   "cell_type": "code",
   "execution_count": 146,
   "id": "75966e8b",
   "metadata": {},
   "outputs": [
    {
     "data": {
      "text/plain": [
       "count     466256\n",
       "unique       664\n",
       "top       Oct-00\n",
       "freq        3674\n",
       "Name: earliest_cr_line, dtype: object"
      ]
     },
     "execution_count": 146,
     "metadata": {},
     "output_type": "execute_result"
    }
   ],
   "source": [
    "data['earliest_cr_line'].describe()"
   ]
  },
  {
   "cell_type": "code",
   "execution_count": 147,
   "id": "4df8c20f",
   "metadata": {},
   "outputs": [
    {
     "name": "stdout",
     "output_type": "stream",
     "text": [
      "0\n"
     ]
    }
   ],
   "source": [
    "#as there are only 29 null values we can replace them with the median of the data\n",
    "data['earliest_cr_line'] = data['earliest_cr_line'].replace([None,np.nan], \"Oct-00\")\n",
    "print(data['earliest_cr_line'].isnull().sum())"
   ]
  },
  {
   "cell_type": "code",
   "execution_count": null,
   "id": "36d31f8d",
   "metadata": {},
   "outputs": [],
   "source": []
  },
  {
   "cell_type": "code",
   "execution_count": 148,
   "id": "4bdc5715",
   "metadata": {},
   "outputs": [],
   "source": [
    "# X_woe['earliest_cr_line'] = pd.cut(data['earliest_cr_line'], 4)\n",
    "# df_temp = calculate_woe(X_woe, 'earliest_cr_line', data['loan_status'])\n",
    "# plot_woe(df_temp)\n",
    "# df_temp"
   ]
  },
  {
   "cell_type": "markdown",
   "id": "ffd96282",
   "metadata": {},
   "source": [
    "# inq_last_6mths"
   ]
  },
  {
   "cell_type": "code",
   "execution_count": 149,
   "id": "6fe1a756",
   "metadata": {},
   "outputs": [
    {
     "name": "stdout",
     "output_type": "stream",
     "text": [
      "0.0     241498\n",
      "1.0     130148\n",
      "2.0      57825\n",
      "3.0      25126\n",
      "4.0       7241\n",
      "5.0       2768\n",
      "6.0       1188\n",
      "7.0        195\n",
      "8.0        122\n",
      "9.0         50\n",
      "10.0        24\n",
      "11.0        15\n",
      "12.0        15\n",
      "15.0         9\n",
      "13.0         6\n",
      "14.0         6\n",
      "18.0         4\n",
      "16.0         3\n",
      "17.0         2\n",
      "24.0         2\n",
      "19.0         2\n",
      "32.0         1\n",
      "33.0         1\n",
      "31.0         1\n",
      "28.0         1\n",
      "25.0         1\n",
      "27.0         1\n",
      "20.0         1\n",
      "Name: inq_last_6mths, dtype: int64\n",
      "29\n"
     ]
    }
   ],
   "source": [
    "print(data['inq_last_6mths'].value_counts())\n",
    "print(data['inq_last_6mths'].isnull().sum())"
   ]
  },
  {
   "cell_type": "code",
   "execution_count": 150,
   "id": "4849644b",
   "metadata": {},
   "outputs": [
    {
     "name": "stdout",
     "output_type": "stream",
     "text": [
      "0\n"
     ]
    }
   ],
   "source": [
    "#as there are only 29 null values we can replace them with the median of the data\n",
    "data['inq_last_6mths'] = data['inq_last_6mths'].replace([None,np.nan], 0.0)\n",
    "print(data['inq_last_6mths'].isnull().sum())"
   ]
  },
  {
   "cell_type": "code",
   "execution_count": 151,
   "id": "9c787bea",
   "metadata": {},
   "outputs": [
    {
     "data": {
      "text/html": [
       "<div>\n",
       "<style scoped>\n",
       "    .dataframe tbody tr th:only-of-type {\n",
       "        vertical-align: middle;\n",
       "    }\n",
       "\n",
       "    .dataframe tbody tr th {\n",
       "        vertical-align: top;\n",
       "    }\n",
       "\n",
       "    .dataframe thead th {\n",
       "        text-align: right;\n",
       "    }\n",
       "</style>\n",
       "<table border=\"1\" class=\"dataframe\">\n",
       "  <thead>\n",
       "    <tr style=\"text-align: right;\">\n",
       "      <th></th>\n",
       "      <th>inq_last_6mths</th>\n",
       "      <th>support</th>\n",
       "      <th>pos%</th>\n",
       "      <th>WoE</th>\n",
       "      <th>IV</th>\n",
       "    </tr>\n",
       "  </thead>\n",
       "  <tbody>\n",
       "    <tr>\n",
       "      <th>0</th>\n",
       "      <td>(11.0, 22.0]</td>\n",
       "      <td>48</td>\n",
       "      <td>0.541667</td>\n",
       "      <td>-1.930790</td>\n",
       "      <td>0.000217</td>\n",
       "    </tr>\n",
       "    <tr>\n",
       "      <th>1</th>\n",
       "      <td>(22.0, 33.0]</td>\n",
       "      <td>8</td>\n",
       "      <td>0.625000</td>\n",
       "      <td>-1.587018</td>\n",
       "      <td>0.000217</td>\n",
       "    </tr>\n",
       "    <tr>\n",
       "      <th>2</th>\n",
       "      <td>(-0.033, 11.0]</td>\n",
       "      <td>466229</td>\n",
       "      <td>0.890734</td>\n",
       "      <td>0.000416</td>\n",
       "      <td>0.000217</td>\n",
       "    </tr>\n",
       "  </tbody>\n",
       "</table>\n",
       "</div>"
      ],
      "text/plain": [
       "   inq_last_6mths  support      pos%       WoE        IV\n",
       "0    (11.0, 22.0]       48  0.541667 -1.930790  0.000217\n",
       "1    (22.0, 33.0]        8  0.625000 -1.587018  0.000217\n",
       "2  (-0.033, 11.0]   466229  0.890734  0.000416  0.000217"
      ]
     },
     "execution_count": 151,
     "metadata": {},
     "output_type": "execute_result"
    },
    {
     "data": {
      "image/png": "[encoded data removed]",
      "text/plain": [
       "<Figure size 720x360 with 1 Axes>"
      ]
     },
     "metadata": {
      "needs_background": "light"
     },
     "output_type": "display_data"
    }
   ],
   "source": [
    "X_woe['inq_last_6mths'] = pd.cut(data['inq_last_6mths'], 3)\n",
    "df_temp = calculate_woe(X_woe, 'inq_last_6mths', data['loan_status'])\n",
    "plot_woe(df_temp)\n",
    "df_temp"
   ]
  },
  {
   "cell_type": "markdown",
   "id": "c8f5a149",
   "metadata": {},
   "source": [
    "# mths_since_last_delinq"
   ]
  },
  {
   "cell_type": "code",
   "execution_count": 152,
   "id": "34a86225",
   "metadata": {},
   "outputs": [
    {
     "name": "stdout",
     "output_type": "stream",
     "text": [
      "9.0      4358\n",
      "8.0      4272\n",
      "13.0     4260\n",
      "12.0     4193\n",
      "10.0     4146\n",
      "         ... \n",
      "156.0       1\n",
      "143.0       1\n",
      "118.0       1\n",
      "149.0       1\n",
      "121.0       1\n",
      "Name: mths_since_last_delinq, Length: 145, dtype: int64\n",
      "250351\n"
     ]
    }
   ],
   "source": [
    "print(data['mths_since_last_delinq'].value_counts())\n",
    "print(data['mths_since_last_delinq'].isnull().sum())"
   ]
  },
  {
   "cell_type": "code",
   "execution_count": 153,
   "id": "dd54fd77",
   "metadata": {},
   "outputs": [],
   "source": [
    "# there are lots of nan, best thing to do would be to make it a separate category\n",
    "data['mths_since_last_delinq'] = data['mths_since_last_delinq'].fillna('NaN')"
   ]
  },
  {
   "cell_type": "code",
   "execution_count": 154,
   "id": "66681083",
   "metadata": {},
   "outputs": [],
   "source": [
    "# df_temp = calculate_woe(data, 'mths_since_last_delinq', data['loan_status'])\n",
    "# plot_woe(df_temp)\n",
    "# df_temp"
   ]
  },
  {
   "cell_type": "code",
   "execution_count": null,
   "id": "dc785412",
   "metadata": {},
   "outputs": [],
   "source": []
  },
  {
   "cell_type": "markdown",
   "id": "1c6745cd",
   "metadata": {},
   "source": [
    "# mths_since_last_record"
   ]
  },
  {
   "cell_type": "code",
   "execution_count": 155,
   "id": "3e378429",
   "metadata": {},
   "outputs": [
    {
     "name": "stdout",
     "output_type": "stream",
     "text": [
      "0.0      1278\n",
      "109.0    1098\n",
      "108.0     999\n",
      "106.0     968\n",
      "104.0     953\n",
      "         ... \n",
      "1.0        28\n",
      "2.0        24\n",
      "120.0       2\n",
      "121.0       2\n",
      "129.0       1\n",
      "Name: mths_since_last_record, Length: 123, dtype: int64\n",
      "403647\n"
     ]
    }
   ],
   "source": [
    "print(data['mths_since_last_record'].value_counts())\n",
    "print(data['mths_since_last_record'].isnull().sum())"
   ]
  },
  {
   "cell_type": "code",
   "execution_count": 156,
   "id": "0612018e",
   "metadata": {},
   "outputs": [],
   "source": [
    "# there are lots of nan, best thing to do would be to make it a separate category\n",
    "data['mths_since_last_record'] = data['mths_since_last_record'].fillna('NaN')"
   ]
  },
  {
   "cell_type": "code",
   "execution_count": 157,
   "id": "343fa446",
   "metadata": {},
   "outputs": [],
   "source": [
    "# df_temp = calculate_woe(data, 'mths_since_last_record', data['loan_status'])\n",
    "# plot_woe(df_temp)\n",
    "# df_temp"
   ]
  },
  {
   "cell_type": "code",
   "execution_count": null,
   "id": "f26293ec",
   "metadata": {},
   "outputs": [],
   "source": []
  },
  {
   "cell_type": "markdown",
   "id": "bd28184d",
   "metadata": {},
   "source": [
    "# open_acc"
   ]
  },
  {
   "cell_type": "code",
   "execution_count": 158,
   "id": "cc0d592d",
   "metadata": {},
   "outputs": [
    {
     "name": "stdout",
     "output_type": "stream",
     "text": [
      "9.0     44019\n",
      "10.0    42512\n",
      "8.0     41893\n",
      "11.0    39112\n",
      "7.0     37602\n",
      "        ...  \n",
      "55.0        2\n",
      "62.0        1\n",
      "84.0        1\n",
      "75.0        1\n",
      "61.0        1\n",
      "Name: open_acc, Length: 62, dtype: int64\n",
      "29\n"
     ]
    }
   ],
   "source": [
    "print(data['open_acc'].value_counts())\n",
    "print(data['open_acc'].isnull().sum())"
   ]
  },
  {
   "cell_type": "code",
   "execution_count": 159,
   "id": "9af4d7a2",
   "metadata": {},
   "outputs": [
    {
     "data": {
      "text/plain": [
       "count    466256.000000\n",
       "mean         11.187069\n",
       "std           4.987526\n",
       "min           0.000000\n",
       "25%           8.000000\n",
       "50%          10.000000\n",
       "75%          14.000000\n",
       "max          84.000000\n",
       "Name: open_acc, dtype: float64"
      ]
     },
     "execution_count": 159,
     "metadata": {},
     "output_type": "execute_result"
    }
   ],
   "source": [
    "data['open_acc'].describe()"
   ]
  },
  {
   "cell_type": "code",
   "execution_count": 160,
   "id": "fffff7ac",
   "metadata": {},
   "outputs": [
    {
     "name": "stdout",
     "output_type": "stream",
     "text": [
      "0\n"
     ]
    }
   ],
   "source": [
    "#as there are only 29 null values we can replace them with the median of the data. also mode is almost same as mean here.\n",
    "data['open_acc'] = data['open_acc'].replace([None,np.nan], 9.0)\n",
    "print(data['open_acc'].isnull().sum())"
   ]
  },
  {
   "cell_type": "code",
   "execution_count": 161,
   "id": "31af617c",
   "metadata": {},
   "outputs": [
    {
     "data": {
      "text/html": [
       "<div>\n",
       "<style scoped>\n",
       "    .dataframe tbody tr th:only-of-type {\n",
       "        vertical-align: middle;\n",
       "    }\n",
       "\n",
       "    .dataframe tbody tr th {\n",
       "        vertical-align: top;\n",
       "    }\n",
       "\n",
       "    .dataframe thead th {\n",
       "        text-align: right;\n",
       "    }\n",
       "</style>\n",
       "<table border=\"1\" class=\"dataframe\">\n",
       "  <thead>\n",
       "    <tr style=\"text-align: right;\">\n",
       "      <th></th>\n",
       "      <th>open_acc</th>\n",
       "      <th>support</th>\n",
       "      <th>pos%</th>\n",
       "      <th>WoE</th>\n",
       "      <th>IV</th>\n",
       "    </tr>\n",
       "  </thead>\n",
       "  <tbody>\n",
       "    <tr>\n",
       "      <th>0</th>\n",
       "      <td>(63.0, 84.0]</td>\n",
       "      <td>4</td>\n",
       "      <td>0.500000</td>\n",
       "      <td>-2.097844</td>\n",
       "      <td>0.004053</td>\n",
       "    </tr>\n",
       "    <tr>\n",
       "      <th>1</th>\n",
       "      <td>(-0.084, 21.0]</td>\n",
       "      <td>448590</td>\n",
       "      <td>0.890497</td>\n",
       "      <td>-0.002017</td>\n",
       "      <td>0.004053</td>\n",
       "    </tr>\n",
       "    <tr>\n",
       "      <th>2</th>\n",
       "      <td>(21.0, 42.0]</td>\n",
       "      <td>17588</td>\n",
       "      <td>0.895497</td>\n",
       "      <td>0.050318</td>\n",
       "      <td>0.004053</td>\n",
       "    </tr>\n",
       "    <tr>\n",
       "      <th>3</th>\n",
       "      <td>(42.0, 63.0]</td>\n",
       "      <td>103</td>\n",
       "      <td>0.941748</td>\n",
       "      <td>0.685107</td>\n",
       "      <td>0.004053</td>\n",
       "    </tr>\n",
       "  </tbody>\n",
       "</table>\n",
       "</div>"
      ],
      "text/plain": [
       "         open_acc  support      pos%       WoE        IV\n",
       "0    (63.0, 84.0]        4  0.500000 -2.097844  0.004053\n",
       "1  (-0.084, 21.0]   448590  0.890497 -0.002017  0.004053\n",
       "2    (21.0, 42.0]    17588  0.895497  0.050318  0.004053\n",
       "3    (42.0, 63.0]      103  0.941748  0.685107  0.004053"
      ]
     },
     "execution_count": 161,
     "metadata": {},
     "output_type": "execute_result"
    },
    {
     "data": {
      "image/png": "[encoded data removed]",
      "text/plain": [
       "<Figure size 720x360 with 1 Axes>"
      ]
     },
     "metadata": {
      "needs_background": "light"
     },
     "output_type": "display_data"
    }
   ],
   "source": [
    "X_woe['open_acc'] = pd.cut(data['open_acc'], 4)\n",
    "df_temp = calculate_woe(X_woe, 'open_acc', data['loan_status'])\n",
    "plot_woe(df_temp)\n",
    "df_temp"
   ]
  },
  {
   "cell_type": "markdown",
   "id": "512709e2",
   "metadata": {},
   "source": [
    "# pub_rec"
   ]
  },
  {
   "cell_type": "code",
   "execution_count": 162,
   "id": "7de0adab",
   "metadata": {},
   "outputs": [
    {
     "name": "stdout",
     "output_type": "stream",
     "text": [
      "0.0     404893\n",
      "1.0      53051\n",
      "2.0       5624\n",
      "3.0       1611\n",
      "4.0        520\n",
      "5.0        276\n",
      "6.0        136\n",
      "7.0         62\n",
      "8.0         29\n",
      "9.0         16\n",
      "10.0        13\n",
      "11.0         8\n",
      "12.0         2\n",
      "18.0         2\n",
      "13.0         2\n",
      "40.0         1\n",
      "34.0         1\n",
      "21.0         1\n",
      "63.0         1\n",
      "54.0         1\n",
      "14.0         1\n",
      "15.0         1\n",
      "16.0         1\n",
      "19.0         1\n",
      "49.0         1\n",
      "17.0         1\n",
      "Name: pub_rec, dtype: int64\n",
      "29\n"
     ]
    }
   ],
   "source": [
    "print(data['pub_rec'].value_counts())\n",
    "print(data['pub_rec'].isnull().sum())"
   ]
  },
  {
   "cell_type": "code",
   "execution_count": 163,
   "id": "dd027af8",
   "metadata": {},
   "outputs": [
    {
     "data": {
      "text/plain": [
       "count    466256.000000\n",
       "mean          0.160564\n",
       "std           0.510863\n",
       "min           0.000000\n",
       "25%           0.000000\n",
       "50%           0.000000\n",
       "75%           0.000000\n",
       "max          63.000000\n",
       "Name: pub_rec, dtype: float64"
      ]
     },
     "execution_count": 163,
     "metadata": {},
     "output_type": "execute_result"
    }
   ],
   "source": [
    "data['pub_rec'].describe()"
   ]
  },
  {
   "cell_type": "code",
   "execution_count": 164,
   "id": "9b8e4c79",
   "metadata": {},
   "outputs": [
    {
     "name": "stdout",
     "output_type": "stream",
     "text": [
      "0\n"
     ]
    }
   ],
   "source": [
    "#as there are only 29 null values we can replace them with the median of the data\n",
    "data['pub_rec'] = data['pub_rec'].replace([None,np.nan], 0.0)\n",
    "print(data['pub_rec'].isnull().sum())"
   ]
  },
  {
   "cell_type": "code",
   "execution_count": 165,
   "id": "8f878929",
   "metadata": {},
   "outputs": [],
   "source": [
    "# X_woe['pub_rec'] = pd.cut(data['pub_rec'], 4)\n",
    "# df_temp = calculate_woe(X_woe, 'pub_rec', data['loan_status'])\n",
    "# plot_woe(df_temp)\n",
    "# df_temp"
   ]
  },
  {
   "cell_type": "markdown",
   "id": "480a8a77",
   "metadata": {},
   "source": [
    "### revol_bal"
   ]
  },
  {
   "cell_type": "code",
   "execution_count": 166,
   "id": "950f8706",
   "metadata": {},
   "outputs": [
    {
     "name": "stdout",
     "output_type": "stream",
     "text": [
      "0         2269\n",
      "6052        40\n",
      "8696        39\n",
      "5896        39\n",
      "4532        39\n",
      "          ... \n",
      "51021        1\n",
      "38032        1\n",
      "45601        1\n",
      "40823        1\n",
      "119663       1\n",
      "Name: revol_bal, Length: 58142, dtype: int64\n",
      "0\n"
     ]
    }
   ],
   "source": [
    "print(data['revol_bal'].value_counts())\n",
    "print(data['revol_bal'].isnull().sum())"
   ]
  },
  {
   "cell_type": "code",
   "execution_count": 167,
   "id": "c721f4e6",
   "metadata": {},
   "outputs": [
    {
     "data": {
      "text/plain": [
       "count    4.662850e+05\n",
       "mean     1.623020e+04\n",
       "std      2.067625e+04\n",
       "min      0.000000e+00\n",
       "25%      6.413000e+03\n",
       "50%      1.176400e+04\n",
       "75%      2.033300e+04\n",
       "max      2.568995e+06\n",
       "Name: revol_bal, dtype: float64"
      ]
     },
     "execution_count": 167,
     "metadata": {},
     "output_type": "execute_result"
    }
   ],
   "source": [
    "data['revol_bal'].describe()"
   ]
  },
  {
   "cell_type": "code",
   "execution_count": 168,
   "id": "76cc5d48",
   "metadata": {},
   "outputs": [
    {
     "data": {
      "text/html": [
       "<div>\n",
       "<style scoped>\n",
       "    .dataframe tbody tr th:only-of-type {\n",
       "        vertical-align: middle;\n",
       "    }\n",
       "\n",
       "    .dataframe tbody tr th {\n",
       "        vertical-align: top;\n",
       "    }\n",
       "\n",
       "    .dataframe thead th {\n",
       "        text-align: right;\n",
       "    }\n",
       "</style>\n",
       "<table border=\"1\" class=\"dataframe\">\n",
       "  <thead>\n",
       "    <tr style=\"text-align: right;\">\n",
       "      <th></th>\n",
       "      <th>revol_bal</th>\n",
       "      <th>support</th>\n",
       "      <th>pos%</th>\n",
       "      <th>WoE</th>\n",
       "      <th>IV</th>\n",
       "    </tr>\n",
       "  </thead>\n",
       "  <tbody>\n",
       "    <tr>\n",
       "      <th>0</th>\n",
       "      <td>(1712663.333, 2568995.0]</td>\n",
       "      <td>4</td>\n",
       "      <td>0.750000</td>\n",
       "      <td>-0.999232</td>\n",
       "      <td>0.000016</td>\n",
       "    </tr>\n",
       "    <tr>\n",
       "      <th>1</th>\n",
       "      <td>(856331.667, 1712663.333]</td>\n",
       "      <td>7</td>\n",
       "      <td>0.857143</td>\n",
       "      <td>-0.306085</td>\n",
       "      <td>0.000016</td>\n",
       "    </tr>\n",
       "    <tr>\n",
       "      <th>2</th>\n",
       "      <td>(-2568.995, 856331.667]</td>\n",
       "      <td>466274</td>\n",
       "      <td>0.890695</td>\n",
       "      <td>0.000018</td>\n",
       "      <td>0.000016</td>\n",
       "    </tr>\n",
       "  </tbody>\n",
       "</table>\n",
       "</div>"
      ],
      "text/plain": [
       "                   revol_bal  support      pos%       WoE        IV\n",
       "0   (1712663.333, 2568995.0]        4  0.750000 -0.999232  0.000016\n",
       "1  (856331.667, 1712663.333]        7  0.857143 -0.306085  0.000016\n",
       "2    (-2568.995, 856331.667]   466274  0.890695  0.000018  0.000016"
      ]
     },
     "execution_count": 168,
     "metadata": {},
     "output_type": "execute_result"
    },
    {
     "data": {
      "image/png": "[encoded data removed]",
      "text/plain": [
       "<Figure size 720x360 with 1 Axes>"
      ]
     },
     "metadata": {
      "needs_background": "light"
     },
     "output_type": "display_data"
    }
   ],
   "source": [
    "X_woe['revol_bal'] = pd.cut(data['revol_bal'], 3)\n",
    "df_temp = calculate_woe(X_woe, 'revol_bal', data['loan_status'])\n",
    "plot_woe(df_temp)\n",
    "df_temp"
   ]
  },
  {
   "cell_type": "markdown",
   "id": "ad29b33e",
   "metadata": {},
   "source": [
    "### revol_util"
   ]
  },
  {
   "cell_type": "code",
   "execution_count": 169,
   "id": "df8063c1",
   "metadata": {},
   "outputs": [
    {
     "name": "stdout",
     "output_type": "stream",
     "text": [
      "0.00      2284\n",
      "58.00      864\n",
      "53.00      850\n",
      "59.00      845\n",
      "61.00      832\n",
      "          ... \n",
      "8.49         1\n",
      "88.48        1\n",
      "7.43         1\n",
      "11.63        1\n",
      "141.80       1\n",
      "Name: revol_util, Length: 1269, dtype: int64\n",
      "340\n"
     ]
    }
   ],
   "source": [
    "print(data['revol_util'].value_counts())\n",
    "print(data['revol_util'].isnull().sum())"
   ]
  },
  {
   "cell_type": "code",
   "execution_count": 170,
   "id": "665e4066",
   "metadata": {},
   "outputs": [
    {
     "data": {
      "text/html": [
       "<div>\n",
       "<style scoped>\n",
       "    .dataframe tbody tr th:only-of-type {\n",
       "        vertical-align: middle;\n",
       "    }\n",
       "\n",
       "    .dataframe tbody tr th {\n",
       "        vertical-align: top;\n",
       "    }\n",
       "\n",
       "    .dataframe thead th {\n",
       "        text-align: right;\n",
       "    }\n",
       "</style>\n",
       "<table border=\"1\" class=\"dataframe\">\n",
       "  <thead>\n",
       "    <tr style=\"text-align: right;\">\n",
       "      <th></th>\n",
       "      <th>revol_util</th>\n",
       "      <th>support</th>\n",
       "      <th>pos%</th>\n",
       "      <th>WoE</th>\n",
       "      <th>IV</th>\n",
       "    </tr>\n",
       "  </thead>\n",
       "  <tbody>\n",
       "    <tr>\n",
       "      <th>0</th>\n",
       "      <td>(74.7, 892.3]</td>\n",
       "      <td>116339</td>\n",
       "      <td>0.869270</td>\n",
       "      <td>-0.203784</td>\n",
       "      <td>0.025713</td>\n",
       "    </tr>\n",
       "    <tr>\n",
       "      <th>1</th>\n",
       "      <td>(57.6, 74.7]</td>\n",
       "      <td>116094</td>\n",
       "      <td>0.885136</td>\n",
       "      <td>-0.056309</td>\n",
       "      <td>0.025713</td>\n",
       "    </tr>\n",
       "    <tr>\n",
       "      <th>2</th>\n",
       "      <td>(39.2, 57.6]</td>\n",
       "      <td>116915</td>\n",
       "      <td>0.896831</td>\n",
       "      <td>0.064196</td>\n",
       "      <td>0.025713</td>\n",
       "    </tr>\n",
       "    <tr>\n",
       "      <th>3</th>\n",
       "      <td>(-0.001, 39.2]</td>\n",
       "      <td>116597</td>\n",
       "      <td>0.911627</td>\n",
       "      <td>0.235364</td>\n",
       "      <td>0.025713</td>\n",
       "    </tr>\n",
       "  </tbody>\n",
       "</table>\n",
       "</div>"
      ],
      "text/plain": [
       "       revol_util  support      pos%       WoE        IV\n",
       "0   (74.7, 892.3]   116339  0.869270 -0.203784  0.025713\n",
       "1    (57.6, 74.7]   116094  0.885136 -0.056309  0.025713\n",
       "2    (39.2, 57.6]   116915  0.896831  0.064196  0.025713\n",
       "3  (-0.001, 39.2]   116597  0.911627  0.235364  0.025713"
      ]
     },
     "execution_count": 170,
     "metadata": {},
     "output_type": "execute_result"
    },
    {
     "data": {
      "image/png": "[encoded data removed]",
      "text/plain": [
       "<Figure size 720x360 with 1 Axes>"
      ]
     },
     "metadata": {
      "needs_background": "light"
     },
     "output_type": "display_data"
    }
   ],
   "source": [
    "X_woe['revol_util'] = pd.qcut(data['revol_util'], 4)\n",
    "df_temp = calculate_woe(X_woe, 'revol_util', data['loan_status'])\n",
    "plot_woe(df_temp)\n",
    "df_temp"
   ]
  },
  {
   "cell_type": "markdown",
   "id": "a4ba3e41",
   "metadata": {},
   "source": [
    "### total_acc"
   ]
  },
  {
   "cell_type": "code",
   "execution_count": 171,
   "id": "e9fba5f0",
   "metadata": {},
   "outputs": [
    {
     "name": "stdout",
     "output_type": "stream",
     "text": [
      "21.0     17087\n",
      "20.0     17073\n",
      "22.0     17028\n",
      "23.0     16719\n",
      "19.0     16709\n",
      "         ...  \n",
      "106.0        1\n",
      "156.0        1\n",
      "101.0        1\n",
      "96.0         1\n",
      "118.0        1\n",
      "Name: total_acc, Length: 112, dtype: int64\n",
      "29\n"
     ]
    }
   ],
   "source": [
    "print(data['total_acc'].value_counts())\n",
    "print(data['total_acc'].isnull().sum())"
   ]
  },
  {
   "cell_type": "code",
   "execution_count": 172,
   "id": "325ed478",
   "metadata": {},
   "outputs": [
    {
     "data": {
      "text/html": [
       "<div>\n",
       "<style scoped>\n",
       "    .dataframe tbody tr th:only-of-type {\n",
       "        vertical-align: middle;\n",
       "    }\n",
       "\n",
       "    .dataframe tbody tr th {\n",
       "        vertical-align: top;\n",
       "    }\n",
       "\n",
       "    .dataframe thead th {\n",
       "        text-align: right;\n",
       "    }\n",
       "</style>\n",
       "<table border=\"1\" class=\"dataframe\">\n",
       "  <thead>\n",
       "    <tr style=\"text-align: right;\">\n",
       "      <th></th>\n",
       "      <th>total_acc</th>\n",
       "      <th>support</th>\n",
       "      <th>pos%</th>\n",
       "      <th>WoE</th>\n",
       "      <th>IV</th>\n",
       "    </tr>\n",
       "  </thead>\n",
       "  <tbody>\n",
       "    <tr>\n",
       "      <th>0</th>\n",
       "      <td>(0.999, 17.0]</td>\n",
       "      <td>132281</td>\n",
       "      <td>0.879930</td>\n",
       "      <td>-0.106074</td>\n",
       "      <td>0.005802</td>\n",
       "    </tr>\n",
       "    <tr>\n",
       "      <th>1</th>\n",
       "      <td>(17.0, 23.0]</td>\n",
       "      <td>101106</td>\n",
       "      <td>0.889789</td>\n",
       "      <td>-0.009253</td>\n",
       "      <td>0.005802</td>\n",
       "    </tr>\n",
       "    <tr>\n",
       "      <th>2</th>\n",
       "      <td>(23.0, 32.0]</td>\n",
       "      <td>123799</td>\n",
       "      <td>0.895605</td>\n",
       "      <td>0.051477</td>\n",
       "      <td>0.005802</td>\n",
       "    </tr>\n",
       "    <tr>\n",
       "      <th>3</th>\n",
       "      <td>(32.0, 156.0]</td>\n",
       "      <td>109070</td>\n",
       "      <td>0.899010</td>\n",
       "      <td>0.088430</td>\n",
       "      <td>0.005802</td>\n",
       "    </tr>\n",
       "  </tbody>\n",
       "</table>\n",
       "</div>"
      ],
      "text/plain": [
       "       total_acc  support      pos%       WoE        IV\n",
       "0  (0.999, 17.0]   132281  0.879930 -0.106074  0.005802\n",
       "1   (17.0, 23.0]   101106  0.889789 -0.009253  0.005802\n",
       "2   (23.0, 32.0]   123799  0.895605  0.051477  0.005802\n",
       "3  (32.0, 156.0]   109070  0.899010  0.088430  0.005802"
      ]
     },
     "execution_count": 172,
     "metadata": {},
     "output_type": "execute_result"
    },
    {
     "data": {
      "image/png": "[encoded data removed]",
      "text/plain": [
       "<Figure size 720x360 with 1 Axes>"
      ]
     },
     "metadata": {
      "needs_background": "light"
     },
     "output_type": "display_data"
    }
   ],
   "source": [
    "X_woe['total_acc'] = pd.qcut(data['total_acc'], 4)\n",
    "df_temp = calculate_woe(X_woe, 'total_acc', data['loan_status'])\n",
    "plot_woe(df_temp)\n",
    "df_temp\n",
    "# feature can be discarded as IV is Too Low "
   ]
  },
  {
   "cell_type": "markdown",
   "id": "6fa02599",
   "metadata": {},
   "source": [
    "### initial_list_status"
   ]
  },
  {
   "cell_type": "code",
   "execution_count": 173,
   "id": "eaf09532",
   "metadata": {},
   "outputs": [
    {
     "name": "stdout",
     "output_type": "stream",
     "text": [
      "f    303005\n",
      "w    163280\n",
      "Name: initial_list_status, dtype: int64\n",
      "0\n"
     ]
    }
   ],
   "source": [
    "print(data['initial_list_status'].value_counts())\n",
    "print(data['initial_list_status'].isnull().sum())"
   ]
  },
  {
   "cell_type": "code",
   "execution_count": 174,
   "id": "329f0d33",
   "metadata": {},
   "outputs": [
    {
     "data": {
      "text/html": [
       "<div>\n",
       "<style scoped>\n",
       "    .dataframe tbody tr th:only-of-type {\n",
       "        vertical-align: middle;\n",
       "    }\n",
       "\n",
       "    .dataframe tbody tr th {\n",
       "        vertical-align: top;\n",
       "    }\n",
       "\n",
       "    .dataframe thead th {\n",
       "        text-align: right;\n",
       "    }\n",
       "</style>\n",
       "<table border=\"1\" class=\"dataframe\">\n",
       "  <thead>\n",
       "    <tr style=\"text-align: right;\">\n",
       "      <th></th>\n",
       "      <th>initial_list_status</th>\n",
       "      <th>support</th>\n",
       "      <th>pos%</th>\n",
       "      <th>WoE</th>\n",
       "      <th>IV</th>\n",
       "    </tr>\n",
       "  </thead>\n",
       "  <tbody>\n",
       "    <tr>\n",
       "      <th>0</th>\n",
       "      <td>f</td>\n",
       "      <td>303005</td>\n",
       "      <td>0.879692</td>\n",
       "      <td>-0.108330</td>\n",
       "      <td>0.024801</td>\n",
       "    </tr>\n",
       "    <tr>\n",
       "      <th>1</th>\n",
       "      <td>w</td>\n",
       "      <td>163280</td>\n",
       "      <td>0.911110</td>\n",
       "      <td>0.229417</td>\n",
       "      <td>0.024801</td>\n",
       "    </tr>\n",
       "  </tbody>\n",
       "</table>\n",
       "</div>"
      ],
      "text/plain": [
       "  initial_list_status  support      pos%       WoE        IV\n",
       "0                   f   303005  0.879692 -0.108330  0.024801\n",
       "1                   w   163280  0.911110  0.229417  0.024801"
      ]
     },
     "execution_count": 174,
     "metadata": {},
     "output_type": "execute_result"
    },
    {
     "data": {
      "image/png": "[encoded data removed]",
      "text/plain": [
       "<Figure size 720x360 with 1 Axes>"
      ]
     },
     "metadata": {
      "needs_background": "light"
     },
     "output_type": "display_data"
    }
   ],
   "source": [
    "df_temp = calculate_woe(data, 'initial_list_status', data['loan_status'])\n",
    "plot_woe(df_temp)\n",
    "df_temp\n",
    "# Categorical data doesn't need binning"
   ]
  },
  {
   "cell_type": "markdown",
   "id": "14743e0f",
   "metadata": {},
   "source": [
    "### out_prncp"
   ]
  },
  {
   "cell_type": "code",
   "execution_count": 175,
   "id": "24c047af",
   "metadata": {},
   "outputs": [
    {
     "name": "stdout",
     "output_type": "stream",
     "text": [
      "0.00        229999\n",
      "5684.61         80\n",
      "6563.61         79\n",
      "5617.88         78\n",
      "6110.65         76\n",
      "             ...  \n",
      "788.62           1\n",
      "2656.39          1\n",
      "602.44           1\n",
      "18067.18         1\n",
      "3984.38          1\n",
      "Name: out_prncp, Length: 135665, dtype: int64\n",
      "0\n"
     ]
    }
   ],
   "source": [
    "print(data['out_prncp'].value_counts())\n",
    "print(data['out_prncp'].isnull().sum())"
   ]
  },
  {
   "cell_type": "code",
   "execution_count": 176,
   "id": "5cecb3e3",
   "metadata": {},
   "outputs": [
    {
     "data": {
      "text/html": [
       "<div>\n",
       "<style scoped>\n",
       "    .dataframe tbody tr th:only-of-type {\n",
       "        vertical-align: middle;\n",
       "    }\n",
       "\n",
       "    .dataframe tbody tr th {\n",
       "        vertical-align: top;\n",
       "    }\n",
       "\n",
       "    .dataframe thead th {\n",
       "        text-align: right;\n",
       "    }\n",
       "</style>\n",
       "<table border=\"1\" class=\"dataframe\">\n",
       "  <thead>\n",
       "    <tr style=\"text-align: right;\">\n",
       "      <th></th>\n",
       "      <th>out_prncp</th>\n",
       "      <th>support</th>\n",
       "      <th>pos%</th>\n",
       "      <th>WoE</th>\n",
       "      <th>IV</th>\n",
       "    </tr>\n",
       "  </thead>\n",
       "  <tbody>\n",
       "    <tr>\n",
       "      <th>0</th>\n",
       "      <td>(-0.001, 441.47]</td>\n",
       "      <td>233143</td>\n",
       "      <td>0.814268</td>\n",
       "      <td>-0.619856</td>\n",
       "      <td>0.747622</td>\n",
       "    </tr>\n",
       "    <tr>\n",
       "      <th>1</th>\n",
       "      <td>(7341.65, 32160.38]</td>\n",
       "      <td>116568</td>\n",
       "      <td>0.962005</td>\n",
       "      <td>1.133721</td>\n",
       "      <td>0.747622</td>\n",
       "    </tr>\n",
       "    <tr>\n",
       "      <th>2</th>\n",
       "      <td>(441.47, 7341.65]</td>\n",
       "      <td>116574</td>\n",
       "      <td>0.972232</td>\n",
       "      <td>1.457875</td>\n",
       "      <td>0.747622</td>\n",
       "    </tr>\n",
       "  </tbody>\n",
       "</table>\n",
       "</div>"
      ],
      "text/plain": [
       "             out_prncp  support      pos%       WoE        IV\n",
       "0     (-0.001, 441.47]   233143  0.814268 -0.619856  0.747622\n",
       "1  (7341.65, 32160.38]   116568  0.962005  1.133721  0.747622\n",
       "2    (441.47, 7341.65]   116574  0.972232  1.457875  0.747622"
      ]
     },
     "execution_count": 176,
     "metadata": {},
     "output_type": "execute_result"
    },
    {
     "data": {
      "image/png": "[encoded data removed]",
      "text/plain": [
       "<Figure size 720x360 with 1 Axes>"
      ]
     },
     "metadata": {
      "needs_background": "light"
     },
     "output_type": "display_data"
    }
   ],
   "source": [
    "X_woe['out_prncp'] = pd.qcut(data['out_prncp'], 4, duplicates='drop')\n",
    "df_temp = calculate_woe(X_woe, 'out_prncp', data['loan_status'])\n",
    "plot_woe(df_temp)\n",
    "df_temp"
   ]
  },
  {
   "cell_type": "markdown",
   "id": "d9f74fc5",
   "metadata": {},
   "source": [
    "### out_prncp_inv"
   ]
  },
  {
   "cell_type": "code",
   "execution_count": 177,
   "id": "7b2d7cfe",
   "metadata": {},
   "outputs": [
    {
     "name": "stdout",
     "output_type": "stream",
     "text": [
      "0.00        229999\n",
      "6563.61         78\n",
      "5684.61         77\n",
      "5617.88         76\n",
      "6110.65         75\n",
      "             ...  \n",
      "1273.13          1\n",
      "16869.63         1\n",
      "9541.53          1\n",
      "1273.53          1\n",
      "3974.41          1\n",
      "Name: out_prncp_inv, Length: 141189, dtype: int64\n",
      "0\n"
     ]
    }
   ],
   "source": [
    "print(data['out_prncp_inv'].value_counts())\n",
    "print(data['out_prncp_inv'].isnull().sum())"
   ]
  },
  {
   "cell_type": "code",
   "execution_count": 178,
   "id": "73755216",
   "metadata": {},
   "outputs": [
    {
     "data": {
      "text/html": [
       "<div>\n",
       "<style scoped>\n",
       "    .dataframe tbody tr th:only-of-type {\n",
       "        vertical-align: middle;\n",
       "    }\n",
       "\n",
       "    .dataframe tbody tr th {\n",
       "        vertical-align: top;\n",
       "    }\n",
       "\n",
       "    .dataframe thead th {\n",
       "        text-align: right;\n",
       "    }\n",
       "</style>\n",
       "<table border=\"1\" class=\"dataframe\">\n",
       "  <thead>\n",
       "    <tr style=\"text-align: right;\">\n",
       "      <th></th>\n",
       "      <th>out_prncp_inv</th>\n",
       "      <th>support</th>\n",
       "      <th>pos%</th>\n",
       "      <th>WoE</th>\n",
       "      <th>IV</th>\n",
       "    </tr>\n",
       "  </thead>\n",
       "  <tbody>\n",
       "    <tr>\n",
       "      <th>0</th>\n",
       "      <td>(-0.001, 441.38]</td>\n",
       "      <td>233144</td>\n",
       "      <td>0.814269</td>\n",
       "      <td>-0.619851</td>\n",
       "      <td>0.747598</td>\n",
       "    </tr>\n",
       "    <tr>\n",
       "      <th>1</th>\n",
       "      <td>(7338.39, 32160.38]</td>\n",
       "      <td>116554</td>\n",
       "      <td>0.962009</td>\n",
       "      <td>1.133831</td>\n",
       "      <td>0.747598</td>\n",
       "    </tr>\n",
       "    <tr>\n",
       "      <th>2</th>\n",
       "      <td>(441.38, 7338.39]</td>\n",
       "      <td>116587</td>\n",
       "      <td>0.972227</td>\n",
       "      <td>1.457672</td>\n",
       "      <td>0.747598</td>\n",
       "    </tr>\n",
       "  </tbody>\n",
       "</table>\n",
       "</div>"
      ],
      "text/plain": [
       "         out_prncp_inv  support      pos%       WoE        IV\n",
       "0     (-0.001, 441.38]   233144  0.814269 -0.619851  0.747598\n",
       "1  (7338.39, 32160.38]   116554  0.962009  1.133831  0.747598\n",
       "2    (441.38, 7338.39]   116587  0.972227  1.457672  0.747598"
      ]
     },
     "execution_count": 178,
     "metadata": {},
     "output_type": "execute_result"
    },
    {
     "data": {
      "image/png": "[encoded data removed]",
      "text/plain": [
       "<Figure size 720x360 with 1 Axes>"
      ]
     },
     "metadata": {
      "needs_background": "light"
     },
     "output_type": "display_data"
    }
   ],
   "source": [
    "X_woe['out_prncp_inv'] = pd.qcut(data['out_prncp_inv'], 4, duplicates='drop')\n",
    "df_temp = calculate_woe(X_woe, 'out_prncp_inv', data['loan_status'])\n",
    "plot_woe(df_temp)\n",
    "df_temp"
   ]
  },
  {
   "cell_type": "markdown",
   "id": "06a9be1c",
   "metadata": {},
   "source": [
    "### total_pymnt"
   ]
  },
  {
   "cell_type": "code",
   "execution_count": 179,
   "id": "27af581f",
   "metadata": {},
   "outputs": [
    {
     "name": "stdout",
     "output_type": "stream",
     "text": [
      "6743.730000     117\n",
      "0.000000         87\n",
      "5564.780000      78\n",
      "5497.460000      75\n",
      "5419.430000      75\n",
      "               ... \n",
      "6307.496889       1\n",
      "4271.330000       1\n",
      "10706.700000      1\n",
      "21385.730000      1\n",
      "8821.620000       1\n",
      "Name: total_pymnt, Length: 351609, dtype: int64\n",
      "0\n"
     ]
    }
   ],
   "source": [
    "print(data['total_pymnt'].value_counts())\n",
    "print(data['total_pymnt'].isnull().sum())"
   ]
  },
  {
   "cell_type": "code",
   "execution_count": 180,
   "id": "bb885244",
   "metadata": {},
   "outputs": [
    {
     "data": {
      "text/html": [
       "<div>\n",
       "<style scoped>\n",
       "    .dataframe tbody tr th:only-of-type {\n",
       "        vertical-align: middle;\n",
       "    }\n",
       "\n",
       "    .dataframe tbody tr th {\n",
       "        vertical-align: top;\n",
       "    }\n",
       "\n",
       "    .dataframe thead th {\n",
       "        text-align: right;\n",
       "    }\n",
       "</style>\n",
       "<table border=\"1\" class=\"dataframe\">\n",
       "  <thead>\n",
       "    <tr style=\"text-align: right;\">\n",
       "      <th></th>\n",
       "      <th>total_pymnt</th>\n",
       "      <th>support</th>\n",
       "      <th>pos%</th>\n",
       "      <th>WoE</th>\n",
       "      <th>IV</th>\n",
       "    </tr>\n",
       "  </thead>\n",
       "  <tbody>\n",
       "    <tr>\n",
       "      <th>0</th>\n",
       "      <td>(-0.001, 5552.125]</td>\n",
       "      <td>116572</td>\n",
       "      <td>0.776876</td>\n",
       "      <td>-0.850290</td>\n",
       "      <td>0.517973</td>\n",
       "    </tr>\n",
       "    <tr>\n",
       "      <th>1</th>\n",
       "      <td>(5552.125, 9419.251]</td>\n",
       "      <td>116571</td>\n",
       "      <td>0.892623</td>\n",
       "      <td>0.019978</td>\n",
       "      <td>0.517973</td>\n",
       "    </tr>\n",
       "    <tr>\n",
       "      <th>2</th>\n",
       "      <td>(9419.251, 15308.158]</td>\n",
       "      <td>116571</td>\n",
       "      <td>0.929614</td>\n",
       "      <td>0.482927</td>\n",
       "      <td>0.517973</td>\n",
       "    </tr>\n",
       "    <tr>\n",
       "      <th>3</th>\n",
       "      <td>(15308.158, 57777.58]</td>\n",
       "      <td>116571</td>\n",
       "      <td>0.963662</td>\n",
       "      <td>1.180022</td>\n",
       "      <td>0.517973</td>\n",
       "    </tr>\n",
       "  </tbody>\n",
       "</table>\n",
       "</div>"
      ],
      "text/plain": [
       "             total_pymnt  support      pos%       WoE        IV\n",
       "0     (-0.001, 5552.125]   116572  0.776876 -0.850290  0.517973\n",
       "1   (5552.125, 9419.251]   116571  0.892623  0.019978  0.517973\n",
       "2  (9419.251, 15308.158]   116571  0.929614  0.482927  0.517973\n",
       "3  (15308.158, 57777.58]   116571  0.963662  1.180022  0.517973"
      ]
     },
     "execution_count": 180,
     "metadata": {},
     "output_type": "execute_result"
    },
    {
     "data": {
      "image/png": "[encoded data removed]",
      "text/plain": [
       "<Figure size 720x360 with 1 Axes>"
      ]
     },
     "metadata": {
      "needs_background": "light"
     },
     "output_type": "display_data"
    }
   ],
   "source": [
    "X_woe['total_pymnt'] = pd.qcut(data['total_pymnt'], 4, duplicates='drop')\n",
    "df_temp = calculate_woe(X_woe, 'total_pymnt', data['loan_status'])\n",
    "plot_woe(df_temp)\n",
    "df_temp"
   ]
  },
  {
   "cell_type": "code",
   "execution_count": 181,
   "id": "71eac43f-b228-4874-83d2-cb51bed6f6af",
   "metadata": {},
   "outputs": [
    {
     "name": "stdout",
     "output_type": "stream",
     "text": [
      "10000.00    13267\n",
      "12000.00    10469\n",
      "15000.00     8552\n",
      "20000.00     7673\n",
      "8000.00      6522\n",
      "            ...  \n",
      "16731.08        1\n",
      "3987.47         1\n",
      "6927.01         1\n",
      "11253.08        1\n",
      "6015.62         1\n",
      "Name: total_rec_prncp, Length: 172713, dtype: int64\n",
      "0\n"
     ]
    }
   ],
   "source": [
    "print(data['total_rec_prncp'].value_counts())\n",
    "print(data['total_rec_prncp'].isnull().sum())"
   ]
  },
  {
   "cell_type": "code",
   "execution_count": 182,
   "id": "a04e18e7",
   "metadata": {},
   "outputs": [
    {
     "data": {
      "text/html": [
       "<div>\n",
       "<style scoped>\n",
       "    .dataframe tbody tr th:only-of-type {\n",
       "        vertical-align: middle;\n",
       "    }\n",
       "\n",
       "    .dataframe tbody tr th {\n",
       "        vertical-align: top;\n",
       "    }\n",
       "\n",
       "    .dataframe thead th {\n",
       "        text-align: right;\n",
       "    }\n",
       "</style>\n",
       "<table border=\"1\" class=\"dataframe\">\n",
       "  <thead>\n",
       "    <tr style=\"text-align: right;\">\n",
       "      <th></th>\n",
       "      <th>total_rec_prncp</th>\n",
       "      <th>support</th>\n",
       "      <th>pos%</th>\n",
       "      <th>WoE</th>\n",
       "      <th>IV</th>\n",
       "    </tr>\n",
       "  </thead>\n",
       "  <tbody>\n",
       "    <tr>\n",
       "      <th>0</th>\n",
       "      <td>(-0.001, 3708.56]</td>\n",
       "      <td>116572</td>\n",
       "      <td>0.724582</td>\n",
       "      <td>-1.130538</td>\n",
       "      <td>1.097607</td>\n",
       "    </tr>\n",
       "    <tr>\n",
       "      <th>1</th>\n",
       "      <td>(3708.56, 6817.76]</td>\n",
       "      <td>116572</td>\n",
       "      <td>0.902404</td>\n",
       "      <td>0.126378</td>\n",
       "      <td>1.097607</td>\n",
       "    </tr>\n",
       "    <tr>\n",
       "      <th>2</th>\n",
       "      <td>(6817.76, 12000.0]</td>\n",
       "      <td>123921</td>\n",
       "      <td>0.953809</td>\n",
       "      <td>0.929841</td>\n",
       "      <td>1.097607</td>\n",
       "    </tr>\n",
       "    <tr>\n",
       "      <th>3</th>\n",
       "      <td>(12000.0, 35000.03]</td>\n",
       "      <td>109220</td>\n",
       "      <td>0.983877</td>\n",
       "      <td>2.013383</td>\n",
       "      <td>1.097607</td>\n",
       "    </tr>\n",
       "  </tbody>\n",
       "</table>\n",
       "</div>"
      ],
      "text/plain": [
       "       total_rec_prncp  support      pos%       WoE        IV\n",
       "0    (-0.001, 3708.56]   116572  0.724582 -1.130538  1.097607\n",
       "1   (3708.56, 6817.76]   116572  0.902404  0.126378  1.097607\n",
       "2   (6817.76, 12000.0]   123921  0.953809  0.929841  1.097607\n",
       "3  (12000.0, 35000.03]   109220  0.983877  2.013383  1.097607"
      ]
     },
     "execution_count": 182,
     "metadata": {},
     "output_type": "execute_result"
    },
    {
     "data": {
      "image/png": "[encoded data removed]",
      "text/plain": [
       "<Figure size 720x360 with 1 Axes>"
      ]
     },
     "metadata": {
      "needs_background": "light"
     },
     "output_type": "display_data"
    }
   ],
   "source": [
    "X_woe['total_rec_prncp'] = pd.qcut(data['total_rec_prncp'], 4)\n",
    "df_temp = calculate_woe(X_woe, 'total_rec_prncp', data['loan_status'])\n",
    "plot_woe(df_temp)\n",
    "df_temp"
   ]
  },
  {
   "cell_type": "code",
   "execution_count": 183,
   "id": "0785700f-35d8-4bbf-9a73-fcd355db090b",
   "metadata": {},
   "outputs": [
    {
     "name": "stdout",
     "output_type": "stream",
     "text": [
      "0.00       379\n",
      "1249.39     78\n",
      "1329.13     75\n",
      "1037.31     74\n",
      "1350.99     72\n",
      "          ... \n",
      "5322.44      1\n",
      "7909.43      1\n",
      "9697.29      1\n",
      "3723.50      1\n",
      "6072.29      1\n",
      "Name: total_rec_int, Length: 270249, dtype: int64\n",
      "0\n"
     ]
    }
   ],
   "source": [
    "print(data['total_rec_int'].value_counts())\n",
    "print(data['total_rec_int'].isnull().sum())"
   ]
  },
  {
   "cell_type": "code",
   "execution_count": 208,
   "id": "ea429f7c",
   "metadata": {},
   "outputs": [
    {
     "data": {
      "text/html": [
       "<div>\n",
       "<style scoped>\n",
       "    .dataframe tbody tr th:only-of-type {\n",
       "        vertical-align: middle;\n",
       "    }\n",
       "\n",
       "    .dataframe tbody tr th {\n",
       "        vertical-align: top;\n",
       "    }\n",
       "\n",
       "    .dataframe thead th {\n",
       "        text-align: right;\n",
       "    }\n",
       "</style>\n",
       "<table border=\"1\" class=\"dataframe\">\n",
       "  <thead>\n",
       "    <tr style=\"text-align: right;\">\n",
       "      <th></th>\n",
       "      <th>total_rec_int</th>\n",
       "      <th>support</th>\n",
       "      <th>pos%</th>\n",
       "      <th>WoE</th>\n",
       "      <th>IV</th>\n",
       "    </tr>\n",
       "  </thead>\n",
       "  <tbody>\n",
       "    <tr>\n",
       "      <th>0</th>\n",
       "      <td>(-0.001, 957.28]</td>\n",
       "      <td>116572</td>\n",
       "      <td>0.868896</td>\n",
       "      <td>-0.206607</td>\n",
       "      <td>0.016423</td>\n",
       "    </tr>\n",
       "    <tr>\n",
       "      <th>1</th>\n",
       "      <td>(957.28, 1818.88]</td>\n",
       "      <td>116577</td>\n",
       "      <td>0.894370</td>\n",
       "      <td>0.038336</td>\n",
       "      <td>0.016423</td>\n",
       "    </tr>\n",
       "    <tr>\n",
       "      <th>2</th>\n",
       "      <td>(3304.53, 24205.62]</td>\n",
       "      <td>116571</td>\n",
       "      <td>0.899744</td>\n",
       "      <td>0.096534</td>\n",
       "      <td>0.016423</td>\n",
       "    </tr>\n",
       "    <tr>\n",
       "      <th>3</th>\n",
       "      <td>(1818.88, 3304.53]</td>\n",
       "      <td>116565</td>\n",
       "      <td>0.899764</td>\n",
       "      <td>0.096762</td>\n",
       "      <td>0.016423</td>\n",
       "    </tr>\n",
       "  </tbody>\n",
       "</table>\n",
       "</div>"
      ],
      "text/plain": [
       "         total_rec_int  support      pos%       WoE        IV\n",
       "0     (-0.001, 957.28]   116572  0.868896 -0.206607  0.016423\n",
       "1    (957.28, 1818.88]   116577  0.894370  0.038336  0.016423\n",
       "2  (3304.53, 24205.62]   116571  0.899744  0.096534  0.016423\n",
       "3   (1818.88, 3304.53]   116565  0.899764  0.096762  0.016423"
      ]
     },
     "execution_count": 208,
     "metadata": {},
     "output_type": "execute_result"
    },
    {
     "data": {
      "image/png": "[encoded data removed]",
      "text/plain": [
       "<Figure size 720x360 with 1 Axes>"
      ]
     },
     "metadata": {
      "needs_background": "light"
     },
     "output_type": "display_data"
    }
   ],
   "source": [
    "X_woe['total_rec_int'] = pd.qcut(data['total_rec_int'], 4)\n",
    "df_temp = calculate_woe(X_woe, 'total_rec_int', data['loan_status'])\n",
    "plot_woe(df_temp)\n",
    "df_temp\n",
    "# feature can be discarded as IV is Too Low "
   ]
  },
  {
   "cell_type": "code",
   "execution_count": 185,
   "id": "fee8eb4c-2c1e-413c-8716-b4cdb448f294",
   "metadata": {
    "scrolled": true
   },
   "outputs": [
    {
     "name": "stdout",
     "output_type": "stream",
     "text": [
      "0.000000     455607\n",
      "15.000000      2223\n",
      "30.000000       285\n",
      "45.000000        50\n",
      "16.840000        15\n",
      "              ...  \n",
      "15.026894         1\n",
      "23.190501         1\n",
      "14.959976         1\n",
      "37.751380         1\n",
      "41.150000         1\n",
      "Name: total_rec_late_fee, Length: 5808, dtype: int64\n",
      "0\n"
     ]
    }
   ],
   "source": [
    "print(data['total_rec_late_fee'].value_counts())\n",
    "print(data['total_rec_late_fee'].isnull().sum())"
   ]
  },
  {
   "cell_type": "code",
   "execution_count": 209,
   "id": "12f42b2c",
   "metadata": {},
   "outputs": [
    {
     "data": {
      "text/html": [
       "<div>\n",
       "<style scoped>\n",
       "    .dataframe tbody tr th:only-of-type {\n",
       "        vertical-align: middle;\n",
       "    }\n",
       "\n",
       "    .dataframe tbody tr th {\n",
       "        vertical-align: top;\n",
       "    }\n",
       "\n",
       "    .dataframe thead th {\n",
       "        text-align: right;\n",
       "    }\n",
       "</style>\n",
       "<table border=\"1\" class=\"dataframe\">\n",
       "  <thead>\n",
       "    <tr style=\"text-align: right;\">\n",
       "      <th></th>\n",
       "      <th>total_rec_late_fee</th>\n",
       "      <th>support</th>\n",
       "      <th>pos%</th>\n",
       "      <th>WoE</th>\n",
       "      <th>IV</th>\n",
       "    </tr>\n",
       "  </thead>\n",
       "  <tbody>\n",
       "    <tr>\n",
       "      <th>0</th>\n",
       "      <td>(239.12, 358.68]</td>\n",
       "      <td>6</td>\n",
       "      <td>0.333333</td>\n",
       "      <td>-2.790991</td>\n",
       "      <td>0.00064</td>\n",
       "    </tr>\n",
       "    <tr>\n",
       "      <th>1</th>\n",
       "      <td>(119.56, 239.12]</td>\n",
       "      <td>84</td>\n",
       "      <td>0.464286</td>\n",
       "      <td>-2.240945</td>\n",
       "      <td>0.00064</td>\n",
       "    </tr>\n",
       "    <tr>\n",
       "      <th>2</th>\n",
       "      <td>(-0.359, 119.56]</td>\n",
       "      <td>466195</td>\n",
       "      <td>0.890777</td>\n",
       "      <td>0.000863</td>\n",
       "      <td>0.00064</td>\n",
       "    </tr>\n",
       "  </tbody>\n",
       "</table>\n",
       "</div>"
      ],
      "text/plain": [
       "  total_rec_late_fee  support      pos%       WoE       IV\n",
       "0   (239.12, 358.68]        6  0.333333 -2.790991  0.00064\n",
       "1   (119.56, 239.12]       84  0.464286 -2.240945  0.00064\n",
       "2   (-0.359, 119.56]   466195  0.890777  0.000863  0.00064"
      ]
     },
     "execution_count": 209,
     "metadata": {},
     "output_type": "execute_result"
    },
    {
     "data": {
      "image/png": "[encoded data removed]",
      "text/plain": [
       "<Figure size 720x360 with 1 Axes>"
      ]
     },
     "metadata": {
      "needs_background": "light"
     },
     "output_type": "display_data"
    }
   ],
   "source": [
    "X_woe['total_rec_late_fee'] = pd.cut(data['total_rec_late_fee'], 3, duplicates='drop')\n",
    "df_temp = calculate_woe(X_woe, 'total_rec_late_fee', data['loan_status'])\n",
    "plot_woe(df_temp)\n",
    "df_temp\n",
    "# feature can be discarded as IV is Too Low "
   ]
  },
  {
   "cell_type": "code",
   "execution_count": 187,
   "id": "c6187098-e1f7-411c-b5a8-93ff6bece9b9",
   "metadata": {},
   "outputs": [
    {
     "name": "stdout",
     "output_type": "stream",
     "text": [
      "0.00       441914\n",
      "14.28           9\n",
      "11.70           9\n",
      "200.00          9\n",
      "10.00           9\n",
      "            ...  \n",
      "423.23          1\n",
      "2311.77         1\n",
      "850.18          1\n",
      "5052.98         1\n",
      "1159.40         1\n",
      "Name: recoveries, Length: 22773, dtype: int64\n",
      "0\n"
     ]
    }
   ],
   "source": [
    "print(data['recoveries'].value_counts())\n",
    "print(data['recoveries'].isnull().sum())"
   ]
  },
  {
   "cell_type": "code",
   "execution_count": 188,
   "id": "973dc5ee-63dd-4611-aeff-9529fe6fb0c6",
   "metadata": {},
   "outputs": [
    {
     "name": "stdout",
     "output_type": "stream",
     "text": [
      "0.0000      443079\n",
      "2.0000          18\n",
      "1.8000          13\n",
      "1.8800          12\n",
      "1.2000          12\n",
      "             ...  \n",
      "330.4404         1\n",
      "149.1210         1\n",
      "2.9795           1\n",
      "8.8326           1\n",
      "11.5940          1\n",
      "Name: collection_recovery_fee, Length: 20275, dtype: int64\n",
      "0\n"
     ]
    }
   ],
   "source": [
    "print(data['collection_recovery_fee'].value_counts())\n",
    "print(data['collection_recovery_fee'].isnull().sum())"
   ]
  },
  {
   "cell_type": "code",
   "execution_count": 189,
   "id": "06ec3ac3-a025-47f6-b8af-38023734c7f2",
   "metadata": {},
   "outputs": [
    {
     "name": "stdout",
     "output_type": "stream",
     "text": [
      "Jan-16    179620\n",
      "Dec-15     62000\n",
      "Jul-15     11703\n",
      "Oct-15     11248\n",
      "Sep-15     10204\n",
      "           ...  \n",
      "Jun-08        20\n",
      "Mar-08        18\n",
      "Jan-08        11\n",
      "Feb-08         8\n",
      "Dec-07         2\n",
      "Name: last_pymnt_d, Length: 98, dtype: int64\n",
      "376\n"
     ]
    }
   ],
   "source": [
    "print(data['last_pymnt_d'].value_counts())\n",
    "print(data['last_pymnt_d'].isnull().sum())"
   ]
  },
  {
   "cell_type": "code",
   "execution_count": 190,
   "id": "fb3a1e9a-9401-4f3b-ad34-9b80aef0ab62",
   "metadata": {},
   "outputs": [
    {
     "name": "stdout",
     "output_type": "stream",
     "text": [
      "327.34      860\n",
      "336.90      828\n",
      "332.10      625\n",
      "491.01      579\n",
      "392.81      567\n",
      "           ... \n",
      "2535.08       1\n",
      "6432.03       1\n",
      "6705.61       1\n",
      "14086.04      1\n",
      "1500.68       1\n",
      "Name: last_pymnt_amnt, Length: 198194, dtype: int64\n",
      "0\n"
     ]
    }
   ],
   "source": [
    "print(data['last_pymnt_amnt'].value_counts())\n",
    "print(data['last_pymnt_amnt'].isnull().sum())"
   ]
  },
  {
   "cell_type": "code",
   "execution_count": 191,
   "id": "423b440e-d404-4006-ba22-f9ea3e29c2c7",
   "metadata": {},
   "outputs": [
    {
     "ename": "ValueError",
     "evalue": "Grouper for 'last_pymnt_amnt' not 1-dimensional",
     "output_type": "error",
     "traceback": [
      "\u001b[0;31m---------------------------------------------------------------------------\u001b[0m",
      "\u001b[0;31mValueError\u001b[0m                                Traceback (most recent call last)",
      "\u001b[0;32m/var/folders/wm/sl66rs353nj_llq6rmxdj1w80000gn/T/ipykernel_33980/2289333757.py\u001b[0m in \u001b[0;36m<module>\u001b[0;34m\u001b[0m\n\u001b[1;32m      1\u001b[0m \u001b[0mX_woe\u001b[0m\u001b[0;34m[\u001b[0m\u001b[0;34m'last_pymnt_amnt'\u001b[0m\u001b[0;34m]\u001b[0m \u001b[0;34m=\u001b[0m \u001b[0mpd\u001b[0m\u001b[0;34m.\u001b[0m\u001b[0mcut\u001b[0m\u001b[0;34m(\u001b[0m\u001b[0mdata\u001b[0m\u001b[0;34m[\u001b[0m\u001b[0;34m'last_pymnt_amnt'\u001b[0m\u001b[0;34m]\u001b[0m\u001b[0;34m,\u001b[0m \u001b[0;36m3\u001b[0m\u001b[0;34m)\u001b[0m\u001b[0;34m\u001b[0m\u001b[0;34m\u001b[0m\u001b[0m\n\u001b[0;32m----> 2\u001b[0;31m \u001b[0mdf_temp\u001b[0m \u001b[0;34m=\u001b[0m \u001b[0mcalculate_woe\u001b[0m\u001b[0;34m(\u001b[0m\u001b[0mX_woe\u001b[0m\u001b[0;34m,\u001b[0m \u001b[0;34m'last_pymnt_amnt'\u001b[0m\u001b[0;34m,\u001b[0m \u001b[0mdata\u001b[0m\u001b[0;34m[\u001b[0m\u001b[0;34m'last_pymnt_amnt'\u001b[0m\u001b[0;34m]\u001b[0m\u001b[0;34m)\u001b[0m\u001b[0;34m\u001b[0m\u001b[0;34m\u001b[0m\u001b[0m\n\u001b[0m\u001b[1;32m      3\u001b[0m \u001b[0mplot_woe\u001b[0m\u001b[0;34m(\u001b[0m\u001b[0mdf_temp\u001b[0m\u001b[0;34m)\u001b[0m\u001b[0;34m\u001b[0m\u001b[0;34m\u001b[0m\u001b[0m\n\u001b[1;32m      4\u001b[0m \u001b[0mdf_temp\u001b[0m\u001b[0;34m\u001b[0m\u001b[0;34m\u001b[0m\u001b[0m\n",
      "\u001b[0;32m/var/folders/wm/sl66rs353nj_llq6rmxdj1w80000gn/T/ipykernel_33980/4050978702.py\u001b[0m in \u001b[0;36mcalculate_woe\u001b[0;34m(df, feature, y)\u001b[0m\n\u001b[1;32m      5\u001b[0m \u001b[0;34m\u001b[0m\u001b[0m\n\u001b[1;32m      6\u001b[0m     \u001b[0;31m# calculate number of occurences of the given bin (support)\u001b[0m\u001b[0;34m\u001b[0m\u001b[0;34m\u001b[0m\u001b[0m\n\u001b[0;32m----> 7\u001b[0;31m     \u001b[0msupport\u001b[0m \u001b[0;34m=\u001b[0m \u001b[0mdf\u001b[0m\u001b[0;34m.\u001b[0m\u001b[0mgroupby\u001b[0m\u001b[0;34m(\u001b[0m\u001b[0mfeature\u001b[0m\u001b[0;34m,\u001b[0m \u001b[0mas_index\u001b[0m\u001b[0;34m=\u001b[0m\u001b[0;32mFalse\u001b[0m\u001b[0;34m)\u001b[0m\u001b[0;34m[\u001b[0m\u001b[0mtarget\u001b[0m\u001b[0;34m]\u001b[0m\u001b[0;34m.\u001b[0m\u001b[0mcount\u001b[0m\u001b[0;34m(\u001b[0m\u001b[0;34m)\u001b[0m\u001b[0;34m\u001b[0m\u001b[0;34m\u001b[0m\u001b[0m\n\u001b[0m\u001b[1;32m      8\u001b[0m     \u001b[0;31m# calculate the proportion of positive occurences\u001b[0m\u001b[0;34m\u001b[0m\u001b[0;34m\u001b[0m\u001b[0m\n\u001b[1;32m      9\u001b[0m     \u001b[0mn_pos\u001b[0m \u001b[0;34m=\u001b[0m \u001b[0mdf\u001b[0m\u001b[0;34m.\u001b[0m\u001b[0mgroupby\u001b[0m\u001b[0;34m(\u001b[0m\u001b[0mfeature\u001b[0m\u001b[0;34m,\u001b[0m \u001b[0mas_index\u001b[0m \u001b[0;34m=\u001b[0m \u001b[0;32mFalse\u001b[0m\u001b[0;34m)\u001b[0m\u001b[0;34m[\u001b[0m\u001b[0mtarget\u001b[0m\u001b[0;34m]\u001b[0m\u001b[0;34m.\u001b[0m\u001b[0mmean\u001b[0m\u001b[0;34m(\u001b[0m\u001b[0;34m)\u001b[0m\u001b[0;34m\u001b[0m\u001b[0;34m\u001b[0m\u001b[0m\n",
      "\u001b[0;32m~/opt/anaconda3/lib/python3.9/site-packages/pandas/core/frame.py\u001b[0m in \u001b[0;36mgroupby\u001b[0;34m(self, by, axis, level, as_index, sort, group_keys, squeeze, observed, dropna)\u001b[0m\n\u001b[1;32m   7629\u001b[0m         \u001b[0;31m# error: Argument \"squeeze\" to \"DataFrameGroupBy\" has incompatible type\u001b[0m\u001b[0;34m\u001b[0m\u001b[0;34m\u001b[0m\u001b[0m\n\u001b[1;32m   7630\u001b[0m         \u001b[0;31m# \"Union[bool, NoDefault]\"; expected \"bool\"\u001b[0m\u001b[0;34m\u001b[0m\u001b[0;34m\u001b[0m\u001b[0m\n\u001b[0;32m-> 7631\u001b[0;31m         return DataFrameGroupBy(\n\u001b[0m\u001b[1;32m   7632\u001b[0m             \u001b[0mobj\u001b[0m\u001b[0;34m=\u001b[0m\u001b[0mself\u001b[0m\u001b[0;34m,\u001b[0m\u001b[0;34m\u001b[0m\u001b[0;34m\u001b[0m\u001b[0m\n\u001b[1;32m   7633\u001b[0m             \u001b[0mkeys\u001b[0m\u001b[0;34m=\u001b[0m\u001b[0mby\u001b[0m\u001b[0;34m,\u001b[0m\u001b[0;34m\u001b[0m\u001b[0;34m\u001b[0m\u001b[0m\n",
      "\u001b[0;32m~/opt/anaconda3/lib/python3.9/site-packages/pandas/core/groupby/groupby.py\u001b[0m in \u001b[0;36m__init__\u001b[0;34m(self, obj, keys, axis, level, grouper, exclusions, selection, as_index, sort, group_keys, squeeze, observed, mutated, dropna)\u001b[0m\n\u001b[1;32m    887\u001b[0m             \u001b[0;32mfrom\u001b[0m \u001b[0mpandas\u001b[0m\u001b[0;34m.\u001b[0m\u001b[0mcore\u001b[0m\u001b[0;34m.\u001b[0m\u001b[0mgroupby\u001b[0m\u001b[0;34m.\u001b[0m\u001b[0mgrouper\u001b[0m \u001b[0;32mimport\u001b[0m \u001b[0mget_grouper\u001b[0m\u001b[0;34m\u001b[0m\u001b[0;34m\u001b[0m\u001b[0m\n\u001b[1;32m    888\u001b[0m \u001b[0;34m\u001b[0m\u001b[0m\n\u001b[0;32m--> 889\u001b[0;31m             grouper, exclusions, obj = get_grouper(\n\u001b[0m\u001b[1;32m    890\u001b[0m                 \u001b[0mobj\u001b[0m\u001b[0;34m,\u001b[0m\u001b[0;34m\u001b[0m\u001b[0;34m\u001b[0m\u001b[0m\n\u001b[1;32m    891\u001b[0m                 \u001b[0mkeys\u001b[0m\u001b[0;34m,\u001b[0m\u001b[0;34m\u001b[0m\u001b[0;34m\u001b[0m\u001b[0m\n",
      "\u001b[0;32m~/opt/anaconda3/lib/python3.9/site-packages/pandas/core/groupby/grouper.py\u001b[0m in \u001b[0;36mget_grouper\u001b[0;34m(obj, key, axis, level, sort, observed, mutated, validate, dropna)\u001b[0m\n\u001b[1;32m    855\u001b[0m                     \u001b[0;31m# non-unique columns; raise here to get the name in the\u001b[0m\u001b[0;34m\u001b[0m\u001b[0;34m\u001b[0m\u001b[0m\n\u001b[1;32m    856\u001b[0m                     \u001b[0;31m# exception message\u001b[0m\u001b[0;34m\u001b[0m\u001b[0;34m\u001b[0m\u001b[0m\n\u001b[0;32m--> 857\u001b[0;31m                     \u001b[0;32mraise\u001b[0m \u001b[0mValueError\u001b[0m\u001b[0;34m(\u001b[0m\u001b[0;34mf\"Grouper for '{name}' not 1-dimensional\"\u001b[0m\u001b[0;34m)\u001b[0m\u001b[0;34m\u001b[0m\u001b[0;34m\u001b[0m\u001b[0m\n\u001b[0m\u001b[1;32m    858\u001b[0m                 \u001b[0mexclusions\u001b[0m\u001b[0;34m.\u001b[0m\u001b[0madd\u001b[0m\u001b[0;34m(\u001b[0m\u001b[0mname\u001b[0m\u001b[0;34m)\u001b[0m\u001b[0;34m\u001b[0m\u001b[0;34m\u001b[0m\u001b[0m\n\u001b[1;32m    859\u001b[0m             \u001b[0;32melif\u001b[0m \u001b[0mobj\u001b[0m\u001b[0;34m.\u001b[0m\u001b[0m_is_level_reference\u001b[0m\u001b[0;34m(\u001b[0m\u001b[0mgpr\u001b[0m\u001b[0;34m,\u001b[0m \u001b[0maxis\u001b[0m\u001b[0;34m=\u001b[0m\u001b[0maxis\u001b[0m\u001b[0;34m)\u001b[0m\u001b[0;34m:\u001b[0m\u001b[0;34m\u001b[0m\u001b[0;34m\u001b[0m\u001b[0m\n",
      "\u001b[0;31mValueError\u001b[0m: Grouper for 'last_pymnt_amnt' not 1-dimensional"
     ]
    }
   ],
   "source": [
    "X_woe['last_pymnt_amnt'] = pd.cut(data['last_pymnt_amnt'], 3)\n",
    "df_temp = calculate_woe(X_woe, 'last_pymnt_amnt', data['last_pymnt_amnt'])\n",
    "plot_woe(df_temp)\n",
    "df_temp"
   ]
  },
  {
   "cell_type": "code",
   "execution_count": null,
   "id": "423b440e-d404-4006-ba22-f9ea3e29c2c7",
   "metadata": {},
   "outputs": [],
   "source": [
    "print(data['next_pymnt_d'].value_counts())\n",
    "print(data['next_pymnt_d'].isnull().sum())"
   ]
  },
  {
   "cell_type": "code",
   "execution_count": 192,
   "id": "12a232b3-5d47-4836-87c7-2579275589e6",
   "metadata": {},
   "outputs": [],
   "source": [
    "print(data['last_credit_pull_d'].value_counts())\n",
    "print(data['last_credit_pull_d'].isnull().sum())"
   ]
  },
  {
   "cell_type": "code",
   "execution_count": 193,
   "id": "4fe29ec7-a29d-43cf-b4b0-41938fb41f67",
   "metadata": {},
   "outputs": [
    {
     "ename": "TypeError",
     "evalue": "'<=' not supported between instances of 'str' and 'float'",
     "output_type": "error",
     "traceback": [
      "\u001b[0;31m---------------------------------------------------------------------------\u001b[0m",
      "\u001b[0;31mTypeError\u001b[0m                                 Traceback (most recent call last)",
      "\u001b[0;32m/var/folders/wm/sl66rs353nj_llq6rmxdj1w80000gn/T/ipykernel_33980/3344399975.py\u001b[0m in \u001b[0;36m<module>\u001b[0;34m\u001b[0m\n\u001b[0;32m----> 1\u001b[0;31m \u001b[0mX_woe\u001b[0m\u001b[0;34m[\u001b[0m\u001b[0;34m'last_credit_pull_d'\u001b[0m\u001b[0;34m]\u001b[0m \u001b[0;34m=\u001b[0m \u001b[0mpd\u001b[0m\u001b[0;34m.\u001b[0m\u001b[0mcut\u001b[0m\u001b[0;34m(\u001b[0m\u001b[0mdata\u001b[0m\u001b[0;34m[\u001b[0m\u001b[0;34m'last_credit_pull_d'\u001b[0m\u001b[0;34m]\u001b[0m\u001b[0;34m,\u001b[0m \u001b[0;36m3\u001b[0m\u001b[0;34m)\u001b[0m\u001b[0;34m\u001b[0m\u001b[0;34m\u001b[0m\u001b[0m\n\u001b[0m\u001b[1;32m      2\u001b[0m \u001b[0mdf_temp\u001b[0m \u001b[0;34m=\u001b[0m \u001b[0mcalculate_woe\u001b[0m\u001b[0;34m(\u001b[0m\u001b[0mX_woe\u001b[0m\u001b[0;34m,\u001b[0m \u001b[0;34m'last_credit_pull_d'\u001b[0m\u001b[0;34m,\u001b[0m \u001b[0mdata\u001b[0m\u001b[0;34m[\u001b[0m\u001b[0;34m'loan_status'\u001b[0m\u001b[0;34m]\u001b[0m\u001b[0;34m)\u001b[0m\u001b[0;34m\u001b[0m\u001b[0;34m\u001b[0m\u001b[0m\n\u001b[1;32m      3\u001b[0m \u001b[0mplot_woe\u001b[0m\u001b[0;34m(\u001b[0m\u001b[0mdf_temp\u001b[0m\u001b[0;34m)\u001b[0m\u001b[0;34m\u001b[0m\u001b[0;34m\u001b[0m\u001b[0m\n\u001b[1;32m      4\u001b[0m \u001b[0mdf_temp\u001b[0m\u001b[0;34m\u001b[0m\u001b[0;34m\u001b[0m\u001b[0m\n",
      "\u001b[0;32m~/opt/anaconda3/lib/python3.9/site-packages/pandas/core/reshape/tile.py\u001b[0m in \u001b[0;36mcut\u001b[0;34m(x, bins, right, labels, retbins, precision, include_lowest, duplicates, ordered)\u001b[0m\n\u001b[1;32m    250\u001b[0m             \u001b[0;32mraise\u001b[0m \u001b[0mValueError\u001b[0m\u001b[0;34m(\u001b[0m\u001b[0;34m\"Cannot cut empty array\"\u001b[0m\u001b[0;34m)\u001b[0m\u001b[0;34m\u001b[0m\u001b[0;34m\u001b[0m\u001b[0m\n\u001b[1;32m    251\u001b[0m \u001b[0;34m\u001b[0m\u001b[0m\n\u001b[0;32m--> 252\u001b[0;31m         \u001b[0mrng\u001b[0m \u001b[0;34m=\u001b[0m \u001b[0;34m(\u001b[0m\u001b[0mnanops\u001b[0m\u001b[0;34m.\u001b[0m\u001b[0mnanmin\u001b[0m\u001b[0;34m(\u001b[0m\u001b[0mx\u001b[0m\u001b[0;34m)\u001b[0m\u001b[0;34m,\u001b[0m \u001b[0mnanops\u001b[0m\u001b[0;34m.\u001b[0m\u001b[0mnanmax\u001b[0m\u001b[0;34m(\u001b[0m\u001b[0mx\u001b[0m\u001b[0;34m)\u001b[0m\u001b[0;34m)\u001b[0m\u001b[0;34m\u001b[0m\u001b[0;34m\u001b[0m\u001b[0m\n\u001b[0m\u001b[1;32m    253\u001b[0m         \u001b[0mmn\u001b[0m\u001b[0;34m,\u001b[0m \u001b[0mmx\u001b[0m \u001b[0;34m=\u001b[0m \u001b[0;34m(\u001b[0m\u001b[0mmi\u001b[0m \u001b[0;34m+\u001b[0m \u001b[0;36m0.0\u001b[0m \u001b[0;32mfor\u001b[0m \u001b[0mmi\u001b[0m \u001b[0;32min\u001b[0m \u001b[0mrng\u001b[0m\u001b[0;34m)\u001b[0m\u001b[0;34m\u001b[0m\u001b[0;34m\u001b[0m\u001b[0m\n\u001b[1;32m    254\u001b[0m \u001b[0;34m\u001b[0m\u001b[0m\n",
      "\u001b[0;32m~/opt/anaconda3/lib/python3.9/site-packages/pandas/core/nanops.py\u001b[0m in \u001b[0;36mf\u001b[0;34m(values, axis, skipna, **kwds)\u001b[0m\n\u001b[1;32m    153\u001b[0m                     \u001b[0mresult\u001b[0m \u001b[0;34m=\u001b[0m \u001b[0malt\u001b[0m\u001b[0;34m(\u001b[0m\u001b[0mvalues\u001b[0m\u001b[0;34m,\u001b[0m \u001b[0maxis\u001b[0m\u001b[0;34m=\u001b[0m\u001b[0maxis\u001b[0m\u001b[0;34m,\u001b[0m \u001b[0mskipna\u001b[0m\u001b[0;34m=\u001b[0m\u001b[0mskipna\u001b[0m\u001b[0;34m,\u001b[0m \u001b[0;34m**\u001b[0m\u001b[0mkwds\u001b[0m\u001b[0;34m)\u001b[0m\u001b[0;34m\u001b[0m\u001b[0;34m\u001b[0m\u001b[0m\n\u001b[1;32m    154\u001b[0m             \u001b[0;32melse\u001b[0m\u001b[0;34m:\u001b[0m\u001b[0;34m\u001b[0m\u001b[0;34m\u001b[0m\u001b[0m\n\u001b[0;32m--> 155\u001b[0;31m                 \u001b[0mresult\u001b[0m \u001b[0;34m=\u001b[0m \u001b[0malt\u001b[0m\u001b[0;34m(\u001b[0m\u001b[0mvalues\u001b[0m\u001b[0;34m,\u001b[0m \u001b[0maxis\u001b[0m\u001b[0;34m=\u001b[0m\u001b[0maxis\u001b[0m\u001b[0;34m,\u001b[0m \u001b[0mskipna\u001b[0m\u001b[0;34m=\u001b[0m\u001b[0mskipna\u001b[0m\u001b[0;34m,\u001b[0m \u001b[0;34m**\u001b[0m\u001b[0mkwds\u001b[0m\u001b[0;34m)\u001b[0m\u001b[0;34m\u001b[0m\u001b[0;34m\u001b[0m\u001b[0m\n\u001b[0m\u001b[1;32m    156\u001b[0m \u001b[0;34m\u001b[0m\u001b[0m\n\u001b[1;32m    157\u001b[0m             \u001b[0;32mreturn\u001b[0m \u001b[0mresult\u001b[0m\u001b[0;34m\u001b[0m\u001b[0;34m\u001b[0m\u001b[0m\n",
      "\u001b[0;32m~/opt/anaconda3/lib/python3.9/site-packages/pandas/core/nanops.py\u001b[0m in \u001b[0;36mnew_func\u001b[0;34m(values, axis, skipna, mask, **kwargs)\u001b[0m\n\u001b[1;32m    408\u001b[0m             \u001b[0mmask\u001b[0m \u001b[0;34m=\u001b[0m \u001b[0misna\u001b[0m\u001b[0;34m(\u001b[0m\u001b[0mvalues\u001b[0m\u001b[0;34m)\u001b[0m\u001b[0;34m\u001b[0m\u001b[0;34m\u001b[0m\u001b[0m\n\u001b[1;32m    409\u001b[0m \u001b[0;34m\u001b[0m\u001b[0m\n\u001b[0;32m--> 410\u001b[0;31m         \u001b[0mresult\u001b[0m \u001b[0;34m=\u001b[0m \u001b[0mfunc\u001b[0m\u001b[0;34m(\u001b[0m\u001b[0mvalues\u001b[0m\u001b[0;34m,\u001b[0m \u001b[0maxis\u001b[0m\u001b[0;34m=\u001b[0m\u001b[0maxis\u001b[0m\u001b[0;34m,\u001b[0m \u001b[0mskipna\u001b[0m\u001b[0;34m=\u001b[0m\u001b[0mskipna\u001b[0m\u001b[0;34m,\u001b[0m \u001b[0mmask\u001b[0m\u001b[0;34m=\u001b[0m\u001b[0mmask\u001b[0m\u001b[0;34m,\u001b[0m \u001b[0;34m**\u001b[0m\u001b[0mkwargs\u001b[0m\u001b[0;34m)\u001b[0m\u001b[0;34m\u001b[0m\u001b[0;34m\u001b[0m\u001b[0m\n\u001b[0m\u001b[1;32m    411\u001b[0m \u001b[0;34m\u001b[0m\u001b[0m\n\u001b[1;32m    412\u001b[0m         \u001b[0;32mif\u001b[0m \u001b[0mdatetimelike\u001b[0m\u001b[0;34m:\u001b[0m\u001b[0;34m\u001b[0m\u001b[0;34m\u001b[0m\u001b[0m\n",
      "\u001b[0;32m~/opt/anaconda3/lib/python3.9/site-packages/pandas/core/nanops.py\u001b[0m in \u001b[0;36mreduction\u001b[0;34m(values, axis, skipna, mask)\u001b[0m\n\u001b[1;32m   1015\u001b[0m                 \u001b[0mresult\u001b[0m \u001b[0;34m=\u001b[0m \u001b[0mnp\u001b[0m\u001b[0;34m.\u001b[0m\u001b[0mnan\u001b[0m\u001b[0;34m\u001b[0m\u001b[0;34m\u001b[0m\u001b[0m\n\u001b[1;32m   1016\u001b[0m         \u001b[0;32melse\u001b[0m\u001b[0;34m:\u001b[0m\u001b[0;34m\u001b[0m\u001b[0;34m\u001b[0m\u001b[0m\n\u001b[0;32m-> 1017\u001b[0;31m             \u001b[0mresult\u001b[0m \u001b[0;34m=\u001b[0m \u001b[0mgetattr\u001b[0m\u001b[0;34m(\u001b[0m\u001b[0mvalues\u001b[0m\u001b[0;34m,\u001b[0m \u001b[0mmeth\u001b[0m\u001b[0;34m)\u001b[0m\u001b[0;34m(\u001b[0m\u001b[0maxis\u001b[0m\u001b[0;34m)\u001b[0m\u001b[0;34m\u001b[0m\u001b[0;34m\u001b[0m\u001b[0m\n\u001b[0m\u001b[1;32m   1018\u001b[0m \u001b[0;34m\u001b[0m\u001b[0m\n\u001b[1;32m   1019\u001b[0m         \u001b[0mresult\u001b[0m \u001b[0;34m=\u001b[0m \u001b[0m_maybe_null_out\u001b[0m\u001b[0;34m(\u001b[0m\u001b[0mresult\u001b[0m\u001b[0;34m,\u001b[0m \u001b[0maxis\u001b[0m\u001b[0;34m,\u001b[0m \u001b[0mmask\u001b[0m\u001b[0;34m,\u001b[0m \u001b[0mvalues\u001b[0m\u001b[0;34m.\u001b[0m\u001b[0mshape\u001b[0m\u001b[0;34m)\u001b[0m\u001b[0;34m\u001b[0m\u001b[0;34m\u001b[0m\u001b[0m\n",
      "\u001b[0;32m~/opt/anaconda3/lib/python3.9/site-packages/numpy/core/_methods.py\u001b[0m in \u001b[0;36m_amin\u001b[0;34m(a, axis, out, keepdims, initial, where)\u001b[0m\n\u001b[1;32m     41\u001b[0m def _amin(a, axis=None, out=None, keepdims=False,\n\u001b[1;32m     42\u001b[0m           initial=_NoValue, where=True):\n\u001b[0;32m---> 43\u001b[0;31m     \u001b[0;32mreturn\u001b[0m \u001b[0mumr_minimum\u001b[0m\u001b[0;34m(\u001b[0m\u001b[0ma\u001b[0m\u001b[0;34m,\u001b[0m \u001b[0maxis\u001b[0m\u001b[0;34m,\u001b[0m \u001b[0;32mNone\u001b[0m\u001b[0;34m,\u001b[0m \u001b[0mout\u001b[0m\u001b[0;34m,\u001b[0m \u001b[0mkeepdims\u001b[0m\u001b[0;34m,\u001b[0m \u001b[0minitial\u001b[0m\u001b[0;34m,\u001b[0m \u001b[0mwhere\u001b[0m\u001b[0;34m)\u001b[0m\u001b[0;34m\u001b[0m\u001b[0;34m\u001b[0m\u001b[0m\n\u001b[0m\u001b[1;32m     44\u001b[0m \u001b[0;34m\u001b[0m\u001b[0m\n\u001b[1;32m     45\u001b[0m def _sum(a, axis=None, dtype=None, out=None, keepdims=False,\n",
      "\u001b[0;31mTypeError\u001b[0m: '<=' not supported between instances of 'str' and 'float'"
     ]
    }
   ],
   "source": [
    "# X_woe['last_credit_pull_d'] = pd.cut(data['last_credit_pull_d'], 3)\n",
    "# df_temp = calculate_woe(X_woe, 'last_credit_pull_d', data['loan_status'])\n",
    "# plot_woe(df_temp)\n",
    "# df_temp"
   ]
  },
  {
   "cell_type": "code",
   "execution_count": null,
   "id": "4fe29ec7-a29d-43cf-b4b0-41938fb41f67",
   "metadata": {},
   "outputs": [],
   "source": [
    "print(data['collections_12_mths_ex_med'].value_counts())\n",
    "print(data['collections_12_mths_ex_med'].isnull().sum())"
   ]
  },
  {
   "cell_type": "code",
   "execution_count": 194,
   "id": "27c71d76-f3f8-4be6-9527-267af7c25460",
   "metadata": {},
   "outputs": [
    {
     "data": {
      "text/html": [
       "<div>\n",
       "<style scoped>\n",
       "    .dataframe tbody tr th:only-of-type {\n",
       "        vertical-align: middle;\n",
       "    }\n",
       "\n",
       "    .dataframe tbody tr th {\n",
       "        vertical-align: top;\n",
       "    }\n",
       "\n",
       "    .dataframe thead th {\n",
       "        text-align: right;\n",
       "    }\n",
       "</style>\n",
       "<table border=\"1\" class=\"dataframe\">\n",
       "  <thead>\n",
       "    <tr style=\"text-align: right;\">\n",
       "      <th></th>\n",
       "      <th>collections_12_mths_ex_med</th>\n",
       "      <th>support</th>\n",
       "      <th>pos%</th>\n",
       "      <th>WoE</th>\n",
       "      <th>IV</th>\n",
       "    </tr>\n",
       "  </thead>\n",
       "  <tbody>\n",
       "    <tr>\n",
       "      <th>0</th>\n",
       "      <td>(-0.02, 6.667]</td>\n",
       "      <td>466138</td>\n",
       "      <td>0.890719</td>\n",
       "      <td>-0.000005</td>\n",
       "      <td>2.320312e-11</td>\n",
       "    </tr>\n",
       "    <tr>\n",
       "      <th>1</th>\n",
       "      <td>(13.333, 20.0]</td>\n",
       "      <td>2</td>\n",
       "      <td>1.000000</td>\n",
       "      <td>inf</td>\n",
       "      <td>2.320312e-11</td>\n",
       "    </tr>\n",
       "    <tr>\n",
       "      <th>2</th>\n",
       "      <td>(6.667, 13.333]</td>\n",
       "      <td>0</td>\n",
       "      <td>NaN</td>\n",
       "      <td>NaN</td>\n",
       "      <td>2.320312e-11</td>\n",
       "    </tr>\n",
       "  </tbody>\n",
       "</table>\n",
       "</div>"
      ],
      "text/plain": [
       "  collections_12_mths_ex_med  support      pos%       WoE            IV\n",
       "0             (-0.02, 6.667]   466138  0.890719 -0.000005  2.320312e-11\n",
       "1             (13.333, 20.0]        2  1.000000       inf  2.320312e-11\n",
       "2            (6.667, 13.333]        0       NaN       NaN  2.320312e-11"
      ]
     },
     "execution_count": 182,
     "metadata": {},
     "output_type": "execute_result"
    },
    {
     "data": {
      "image/png": "[encoded data removed]",
      "text/plain": [
       "<Figure size 720x360 with 1 Axes>"
      ]
     },
     "metadata": {
      "needs_background": "light"
     },
     "output_type": "display_data"
    }
   ],
   "source": [
    "X_woe['collections_12_mths_ex_med'] = pd.cut(data['collections_12_mths_ex_med'], 3)\n",
    "df_temp = calculate_woe(X_woe, 'collections_12_mths_ex_med', data['loan_status'])\n",
    "plot_woe(df_temp)\n",
    "df_temp"
   ]
  },
  {
   "cell_type": "code",
   "execution_count": null,
   "id": "27c71d76-f3f8-4be6-9527-267af7c25460",
   "metadata": {},
   "outputs": [],
   "source": [
    "print(data['mths_since_last_major_derog'].value_counts())\n",
    "print(data['mths_since_last_major_derog'].isnull().sum())"
   ]
  },
  {
   "cell_type": "code",
   "execution_count": 195,
   "id": "e600829d-dc59-4f59-8d3c-625ecdd41c9a",
   "metadata": {},
   "outputs": [
    {
     "data": {
      "text/html": [
       "<div>\n",
       "<style scoped>\n",
       "    .dataframe tbody tr th:only-of-type {\n",
       "        vertical-align: middle;\n",
       "    }\n",
       "\n",
       "    .dataframe tbody tr th {\n",
       "        vertical-align: top;\n",
       "    }\n",
       "\n",
       "    .dataframe thead th {\n",
       "        text-align: right;\n",
       "    }\n",
       "</style>\n",
       "<table border=\"1\" class=\"dataframe\">\n",
       "  <thead>\n",
       "    <tr style=\"text-align: right;\">\n",
       "      <th></th>\n",
       "      <th>mths_since_last_major_derog</th>\n",
       "      <th>support</th>\n",
       "      <th>pos%</th>\n",
       "      <th>WoE</th>\n",
       "      <th>IV</th>\n",
       "    </tr>\n",
       "  </thead>\n",
       "  <tbody>\n",
       "    <tr>\n",
       "      <th>0</th>\n",
       "      <td>(62.667, 125.333]</td>\n",
       "      <td>20692</td>\n",
       "      <td>0.893292</td>\n",
       "      <td>-0.049315</td>\n",
       "      <td>0.00025</td>\n",
       "    </tr>\n",
       "    <tr>\n",
       "      <th>1</th>\n",
       "      <td>(-0.188, 62.667]</td>\n",
       "      <td>78135</td>\n",
       "      <td>0.899047</td>\n",
       "      <td>0.012542</td>\n",
       "      <td>0.00025</td>\n",
       "    </tr>\n",
       "    <tr>\n",
       "      <th>2</th>\n",
       "      <td>(125.333, 188.0]</td>\n",
       "      <td>147</td>\n",
       "      <td>0.938776</td>\n",
       "      <td>0.555896</td>\n",
       "      <td>0.00025</td>\n",
       "    </tr>\n",
       "  </tbody>\n",
       "</table>\n",
       "</div>"
      ],
      "text/plain": [
       "  mths_since_last_major_derog  support      pos%       WoE       IV\n",
       "0           (62.667, 125.333]    20692  0.893292 -0.049315  0.00025\n",
       "1            (-0.188, 62.667]    78135  0.899047  0.012542  0.00025\n",
       "2            (125.333, 188.0]      147  0.938776  0.555896  0.00025"
      ]
     },
     "execution_count": 181,
     "metadata": {},
     "output_type": "execute_result"
    },
    {
     "data": {
      "image/png": "[encoded data removed]",
      "text/plain": [
       "<Figure size 720x360 with 1 Axes>"
      ]
     },
     "metadata": {
      "needs_background": "light"
     },
     "output_type": "display_data"
    }
   ],
   "source": [
    "X_woe['mths_since_last_major_derog'] = pd.cut(data['mths_since_last_major_derog'], 3)\n",
    "df_temp = calculate_woe(X_woe, 'mths_since_last_major_derog', data['loan_status'])\n",
    "plot_woe(df_temp)\n",
    "df_temp"
   ]
  },
  {
   "cell_type": "code",
   "execution_count": null,
   "id": "e600829d-dc59-4f59-8d3c-625ecdd41c9a",
   "metadata": {},
   "outputs": [],
   "source": [
    "print(data['policy_code'].value_counts())\n",
    "print(data['policy_code'].isnull().sum())"
   ]
  },
  {
   "cell_type": "code",
   "execution_count": 196,
   "id": "929e00c1-f5b5-4c6f-a4db-55997628a85f",
   "metadata": {},
   "outputs": [
    {
     "data": {
      "text/html": [
       "<div>\n",
       "<style scoped>\n",
       "    .dataframe tbody tr th:only-of-type {\n",
       "        vertical-align: middle;\n",
       "    }\n",
       "\n",
       "    .dataframe tbody tr th {\n",
       "        vertical-align: top;\n",
       "    }\n",
       "\n",
       "    .dataframe thead th {\n",
       "        text-align: right;\n",
       "    }\n",
       "</style>\n",
       "<table border=\"1\" class=\"dataframe\">\n",
       "  <thead>\n",
       "    <tr style=\"text-align: right;\">\n",
       "      <th></th>\n",
       "      <th>policy_code</th>\n",
       "      <th>support</th>\n",
       "      <th>pos%</th>\n",
       "      <th>WoE</th>\n",
       "      <th>IV</th>\n",
       "    </tr>\n",
       "  </thead>\n",
       "  <tbody>\n",
       "    <tr>\n",
       "      <th>0</th>\n",
       "      <td>(0.9997, 1.0003]</td>\n",
       "      <td>466285</td>\n",
       "      <td>0.890693</td>\n",
       "      <td>0.0</td>\n",
       "      <td>0.0</td>\n",
       "    </tr>\n",
       "    <tr>\n",
       "      <th>1</th>\n",
       "      <td>(0.999, 0.9997]</td>\n",
       "      <td>0</td>\n",
       "      <td>NaN</td>\n",
       "      <td>NaN</td>\n",
       "      <td>0.0</td>\n",
       "    </tr>\n",
       "    <tr>\n",
       "      <th>2</th>\n",
       "      <td>(1.0003, 1.001]</td>\n",
       "      <td>0</td>\n",
       "      <td>NaN</td>\n",
       "      <td>NaN</td>\n",
       "      <td>0.0</td>\n",
       "    </tr>\n",
       "  </tbody>\n",
       "</table>\n",
       "</div>"
      ],
      "text/plain": [
       "        policy_code  support      pos%  WoE   IV\n",
       "0  (0.9997, 1.0003]   466285  0.890693  0.0  0.0\n",
       "1   (0.999, 0.9997]        0       NaN  NaN  0.0\n",
       "2   (1.0003, 1.001]        0       NaN  NaN  0.0"
      ]
     },
     "execution_count": 180,
     "metadata": {},
     "output_type": "execute_result"
    },
    {
     "data": {
      "image/png": "[encoded data removed]",
      "text/plain": [
       "<Figure size 720x360 with 1 Axes>"
      ]
     },
     "metadata": {
      "needs_background": "light"
     },
     "output_type": "display_data"
    }
   ],
   "source": [
    "X_woe['policy_code'] = pd.cut(data['policy_code'], 3)\n",
    "df_temp = calculate_woe(X_woe, 'policy_code', data['loan_status'])\n",
    "plot_woe(df_temp)\n",
    "df_temp"
   ]
  },
  {
   "cell_type": "code",
   "execution_count": null,
   "id": "929e00c1-f5b5-4c6f-a4db-55997628a85f",
   "metadata": {},
   "outputs": [],
   "source": [
    "print(data['application_type'].value_counts())\n",
    "print(data['application_type'].isnull().sum())"
   ]
  },
  {
   "cell_type": "code",
   "execution_count": 197,
   "id": "801f0c58-1f39-439a-ac74-391c35e060f9",
   "metadata": {},
   "outputs": [
    {
     "name": "stdout",
     "output_type": "stream",
     "text": [
      "0.0    464524\n",
      "1.0      1623\n",
      "2.0        92\n",
      "3.0        11\n",
      "4.0         4\n",
      "5.0         2\n",
      "Name: acc_now_delinq, dtype: int64\n",
      "29\n"
     ]
    }
   ],
   "source": [
    "print(data['acc_now_delinq'].value_counts())\n",
    "print(data['acc_now_delinq'].isnull().sum())"
   ]
  },
  {
   "cell_type": "code",
   "execution_count": 178,
   "id": "f21597db",
   "metadata": {},
   "outputs": [
    {
     "data": {
      "text/html": [
       "<div>\n",
       "<style scoped>\n",
       "    .dataframe tbody tr th:only-of-type {\n",
       "        vertical-align: middle;\n",
       "    }\n",
       "\n",
       "    .dataframe tbody tr th {\n",
       "        vertical-align: top;\n",
       "    }\n",
       "\n",
       "    .dataframe thead th {\n",
       "        text-align: right;\n",
       "    }\n",
       "</style>\n",
       "<table border=\"1\" class=\"dataframe\">\n",
       "  <thead>\n",
       "    <tr style=\"text-align: right;\">\n",
       "      <th></th>\n",
       "      <th>acc_now_delinq</th>\n",
       "      <th>support</th>\n",
       "      <th>pos%</th>\n",
       "      <th>WoE</th>\n",
       "      <th>IV</th>\n",
       "    </tr>\n",
       "  </thead>\n",
       "  <tbody>\n",
       "    <tr>\n",
       "      <th>0</th>\n",
       "      <td>(3.333, 5.0]</td>\n",
       "      <td>6</td>\n",
       "      <td>0.833333</td>\n",
       "      <td>-0.488402</td>\n",
       "      <td>0.000001</td>\n",
       "    </tr>\n",
       "    <tr>\n",
       "      <th>1</th>\n",
       "      <td>(-0.005, 1.667]</td>\n",
       "      <td>466147</td>\n",
       "      <td>0.890693</td>\n",
       "      <td>0.000002</td>\n",
       "      <td>0.000001</td>\n",
       "    </tr>\n",
       "    <tr>\n",
       "      <th>2</th>\n",
       "      <td>(1.667, 3.333]</td>\n",
       "      <td>103</td>\n",
       "      <td>0.893204</td>\n",
       "      <td>0.026053</td>\n",
       "      <td>0.000001</td>\n",
       "    </tr>\n",
       "  </tbody>\n",
       "</table>\n",
       "</div>"
      ],
      "text/plain": [
       "    acc_now_delinq  support      pos%       WoE        IV\n",
       "0     (3.333, 5.0]        6  0.833333 -0.488402  0.000001\n",
       "1  (-0.005, 1.667]   466147  0.890693  0.000002  0.000001\n",
       "2   (1.667, 3.333]      103  0.893204  0.026053  0.000001"
      ]
     },
     "execution_count": 178,
     "metadata": {},
     "output_type": "execute_result"
    },
    {
     "data": {
      "image/png": "[encoded data removed]",
      "text/plain": [
       "<Figure size 720x360 with 1 Axes>"
      ]
     },
     "metadata": {
      "needs_background": "light"
     },
     "output_type": "display_data"
    }
   ],
   "source": [
    "X_woe['acc_now_delinq'] = pd.cut(data['acc_now_delinq'], 3, duplicates = 'drop')\n",
    "df_temp = calculate_woe(X_woe, 'acc_now_delinq', data['loan_status'])\n",
    "plot_woe(df_temp)\n",
    "df_temp"
   ]
  },
  {
   "cell_type": "code",
   "execution_count": null,
   "id": "514674d5",
   "metadata": {},
   "outputs": [],
   "source": []
  }
 ],
 "metadata": {
  "kernelspec": {
   "display_name": "Python 3 (ipykernel)",
   "language": "python",
   "name": "python3"
  },
  "language_info": {
   "codemirror_mode": {
    "name": "ipython",
    "version": 3
   },
   "file_extension": ".py",
   "mimetype": "text/x-python",
   "name": "python",
   "nbconvert_exporter": "python",
   "pygments_lexer": "ipython3",
   "version": "3.9.7"
  }
 },
 "nbformat": 4,
 "nbformat_minor": 5
}
