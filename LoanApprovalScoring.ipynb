{
 "cells": [
  {
   "cell_type": "code",
   "execution_count": 1,
   "id": "880acac1",
   "metadata": {},
   "outputs": [],
   "source": [
    "import pandas as pd\n",
    "import numpy as np\n",
    "\n",
    "import matplotlib.pyplot as plt\n",
    "import seaborn as sns"
   ]
  },
  {
   "cell_type": "code",
   "execution_count": 2,
   "id": "1dc2174f",
   "metadata": {},
   "outputs": [
    {
     "data": {
      "text/html": [
       "<div>\n",
       "<style scoped>\n",
       "    .dataframe tbody tr th:only-of-type {\n",
       "        vertical-align: middle;\n",
       "    }\n",
       "\n",
       "    .dataframe tbody tr th {\n",
       "        vertical-align: top;\n",
       "    }\n",
       "\n",
       "    .dataframe thead th {\n",
       "        text-align: right;\n",
       "    }\n",
       "</style>\n",
       "<table border=\"1\" class=\"dataframe\">\n",
       "  <thead>\n",
       "    <tr style=\"text-align: right;\">\n",
       "      <th></th>\n",
       "      <th>id</th>\n",
       "      <th>member_id</th>\n",
       "      <th>loan_amnt</th>\n",
       "      <th>funded_amnt</th>\n",
       "      <th>funded_amnt_inv</th>\n",
       "      <th>term</th>\n",
       "      <th>int_rate</th>\n",
       "      <th>installment</th>\n",
       "      <th>grade</th>\n",
       "      <th>sub_grade</th>\n",
       "      <th>...</th>\n",
       "      <th>total_bal_il</th>\n",
       "      <th>il_util</th>\n",
       "      <th>open_rv_12m</th>\n",
       "      <th>open_rv_24m</th>\n",
       "      <th>max_bal_bc</th>\n",
       "      <th>all_util</th>\n",
       "      <th>total_rev_hi_lim</th>\n",
       "      <th>inq_fi</th>\n",
       "      <th>total_cu_tl</th>\n",
       "      <th>inq_last_12m</th>\n",
       "    </tr>\n",
       "  </thead>\n",
       "  <tbody>\n",
       "    <tr>\n",
       "      <th>0</th>\n",
       "      <td>1077501</td>\n",
       "      <td>1296599</td>\n",
       "      <td>5000</td>\n",
       "      <td>5000</td>\n",
       "      <td>4975.0</td>\n",
       "      <td>36 months</td>\n",
       "      <td>10.65</td>\n",
       "      <td>162.87</td>\n",
       "      <td>B</td>\n",
       "      <td>B2</td>\n",
       "      <td>...</td>\n",
       "      <td>NaN</td>\n",
       "      <td>NaN</td>\n",
       "      <td>NaN</td>\n",
       "      <td>NaN</td>\n",
       "      <td>NaN</td>\n",
       "      <td>NaN</td>\n",
       "      <td>NaN</td>\n",
       "      <td>NaN</td>\n",
       "      <td>NaN</td>\n",
       "      <td>NaN</td>\n",
       "    </tr>\n",
       "    <tr>\n",
       "      <th>1</th>\n",
       "      <td>1077430</td>\n",
       "      <td>1314167</td>\n",
       "      <td>2500</td>\n",
       "      <td>2500</td>\n",
       "      <td>2500.0</td>\n",
       "      <td>60 months</td>\n",
       "      <td>15.27</td>\n",
       "      <td>59.83</td>\n",
       "      <td>C</td>\n",
       "      <td>C4</td>\n",
       "      <td>...</td>\n",
       "      <td>NaN</td>\n",
       "      <td>NaN</td>\n",
       "      <td>NaN</td>\n",
       "      <td>NaN</td>\n",
       "      <td>NaN</td>\n",
       "      <td>NaN</td>\n",
       "      <td>NaN</td>\n",
       "      <td>NaN</td>\n",
       "      <td>NaN</td>\n",
       "      <td>NaN</td>\n",
       "    </tr>\n",
       "    <tr>\n",
       "      <th>2</th>\n",
       "      <td>1077175</td>\n",
       "      <td>1313524</td>\n",
       "      <td>2400</td>\n",
       "      <td>2400</td>\n",
       "      <td>2400.0</td>\n",
       "      <td>36 months</td>\n",
       "      <td>15.96</td>\n",
       "      <td>84.33</td>\n",
       "      <td>C</td>\n",
       "      <td>C5</td>\n",
       "      <td>...</td>\n",
       "      <td>NaN</td>\n",
       "      <td>NaN</td>\n",
       "      <td>NaN</td>\n",
       "      <td>NaN</td>\n",
       "      <td>NaN</td>\n",
       "      <td>NaN</td>\n",
       "      <td>NaN</td>\n",
       "      <td>NaN</td>\n",
       "      <td>NaN</td>\n",
       "      <td>NaN</td>\n",
       "    </tr>\n",
       "    <tr>\n",
       "      <th>3</th>\n",
       "      <td>1076863</td>\n",
       "      <td>1277178</td>\n",
       "      <td>10000</td>\n",
       "      <td>10000</td>\n",
       "      <td>10000.0</td>\n",
       "      <td>36 months</td>\n",
       "      <td>13.49</td>\n",
       "      <td>339.31</td>\n",
       "      <td>C</td>\n",
       "      <td>C1</td>\n",
       "      <td>...</td>\n",
       "      <td>NaN</td>\n",
       "      <td>NaN</td>\n",
       "      <td>NaN</td>\n",
       "      <td>NaN</td>\n",
       "      <td>NaN</td>\n",
       "      <td>NaN</td>\n",
       "      <td>NaN</td>\n",
       "      <td>NaN</td>\n",
       "      <td>NaN</td>\n",
       "      <td>NaN</td>\n",
       "    </tr>\n",
       "    <tr>\n",
       "      <th>4</th>\n",
       "      <td>1075358</td>\n",
       "      <td>1311748</td>\n",
       "      <td>3000</td>\n",
       "      <td>3000</td>\n",
       "      <td>3000.0</td>\n",
       "      <td>60 months</td>\n",
       "      <td>12.69</td>\n",
       "      <td>67.79</td>\n",
       "      <td>B</td>\n",
       "      <td>B5</td>\n",
       "      <td>...</td>\n",
       "      <td>NaN</td>\n",
       "      <td>NaN</td>\n",
       "      <td>NaN</td>\n",
       "      <td>NaN</td>\n",
       "      <td>NaN</td>\n",
       "      <td>NaN</td>\n",
       "      <td>NaN</td>\n",
       "      <td>NaN</td>\n",
       "      <td>NaN</td>\n",
       "      <td>NaN</td>\n",
       "    </tr>\n",
       "  </tbody>\n",
       "</table>\n",
       "<p>5 rows × 74 columns</p>\n",
       "</div>"
      ],
      "text/plain": [
       "        id  member_id  loan_amnt  funded_amnt  funded_amnt_inv        term  \\\n",
       "0  1077501    1296599       5000         5000           4975.0   36 months   \n",
       "1  1077430    1314167       2500         2500           2500.0   60 months   \n",
       "2  1077175    1313524       2400         2400           2400.0   36 months   \n",
       "3  1076863    1277178      10000        10000          10000.0   36 months   \n",
       "4  1075358    1311748       3000         3000           3000.0   60 months   \n",
       "\n",
       "   int_rate  installment grade sub_grade  ... total_bal_il il_util  \\\n",
       "0     10.65       162.87     B        B2  ...          NaN     NaN   \n",
       "1     15.27        59.83     C        C4  ...          NaN     NaN   \n",
       "2     15.96        84.33     C        C5  ...          NaN     NaN   \n",
       "3     13.49       339.31     C        C1  ...          NaN     NaN   \n",
       "4     12.69        67.79     B        B5  ...          NaN     NaN   \n",
       "\n",
       "  open_rv_12m  open_rv_24m max_bal_bc all_util total_rev_hi_lim inq_fi  \\\n",
       "0         NaN          NaN        NaN      NaN              NaN    NaN   \n",
       "1         NaN          NaN        NaN      NaN              NaN    NaN   \n",
       "2         NaN          NaN        NaN      NaN              NaN    NaN   \n",
       "3         NaN          NaN        NaN      NaN              NaN    NaN   \n",
       "4         NaN          NaN        NaN      NaN              NaN    NaN   \n",
       "\n",
       "  total_cu_tl inq_last_12m  \n",
       "0         NaN          NaN  \n",
       "1         NaN          NaN  \n",
       "2         NaN          NaN  \n",
       "3         NaN          NaN  \n",
       "4         NaN          NaN  \n",
       "\n",
       "[5 rows x 74 columns]"
      ]
     },
     "execution_count": 2,
     "metadata": {},
     "output_type": "execute_result"
    }
   ],
   "source": [
    "# hello world\n",
    "data = pd.read_csv('loan_data_2007_2014.csv', low_memory=False)\n",
    "data.head()"
   ]
  },
  {
   "cell_type": "code",
   "execution_count": 3,
   "id": "969c9105",
   "metadata": {},
   "outputs": [],
   "source": [
    "def calculate_woe(df, feature, y):\n",
    "    ''' calculates WoE and IV for each feature '''\n",
    "    df = pd.concat([df[feature], y], axis=1)\n",
    "    target = df.columns.values[1]\n",
    "    \n",
    "    # calculate number of occurences of the given bin (support)\n",
    "    support = df.groupby(feature, as_index=False)[target].count()\n",
    "    # calculate the proportion of positive occurences \n",
    "    n_pos = df.groupby(feature, as_index = False)[target].mean()\n",
    "    # get dataframe of (binned_feature, support, n_pos)\n",
    "    df = pd.concat([support, n_pos], axis=1).iloc[:, [0, 1, 3]]\n",
    "    df.columns = [feature, 'support', 'pos%']\n",
    "    # count of positive/negative occurences\n",
    "    positive = df['pos%'] * df['support']\n",
    "    negative = (1 - df['pos%']) * df['support']\n",
    "    # calculate what percentage of total positives/negatives given feature bin has\n",
    "    pos = positive / positive.sum(); neg = negative / negative.sum()\n",
    "    # finally calculate WoE and sort dataframe by WoE for plotting\n",
    "    df['WoE'] = np.log(pos / neg)\n",
    "    df = df.sort_values(['WoE']).reset_index(drop=True)\n",
    "    # calculate IV using WoE\n",
    "    df['IV'] = abs(((pos - neg) * df['WoE']).sum())\n",
    "    return df\n",
    "\n",
    "def plot_woe(df):\n",
    "    ''' plots support, WoE and IV of each feature '''\n",
    "    plt.figure(figsize=(10, 5))\n",
    "    plt.plot(df.iloc[:, 0].astype(str), df['WoE'], marker = 'o', color='black')\n",
    "    plt.xlabel(df.columns[0])\n",
    "    plt.ylabel('WoE')"
   ]
  },
  {
   "cell_type": "code",
   "execution_count": 4,
   "id": "02d62c42",
   "metadata": {},
   "outputs": [],
   "source": [
    "# preprocess the target column\n",
    "''' \n",
    "Current                                                224226\n",
    "Fully Paid                                             184739\n",
    "Charged Off                                             42475\n",
    "Late (31-120 days)                                       6900\n",
    "In Grace Period                                          3146\n",
    "Does not meet the credit policy. Status:Fully Paid       1988\n",
    "Late (16-30 days)                                        1218\n",
    "Default                                                   832\n",
    "Does not meet the credit policy. Status:Charged Off       761\n",
    "'''\n",
    "\n",
    "# following features will be labeled `0` to indicate \"bad\" loans\n",
    "data['loan_status'] = data['loan_status'].replace(['Charged Off', 'Late (31-120 days)', 'Default',\n",
    "                                                  'Does not meet the credit policy. Status:Charged Off'], 0)\n",
    "# following features will be labeled `1` to indicate \"good\" loans\n",
    "data['loan_status'] = data['loan_status'].replace(['Current', 'Fully Paid', 'In Grace Period', 'Late (16-30 days)',\n",
    "                                                  'Does not meet the credit policy. Status:Fully Paid'], 1)"
   ]
  },
  {
   "cell_type": "markdown",
   "id": "9382c931",
   "metadata": {},
   "source": [
    "## Data Preprocessing"
   ]
  },
  {
   "cell_type": "code",
   "execution_count": 5,
   "id": "51bee37e",
   "metadata": {},
   "outputs": [],
   "source": [
    "X_woe = pd.DataFrame()"
   ]
  },
  {
   "cell_type": "markdown",
   "id": "b9002688",
   "metadata": {},
   "source": [
    "### loan_amnt"
   ]
  },
  {
   "cell_type": "code",
   "execution_count": 6,
   "id": "4e31f474",
   "metadata": {},
   "outputs": [
    {
     "data": {
      "text/html": [
       "<div>\n",
       "<style scoped>\n",
       "    .dataframe tbody tr th:only-of-type {\n",
       "        vertical-align: middle;\n",
       "    }\n",
       "\n",
       "    .dataframe tbody tr th {\n",
       "        vertical-align: top;\n",
       "    }\n",
       "\n",
       "    .dataframe thead th {\n",
       "        text-align: right;\n",
       "    }\n",
       "</style>\n",
       "<table border=\"1\" class=\"dataframe\">\n",
       "  <thead>\n",
       "    <tr style=\"text-align: right;\">\n",
       "      <th></th>\n",
       "      <th>loan_amnt</th>\n",
       "      <th>support</th>\n",
       "      <th>pos%</th>\n",
       "      <th>WoE</th>\n",
       "      <th>IV</th>\n",
       "    </tr>\n",
       "  </thead>\n",
       "  <tbody>\n",
       "    <tr>\n",
       "      <th>0</th>\n",
       "      <td>(20000.0, 35000.0]</td>\n",
       "      <td>97758</td>\n",
       "      <td>0.884337</td>\n",
       "      <td>-0.063688</td>\n",
       "      <td>0.001856</td>\n",
       "    </tr>\n",
       "    <tr>\n",
       "      <th>1</th>\n",
       "      <td>(12000.0, 20000.0]</td>\n",
       "      <td>134488</td>\n",
       "      <td>0.889090</td>\n",
       "      <td>-0.016360</td>\n",
       "      <td>0.001856</td>\n",
       "    </tr>\n",
       "    <tr>\n",
       "      <th>2</th>\n",
       "      <td>(8000.0, 12000.0]</td>\n",
       "      <td>108713</td>\n",
       "      <td>0.892166</td>\n",
       "      <td>0.015211</td>\n",
       "      <td>0.001856</td>\n",
       "    </tr>\n",
       "    <tr>\n",
       "      <th>3</th>\n",
       "      <td>(499.999, 8000.0]</td>\n",
       "      <td>125326</td>\n",
       "      <td>0.896095</td>\n",
       "      <td>0.056725</td>\n",
       "      <td>0.001856</td>\n",
       "    </tr>\n",
       "  </tbody>\n",
       "</table>\n",
       "</div>"
      ],
      "text/plain": [
       "            loan_amnt  support      pos%       WoE        IV\n",
       "0  (20000.0, 35000.0]    97758  0.884337 -0.063688  0.001856\n",
       "1  (12000.0, 20000.0]   134488  0.889090 -0.016360  0.001856\n",
       "2   (8000.0, 12000.0]   108713  0.892166  0.015211  0.001856\n",
       "3   (499.999, 8000.0]   125326  0.896095  0.056725  0.001856"
      ]
     },
     "execution_count": 6,
     "metadata": {},
     "output_type": "execute_result"
    },
    {
     "data": {
      "image/png": "[encoded data removed]",
      "text/plain": [
       "<Figure size 720x360 with 1 Axes>"
      ]
     },
     "metadata": {
      "needs_background": "light"
     },
     "output_type": "display_data"
    }
   ],
   "source": [
    "X_woe['loan_amnt'] = pd.qcut(data['loan_amnt'], 4)\n",
    "df_temp = calculate_woe(X_woe, 'loan_amnt', data['loan_status'])\n",
    "plot_woe(df_temp)\n",
    "df_temp"
   ]
  },
  {
   "cell_type": "markdown",
   "id": "90927bf8",
   "metadata": {},
   "source": [
    "### funded_amnt"
   ]
  },
  {
   "cell_type": "code",
   "execution_count": 7,
   "id": "d49bf4cd",
   "metadata": {},
   "outputs": [
    {
     "data": {
      "text/html": [
       "<div>\n",
       "<style scoped>\n",
       "    .dataframe tbody tr th:only-of-type {\n",
       "        vertical-align: middle;\n",
       "    }\n",
       "\n",
       "    .dataframe tbody tr th {\n",
       "        vertical-align: top;\n",
       "    }\n",
       "\n",
       "    .dataframe thead th {\n",
       "        text-align: right;\n",
       "    }\n",
       "</style>\n",
       "<table border=\"1\" class=\"dataframe\">\n",
       "  <thead>\n",
       "    <tr style=\"text-align: right;\">\n",
       "      <th></th>\n",
       "      <th>funded_amnt</th>\n",
       "      <th>support</th>\n",
       "      <th>pos%</th>\n",
       "      <th>WoE</th>\n",
       "      <th>IV</th>\n",
       "    </tr>\n",
       "  </thead>\n",
       "  <tbody>\n",
       "    <tr>\n",
       "      <th>0</th>\n",
       "      <td>(20000.0, 35000.0]</td>\n",
       "      <td>97239</td>\n",
       "      <td>0.884882</td>\n",
       "      <td>-0.058352</td>\n",
       "      <td>0.001663</td>\n",
       "    </tr>\n",
       "    <tr>\n",
       "      <th>1</th>\n",
       "      <td>(12000.0, 20000.0]</td>\n",
       "      <td>134579</td>\n",
       "      <td>0.888957</td>\n",
       "      <td>-0.017709</td>\n",
       "      <td>0.001663</td>\n",
       "    </tr>\n",
       "    <tr>\n",
       "      <th>2</th>\n",
       "      <td>(8000.0, 12000.0]</td>\n",
       "      <td>108880</td>\n",
       "      <td>0.891927</td>\n",
       "      <td>0.012732</td>\n",
       "      <td>0.001663</td>\n",
       "    </tr>\n",
       "    <tr>\n",
       "      <th>3</th>\n",
       "      <td>(499.999, 8000.0]</td>\n",
       "      <td>125587</td>\n",
       "      <td>0.895984</td>\n",
       "      <td>0.055539</td>\n",
       "      <td>0.001663</td>\n",
       "    </tr>\n",
       "  </tbody>\n",
       "</table>\n",
       "</div>"
      ],
      "text/plain": [
       "          funded_amnt  support      pos%       WoE        IV\n",
       "0  (20000.0, 35000.0]    97239  0.884882 -0.058352  0.001663\n",
       "1  (12000.0, 20000.0]   134579  0.888957 -0.017709  0.001663\n",
       "2   (8000.0, 12000.0]   108880  0.891927  0.012732  0.001663\n",
       "3   (499.999, 8000.0]   125587  0.895984  0.055539  0.001663"
      ]
     },
     "execution_count": 7,
     "metadata": {},
     "output_type": "execute_result"
    },
    {
     "data": {
      "image/png": "[encoded data removed]",
      "text/plain": [
       "<Figure size 720x360 with 1 Axes>"
      ]
     },
     "metadata": {
      "needs_background": "light"
     },
     "output_type": "display_data"
    }
   ],
   "source": [
    "X_woe['funded_amnt'] = pd.qcut(data['funded_amnt'], 4)\n",
    "df_temp = calculate_woe(X_woe, 'funded_amnt', data['loan_status'])\n",
    "plot_woe(df_temp)\n",
    "df_temp"
   ]
  },
  {
   "cell_type": "markdown",
   "id": "db0a9822",
   "metadata": {},
   "source": [
    "### funded_amnt_inv"
   ]
  },
  {
   "cell_type": "code",
   "execution_count": 8,
   "id": "907d38f5",
   "metadata": {},
   "outputs": [
    {
     "data": {
      "text/html": [
       "<div>\n",
       "<style scoped>\n",
       "    .dataframe tbody tr th:only-of-type {\n",
       "        vertical-align: middle;\n",
       "    }\n",
       "\n",
       "    .dataframe tbody tr th {\n",
       "        vertical-align: top;\n",
       "    }\n",
       "\n",
       "    .dataframe thead th {\n",
       "        text-align: right;\n",
       "    }\n",
       "</style>\n",
       "<table border=\"1\" class=\"dataframe\">\n",
       "  <thead>\n",
       "    <tr style=\"text-align: right;\">\n",
       "      <th></th>\n",
       "      <th>funded_amnt_inv</th>\n",
       "      <th>support</th>\n",
       "      <th>pos%</th>\n",
       "      <th>WoE</th>\n",
       "      <th>IV</th>\n",
       "    </tr>\n",
       "  </thead>\n",
       "  <tbody>\n",
       "    <tr>\n",
       "      <th>0</th>\n",
       "      <td>(23333.333, 35000.0]</td>\n",
       "      <td>74892</td>\n",
       "      <td>0.887785</td>\n",
       "      <td>-0.029530</td>\n",
       "      <td>0.000162</td>\n",
       "    </tr>\n",
       "    <tr>\n",
       "      <th>1</th>\n",
       "      <td>(11666.667, 23333.333]</td>\n",
       "      <td>183004</td>\n",
       "      <td>0.890877</td>\n",
       "      <td>0.001884</td>\n",
       "      <td>0.000162</td>\n",
       "    </tr>\n",
       "    <tr>\n",
       "      <th>2</th>\n",
       "      <td>(-35.0, 11666.667]</td>\n",
       "      <td>208389</td>\n",
       "      <td>0.891578</td>\n",
       "      <td>0.009115</td>\n",
       "      <td>0.000162</td>\n",
       "    </tr>\n",
       "  </tbody>\n",
       "</table>\n",
       "</div>"
      ],
      "text/plain": [
       "          funded_amnt_inv  support      pos%       WoE        IV\n",
       "0    (23333.333, 35000.0]    74892  0.887785 -0.029530  0.000162\n",
       "1  (11666.667, 23333.333]   183004  0.890877  0.001884  0.000162\n",
       "2      (-35.0, 11666.667]   208389  0.891578  0.009115  0.000162"
      ]
     },
     "execution_count": 8,
     "metadata": {},
     "output_type": "execute_result"
    },
    {
     "data": {
      "image/png": "[encoded data removed]",
      "text/plain": [
       "<Figure size 720x360 with 1 Axes>"
      ]
     },
     "metadata": {
      "needs_background": "light"
     },
     "output_type": "display_data"
    }
   ],
   "source": [
    "X_woe['funded_amnt_inv'] = pd.cut(data['funded_amnt_inv'], 3)\n",
    "df_temp = calculate_woe(X_woe, 'funded_amnt_inv', data['loan_status'])\n",
    "plot_woe(df_temp)\n",
    "df_temp"
   ]
  },
  {
   "cell_type": "markdown",
   "id": "14f858e5",
   "metadata": {},
   "source": [
    "### term"
   ]
  },
  {
   "cell_type": "code",
   "execution_count": 9,
   "id": "d6fa3ebd",
   "metadata": {},
   "outputs": [
    {
     "data": {
      "text/html": [
       "<div>\n",
       "<style scoped>\n",
       "    .dataframe tbody tr th:only-of-type {\n",
       "        vertical-align: middle;\n",
       "    }\n",
       "\n",
       "    .dataframe tbody tr th {\n",
       "        vertical-align: top;\n",
       "    }\n",
       "\n",
       "    .dataframe thead th {\n",
       "        text-align: right;\n",
       "    }\n",
       "</style>\n",
       "<table border=\"1\" class=\"dataframe\">\n",
       "  <thead>\n",
       "    <tr style=\"text-align: right;\">\n",
       "      <th></th>\n",
       "      <th>term</th>\n",
       "      <th>support</th>\n",
       "      <th>pos%</th>\n",
       "      <th>WoE</th>\n",
       "      <th>IV</th>\n",
       "    </tr>\n",
       "  </thead>\n",
       "  <tbody>\n",
       "    <tr>\n",
       "      <th>0</th>\n",
       "      <td>60 months</td>\n",
       "      <td>128332</td>\n",
       "      <td>0.858508</td>\n",
       "      <td>-0.294894</td>\n",
       "      <td>0.03886</td>\n",
       "    </tr>\n",
       "    <tr>\n",
       "      <th>1</th>\n",
       "      <td>36 months</td>\n",
       "      <td>337953</td>\n",
       "      <td>0.902915</td>\n",
       "      <td>0.132203</td>\n",
       "      <td>0.03886</td>\n",
       "    </tr>\n",
       "  </tbody>\n",
       "</table>\n",
       "</div>"
      ],
      "text/plain": [
       "         term  support      pos%       WoE       IV\n",
       "0   60 months   128332  0.858508 -0.294894  0.03886\n",
       "1   36 months   337953  0.902915  0.132203  0.03886"
      ]
     },
     "execution_count": 9,
     "metadata": {},
     "output_type": "execute_result"
    },
    {
     "data": {
      "image/png": "[encoded data removed]",
      "text/plain": [
       "<Figure size 720x360 with 1 Axes>"
      ]
     },
     "metadata": {
      "needs_background": "light"
     },
     "output_type": "display_data"
    }
   ],
   "source": [
    "df_temp = calculate_woe(data, 'term', data['loan_status'])\n",
    "plot_woe(df_temp)\n",
    "df_temp"
   ]
  },
  {
   "cell_type": "markdown",
   "id": "414a5435",
   "metadata": {},
   "source": [
    "### int_rate"
   ]
  },
  {
   "cell_type": "code",
   "execution_count": 10,
   "id": "cc4e16d7",
   "metadata": {},
   "outputs": [
    {
     "data": {
      "text/html": [
       "<div>\n",
       "<style scoped>\n",
       "    .dataframe tbody tr th:only-of-type {\n",
       "        vertical-align: middle;\n",
       "    }\n",
       "\n",
       "    .dataframe tbody tr th {\n",
       "        vertical-align: top;\n",
       "    }\n",
       "\n",
       "    .dataframe thead th {\n",
       "        text-align: right;\n",
       "    }\n",
       "</style>\n",
       "<table border=\"1\" class=\"dataframe\">\n",
       "  <thead>\n",
       "    <tr style=\"text-align: right;\">\n",
       "      <th></th>\n",
       "      <th>int_rate</th>\n",
       "      <th>support</th>\n",
       "      <th>pos%</th>\n",
       "      <th>WoE</th>\n",
       "      <th>IV</th>\n",
       "    </tr>\n",
       "  </thead>\n",
       "  <tbody>\n",
       "    <tr>\n",
       "      <th>0</th>\n",
       "      <td>(19.18, 26.06]</td>\n",
       "      <td>54591</td>\n",
       "      <td>0.792603</td>\n",
       "      <td>-0.757155</td>\n",
       "      <td>0.221917</td>\n",
       "    </tr>\n",
       "    <tr>\n",
       "      <th>1</th>\n",
       "      <td>(12.3, 19.18]</td>\n",
       "      <td>239482</td>\n",
       "      <td>0.875431</td>\n",
       "      <td>-0.147986</td>\n",
       "      <td>0.221917</td>\n",
       "    </tr>\n",
       "    <tr>\n",
       "      <th>2</th>\n",
       "      <td>(5.399, 12.3]</td>\n",
       "      <td>172212</td>\n",
       "      <td>0.943012</td>\n",
       "      <td>0.708396</td>\n",
       "      <td>0.221917</td>\n",
       "    </tr>\n",
       "  </tbody>\n",
       "</table>\n",
       "</div>"
      ],
      "text/plain": [
       "         int_rate  support      pos%       WoE        IV\n",
       "0  (19.18, 26.06]    54591  0.792603 -0.757155  0.221917\n",
       "1   (12.3, 19.18]   239482  0.875431 -0.147986  0.221917\n",
       "2   (5.399, 12.3]   172212  0.943012  0.708396  0.221917"
      ]
     },
     "execution_count": 10,
     "metadata": {},
     "output_type": "execute_result"
    },
    {
     "data": {
      "image/png": "[encoded data removed]",
      "text/plain": [
       "<Figure size 720x360 with 1 Axes>"
      ]
     },
     "metadata": {
      "needs_background": "light"
     },
     "output_type": "display_data"
    }
   ],
   "source": [
    "X_woe['int_rate'] = pd.cut(data['int_rate'], 3)\n",
    "df_temp = calculate_woe(X_woe, 'int_rate', data['loan_status'])\n",
    "plot_woe(df_temp)\n",
    "df_temp"
   ]
  },
  {
   "cell_type": "markdown",
   "id": "f649e27d",
   "metadata": {},
   "source": [
    "### installment"
   ]
  },
  {
   "cell_type": "code",
   "execution_count": 11,
   "id": "77e6ad46",
   "metadata": {},
   "outputs": [
    {
     "data": {
      "text/html": [
       "<div>\n",
       "<style scoped>\n",
       "    .dataframe tbody tr th:only-of-type {\n",
       "        vertical-align: middle;\n",
       "    }\n",
       "\n",
       "    .dataframe tbody tr th {\n",
       "        vertical-align: top;\n",
       "    }\n",
       "\n",
       "    .dataframe thead th {\n",
       "        text-align: right;\n",
       "    }\n",
       "</style>\n",
       "<table border=\"1\" class=\"dataframe\">\n",
       "  <thead>\n",
       "    <tr style=\"text-align: right;\">\n",
       "      <th></th>\n",
       "      <th>installment</th>\n",
       "      <th>support</th>\n",
       "      <th>pos%</th>\n",
       "      <th>WoE</th>\n",
       "      <th>IV</th>\n",
       "    </tr>\n",
       "  </thead>\n",
       "  <tbody>\n",
       "    <tr>\n",
       "      <th>0</th>\n",
       "      <td>(495.35, 1409.99]</td>\n",
       "      <td>155425</td>\n",
       "      <td>0.885057</td>\n",
       "      <td>-0.056627</td>\n",
       "      <td>0.002326</td>\n",
       "    </tr>\n",
       "    <tr>\n",
       "      <th>1</th>\n",
       "      <td>(300.39, 495.35]</td>\n",
       "      <td>155363</td>\n",
       "      <td>0.890463</td>\n",
       "      <td>-0.002365</td>\n",
       "      <td>0.002326</td>\n",
       "    </tr>\n",
       "    <tr>\n",
       "      <th>2</th>\n",
       "      <td>(15.669, 300.39]</td>\n",
       "      <td>155497</td>\n",
       "      <td>0.896557</td>\n",
       "      <td>0.061702</td>\n",
       "      <td>0.002326</td>\n",
       "    </tr>\n",
       "  </tbody>\n",
       "</table>\n",
       "</div>"
      ],
      "text/plain": [
       "         installment  support      pos%       WoE        IV\n",
       "0  (495.35, 1409.99]   155425  0.885057 -0.056627  0.002326\n",
       "1   (300.39, 495.35]   155363  0.890463 -0.002365  0.002326\n",
       "2   (15.669, 300.39]   155497  0.896557  0.061702  0.002326"
      ]
     },
     "execution_count": 11,
     "metadata": {},
     "output_type": "execute_result"
    },
    {
     "data": {
      "image/png": "[encoded data removed]",
      "text/plain": [
       "<Figure size 720x360 with 1 Axes>"
      ]
     },
     "metadata": {
      "needs_background": "light"
     },
     "output_type": "display_data"
    }
   ],
   "source": [
    "X_woe['installment'] = pd.qcut(data['installment'], 3)\n",
    "df_temp = calculate_woe(X_woe, 'installment', data['loan_status'])\n",
    "plot_woe(df_temp)\n",
    "df_temp"
   ]
  },
  {
   "cell_type": "markdown",
   "id": "8df62132",
   "metadata": {},
   "source": [
    "### grade"
   ]
  },
  {
   "cell_type": "code",
   "execution_count": 12,
   "id": "012d97b0",
   "metadata": {},
   "outputs": [
    {
     "data": {
      "text/html": [
       "<div>\n",
       "<style scoped>\n",
       "    .dataframe tbody tr th:only-of-type {\n",
       "        vertical-align: middle;\n",
       "    }\n",
       "\n",
       "    .dataframe tbody tr th {\n",
       "        vertical-align: top;\n",
       "    }\n",
       "\n",
       "    .dataframe thead th {\n",
       "        text-align: right;\n",
       "    }\n",
       "</style>\n",
       "<table border=\"1\" class=\"dataframe\">\n",
       "  <thead>\n",
       "    <tr style=\"text-align: right;\">\n",
       "      <th></th>\n",
       "      <th>grade</th>\n",
       "      <th>support</th>\n",
       "      <th>pos%</th>\n",
       "      <th>WoE</th>\n",
       "      <th>IV</th>\n",
       "    </tr>\n",
       "  </thead>\n",
       "  <tbody>\n",
       "    <tr>\n",
       "      <th>0</th>\n",
       "      <td>G</td>\n",
       "      <td>3322</td>\n",
       "      <td>0.721854</td>\n",
       "      <td>-1.144166</td>\n",
       "      <td>0.205307</td>\n",
       "    </tr>\n",
       "    <tr>\n",
       "      <th>1</th>\n",
       "      <td>F</td>\n",
       "      <td>13229</td>\n",
       "      <td>0.758712</td>\n",
       "      <td>-0.952214</td>\n",
       "      <td>0.205307</td>\n",
       "    </tr>\n",
       "    <tr>\n",
       "      <th>2</th>\n",
       "      <td>E</td>\n",
       "      <td>35757</td>\n",
       "      <td>0.805241</td>\n",
       "      <td>-0.678466</td>\n",
       "      <td>0.205307</td>\n",
       "    </tr>\n",
       "    <tr>\n",
       "      <th>3</th>\n",
       "      <td>D</td>\n",
       "      <td>76888</td>\n",
       "      <td>0.845906</td>\n",
       "      <td>-0.395001</td>\n",
       "      <td>0.205307</td>\n",
       "    </tr>\n",
       "    <tr>\n",
       "      <th>4</th>\n",
       "      <td>C</td>\n",
       "      <td>125293</td>\n",
       "      <td>0.885197</td>\n",
       "      <td>-0.055251</td>\n",
       "      <td>0.205307</td>\n",
       "    </tr>\n",
       "    <tr>\n",
       "      <th>5</th>\n",
       "      <td>B</td>\n",
       "      <td>136929</td>\n",
       "      <td>0.921426</td>\n",
       "      <td>0.364043</td>\n",
       "      <td>0.205307</td>\n",
       "    </tr>\n",
       "    <tr>\n",
       "      <th>6</th>\n",
       "      <td>A</td>\n",
       "      <td>74867</td>\n",
       "      <td>0.961305</td>\n",
       "      <td>1.114730</td>\n",
       "      <td>0.205307</td>\n",
       "    </tr>\n",
       "  </tbody>\n",
       "</table>\n",
       "</div>"
      ],
      "text/plain": [
       "  grade  support      pos%       WoE        IV\n",
       "0     G     3322  0.721854 -1.144166  0.205307\n",
       "1     F    13229  0.758712 -0.952214  0.205307\n",
       "2     E    35757  0.805241 -0.678466  0.205307\n",
       "3     D    76888  0.845906 -0.395001  0.205307\n",
       "4     C   125293  0.885197 -0.055251  0.205307\n",
       "5     B   136929  0.921426  0.364043  0.205307\n",
       "6     A    74867  0.961305  1.114730  0.205307"
      ]
     },
     "execution_count": 12,
     "metadata": {},
     "output_type": "execute_result"
    },
    {
     "data": {
      "image/png": "[encoded data removed]",
      "text/plain": [
       "<Figure size 720x360 with 1 Axes>"
      ]
     },
     "metadata": {
      "needs_background": "light"
     },
     "output_type": "display_data"
    }
   ],
   "source": [
    "df_temp = calculate_woe(data, 'grade', data['loan_status'])\n",
    "plot_woe(df_temp)\n",
    "df_temp"
   ]
  },
  {
   "cell_type": "markdown",
   "id": "034e6757",
   "metadata": {},
   "source": [
    "### sub_grade"
   ]
  },
  {
   "cell_type": "code",
   "execution_count": 13,
   "id": "eec0093f",
   "metadata": {},
   "outputs": [
    {
     "data": {
      "text/html": [
       "<div>\n",
       "<style scoped>\n",
       "    .dataframe tbody tr th:only-of-type {\n",
       "        vertical-align: middle;\n",
       "    }\n",
       "\n",
       "    .dataframe tbody tr th {\n",
       "        vertical-align: top;\n",
       "    }\n",
       "\n",
       "    .dataframe thead th {\n",
       "        text-align: right;\n",
       "    }\n",
       "</style>\n",
       "<table border=\"1\" class=\"dataframe\">\n",
       "  <thead>\n",
       "    <tr style=\"text-align: right;\">\n",
       "      <th></th>\n",
       "      <th>sub_grade</th>\n",
       "      <th>support</th>\n",
       "      <th>pos%</th>\n",
       "      <th>WoE</th>\n",
       "      <th>IV</th>\n",
       "    </tr>\n",
       "  </thead>\n",
       "  <tbody>\n",
       "    <tr>\n",
       "      <th>0</th>\n",
       "      <td>G1</td>\n",
       "      <td>1109</td>\n",
       "      <td>0.706943</td>\n",
       "      <td>-1.217260</td>\n",
       "      <td>0.211104</td>\n",
       "    </tr>\n",
       "    <tr>\n",
       "      <th>1</th>\n",
       "      <td>F5</td>\n",
       "      <td>1513</td>\n",
       "      <td>0.708526</td>\n",
       "      <td>-1.209608</td>\n",
       "      <td>0.211104</td>\n",
       "    </tr>\n",
       "    <tr>\n",
       "      <th>2</th>\n",
       "      <td>G5</td>\n",
       "      <td>385</td>\n",
       "      <td>0.711688</td>\n",
       "      <td>-1.194246</td>\n",
       "      <td>0.211104</td>\n",
       "    </tr>\n",
       "    <tr>\n",
       "      <th>3</th>\n",
       "      <td>G3</td>\n",
       "      <td>583</td>\n",
       "      <td>0.715266</td>\n",
       "      <td>-1.176746</td>\n",
       "      <td>0.211104</td>\n",
       "    </tr>\n",
       "    <tr>\n",
       "      <th>4</th>\n",
       "      <td>G2</td>\n",
       "      <td>823</td>\n",
       "      <td>0.736330</td>\n",
       "      <td>-1.070861</td>\n",
       "      <td>0.211104</td>\n",
       "    </tr>\n",
       "    <tr>\n",
       "      <th>5</th>\n",
       "      <td>F4</td>\n",
       "      <td>2067</td>\n",
       "      <td>0.745041</td>\n",
       "      <td>-1.025507</td>\n",
       "      <td>0.211104</td>\n",
       "    </tr>\n",
       "    <tr>\n",
       "      <th>6</th>\n",
       "      <td>F3</td>\n",
       "      <td>2708</td>\n",
       "      <td>0.750739</td>\n",
       "      <td>-0.995289</td>\n",
       "      <td>0.211104</td>\n",
       "    </tr>\n",
       "    <tr>\n",
       "      <th>7</th>\n",
       "      <td>G4</td>\n",
       "      <td>422</td>\n",
       "      <td>0.751185</td>\n",
       "      <td>-0.992903</td>\n",
       "      <td>0.211104</td>\n",
       "    </tr>\n",
       "    <tr>\n",
       "      <th>8</th>\n",
       "      <td>F2</td>\n",
       "      <td>3001</td>\n",
       "      <td>0.768411</td>\n",
       "      <td>-0.898486</td>\n",
       "      <td>0.211104</td>\n",
       "    </tr>\n",
       "    <tr>\n",
       "      <th>9</th>\n",
       "      <td>E5</td>\n",
       "      <td>5087</td>\n",
       "      <td>0.780224</td>\n",
       "      <td>-0.830871</td>\n",
       "      <td>0.211104</td>\n",
       "    </tr>\n",
       "    <tr>\n",
       "      <th>10</th>\n",
       "      <td>F1</td>\n",
       "      <td>3940</td>\n",
       "      <td>0.783249</td>\n",
       "      <td>-0.813144</td>\n",
       "      <td>0.211104</td>\n",
       "    </tr>\n",
       "    <tr>\n",
       "      <th>11</th>\n",
       "      <td>E4</td>\n",
       "      <td>5992</td>\n",
       "      <td>0.787550</td>\n",
       "      <td>-0.787624</td>\n",
       "      <td>0.211104</td>\n",
       "    </tr>\n",
       "    <tr>\n",
       "      <th>12</th>\n",
       "      <td>E2</td>\n",
       "      <td>8669</td>\n",
       "      <td>0.805745</td>\n",
       "      <td>-0.675251</td>\n",
       "      <td>0.211104</td>\n",
       "    </tr>\n",
       "    <tr>\n",
       "      <th>13</th>\n",
       "      <td>E3</td>\n",
       "      <td>6976</td>\n",
       "      <td>0.809920</td>\n",
       "      <td>-0.648355</td>\n",
       "      <td>0.211104</td>\n",
       "    </tr>\n",
       "    <tr>\n",
       "      <th>14</th>\n",
       "      <td>E1</td>\n",
       "      <td>9033</td>\n",
       "      <td>0.826968</td>\n",
       "      <td>-0.533556</td>\n",
       "      <td>0.211104</td>\n",
       "    </tr>\n",
       "    <tr>\n",
       "      <th>15</th>\n",
       "      <td>D5</td>\n",
       "      <td>11566</td>\n",
       "      <td>0.830451</td>\n",
       "      <td>-0.509015</td>\n",
       "      <td>0.211104</td>\n",
       "    </tr>\n",
       "    <tr>\n",
       "      <th>16</th>\n",
       "      <td>D4</td>\n",
       "      <td>14099</td>\n",
       "      <td>0.835520</td>\n",
       "      <td>-0.472577</td>\n",
       "      <td>0.211104</td>\n",
       "    </tr>\n",
       "    <tr>\n",
       "      <th>17</th>\n",
       "      <td>D3</td>\n",
       "      <td>14916</td>\n",
       "      <td>0.847546</td>\n",
       "      <td>-0.382360</td>\n",
       "      <td>0.211104</td>\n",
       "    </tr>\n",
       "    <tr>\n",
       "      <th>18</th>\n",
       "      <td>D2</td>\n",
       "      <td>17046</td>\n",
       "      <td>0.849349</td>\n",
       "      <td>-0.368341</td>\n",
       "      <td>0.211104</td>\n",
       "    </tr>\n",
       "    <tr>\n",
       "      <th>19</th>\n",
       "      <td>D1</td>\n",
       "      <td>19261</td>\n",
       "      <td>0.858470</td>\n",
       "      <td>-0.295200</td>\n",
       "      <td>0.211104</td>\n",
       "    </tr>\n",
       "    <tr>\n",
       "      <th>20</th>\n",
       "      <td>C5</td>\n",
       "      <td>22178</td>\n",
       "      <td>0.870683</td>\n",
       "      <td>-0.190836</td>\n",
       "      <td>0.211104</td>\n",
       "    </tr>\n",
       "    <tr>\n",
       "      <th>21</th>\n",
       "      <td>C4</td>\n",
       "      <td>24105</td>\n",
       "      <td>0.878946</td>\n",
       "      <td>-0.115355</td>\n",
       "      <td>0.211104</td>\n",
       "    </tr>\n",
       "    <tr>\n",
       "      <th>22</th>\n",
       "      <td>C3</td>\n",
       "      <td>25317</td>\n",
       "      <td>0.884109</td>\n",
       "      <td>-0.065909</td>\n",
       "      <td>0.211104</td>\n",
       "    </tr>\n",
       "    <tr>\n",
       "      <th>23</th>\n",
       "      <td>C2</td>\n",
       "      <td>26740</td>\n",
       "      <td>0.892932</td>\n",
       "      <td>0.023202</td>\n",
       "      <td>0.211104</td>\n",
       "    </tr>\n",
       "    <tr>\n",
       "      <th>24</th>\n",
       "      <td>C1</td>\n",
       "      <td>26953</td>\n",
       "      <td>0.896078</td>\n",
       "      <td>0.056547</td>\n",
       "      <td>0.211104</td>\n",
       "    </tr>\n",
       "    <tr>\n",
       "      <th>25</th>\n",
       "      <td>B5</td>\n",
       "      <td>25252</td>\n",
       "      <td>0.904324</td>\n",
       "      <td>0.148381</td>\n",
       "      <td>0.211104</td>\n",
       "    </tr>\n",
       "    <tr>\n",
       "      <th>26</th>\n",
       "      <td>B4</td>\n",
       "      <td>30505</td>\n",
       "      <td>0.912998</td>\n",
       "      <td>0.252957</td>\n",
       "      <td>0.211104</td>\n",
       "    </tr>\n",
       "    <tr>\n",
       "      <th>27</th>\n",
       "      <td>B3</td>\n",
       "      <td>31686</td>\n",
       "      <td>0.921038</td>\n",
       "      <td>0.358686</td>\n",
       "      <td>0.211104</td>\n",
       "    </tr>\n",
       "    <tr>\n",
       "      <th>28</th>\n",
       "      <td>B2</td>\n",
       "      <td>26610</td>\n",
       "      <td>0.931567</td>\n",
       "      <td>0.513170</td>\n",
       "      <td>0.211104</td>\n",
       "    </tr>\n",
       "    <tr>\n",
       "      <th>29</th>\n",
       "      <td>B1</td>\n",
       "      <td>22876</td>\n",
       "      <td>0.940287</td>\n",
       "      <td>0.658787</td>\n",
       "      <td>0.211104</td>\n",
       "    </tr>\n",
       "    <tr>\n",
       "      <th>30</th>\n",
       "      <td>A5</td>\n",
       "      <td>21757</td>\n",
       "      <td>0.949533</td>\n",
       "      <td>0.836817</td>\n",
       "      <td>0.211104</td>\n",
       "    </tr>\n",
       "    <tr>\n",
       "      <th>31</th>\n",
       "      <td>A4</td>\n",
       "      <td>19045</td>\n",
       "      <td>0.955684</td>\n",
       "      <td>0.973235</td>\n",
       "      <td>0.211104</td>\n",
       "    </tr>\n",
       "    <tr>\n",
       "      <th>32</th>\n",
       "      <td>A3</td>\n",
       "      <td>12568</td>\n",
       "      <td>0.964990</td>\n",
       "      <td>1.218653</td>\n",
       "      <td>0.211104</td>\n",
       "    </tr>\n",
       "    <tr>\n",
       "      <th>33</th>\n",
       "      <td>A2</td>\n",
       "      <td>10956</td>\n",
       "      <td>0.971431</td>\n",
       "      <td>1.428610</td>\n",
       "      <td>0.211104</td>\n",
       "    </tr>\n",
       "    <tr>\n",
       "      <th>34</th>\n",
       "      <td>A1</td>\n",
       "      <td>10541</td>\n",
       "      <td>0.980837</td>\n",
       "      <td>1.837567</td>\n",
       "      <td>0.211104</td>\n",
       "    </tr>\n",
       "  </tbody>\n",
       "</table>\n",
       "</div>"
      ],
      "text/plain": [
       "   sub_grade  support      pos%       WoE        IV\n",
       "0         G1     1109  0.706943 -1.217260  0.211104\n",
       "1         F5     1513  0.708526 -1.209608  0.211104\n",
       "2         G5      385  0.711688 -1.194246  0.211104\n",
       "3         G3      583  0.715266 -1.176746  0.211104\n",
       "4         G2      823  0.736330 -1.070861  0.211104\n",
       "5         F4     2067  0.745041 -1.025507  0.211104\n",
       "6         F3     2708  0.750739 -0.995289  0.211104\n",
       "7         G4      422  0.751185 -0.992903  0.211104\n",
       "8         F2     3001  0.768411 -0.898486  0.211104\n",
       "9         E5     5087  0.780224 -0.830871  0.211104\n",
       "10        F1     3940  0.783249 -0.813144  0.211104\n",
       "11        E4     5992  0.787550 -0.787624  0.211104\n",
       "12        E2     8669  0.805745 -0.675251  0.211104\n",
       "13        E3     6976  0.809920 -0.648355  0.211104\n",
       "14        E1     9033  0.826968 -0.533556  0.211104\n",
       "15        D5    11566  0.830451 -0.509015  0.211104\n",
       "16        D4    14099  0.835520 -0.472577  0.211104\n",
       "17        D3    14916  0.847546 -0.382360  0.211104\n",
       "18        D2    17046  0.849349 -0.368341  0.211104\n",
       "19        D1    19261  0.858470 -0.295200  0.211104\n",
       "20        C5    22178  0.870683 -0.190836  0.211104\n",
       "21        C4    24105  0.878946 -0.115355  0.211104\n",
       "22        C3    25317  0.884109 -0.065909  0.211104\n",
       "23        C2    26740  0.892932  0.023202  0.211104\n",
       "24        C1    26953  0.896078  0.056547  0.211104\n",
       "25        B5    25252  0.904324  0.148381  0.211104\n",
       "26        B4    30505  0.912998  0.252957  0.211104\n",
       "27        B3    31686  0.921038  0.358686  0.211104\n",
       "28        B2    26610  0.931567  0.513170  0.211104\n",
       "29        B1    22876  0.940287  0.658787  0.211104\n",
       "30        A5    21757  0.949533  0.836817  0.211104\n",
       "31        A4    19045  0.955684  0.973235  0.211104\n",
       "32        A3    12568  0.964990  1.218653  0.211104\n",
       "33        A2    10956  0.971431  1.428610  0.211104\n",
       "34        A1    10541  0.980837  1.837567  0.211104"
      ]
     },
     "execution_count": 13,
     "metadata": {},
     "output_type": "execute_result"
    },
    {
     "data": {
      "image/png": "[encoded data removed]",
      "text/plain": [
       "<Figure size 720x360 with 1 Axes>"
      ]
     },
     "metadata": {
      "needs_background": "light"
     },
     "output_type": "display_data"
    }
   ],
   "source": [
    "df_temp = calculate_woe(data, 'sub_grade', data['loan_status'])\n",
    "plot_woe(df_temp)\n",
    "df_temp"
   ]
  },
  {
   "cell_type": "code",
   "execution_count": 14,
   "id": "489649b5",
   "metadata": {},
   "outputs": [
    {
     "data": {
      "text/html": [
       "<div>\n",
       "<style scoped>\n",
       "    .dataframe tbody tr th:only-of-type {\n",
       "        vertical-align: middle;\n",
       "    }\n",
       "\n",
       "    .dataframe tbody tr th {\n",
       "        vertical-align: top;\n",
       "    }\n",
       "\n",
       "    .dataframe thead th {\n",
       "        text-align: right;\n",
       "    }\n",
       "</style>\n",
       "<table border=\"1\" class=\"dataframe\">\n",
       "  <thead>\n",
       "    <tr style=\"text-align: right;\">\n",
       "      <th></th>\n",
       "      <th>sub_grade</th>\n",
       "      <th>support</th>\n",
       "      <th>pos%</th>\n",
       "      <th>WoE</th>\n",
       "      <th>IV</th>\n",
       "    </tr>\n",
       "  </thead>\n",
       "  <tbody>\n",
       "    <tr>\n",
       "      <th>0</th>\n",
       "      <td>(-0.001, 14.0]</td>\n",
       "      <td>52308</td>\n",
       "      <td>0.788178</td>\n",
       "      <td>-0.783868</td>\n",
       "      <td>0.304499</td>\n",
       "    </tr>\n",
       "    <tr>\n",
       "      <th>1</th>\n",
       "      <td>(14.0, 18.0]</td>\n",
       "      <td>57627</td>\n",
       "      <td>0.841706</td>\n",
       "      <td>-0.426866</td>\n",
       "      <td>0.304499</td>\n",
       "    </tr>\n",
       "    <tr>\n",
       "      <th>2</th>\n",
       "      <td>(18.0, 20.0]</td>\n",
       "      <td>41439</td>\n",
       "      <td>0.865006</td>\n",
       "      <td>-0.240335</td>\n",
       "      <td>0.304499</td>\n",
       "    </tr>\n",
       "    <tr>\n",
       "      <th>3</th>\n",
       "      <td>(20.0, 22.0]</td>\n",
       "      <td>49422</td>\n",
       "      <td>0.881591</td>\n",
       "      <td>-0.090259</td>\n",
       "      <td>0.304499</td>\n",
       "    </tr>\n",
       "    <tr>\n",
       "      <th>4</th>\n",
       "      <td>(22.0, 24.0]</td>\n",
       "      <td>53693</td>\n",
       "      <td>0.894511</td>\n",
       "      <td>0.039831</td>\n",
       "      <td>0.304499</td>\n",
       "    </tr>\n",
       "    <tr>\n",
       "      <th>5</th>\n",
       "      <td>(24.0, 26.0]</td>\n",
       "      <td>55757</td>\n",
       "      <td>0.909070</td>\n",
       "      <td>0.204485</td>\n",
       "      <td>0.304499</td>\n",
       "    </tr>\n",
       "    <tr>\n",
       "      <th>6</th>\n",
       "      <td>(26.0, 27.0]</td>\n",
       "      <td>31686</td>\n",
       "      <td>0.921038</td>\n",
       "      <td>0.358686</td>\n",
       "      <td>0.304499</td>\n",
       "    </tr>\n",
       "    <tr>\n",
       "      <th>7</th>\n",
       "      <td>(27.0, 29.0]</td>\n",
       "      <td>49486</td>\n",
       "      <td>0.935598</td>\n",
       "      <td>0.578196</td>\n",
       "      <td>0.304499</td>\n",
       "    </tr>\n",
       "    <tr>\n",
       "      <th>8</th>\n",
       "      <td>(29.0, 31.0]</td>\n",
       "      <td>40802</td>\n",
       "      <td>0.952404</td>\n",
       "      <td>0.898403</td>\n",
       "      <td>0.304499</td>\n",
       "    </tr>\n",
       "    <tr>\n",
       "      <th>9</th>\n",
       "      <td>(31.0, 34.0]</td>\n",
       "      <td>34065</td>\n",
       "      <td>0.971965</td>\n",
       "      <td>1.448035</td>\n",
       "      <td>0.304499</td>\n",
       "    </tr>\n",
       "  </tbody>\n",
       "</table>\n",
       "</div>"
      ],
      "text/plain": [
       "        sub_grade  support      pos%       WoE        IV\n",
       "0  (-0.001, 14.0]    52308  0.788178 -0.783868  0.304499\n",
       "1    (14.0, 18.0]    57627  0.841706 -0.426866  0.304499\n",
       "2    (18.0, 20.0]    41439  0.865006 -0.240335  0.304499\n",
       "3    (20.0, 22.0]    49422  0.881591 -0.090259  0.304499\n",
       "4    (22.0, 24.0]    53693  0.894511  0.039831  0.304499\n",
       "5    (24.0, 26.0]    55757  0.909070  0.204485  0.304499\n",
       "6    (26.0, 27.0]    31686  0.921038  0.358686  0.304499\n",
       "7    (27.0, 29.0]    49486  0.935598  0.578196  0.304499\n",
       "8    (29.0, 31.0]    40802  0.952404  0.898403  0.304499\n",
       "9    (31.0, 34.0]    34065  0.971965  1.448035  0.304499"
      ]
     },
     "execution_count": 14,
     "metadata": {},
     "output_type": "execute_result"
    },
    {
     "data": {
      "image/png": "[encoded data removed]",
      "text/plain": [
       "<Figure size 720x360 with 1 Axes>"
      ]
     },
     "metadata": {
      "needs_background": "light"
     },
     "output_type": "display_data"
    }
   ],
   "source": [
    "# since grades are ordinal data (we can compare them), its best to use a label encoder here. Otherwise we have too many features\n",
    "grades = list(data['sub_grade'].unique())\n",
    "grades.sort(reverse=True) # sorts grades as [G5, G4, ... A2, A1]\n",
    "grades_map = dict(zip(grades, list(range(len(grades))))) # get dict of corresponding indices\n",
    "data['sub_grade'] = data['sub_grade'].apply(lambda x: grades_map[x])\n",
    "# plot the results\n",
    "X_woe['sub_grade'] = pd.qcut(data['sub_grade'], 10)\n",
    "df_temp = calculate_woe(X_woe, 'sub_grade', data['loan_status'])\n",
    "plot_woe(df_temp)\n",
    "df_temp"
   ]
  },
  {
   "cell_type": "markdown",
   "id": "2c3e2ea9",
   "metadata": {},
   "source": [
    "We have effectively reduced number of features from 35 to 10 while also increasing the IV"
   ]
  },
  {
   "cell_type": "markdown",
   "id": "d91fb342",
   "metadata": {},
   "source": [
    "### emp_length"
   ]
  },
  {
   "cell_type": "code",
   "execution_count": 15,
   "id": "648c8873",
   "metadata": {},
   "outputs": [
    {
     "name": "stdout",
     "output_type": "stream",
     "text": [
      "10+ years    150049\n",
      "2 years       41373\n",
      "3 years       36596\n",
      "< 1 year      36265\n",
      "5 years       30774\n",
      "1 year        29622\n",
      "4 years       28023\n",
      "7 years       26180\n",
      "6 years       26112\n",
      "8 years       22395\n",
      "9 years       17888\n",
      "Name: emp_length, dtype: int64\n",
      "21008\n"
     ]
    }
   ],
   "source": [
    "print(data['emp_length'].value_counts())\n",
    "print(data['emp_length'].isnull().sum())"
   ]
  },
  {
   "cell_type": "code",
   "execution_count": 16,
   "id": "c79d1081",
   "metadata": {},
   "outputs": [],
   "source": [
    "# lots of nan, best strategy would be to make it a separate category\n",
    "data['emp_length'] = data['emp_length'].fillna('NaN')"
   ]
  },
  {
   "cell_type": "code",
   "execution_count": 17,
   "id": "ecc1ba73",
   "metadata": {},
   "outputs": [
    {
     "data": {
      "text/html": [
       "<div>\n",
       "<style scoped>\n",
       "    .dataframe tbody tr th:only-of-type {\n",
       "        vertical-align: middle;\n",
       "    }\n",
       "\n",
       "    .dataframe tbody tr th {\n",
       "        vertical-align: top;\n",
       "    }\n",
       "\n",
       "    .dataframe thead th {\n",
       "        text-align: right;\n",
       "    }\n",
       "</style>\n",
       "<table border=\"1\" class=\"dataframe\">\n",
       "  <thead>\n",
       "    <tr style=\"text-align: right;\">\n",
       "      <th></th>\n",
       "      <th>emp_length</th>\n",
       "      <th>support</th>\n",
       "      <th>pos%</th>\n",
       "      <th>WoE</th>\n",
       "      <th>IV</th>\n",
       "    </tr>\n",
       "  </thead>\n",
       "  <tbody>\n",
       "    <tr>\n",
       "      <th>0</th>\n",
       "      <td>NaN</td>\n",
       "      <td>21008</td>\n",
       "      <td>0.867384</td>\n",
       "      <td>-0.219821</td>\n",
       "      <td>0.003532</td>\n",
       "    </tr>\n",
       "    <tr>\n",
       "      <th>1</th>\n",
       "      <td>&lt; 1 year</td>\n",
       "      <td>36265</td>\n",
       "      <td>0.881015</td>\n",
       "      <td>-0.095769</td>\n",
       "      <td>0.003532</td>\n",
       "    </tr>\n",
       "    <tr>\n",
       "      <th>2</th>\n",
       "      <td>6 years</td>\n",
       "      <td>26112</td>\n",
       "      <td>0.882889</td>\n",
       "      <td>-0.077766</td>\n",
       "      <td>0.003532</td>\n",
       "    </tr>\n",
       "    <tr>\n",
       "      <th>3</th>\n",
       "      <td>5 years</td>\n",
       "      <td>30774</td>\n",
       "      <td>0.885033</td>\n",
       "      <td>-0.056866</td>\n",
       "      <td>0.003532</td>\n",
       "    </tr>\n",
       "    <tr>\n",
       "      <th>4</th>\n",
       "      <td>9 years</td>\n",
       "      <td>17888</td>\n",
       "      <td>0.887914</td>\n",
       "      <td>-0.028239</td>\n",
       "      <td>0.003532</td>\n",
       "    </tr>\n",
       "    <tr>\n",
       "      <th>5</th>\n",
       "      <td>1 year</td>\n",
       "      <td>29622</td>\n",
       "      <td>0.888124</td>\n",
       "      <td>-0.026127</td>\n",
       "      <td>0.003532</td>\n",
       "    </tr>\n",
       "    <tr>\n",
       "      <th>6</th>\n",
       "      <td>7 years</td>\n",
       "      <td>26180</td>\n",
       "      <td>0.888655</td>\n",
       "      <td>-0.020764</td>\n",
       "      <td>0.003532</td>\n",
       "    </tr>\n",
       "    <tr>\n",
       "      <th>7</th>\n",
       "      <td>8 years</td>\n",
       "      <td>22395</td>\n",
       "      <td>0.889931</td>\n",
       "      <td>-0.007810</td>\n",
       "      <td>0.003532</td>\n",
       "    </tr>\n",
       "    <tr>\n",
       "      <th>8</th>\n",
       "      <td>2 years</td>\n",
       "      <td>41373</td>\n",
       "      <td>0.890242</td>\n",
       "      <td>-0.004624</td>\n",
       "      <td>0.003532</td>\n",
       "    </tr>\n",
       "    <tr>\n",
       "      <th>9</th>\n",
       "      <td>4 years</td>\n",
       "      <td>28023</td>\n",
       "      <td>0.890411</td>\n",
       "      <td>-0.002893</td>\n",
       "      <td>0.003532</td>\n",
       "    </tr>\n",
       "    <tr>\n",
       "      <th>10</th>\n",
       "      <td>3 years</td>\n",
       "      <td>36596</td>\n",
       "      <td>0.890480</td>\n",
       "      <td>-0.002192</td>\n",
       "      <td>0.003532</td>\n",
       "    </tr>\n",
       "    <tr>\n",
       "      <th>11</th>\n",
       "      <td>10+ years</td>\n",
       "      <td>150049</td>\n",
       "      <td>0.900353</td>\n",
       "      <td>0.103304</td>\n",
       "      <td>0.003532</td>\n",
       "    </tr>\n",
       "  </tbody>\n",
       "</table>\n",
       "</div>"
      ],
      "text/plain": [
       "   emp_length  support      pos%       WoE        IV\n",
       "0         NaN    21008  0.867384 -0.219821  0.003532\n",
       "1    < 1 year    36265  0.881015 -0.095769  0.003532\n",
       "2     6 years    26112  0.882889 -0.077766  0.003532\n",
       "3     5 years    30774  0.885033 -0.056866  0.003532\n",
       "4     9 years    17888  0.887914 -0.028239  0.003532\n",
       "5      1 year    29622  0.888124 -0.026127  0.003532\n",
       "6     7 years    26180  0.888655 -0.020764  0.003532\n",
       "7     8 years    22395  0.889931 -0.007810  0.003532\n",
       "8     2 years    41373  0.890242 -0.004624  0.003532\n",
       "9     4 years    28023  0.890411 -0.002893  0.003532\n",
       "10    3 years    36596  0.890480 -0.002192  0.003532\n",
       "11  10+ years   150049  0.900353  0.103304  0.003532"
      ]
     },
     "execution_count": 17,
     "metadata": {},
     "output_type": "execute_result"
    },
    {
     "data": {
      "image/png": "[encoded data removed]",
      "text/plain": [
       "<Figure size 720x360 with 1 Axes>"
      ]
     },
     "metadata": {
      "needs_background": "light"
     },
     "output_type": "display_data"
    }
   ],
   "source": [
    "df_temp = calculate_woe(data, 'emp_length', data['loan_status'])\n",
    "plot_woe(df_temp)\n",
    "df_temp"
   ]
  },
  {
   "cell_type": "code",
   "execution_count": 18,
   "id": "f73d4003",
   "metadata": {},
   "outputs": [],
   "source": [
    "# again, we have an ordinal feature, best to label encode it\n",
    "emp_len = ['NaN', '< 1 year', '1 year', '2 years', '3 years', '4 years', '5 years', \n",
    "           '6 years', '7 years', '8 years', '9 years', '10+ years']\n",
    "emp_len_map = dict(zip(emp_len, range(len(emp_len))))\n",
    "data['emp_length'] = data['emp_length'].apply(lambda x: emp_len_map[x])"
   ]
  },
  {
   "cell_type": "code",
   "execution_count": 19,
   "id": "a21816a9",
   "metadata": {},
   "outputs": [
    {
     "data": {
      "text/html": [
       "<div>\n",
       "<style scoped>\n",
       "    .dataframe tbody tr th:only-of-type {\n",
       "        vertical-align: middle;\n",
       "    }\n",
       "\n",
       "    .dataframe tbody tr th {\n",
       "        vertical-align: top;\n",
       "    }\n",
       "\n",
       "    .dataframe thead th {\n",
       "        text-align: right;\n",
       "    }\n",
       "</style>\n",
       "<table border=\"1\" class=\"dataframe\">\n",
       "  <thead>\n",
       "    <tr style=\"text-align: right;\">\n",
       "      <th></th>\n",
       "      <th>emp_length</th>\n",
       "      <th>support</th>\n",
       "      <th>pos%</th>\n",
       "      <th>WoE</th>\n",
       "      <th>IV</th>\n",
       "    </tr>\n",
       "  </thead>\n",
       "  <tbody>\n",
       "    <tr>\n",
       "      <th>0</th>\n",
       "      <td>(-0.011, 2.75]</td>\n",
       "      <td>86895</td>\n",
       "      <td>0.880143</td>\n",
       "      <td>-0.104062</td>\n",
       "      <td>0.004514</td>\n",
       "    </tr>\n",
       "    <tr>\n",
       "      <th>1</th>\n",
       "      <td>(5.5, 8.25]</td>\n",
       "      <td>83066</td>\n",
       "      <td>0.885501</td>\n",
       "      <td>-0.052260</td>\n",
       "      <td>0.004514</td>\n",
       "    </tr>\n",
       "    <tr>\n",
       "      <th>2</th>\n",
       "      <td>(2.75, 5.5]</td>\n",
       "      <td>105992</td>\n",
       "      <td>0.890369</td>\n",
       "      <td>-0.003327</td>\n",
       "      <td>0.004514</td>\n",
       "    </tr>\n",
       "    <tr>\n",
       "      <th>3</th>\n",
       "      <td>(8.25, 11.0]</td>\n",
       "      <td>190332</td>\n",
       "      <td>0.897957</td>\n",
       "      <td>0.076887</td>\n",
       "      <td>0.004514</td>\n",
       "    </tr>\n",
       "  </tbody>\n",
       "</table>\n",
       "</div>"
      ],
      "text/plain": [
       "       emp_length  support      pos%       WoE        IV\n",
       "0  (-0.011, 2.75]    86895  0.880143 -0.104062  0.004514\n",
       "1     (5.5, 8.25]    83066  0.885501 -0.052260  0.004514\n",
       "2     (2.75, 5.5]   105992  0.890369 -0.003327  0.004514\n",
       "3    (8.25, 11.0]   190332  0.897957  0.076887  0.004514"
      ]
     },
     "execution_count": 19,
     "metadata": {},
     "output_type": "execute_result"
    },
    {
     "data": {
      "image/png": "[encoded data removed]",
      "text/plain": [
       "<Figure size 720x360 with 1 Axes>"
      ]
     },
     "metadata": {
      "needs_background": "light"
     },
     "output_type": "display_data"
    }
   ],
   "source": [
    "# plot the results\n",
    "X_woe['emp_length'] = pd.cut(data['emp_length'], 4)\n",
    "df_temp = calculate_woe(X_woe, 'emp_length', data['loan_status'])\n",
    "plot_woe(df_temp)\n",
    "df_temp"
   ]
  },
  {
   "cell_type": "markdown",
   "id": "ef44e620",
   "metadata": {},
   "source": [
    "### home_ownership"
   ]
  },
  {
   "cell_type": "code",
   "execution_count": 20,
   "id": "f3a71f64",
   "metadata": {},
   "outputs": [
    {
     "name": "stdout",
     "output_type": "stream",
     "text": [
      "MORTGAGE    235875\n",
      "RENT        188473\n",
      "OWN          41704\n",
      "OTHER          182\n",
      "NONE            50\n",
      "ANY              1\n",
      "Name: home_ownership, dtype: int64\n",
      "0\n"
     ]
    }
   ],
   "source": [
    "print(data['home_ownership'].value_counts())\n",
    "print(data['home_ownership'].isnull().sum())"
   ]
  },
  {
   "cell_type": "code",
   "execution_count": 21,
   "id": "8180cec6",
   "metadata": {},
   "outputs": [
    {
     "data": {
      "text/html": [
       "<div>\n",
       "<style scoped>\n",
       "    .dataframe tbody tr th:only-of-type {\n",
       "        vertical-align: middle;\n",
       "    }\n",
       "\n",
       "    .dataframe tbody tr th {\n",
       "        vertical-align: top;\n",
       "    }\n",
       "\n",
       "    .dataframe thead th {\n",
       "        text-align: right;\n",
       "    }\n",
       "</style>\n",
       "<table border=\"1\" class=\"dataframe\">\n",
       "  <thead>\n",
       "    <tr style=\"text-align: right;\">\n",
       "      <th></th>\n",
       "      <th>home_ownership</th>\n",
       "      <th>support</th>\n",
       "      <th>pos%</th>\n",
       "      <th>WoE</th>\n",
       "      <th>IV</th>\n",
       "    </tr>\n",
       "  </thead>\n",
       "  <tbody>\n",
       "    <tr>\n",
       "      <th>0</th>\n",
       "      <td>RENT</td>\n",
       "      <td>188473</td>\n",
       "      <td>0.873897</td>\n",
       "      <td>-0.161980</td>\n",
       "      <td>0.021149</td>\n",
       "    </tr>\n",
       "    <tr>\n",
       "      <th>1</th>\n",
       "      <td>OWN</td>\n",
       "      <td>41704</td>\n",
       "      <td>0.891737</td>\n",
       "      <td>0.010764</td>\n",
       "      <td>0.021149</td>\n",
       "    </tr>\n",
       "    <tr>\n",
       "      <th>2</th>\n",
       "      <td>MORTGAGE</td>\n",
       "      <td>236108</td>\n",
       "      <td>0.903917</td>\n",
       "      <td>0.143679</td>\n",
       "      <td>0.021149</td>\n",
       "    </tr>\n",
       "  </tbody>\n",
       "</table>\n",
       "</div>"
      ],
      "text/plain": [
       "  home_ownership  support      pos%       WoE        IV\n",
       "0           RENT   188473  0.873897 -0.161980  0.021149\n",
       "1            OWN    41704  0.891737  0.010764  0.021149\n",
       "2       MORTGAGE   236108  0.903917  0.143679  0.021149"
      ]
     },
     "execution_count": 21,
     "metadata": {},
     "output_type": "execute_result"
    },
    {
     "data": {
      "image/png": "[encoded data removed]",
      "text/plain": [
       "<Figure size 720x360 with 1 Axes>"
      ]
     },
     "metadata": {
      "needs_background": "light"
     },
     "output_type": "display_data"
    }
   ],
   "source": [
    "# features ANY/NONE/OTHER contain too few samples, therefore we aggregate them with mode - MORTGAGE\n",
    "data['home_ownership'] = data['home_ownership'].replace(['ANY', 'NONE', 'OTHER'], 'MORTGAGE')\n",
    "df_temp = calculate_woe(data, 'home_ownership', data['loan_status'])\n",
    "plot_woe(df_temp)\n",
    "df_temp"
   ]
  },
  {
   "cell_type": "markdown",
   "id": "b0da6dfb",
   "metadata": {},
   "source": [
    "### annual_inc"
   ]
  },
  {
   "cell_type": "code",
   "execution_count": 22,
   "id": "9c8c9fdf",
   "metadata": {},
   "outputs": [
    {
     "name": "stdout",
     "output_type": "stream",
     "text": [
      "count    4.662810e+05\n",
      "mean     7.327738e+04\n",
      "std      5.496357e+04\n",
      "min      1.896000e+03\n",
      "25%      4.500000e+04\n",
      "50%      6.300000e+04\n",
      "75%      8.896000e+04\n",
      "max      7.500000e+06\n",
      "Name: annual_inc, dtype: float64\n",
      "4\n"
     ]
    }
   ],
   "source": [
    "print(data['annual_inc'].describe())\n",
    "print(data['annual_inc'].isnull().sum())"
   ]
  },
  {
   "cell_type": "code",
   "execution_count": 23,
   "id": "80324a29",
   "metadata": {},
   "outputs": [
    {
     "data": {
      "text/html": [
       "<div>\n",
       "<style scoped>\n",
       "    .dataframe tbody tr th:only-of-type {\n",
       "        vertical-align: middle;\n",
       "    }\n",
       "\n",
       "    .dataframe tbody tr th {\n",
       "        vertical-align: top;\n",
       "    }\n",
       "\n",
       "    .dataframe thead th {\n",
       "        text-align: right;\n",
       "    }\n",
       "</style>\n",
       "<table border=\"1\" class=\"dataframe\">\n",
       "  <thead>\n",
       "    <tr style=\"text-align: right;\">\n",
       "      <th></th>\n",
       "      <th>annual_inc</th>\n",
       "      <th>support</th>\n",
       "      <th>pos%</th>\n",
       "      <th>WoE</th>\n",
       "      <th>IV</th>\n",
       "    </tr>\n",
       "  </thead>\n",
       "  <tbody>\n",
       "    <tr>\n",
       "      <th>0</th>\n",
       "      <td>(1895.999, 50000.0]</td>\n",
       "      <td>157715</td>\n",
       "      <td>0.865390</td>\n",
       "      <td>-0.237035</td>\n",
       "      <td>0.047585</td>\n",
       "    </tr>\n",
       "    <tr>\n",
       "      <th>1</th>\n",
       "      <td>(50000.0, 78000.0]</td>\n",
       "      <td>153609</td>\n",
       "      <td>0.890404</td>\n",
       "      <td>-0.002965</td>\n",
       "      <td>0.047585</td>\n",
       "    </tr>\n",
       "    <tr>\n",
       "      <th>2</th>\n",
       "      <td>(78000.0, 7500000.0]</td>\n",
       "      <td>154957</td>\n",
       "      <td>0.916732</td>\n",
       "      <td>0.300913</td>\n",
       "      <td>0.047585</td>\n",
       "    </tr>\n",
       "  </tbody>\n",
       "</table>\n",
       "</div>"
      ],
      "text/plain": [
       "             annual_inc  support      pos%       WoE        IV\n",
       "0   (1895.999, 50000.0]   157715  0.865390 -0.237035  0.047585\n",
       "1    (50000.0, 78000.0]   153609  0.890404 -0.002965  0.047585\n",
       "2  (78000.0, 7500000.0]   154957  0.916732  0.300913  0.047585"
      ]
     },
     "execution_count": 23,
     "metadata": {},
     "output_type": "execute_result"
    },
    {
     "data": {
      "image/png": "[encoded data removed]",
      "text/plain": [
       "<Figure size 720x360 with 1 Axes>"
      ]
     },
     "metadata": {
      "needs_background": "light"
     },
     "output_type": "display_data"
    }
   ],
   "source": [
    "X_woe['annual_inc'] = pd.qcut(data['annual_inc'], 3)\n",
    "df_temp = calculate_woe(X_woe, 'annual_inc', data['loan_status'])\n",
    "plot_woe(df_temp)\n",
    "df_temp"
   ]
  },
  {
   "cell_type": "markdown",
   "id": "d745c32f",
   "metadata": {},
   "source": [
    "### verification_status"
   ]
  },
  {
   "cell_type": "code",
   "execution_count": 24,
   "id": "eb15cfea",
   "metadata": {},
   "outputs": [
    {
     "data": {
      "text/html": [
       "<div>\n",
       "<style scoped>\n",
       "    .dataframe tbody tr th:only-of-type {\n",
       "        vertical-align: middle;\n",
       "    }\n",
       "\n",
       "    .dataframe tbody tr th {\n",
       "        vertical-align: top;\n",
       "    }\n",
       "\n",
       "    .dataframe thead th {\n",
       "        text-align: right;\n",
       "    }\n",
       "</style>\n",
       "<table border=\"1\" class=\"dataframe\">\n",
       "  <thead>\n",
       "    <tr style=\"text-align: right;\">\n",
       "      <th></th>\n",
       "      <th>verification_status</th>\n",
       "      <th>support</th>\n",
       "      <th>pos%</th>\n",
       "      <th>WoE</th>\n",
       "      <th>IV</th>\n",
       "    </tr>\n",
       "  </thead>\n",
       "  <tbody>\n",
       "    <tr>\n",
       "      <th>0</th>\n",
       "      <td>Verified</td>\n",
       "      <td>168055</td>\n",
       "      <td>0.872631</td>\n",
       "      <td>-0.173420</td>\n",
       "      <td>0.018854</td>\n",
       "    </tr>\n",
       "    <tr>\n",
       "      <th>1</th>\n",
       "      <td>Source Verified</td>\n",
       "      <td>149993</td>\n",
       "      <td>0.895882</td>\n",
       "      <td>0.054438</td>\n",
       "      <td>0.018854</td>\n",
       "    </tr>\n",
       "    <tr>\n",
       "      <th>2</th>\n",
       "      <td>Not Verified</td>\n",
       "      <td>148237</td>\n",
       "      <td>0.905921</td>\n",
       "      <td>0.166972</td>\n",
       "      <td>0.018854</td>\n",
       "    </tr>\n",
       "  </tbody>\n",
       "</table>\n",
       "</div>"
      ],
      "text/plain": [
       "  verification_status  support      pos%       WoE        IV\n",
       "0            Verified   168055  0.872631 -0.173420  0.018854\n",
       "1     Source Verified   149993  0.895882  0.054438  0.018854\n",
       "2        Not Verified   148237  0.905921  0.166972  0.018854"
      ]
     },
     "execution_count": 24,
     "metadata": {},
     "output_type": "execute_result"
    },
    {
     "data": {
      "image/png": "[encoded data removed]",
      "text/plain": [
       "<Figure size 720x360 with 1 Axes>"
      ]
     },
     "metadata": {
      "needs_background": "light"
     },
     "output_type": "display_data"
    }
   ],
   "source": [
    "df_temp = calculate_woe(data, 'verification_status', data['loan_status'])\n",
    "plot_woe(df_temp)\n",
    "df_temp"
   ]
  },
  {
   "cell_type": "markdown",
   "id": "92697e2a",
   "metadata": {},
   "source": [
    "### issue_d"
   ]
  },
  {
   "cell_type": "code",
   "execution_count": 25,
   "id": "3438f7fd",
   "metadata": {},
   "outputs": [
    {
     "name": "stdout",
     "output_type": "stream",
     "text": [
      "count     466285\n",
      "unique        91\n",
      "top       Oct-14\n",
      "freq       38782\n",
      "Name: issue_d, dtype: object\n",
      "0\n"
     ]
    }
   ],
   "source": [
    "# based on domain knowledge, its best to omit this feature, banks to not give any preference to any specific issue dates\n",
    "print(data['issue_d'].describe())\n",
    "print(data['issue_d'].isnull().sum())"
   ]
  },
  {
   "cell_type": "markdown",
   "id": "5bb4d552",
   "metadata": {},
   "source": [
    "### pymnt_plan"
   ]
  },
  {
   "cell_type": "code",
   "execution_count": 26,
   "id": "68accb85",
   "metadata": {},
   "outputs": [
    {
     "name": "stdout",
     "output_type": "stream",
     "text": [
      "n    466276\n",
      "y         9\n",
      "Name: pymnt_plan, dtype: int64\n",
      "0\n"
     ]
    }
   ],
   "source": [
    "# omit this feature, features with value `y` are encountered very rarely\n",
    "print(data['pymnt_plan'].value_counts())\n",
    "print(data['pymnt_plan'].isnull().sum())"
   ]
  },
  {
   "cell_type": "markdown",
   "id": "60fbffb1",
   "metadata": {},
   "source": [
    "### purpose"
   ]
  },
  {
   "cell_type": "code",
   "execution_count": 27,
   "id": "c5d2a829",
   "metadata": {},
   "outputs": [
    {
     "data": {
      "text/html": [
       "<div>\n",
       "<style scoped>\n",
       "    .dataframe tbody tr th:only-of-type {\n",
       "        vertical-align: middle;\n",
       "    }\n",
       "\n",
       "    .dataframe tbody tr th {\n",
       "        vertical-align: top;\n",
       "    }\n",
       "\n",
       "    .dataframe thead th {\n",
       "        text-align: right;\n",
       "    }\n",
       "</style>\n",
       "<table border=\"1\" class=\"dataframe\">\n",
       "  <thead>\n",
       "    <tr style=\"text-align: right;\">\n",
       "      <th></th>\n",
       "      <th>purpose</th>\n",
       "      <th>support</th>\n",
       "      <th>pos%</th>\n",
       "      <th>WoE</th>\n",
       "      <th>IV</th>\n",
       "    </tr>\n",
       "  </thead>\n",
       "  <tbody>\n",
       "    <tr>\n",
       "      <th>0</th>\n",
       "      <td>small_business</td>\n",
       "      <td>7013</td>\n",
       "      <td>0.784258</td>\n",
       "      <td>-0.807190</td>\n",
       "      <td>0.036295</td>\n",
       "    </tr>\n",
       "    <tr>\n",
       "      <th>1</th>\n",
       "      <td>educational</td>\n",
       "      <td>422</td>\n",
       "      <td>0.791469</td>\n",
       "      <td>-0.764040</td>\n",
       "      <td>0.036295</td>\n",
       "    </tr>\n",
       "    <tr>\n",
       "      <th>2</th>\n",
       "      <td>renewable_energy</td>\n",
       "      <td>351</td>\n",
       "      <td>0.846154</td>\n",
       "      <td>-0.393096</td>\n",
       "      <td>0.036295</td>\n",
       "    </tr>\n",
       "    <tr>\n",
       "      <th>3</th>\n",
       "      <td>moving</td>\n",
       "      <td>2994</td>\n",
       "      <td>0.847361</td>\n",
       "      <td>-0.383790</td>\n",
       "      <td>0.036295</td>\n",
       "    </tr>\n",
       "    <tr>\n",
       "      <th>4</th>\n",
       "      <td>house</td>\n",
       "      <td>2269</td>\n",
       "      <td>0.859850</td>\n",
       "      <td>-0.283798</td>\n",
       "      <td>0.036295</td>\n",
       "    </tr>\n",
       "    <tr>\n",
       "      <th>5</th>\n",
       "      <td>other</td>\n",
       "      <td>23690</td>\n",
       "      <td>0.862009</td>\n",
       "      <td>-0.265764</td>\n",
       "      <td>0.036295</td>\n",
       "    </tr>\n",
       "    <tr>\n",
       "      <th>6</th>\n",
       "      <td>medical</td>\n",
       "      <td>4602</td>\n",
       "      <td>0.866145</td>\n",
       "      <td>-0.230548</td>\n",
       "      <td>0.036295</td>\n",
       "    </tr>\n",
       "    <tr>\n",
       "      <th>7</th>\n",
       "      <td>wedding</td>\n",
       "      <td>2343</td>\n",
       "      <td>0.878361</td>\n",
       "      <td>-0.120843</td>\n",
       "      <td>0.036295</td>\n",
       "    </tr>\n",
       "    <tr>\n",
       "      <th>8</th>\n",
       "      <td>vacation</td>\n",
       "      <td>2487</td>\n",
       "      <td>0.882187</td>\n",
       "      <td>-0.084535</td>\n",
       "      <td>0.036295</td>\n",
       "    </tr>\n",
       "    <tr>\n",
       "      <th>9</th>\n",
       "      <td>debt_consolidation</td>\n",
       "      <td>274195</td>\n",
       "      <td>0.886690</td>\n",
       "      <td>-0.040475</td>\n",
       "      <td>0.036295</td>\n",
       "    </tr>\n",
       "    <tr>\n",
       "      <th>10</th>\n",
       "      <td>home_improvement</td>\n",
       "      <td>26537</td>\n",
       "      <td>0.901835</td>\n",
       "      <td>0.119940</td>\n",
       "      <td>0.036295</td>\n",
       "    </tr>\n",
       "    <tr>\n",
       "      <th>11</th>\n",
       "      <td>major_purchase</td>\n",
       "      <td>9828</td>\n",
       "      <td>0.904457</td>\n",
       "      <td>0.149910</td>\n",
       "      <td>0.036295</td>\n",
       "    </tr>\n",
       "    <tr>\n",
       "      <th>12</th>\n",
       "      <td>car</td>\n",
       "      <td>5397</td>\n",
       "      <td>0.910876</td>\n",
       "      <td>0.226539</td>\n",
       "      <td>0.036295</td>\n",
       "    </tr>\n",
       "    <tr>\n",
       "      <th>13</th>\n",
       "      <td>credit_card</td>\n",
       "      <td>104157</td>\n",
       "      <td>0.913774</td>\n",
       "      <td>0.262772</td>\n",
       "      <td>0.036295</td>\n",
       "    </tr>\n",
       "  </tbody>\n",
       "</table>\n",
       "</div>"
      ],
      "text/plain": [
       "               purpose  support      pos%       WoE        IV\n",
       "0       small_business     7013  0.784258 -0.807190  0.036295\n",
       "1          educational      422  0.791469 -0.764040  0.036295\n",
       "2     renewable_energy      351  0.846154 -0.393096  0.036295\n",
       "3               moving     2994  0.847361 -0.383790  0.036295\n",
       "4                house     2269  0.859850 -0.283798  0.036295\n",
       "5                other    23690  0.862009 -0.265764  0.036295\n",
       "6              medical     4602  0.866145 -0.230548  0.036295\n",
       "7              wedding     2343  0.878361 -0.120843  0.036295\n",
       "8             vacation     2487  0.882187 -0.084535  0.036295\n",
       "9   debt_consolidation   274195  0.886690 -0.040475  0.036295\n",
       "10    home_improvement    26537  0.901835  0.119940  0.036295\n",
       "11      major_purchase     9828  0.904457  0.149910  0.036295\n",
       "12                 car     5397  0.910876  0.226539  0.036295\n",
       "13         credit_card   104157  0.913774  0.262772  0.036295"
      ]
     },
     "execution_count": 27,
     "metadata": {},
     "output_type": "execute_result"
    },
    {
     "data": {
      "image/png": "[encoded data removed]",
      "text/plain": [
       "<Figure size 720x360 with 1 Axes>"
      ]
     },
     "metadata": {
      "needs_background": "light"
     },
     "output_type": "display_data"
    }
   ],
   "source": [
    "df_temp = calculate_woe(data, 'purpose', data['loan_status'])\n",
    "plot_woe(df_temp)\n",
    "df_temp"
   ]
  },
  {
   "cell_type": "markdown",
   "id": "3072b5e3",
   "metadata": {},
   "source": [
    "-----------------------------------------------------------------------"
   ]
  },
  {
   "cell_type": "code",
   "execution_count": 28,
   "id": "0d7d94a7",
   "metadata": {},
   "outputs": [
    {
     "name": "stdout",
     "output_type": "stream",
     "text": [
      "id\n",
      "member_id\n",
      "loan_amnt\n",
      "funded_amnt\n",
      "funded_amnt_inv\n",
      "term\n",
      "int_rate\n",
      "installment\n",
      "grade\n",
      "sub_grade\n",
      "emp_title\n",
      "emp_length\n",
      "home_ownership\n",
      "annual_inc\n",
      "verification_status\n",
      "issue_d\n",
      "loan_status\n",
      "pymnt_plan\n",
      "url\n",
      "desc\n",
      "purpose\n",
      "title\n",
      "zip_code\n",
      "addr_state\n",
      "dti\n",
      "delinq_2yrs\n",
      "earliest_cr_line\n",
      "inq_last_6mths\n",
      "mths_since_last_delinq\n",
      "mths_since_last_record\n",
      "open_acc\n",
      "pub_rec\n",
      "revol_bal\n",
      "revol_util\n",
      "total_acc\n",
      "initial_list_status\n",
      "out_prncp\n",
      "out_prncp_inv\n",
      "total_pymnt\n",
      "total_pymnt_inv\n",
      "total_rec_prncp\n",
      "total_rec_int\n",
      "total_rec_late_fee\n",
      "recoveries\n",
      "collection_recovery_fee\n",
      "last_pymnt_d\n",
      "last_pymnt_amnt\n",
      "next_pymnt_d\n",
      "last_credit_pull_d\n",
      "collections_12_mths_ex_med\n",
      "mths_since_last_major_derog\n",
      "policy_code\n",
      "application_type\n",
      "annual_inc_joint\n",
      "dti_joint\n",
      "verification_status_joint\n",
      "acc_now_delinq\n",
      "tot_coll_amt\n",
      "tot_cur_bal\n",
      "open_acc_6m\n",
      "open_il_6m\n",
      "open_il_12m\n",
      "open_il_24m\n",
      "mths_since_rcnt_il\n",
      "total_bal_il\n",
      "il_util\n",
      "open_rv_12m\n",
      "open_rv_24m\n",
      "max_bal_bc\n",
      "all_util\n",
      "total_rev_hi_lim\n",
      "inq_fi\n",
      "total_cu_tl\n",
      "inq_last_12m\n"
     ]
    }
   ],
   "source": [
    "#function to print all the columns\n",
    "def printcolumns():\n",
    "    for col in data:\n",
    "        print(col)\n",
    "printcolumns()"
   ]
  },
  {
   "cell_type": "markdown",
   "id": "b1aeb6b7",
   "metadata": {},
   "source": [
    "# title"
   ]
  },
  {
   "cell_type": "code",
   "execution_count": 29,
   "id": "13a7b601",
   "metadata": {},
   "outputs": [
    {
     "name": "stdout",
     "output_type": "stream",
     "text": [
      "Debt consolidation                         164075\n",
      "Credit card refinancing                     62275\n",
      "Debt Consolidation                          15760\n",
      "Home improvement                            14849\n",
      "Other                                       12713\n",
      "                                            ...  \n",
      "Moving/Appartment Loan                          1\n",
      "Loan to consolidate higher interst debt         1\n",
      "Dartmouth Fund                                  1\n",
      "Credit Card - Tuition consolidation             1\n",
      "refinance key bank                              1\n",
      "Name: title, Length: 63098, dtype: int64\n",
      "20\n"
     ]
    }
   ],
   "source": [
    "print(data['title'].value_counts())\n",
    "print(data['title'].isnull().sum())"
   ]
  },
  {
   "cell_type": "code",
   "execution_count": 30,
   "id": "892589f9",
   "metadata": {},
   "outputs": [
    {
     "data": {
      "text/plain": [
       "count                 466265\n",
       "unique                 63098\n",
       "top       Debt consolidation\n",
       "freq                  164075\n",
       "Name: title, dtype: object"
      ]
     },
     "execution_count": 30,
     "metadata": {},
     "output_type": "execute_result"
    }
   ],
   "source": [
    "data['title'].describe()"
   ]
  },
  {
   "cell_type": "markdown",
   "id": "9e456904",
   "metadata": {},
   "source": [
    "# zip_code"
   ]
  },
  {
   "cell_type": "code",
   "execution_count": 31,
   "id": "bbf81887",
   "metadata": {},
   "outputs": [
    {
     "name": "stdout",
     "output_type": "stream",
     "text": [
      "945xx    5304\n",
      "112xx    5102\n",
      "750xx    5013\n",
      "606xx    4696\n",
      "100xx    4391\n",
      "         ... \n",
      "938xx       1\n",
      "375xx       1\n",
      "861xx       1\n",
      "522xx       1\n",
      "682xx       1\n",
      "Name: zip_code, Length: 888, dtype: int64\n",
      "0\n"
     ]
    }
   ],
   "source": [
    "print(data['zip_code'].value_counts())\n",
    "print(data['zip_code'].isnull().sum())"
   ]
  },
  {
   "cell_type": "markdown",
   "id": "e4f21369",
   "metadata": {},
   "source": [
    "# addr_state "
   ]
  },
  {
   "cell_type": "code",
   "execution_count": 32,
   "id": "4d9db215",
   "metadata": {},
   "outputs": [
    {
     "name": "stdout",
     "output_type": "stream",
     "text": [
      "CA    71450\n",
      "NY    40242\n",
      "TX    36439\n",
      "FL    31637\n",
      "IL    18612\n",
      "NJ    18061\n",
      "PA    16424\n",
      "OH    15237\n",
      "GA    14975\n",
      "VA    14222\n",
      "NC    12682\n",
      "MI    11549\n",
      "MA    11072\n",
      "MD    10974\n",
      "AZ    10712\n",
      "WA    10517\n",
      "CO     9739\n",
      "MN     8158\n",
      "MO     7508\n",
      "CT     7204\n",
      "IN     6525\n",
      "NV     6519\n",
      "TN     5984\n",
      "OR     5949\n",
      "WI     5911\n",
      "AL     5853\n",
      "SC     5583\n",
      "LA     5489\n",
      "KY     4438\n",
      "KS     4190\n",
      "OK     4117\n",
      "AR     3488\n",
      "UT     3428\n",
      "NM     2588\n",
      "HI     2487\n",
      "WV     2412\n",
      "NH     2232\n",
      "RI     2050\n",
      "DC     1426\n",
      "MT     1396\n",
      "DE     1272\n",
      "AK     1251\n",
      "MS     1226\n",
      "WY     1128\n",
      "SD      980\n",
      "VT      905\n",
      "IA       14\n",
      "NE       14\n",
      "ID       12\n",
      "ME        4\n",
      "Name: addr_state, dtype: int64\n",
      "0\n"
     ]
    }
   ],
   "source": [
    "print(data['addr_state'].value_counts())\n",
    "print(data['addr_state'].isnull().sum())"
   ]
  },
  {
   "cell_type": "markdown",
   "id": "dfe03955",
   "metadata": {},
   "source": [
    "# dti"
   ]
  },
  {
   "cell_type": "code",
   "execution_count": 33,
   "id": "1bbc167e",
   "metadata": {},
   "outputs": [
    {
     "name": "stdout",
     "output_type": "stream",
     "text": [
      "14.40    410\n",
      "19.20    381\n",
      "12.00    369\n",
      "16.80    368\n",
      "18.00    365\n",
      "        ... \n",
      "37.61      2\n",
      "38.95      1\n",
      "39.14      1\n",
      "39.94      1\n",
      "35.54      1\n",
      "Name: dti, Length: 3997, dtype: int64\n",
      "0\n"
     ]
    }
   ],
   "source": [
    "print(data['dti'].value_counts())\n",
    "print(data['dti'].isnull().sum())"
   ]
  },
  {
   "cell_type": "markdown",
   "id": "0afb0c53",
   "metadata": {},
   "source": [
    "# deling_2yrs"
   ]
  },
  {
   "cell_type": "code",
   "execution_count": 34,
   "id": "dfff5893",
   "metadata": {},
   "outputs": [
    {
     "name": "stdout",
     "output_type": "stream",
     "text": [
      "0.0     382954\n",
      "1.0      56224\n",
      "2.0      16310\n",
      "3.0       5684\n",
      "4.0       2378\n",
      "5.0       1236\n",
      "6.0        629\n",
      "7.0        346\n",
      "8.0        177\n",
      "9.0        111\n",
      "10.0        65\n",
      "11.0        41\n",
      "12.0        38\n",
      "13.0        25\n",
      "14.0         8\n",
      "15.0         7\n",
      "18.0         6\n",
      "16.0         5\n",
      "19.0         3\n",
      "17.0         3\n",
      "21.0         2\n",
      "22.0         2\n",
      "29.0         1\n",
      "24.0         1\n",
      "Name: delinq_2yrs, dtype: int64\n",
      "29\n"
     ]
    }
   ],
   "source": [
    "print(data['delinq_2yrs'].value_counts())\n",
    "print(data['delinq_2yrs'].isnull().sum())"
   ]
  },
  {
   "cell_type": "markdown",
   "id": "2e4ae552",
   "metadata": {},
   "source": [
    "# earliest_cr_line"
   ]
  },
  {
   "cell_type": "code",
   "execution_count": 35,
   "id": "487565d9",
   "metadata": {},
   "outputs": [
    {
     "name": "stdout",
     "output_type": "stream",
     "text": [
      "Oct-00    3674\n",
      "Aug-00    3597\n",
      "Aug-01    3455\n",
      "Oct-99    3406\n",
      "Oct-01    3329\n",
      "          ... \n",
      "Nov-50       1\n",
      "May-60       1\n",
      "Feb-60       1\n",
      "Feb-61       1\n",
      "Dec-51       1\n",
      "Name: earliest_cr_line, Length: 664, dtype: int64\n",
      "29\n"
     ]
    }
   ],
   "source": [
    "print(data['earliest_cr_line'].value_counts())\n",
    "print(data['earliest_cr_line'].isnull().sum())"
   ]
  },
  {
   "cell_type": "markdown",
   "id": "ffd96282",
   "metadata": {},
   "source": [
    "# inq_last_6mths"
   ]
  },
  {
   "cell_type": "code",
   "execution_count": 36,
   "id": "6fe1a756",
   "metadata": {},
   "outputs": [
    {
     "name": "stdout",
     "output_type": "stream",
     "text": [
      "0.0     241498\n",
      "1.0     130148\n",
      "2.0      57825\n",
      "3.0      25126\n",
      "4.0       7241\n",
      "5.0       2768\n",
      "6.0       1188\n",
      "7.0        195\n",
      "8.0        122\n",
      "9.0         50\n",
      "10.0        24\n",
      "12.0        15\n",
      "11.0        15\n",
      "15.0         9\n",
      "14.0         6\n",
      "13.0         6\n",
      "18.0         4\n",
      "16.0         3\n",
      "19.0         2\n",
      "17.0         2\n",
      "24.0         2\n",
      "28.0         1\n",
      "31.0         1\n",
      "32.0         1\n",
      "25.0         1\n",
      "33.0         1\n",
      "20.0         1\n",
      "27.0         1\n",
      "Name: inq_last_6mths, dtype: int64\n",
      "29\n"
     ]
    }
   ],
   "source": [
    "print(data['inq_last_6mths'].value_counts())\n",
    "print(data['inq_last_6mths'].isnull().sum())"
   ]
  },
  {
   "cell_type": "markdown",
   "id": "c8f5a149",
   "metadata": {},
   "source": [
    "# mths_since_last_delinq"
   ]
  },
  {
   "cell_type": "code",
   "execution_count": 37,
   "id": "34a86225",
   "metadata": {},
   "outputs": [
    {
     "name": "stdout",
     "output_type": "stream",
     "text": [
      "9.0      4358\n",
      "8.0      4272\n",
      "13.0     4260\n",
      "12.0     4193\n",
      "10.0     4146\n",
      "         ... \n",
      "121.0       1\n",
      "156.0       1\n",
      "159.0       1\n",
      "108.0       1\n",
      "127.0       1\n",
      "Name: mths_since_last_delinq, Length: 145, dtype: int64\n",
      "250351\n"
     ]
    }
   ],
   "source": [
    "print(data['mths_since_last_delinq'].value_counts())\n",
    "print(data['mths_since_last_delinq'].isnull().sum())"
   ]
  },
  {
   "cell_type": "markdown",
   "id": "1c6745cd",
   "metadata": {},
   "source": [
    "# mths_since_last_record"
   ]
  },
  {
   "cell_type": "code",
   "execution_count": 38,
   "id": "3e378429",
   "metadata": {},
   "outputs": [
    {
     "name": "stdout",
     "output_type": "stream",
     "text": [
      "0.0      1278\n",
      "109.0    1098\n",
      "108.0     999\n",
      "106.0     968\n",
      "104.0     953\n",
      "         ... \n",
      "1.0        28\n",
      "2.0        24\n",
      "121.0       2\n",
      "120.0       2\n",
      "129.0       1\n",
      "Name: mths_since_last_record, Length: 123, dtype: int64\n",
      "403647\n"
     ]
    }
   ],
   "source": [
    "print(data['mths_since_last_record'].value_counts())\n",
    "print(data['mths_since_last_record'].isnull().sum())"
   ]
  },
  {
   "cell_type": "markdown",
   "id": "bd28184d",
   "metadata": {},
   "source": [
    "# open_acc"
   ]
  },
  {
   "cell_type": "code",
   "execution_count": 39,
   "id": "cc0d592d",
   "metadata": {},
   "outputs": [
    {
     "name": "stdout",
     "output_type": "stream",
     "text": [
      "9.0     44019\n",
      "10.0    42512\n",
      "8.0     41893\n",
      "11.0    39112\n",
      "7.0     37602\n",
      "        ...  \n",
      "55.0        2\n",
      "84.0        1\n",
      "75.0        1\n",
      "62.0        1\n",
      "61.0        1\n",
      "Name: open_acc, Length: 62, dtype: int64\n",
      "29\n"
     ]
    }
   ],
   "source": [
    "print(data['open_acc'].value_counts())\n",
    "print(data['open_acc'].isnull().sum())"
   ]
  },
  {
   "cell_type": "markdown",
   "id": "512709e2",
   "metadata": {},
   "source": [
    "# pub_rec"
   ]
  },
  {
   "cell_type": "code",
   "execution_count": 40,
   "id": "7de0adab",
   "metadata": {},
   "outputs": [
    {
     "name": "stdout",
     "output_type": "stream",
     "text": [
      "0.0     404893\n",
      "1.0      53051\n",
      "2.0       5624\n",
      "3.0       1611\n",
      "4.0        520\n",
      "5.0        276\n",
      "6.0        136\n",
      "7.0         62\n",
      "8.0         29\n",
      "9.0         16\n",
      "10.0        13\n",
      "11.0         8\n",
      "12.0         2\n",
      "18.0         2\n",
      "13.0         2\n",
      "17.0         1\n",
      "16.0         1\n",
      "40.0         1\n",
      "21.0         1\n",
      "49.0         1\n",
      "19.0         1\n",
      "54.0         1\n",
      "14.0         1\n",
      "34.0         1\n",
      "15.0         1\n",
      "63.0         1\n",
      "Name: pub_rec, dtype: int64\n",
      "29\n"
     ]
    }
   ],
   "source": [
    "print(data['pub_rec'].value_counts())\n",
    "print(data['pub_rec'].isnull().sum())"
   ]
  },
  {
   "cell_type": "markdown",
   "id": "480a8a77",
   "metadata": {},
   "source": [
    "### revol_bal"
   ]
  },
  {
   "cell_type": "code",
   "execution_count": 41,
   "id": "950f8706",
   "metadata": {},
   "outputs": [
    {
     "name": "stdout",
     "output_type": "stream",
     "text": [
      "0        2269\n",
      "6052       40\n",
      "8696       39\n",
      "5365       39\n",
      "6223       39\n",
      "         ... \n",
      "45384       1\n",
      "47433       1\n",
      "41290       1\n",
      "64930       1\n",
      "50897       1\n",
      "Name: revol_bal, Length: 58142, dtype: int64\n",
      "0\n"
     ]
    }
   ],
   "source": [
    "print(data['revol_bal'].value_counts())\n",
    "print(data['revol_bal'].isnull().sum())"
   ]
  },
  {
   "cell_type": "markdown",
   "id": "ad29b33e",
   "metadata": {},
   "source": [
    "### revol_util"
   ]
  },
  {
   "cell_type": "code",
   "execution_count": 42,
   "id": "df8063c1",
   "metadata": {},
   "outputs": [
    {
     "name": "stdout",
     "output_type": "stream",
     "text": [
      "0.00      2284\n",
      "58.00      864\n",
      "53.00      850\n",
      "59.00      845\n",
      "61.00      832\n",
      "          ... \n",
      "24.89        1\n",
      "115.30       1\n",
      "118.00       1\n",
      "8.58         1\n",
      "10.08        1\n",
      "Name: revol_util, Length: 1269, dtype: int64\n",
      "340\n"
     ]
    }
   ],
   "source": [
    "print(data['revol_util'].value_counts())\n",
    "print(data['revol_util'].isnull().sum())"
   ]
  },
  {
   "cell_type": "markdown",
   "id": "a4ba3e41",
   "metadata": {},
   "source": [
    "### total_acc"
   ]
  },
  {
   "cell_type": "code",
   "execution_count": 43,
   "id": "e9fba5f0",
   "metadata": {},
   "outputs": [
    {
     "name": "stdout",
     "output_type": "stream",
     "text": [
      "21.0     17087\n",
      "20.0     17073\n",
      "22.0     17028\n",
      "23.0     16719\n",
      "19.0     16709\n",
      "         ...  \n",
      "156.0        1\n",
      "150.0        1\n",
      "96.0         1\n",
      "121.0        1\n",
      "117.0        1\n",
      "Name: total_acc, Length: 112, dtype: int64\n",
      "29\n"
     ]
    }
   ],
   "source": [
    "print(data['total_acc'].value_counts())\n",
    "print(data['total_acc'].isnull().sum())"
   ]
  },
  {
   "cell_type": "markdown",
   "id": "6fa02599",
   "metadata": {},
   "source": [
    "### initial_list_status"
   ]
  },
  {
   "cell_type": "code",
   "execution_count": 44,
   "id": "eaf09532",
   "metadata": {},
   "outputs": [
    {
     "name": "stdout",
     "output_type": "stream",
     "text": [
      "f    303005\n",
      "w    163280\n",
      "Name: initial_list_status, dtype: int64\n",
      "0\n"
     ]
    }
   ],
   "source": [
    "print(data['initial_list_status'].value_counts())\n",
    "print(data['initial_list_status'].isnull().sum())"
   ]
  },
  {
   "cell_type": "markdown",
   "id": "14743e0f",
   "metadata": {},
   "source": [
    "### out_prncp"
   ]
  },
  {
   "cell_type": "code",
   "execution_count": 45,
   "id": "24c047af",
   "metadata": {},
   "outputs": [
    {
     "name": "stdout",
     "output_type": "stream",
     "text": [
      "0.00        229999\n",
      "5684.61         80\n",
      "6563.61         79\n",
      "5617.88         78\n",
      "6110.65         76\n",
      "             ...  \n",
      "4974.85          1\n",
      "9050.59          1\n",
      "9418.01          1\n",
      "3878.29          1\n",
      "19152.20         1\n",
      "Name: out_prncp, Length: 135665, dtype: int64\n",
      "0\n"
     ]
    }
   ],
   "source": [
    "print(data['out_prncp'].value_counts())\n",
    "print(data['out_prncp'].isnull().sum())"
   ]
  },
  {
   "cell_type": "markdown",
   "id": "d9f74fc5",
   "metadata": {},
   "source": [
    "### out_prncp_inv"
   ]
  },
  {
   "cell_type": "code",
   "execution_count": 46,
   "id": "7b2d7cfe",
   "metadata": {},
   "outputs": [
    {
     "name": "stdout",
     "output_type": "stream",
     "text": [
      "0.00        229999\n",
      "6563.61         78\n",
      "5684.61         77\n",
      "5617.88         76\n",
      "6110.65         75\n",
      "             ...  \n",
      "13520.60         1\n",
      "13042.97         1\n",
      "5691.79          1\n",
      "463.42           1\n",
      "20657.59         1\n",
      "Name: out_prncp_inv, Length: 141189, dtype: int64\n",
      "0\n"
     ]
    }
   ],
   "source": [
    "print(data['out_prncp_inv'].value_counts())\n",
    "print(data['out_prncp_inv'].isnull().sum())"
   ]
  },
  {
   "cell_type": "markdown",
   "id": "06a9be1c",
   "metadata": {},
   "source": [
    "### total_pymnt"
   ]
  },
  {
   "cell_type": "code",
   "execution_count": 47,
   "id": "27af581f",
   "metadata": {},
   "outputs": [
    {
     "name": "stdout",
     "output_type": "stream",
     "text": [
      "6743.730000     117\n",
      "0.000000         87\n",
      "5564.780000      78\n",
      "5419.430000      75\n",
      "5619.690000      75\n",
      "               ... \n",
      "7771.070000       1\n",
      "6343.430000       1\n",
      "5106.086428       1\n",
      "39254.450000      1\n",
      "7869.430000       1\n",
      "Name: total_pymnt, Length: 351609, dtype: int64\n",
      "0\n"
     ]
    }
   ],
   "source": [
    "print(data['total_pymnt'].value_counts())\n",
    "print(data['total_pymnt'].isnull().sum())"
   ]
  },
  {
   "cell_type": "code",
   "execution_count": 48,
   "id": "71eac43f-b228-4874-83d2-cb51bed6f6af",
   "metadata": {},
   "outputs": [
    {
     "name": "stdout",
     "output_type": "stream",
     "text": [
      "10000.00    13267\n",
      "12000.00    10469\n",
      "15000.00     8552\n",
      "20000.00     7673\n",
      "8000.00      6522\n",
      "            ...  \n",
      "14009.61        1\n",
      "10491.04        1\n",
      "8023.80         1\n",
      "2002.05         1\n",
      "1754.91         1\n",
      "Name: total_rec_prncp, Length: 172713, dtype: int64\n",
      "0\n"
     ]
    }
   ],
   "source": [
    "print(data['total_rec_prncp'].value_counts())\n",
    "print(data['total_rec_prncp'].isnull().sum())"
   ]
  },
  {
   "cell_type": "code",
   "execution_count": 49,
   "id": "0785700f-35d8-4bbf-9a73-fcd355db090b",
   "metadata": {},
   "outputs": [
    {
     "name": "stdout",
     "output_type": "stream",
     "text": [
      "0.00       379\n",
      "1249.39     78\n",
      "1329.13     75\n",
      "1037.31     74\n",
      "1350.99     72\n",
      "          ... \n",
      "1092.51      1\n",
      "4263.65      1\n",
      "1506.35      1\n",
      "2896.96      1\n",
      "1930.72      1\n",
      "Name: total_rec_int, Length: 270249, dtype: int64\n",
      "0\n"
     ]
    }
   ],
   "source": [
    "print(data['total_rec_int'].value_counts())\n",
    "print(data['total_rec_int'].isnull().sum())"
   ]
  },
  {
   "cell_type": "code",
   "execution_count": 50,
   "id": "fee8eb4c-2c1e-413c-8716-b4cdb448f294",
   "metadata": {},
   "outputs": [
    {
     "name": "stdout",
     "output_type": "stream",
     "text": [
      "0.000000     455607\n",
      "15.000000      2223\n",
      "30.000000       285\n",
      "45.000000        50\n",
      "16.840000        15\n",
      "              ...  \n",
      "53.720000         1\n",
      "37.751380         1\n",
      "38.242755         1\n",
      "58.080000         1\n",
      "29.924253         1\n",
      "Name: total_rec_late_fee, Length: 5808, dtype: int64\n",
      "0\n"
     ]
    }
   ],
   "source": [
    "print(data['total_rec_late_fee'].value_counts())\n",
    "print(data['total_rec_late_fee'].isnull().sum())"
   ]
  },
  {
   "cell_type": "code",
   "execution_count": 51,
   "id": "c6187098-e1f7-411c-b5a8-93ff6bece9b9",
   "metadata": {},
   "outputs": [
    {
     "name": "stdout",
     "output_type": "stream",
     "text": [
      "0.00       441914\n",
      "11.70           9\n",
      "200.00          9\n",
      "10.00           9\n",
      "14.28           9\n",
      "            ...  \n",
      "3439.42         1\n",
      "1429.99         1\n",
      "212.00          1\n",
      "20.00           1\n",
      "4772.70         1\n",
      "Name: recoveries, Length: 22773, dtype: int64\n",
      "0\n"
     ]
    }
   ],
   "source": [
    "print(data['recoveries'].value_counts())\n",
    "print(data['recoveries'].isnull().sum())"
   ]
  },
  {
   "cell_type": "code",
   "execution_count": 52,
   "id": "973dc5ee-63dd-4611-aeff-9529fe6fb0c6",
   "metadata": {},
   "outputs": [
    {
     "name": "stdout",
     "output_type": "stream",
     "text": [
      "0.0000      443079\n",
      "2.0000          18\n",
      "1.8000          13\n",
      "1.8800          12\n",
      "1.2000          12\n",
      "             ...  \n",
      "17.9240          1\n",
      "225.8046         1\n",
      "10.9352          1\n",
      "16.3336          1\n",
      "295.4232         1\n",
      "Name: collection_recovery_fee, Length: 20275, dtype: int64\n",
      "0\n"
     ]
    }
   ],
   "source": [
    "print(data['collection_recovery_fee'].value_counts())\n",
    "print(data['collection_recovery_fee'].isnull().sum())"
   ]
  },
  {
   "cell_type": "code",
   "execution_count": 53,
   "id": "06ec3ac3-a025-47f6-b8af-38023734c7f2",
   "metadata": {},
   "outputs": [
    {
     "name": "stdout",
     "output_type": "stream",
     "text": [
      "Jan-16    179620\n",
      "Dec-15     62000\n",
      "Jul-15     11703\n",
      "Oct-15     11248\n",
      "Sep-15     10204\n",
      "           ...  \n",
      "Jun-08        20\n",
      "Mar-08        18\n",
      "Jan-08        11\n",
      "Feb-08         8\n",
      "Dec-07         2\n",
      "Name: last_pymnt_d, Length: 98, dtype: int64\n",
      "376\n"
     ]
    }
   ],
   "source": [
    "print(data['last_pymnt_d'].value_counts())\n",
    "print(data['last_pymnt_d'].isnull().sum())"
   ]
  },
  {
   "cell_type": "code",
   "execution_count": 54,
   "id": "fb3a1e9a-9401-4f3b-ad34-9b80aef0ab62",
   "metadata": {},
   "outputs": [
    {
     "name": "stdout",
     "output_type": "stream",
     "text": [
      "327.34      860\n",
      "336.90      828\n",
      "332.10      625\n",
      "491.01      579\n",
      "392.81      567\n",
      "           ... \n",
      "2429.69       1\n",
      "14443.90      1\n",
      "32281.12      1\n",
      "13357.22      1\n",
      "11314.68      1\n",
      "Name: last_pymnt_amnt, Length: 198194, dtype: int64\n",
      "0\n"
     ]
    }
   ],
   "source": [
    "print(data['last_pymnt_amnt'].value_counts())\n",
    "print(data['last_pymnt_amnt'].isnull().sum())"
   ]
  },
  {
   "cell_type": "code",
   "execution_count": 55,
   "id": "423b440e-d404-4006-ba22-f9ea3e29c2c7",
   "metadata": {},
   "outputs": [
    {
     "name": "stdout",
     "output_type": "stream",
     "text": [
      "Feb-16    208393\n",
      "Jan-16     27922\n",
      "Mar-11       107\n",
      "Apr-11       101\n",
      "Feb-11        91\n",
      "           ...  \n",
      "Aug-14         2\n",
      "Jul-14         2\n",
      "Dec-07         1\n",
      "Mar-15         1\n",
      "May-08         1\n",
      "Name: next_pymnt_d, Length: 100, dtype: int64\n",
      "227214\n"
     ]
    }
   ],
   "source": [
    "print(data['next_pymnt_d'].value_counts())\n",
    "print(data['next_pymnt_d'].isnull().sum())"
   ]
  },
  {
   "cell_type": "code",
   "execution_count": 56,
   "id": "12a232b3-5d47-4836-87c7-2579275589e6",
   "metadata": {},
   "outputs": [
    {
     "name": "stdout",
     "output_type": "stream",
     "text": [
      "Jan-16    327699\n",
      "Dec-15     13992\n",
      "Nov-15      8384\n",
      "Sep-15      8051\n",
      "Oct-15      7957\n",
      "           ...  \n",
      "Feb-08         3\n",
      "May-08         1\n",
      "Jun-08         1\n",
      "Jul-07         1\n",
      "Jul-08         1\n",
      "Name: last_credit_pull_d, Length: 103, dtype: int64\n",
      "42\n"
     ]
    }
   ],
   "source": [
    "print(data['last_credit_pull_d'].value_counts())\n",
    "print(data['last_credit_pull_d'].isnull().sum())"
   ]
  },
  {
   "cell_type": "code",
   "execution_count": 57,
   "id": "4fe29ec7-a29d-43cf-b4b0-41938fb41f67",
   "metadata": {},
   "outputs": [
    {
     "name": "stdout",
     "output_type": "stream",
     "text": [
      "0.0     462226\n",
      "1.0       3665\n",
      "2.0        219\n",
      "3.0         19\n",
      "4.0          7\n",
      "6.0          1\n",
      "5.0          1\n",
      "16.0         1\n",
      "20.0         1\n",
      "Name: collections_12_mths_ex_med, dtype: int64\n",
      "145\n"
     ]
    }
   ],
   "source": [
    "print(data['collections_12_mths_ex_med'].value_counts())\n",
    "print(data['collections_12_mths_ex_med'].isnull().sum())"
   ]
  },
  {
   "cell_type": "code",
   "execution_count": 58,
   "id": "27c71d76-f3f8-4be6-9527-267af7c25460",
   "metadata": {},
   "outputs": [
    {
     "name": "stdout",
     "output_type": "stream",
     "text": [
      "45.0     1672\n",
      "46.0     1670\n",
      "42.0     1656\n",
      "48.0     1637\n",
      "41.0     1592\n",
      "         ... \n",
      "169.0       1\n",
      "165.0       1\n",
      "156.0       1\n",
      "159.0       1\n",
      "188.0       1\n",
      "Name: mths_since_last_major_derog, Length: 162, dtype: int64\n",
      "367311\n"
     ]
    }
   ],
   "source": [
    "print(data['mths_since_last_major_derog'].value_counts())\n",
    "print(data['mths_since_last_major_derog'].isnull().sum())"
   ]
  },
  {
   "cell_type": "code",
   "execution_count": 59,
   "id": "e600829d-dc59-4f59-8d3c-625ecdd41c9a",
   "metadata": {},
   "outputs": [
    {
     "name": "stdout",
     "output_type": "stream",
     "text": [
      "1    466285\n",
      "Name: policy_code, dtype: int64\n",
      "0\n"
     ]
    }
   ],
   "source": [
    "print(data['policy_code'].value_counts())\n",
    "print(data['policy_code'].isnull().sum())"
   ]
  },
  {
   "cell_type": "code",
   "execution_count": 60,
   "id": "929e00c1-f5b5-4c6f-a4db-55997628a85f",
   "metadata": {},
   "outputs": [
    {
     "name": "stdout",
     "output_type": "stream",
     "text": [
      "INDIVIDUAL    466285\n",
      "Name: application_type, dtype: int64\n",
      "0\n"
     ]
    }
   ],
   "source": [
    "print(data['application_type'].value_counts())\n",
    "print(data['application_type'].isnull().sum())"
   ]
  },
  {
   "cell_type": "code",
   "execution_count": 61,
   "id": "801f0c58-1f39-439a-ac74-391c35e060f9",
   "metadata": {},
   "outputs": [
    {
     "name": "stdout",
     "output_type": "stream",
     "text": [
      "0.0    464524\n",
      "1.0      1623\n",
      "2.0        92\n",
      "3.0        11\n",
      "4.0         4\n",
      "5.0         2\n",
      "Name: acc_now_delinq, dtype: int64\n",
      "29\n"
     ]
    }
   ],
   "source": [
    "print(data['acc_now_delinq'].value_counts())\n",
    "print(data['acc_now_delinq'].isnull().sum())"
   ]
  }
 ],
 "metadata": {
  "kernelspec": {
   "display_name": "Python 3",
   "language": "python",
   "name": "python3"
  },
  "language_info": {
   "codemirror_mode": {
    "name": "ipython",
    "version": 3
   },
   "file_extension": ".py",
   "mimetype": "text/x-python",
   "name": "python",
   "nbconvert_exporter": "python",
   "pygments_lexer": "ipython3",
   "version": "3.8.8"
  }
 },
 "nbformat": 4,
 "nbformat_minor": 5
}
