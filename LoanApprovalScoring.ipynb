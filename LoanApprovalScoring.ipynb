{
 "cells": [
  {
   "cell_type": "code",
   "execution_count": 1,
   "id": "880acac1",
   "metadata": {},
   "outputs": [],
   "source": [
    "import pandas as pd\n",
    "import numpy as np\n",
    "\n",
    "from scipy.stats import chisquare\n",
    "from sklearn.linear_model import LogisticRegression\n",
    "from sklearn.model_selection import train_test_split\n",
    "from sklearn.metrics import roc_auc_score, classification_report, confusion_matrix\n",
    "from sklearn.ensemble import GradientBoostingClassifier as GBC\n",
    "\n",
    "import matplotlib.pyplot as plt\n",
    "import seaborn as sns\n",
    "from ipywidgets import interact\n",
    "\n",
    "import warnings, math\n",
    "warnings.simplefilter(\"ignore\")"
   ]
  },
  {
   "cell_type": "code",
   "execution_count": 2,
   "id": "1dc2174f",
   "metadata": {},
   "outputs": [
    {
     "data": {
      "text/html": [
       "<div>\n",
       "<style scoped>\n",
       "    .dataframe tbody tr th:only-of-type {\n",
       "        vertical-align: middle;\n",
       "    }\n",
       "\n",
       "    .dataframe tbody tr th {\n",
       "        vertical-align: top;\n",
       "    }\n",
       "\n",
       "    .dataframe thead th {\n",
       "        text-align: right;\n",
       "    }\n",
       "</style>\n",
       "<table border=\"1\" class=\"dataframe\">\n",
       "  <thead>\n",
       "    <tr style=\"text-align: right;\">\n",
       "      <th></th>\n",
       "      <th>id</th>\n",
       "      <th>member_id</th>\n",
       "      <th>loan_amnt</th>\n",
       "      <th>funded_amnt</th>\n",
       "      <th>funded_amnt_inv</th>\n",
       "      <th>term</th>\n",
       "      <th>int_rate</th>\n",
       "      <th>installment</th>\n",
       "      <th>grade</th>\n",
       "      <th>sub_grade</th>\n",
       "      <th>...</th>\n",
       "      <th>total_bal_il</th>\n",
       "      <th>il_util</th>\n",
       "      <th>open_rv_12m</th>\n",
       "      <th>open_rv_24m</th>\n",
       "      <th>max_bal_bc</th>\n",
       "      <th>all_util</th>\n",
       "      <th>total_rev_hi_lim</th>\n",
       "      <th>inq_fi</th>\n",
       "      <th>total_cu_tl</th>\n",
       "      <th>inq_last_12m</th>\n",
       "    </tr>\n",
       "  </thead>\n",
       "  <tbody>\n",
       "    <tr>\n",
       "      <th>0</th>\n",
       "      <td>1077501</td>\n",
       "      <td>1296599</td>\n",
       "      <td>5000</td>\n",
       "      <td>5000</td>\n",
       "      <td>4975.0</td>\n",
       "      <td>36 months</td>\n",
       "      <td>10.65</td>\n",
       "      <td>162.87</td>\n",
       "      <td>B</td>\n",
       "      <td>B2</td>\n",
       "      <td>...</td>\n",
       "      <td>NaN</td>\n",
       "      <td>NaN</td>\n",
       "      <td>NaN</td>\n",
       "      <td>NaN</td>\n",
       "      <td>NaN</td>\n",
       "      <td>NaN</td>\n",
       "      <td>NaN</td>\n",
       "      <td>NaN</td>\n",
       "      <td>NaN</td>\n",
       "      <td>NaN</td>\n",
       "    </tr>\n",
       "    <tr>\n",
       "      <th>1</th>\n",
       "      <td>1077430</td>\n",
       "      <td>1314167</td>\n",
       "      <td>2500</td>\n",
       "      <td>2500</td>\n",
       "      <td>2500.0</td>\n",
       "      <td>60 months</td>\n",
       "      <td>15.27</td>\n",
       "      <td>59.83</td>\n",
       "      <td>C</td>\n",
       "      <td>C4</td>\n",
       "      <td>...</td>\n",
       "      <td>NaN</td>\n",
       "      <td>NaN</td>\n",
       "      <td>NaN</td>\n",
       "      <td>NaN</td>\n",
       "      <td>NaN</td>\n",
       "      <td>NaN</td>\n",
       "      <td>NaN</td>\n",
       "      <td>NaN</td>\n",
       "      <td>NaN</td>\n",
       "      <td>NaN</td>\n",
       "    </tr>\n",
       "    <tr>\n",
       "      <th>2</th>\n",
       "      <td>1077175</td>\n",
       "      <td>1313524</td>\n",
       "      <td>2400</td>\n",
       "      <td>2400</td>\n",
       "      <td>2400.0</td>\n",
       "      <td>36 months</td>\n",
       "      <td>15.96</td>\n",
       "      <td>84.33</td>\n",
       "      <td>C</td>\n",
       "      <td>C5</td>\n",
       "      <td>...</td>\n",
       "      <td>NaN</td>\n",
       "      <td>NaN</td>\n",
       "      <td>NaN</td>\n",
       "      <td>NaN</td>\n",
       "      <td>NaN</td>\n",
       "      <td>NaN</td>\n",
       "      <td>NaN</td>\n",
       "      <td>NaN</td>\n",
       "      <td>NaN</td>\n",
       "      <td>NaN</td>\n",
       "    </tr>\n",
       "    <tr>\n",
       "      <th>3</th>\n",
       "      <td>1076863</td>\n",
       "      <td>1277178</td>\n",
       "      <td>10000</td>\n",
       "      <td>10000</td>\n",
       "      <td>10000.0</td>\n",
       "      <td>36 months</td>\n",
       "      <td>13.49</td>\n",
       "      <td>339.31</td>\n",
       "      <td>C</td>\n",
       "      <td>C1</td>\n",
       "      <td>...</td>\n",
       "      <td>NaN</td>\n",
       "      <td>NaN</td>\n",
       "      <td>NaN</td>\n",
       "      <td>NaN</td>\n",
       "      <td>NaN</td>\n",
       "      <td>NaN</td>\n",
       "      <td>NaN</td>\n",
       "      <td>NaN</td>\n",
       "      <td>NaN</td>\n",
       "      <td>NaN</td>\n",
       "    </tr>\n",
       "    <tr>\n",
       "      <th>4</th>\n",
       "      <td>1075358</td>\n",
       "      <td>1311748</td>\n",
       "      <td>3000</td>\n",
       "      <td>3000</td>\n",
       "      <td>3000.0</td>\n",
       "      <td>60 months</td>\n",
       "      <td>12.69</td>\n",
       "      <td>67.79</td>\n",
       "      <td>B</td>\n",
       "      <td>B5</td>\n",
       "      <td>...</td>\n",
       "      <td>NaN</td>\n",
       "      <td>NaN</td>\n",
       "      <td>NaN</td>\n",
       "      <td>NaN</td>\n",
       "      <td>NaN</td>\n",
       "      <td>NaN</td>\n",
       "      <td>NaN</td>\n",
       "      <td>NaN</td>\n",
       "      <td>NaN</td>\n",
       "      <td>NaN</td>\n",
       "    </tr>\n",
       "  </tbody>\n",
       "</table>\n",
       "<p>5 rows × 74 columns</p>\n",
       "</div>"
      ],
      "text/plain": [
       "        id  member_id  loan_amnt  funded_amnt  funded_amnt_inv        term  \\\n",
       "0  1077501    1296599       5000         5000           4975.0   36 months   \n",
       "1  1077430    1314167       2500         2500           2500.0   60 months   \n",
       "2  1077175    1313524       2400         2400           2400.0   36 months   \n",
       "3  1076863    1277178      10000        10000          10000.0   36 months   \n",
       "4  1075358    1311748       3000         3000           3000.0   60 months   \n",
       "\n",
       "   int_rate  installment grade sub_grade  ... total_bal_il il_util  \\\n",
       "0     10.65       162.87     B        B2  ...          NaN     NaN   \n",
       "1     15.27        59.83     C        C4  ...          NaN     NaN   \n",
       "2     15.96        84.33     C        C5  ...          NaN     NaN   \n",
       "3     13.49       339.31     C        C1  ...          NaN     NaN   \n",
       "4     12.69        67.79     B        B5  ...          NaN     NaN   \n",
       "\n",
       "  open_rv_12m  open_rv_24m max_bal_bc all_util total_rev_hi_lim inq_fi  \\\n",
       "0         NaN          NaN        NaN      NaN              NaN    NaN   \n",
       "1         NaN          NaN        NaN      NaN              NaN    NaN   \n",
       "2         NaN          NaN        NaN      NaN              NaN    NaN   \n",
       "3         NaN          NaN        NaN      NaN              NaN    NaN   \n",
       "4         NaN          NaN        NaN      NaN              NaN    NaN   \n",
       "\n",
       "  total_cu_tl inq_last_12m  \n",
       "0         NaN          NaN  \n",
       "1         NaN          NaN  \n",
       "2         NaN          NaN  \n",
       "3         NaN          NaN  \n",
       "4         NaN          NaN  \n",
       "\n",
       "[5 rows x 74 columns]"
      ]
     },
     "execution_count": 2,
     "metadata": {},
     "output_type": "execute_result"
    }
   ],
   "source": [
    "# hello world\n",
    "data = pd.read_csv('../loan_data_2007_2014.csv', low_memory=False)\n",
    "data.head()"
   ]
  },
  {
   "cell_type": "code",
   "execution_count": 3,
   "id": "33cb7831",
   "metadata": {},
   "outputs": [],
   "source": [
    "# preprocess the target column\n",
    "''' \n",
    "Current                                                224226\n",
    "Fully Paid                                             184739\n",
    "Charged Off                                             42475\n",
    "Late (31-120 days)                                       6900\n",
    "In Grace Period                                          3146\n",
    "Does not meet the credit policy. Status:Fully Paid       1988\n",
    "Late (16-30 days)                                        1218\n",
    "Default                                                   832\n",
    "Does not meet the credit policy. Status:Charged Off       761\n",
    "'''\n",
    "\n",
    "# following features will be labeled `1` to indicate \"bad\" loans\n",
    "data['loan_status'] = data['loan_status'].replace(['Charged Off', 'Late (31-120 days)', 'Default',\n",
    "                                                  'Does not meet the credit policy. Status:Charged Off'], 1)\n",
    "# following features will be labeled `0` to indicate \"good\" loans\n",
    "data['loan_status'] = data['loan_status'].replace(['Current', 'Fully Paid', 'In Grace Period', 'Late (16-30 days)',\n",
    "                                                  'Does not meet the credit policy. Status:Fully Paid'], 0)"
   ]
  },
  {
   "cell_type": "code",
   "execution_count": 4,
   "id": "d8e057eb",
   "metadata": {},
   "outputs": [],
   "source": [
    "# split into train/test with ratio 7:3\n",
    "TEST = data.sample(frac=0.3, axis=0)\n",
    "data = data.drop(index=TEST.index, axis=0)"
   ]
  },
  {
   "cell_type": "code",
   "execution_count": 5,
   "id": "969c9105",
   "metadata": {},
   "outputs": [],
   "source": [
    "def calculate_woe(df, feature, y):\n",
    "    ''' calculates WoE and IV for each feature '''\n",
    "    df = pd.concat([df[feature], y], axis=1)\n",
    "    target = df.columns.values[1]\n",
    "    \n",
    "    # calculate number of occurences of the given bin (support)\n",
    "    support = df.groupby(feature, as_index=False)[target].count()\n",
    "    # calculate the proportion of positive occurences \n",
    "    n_pos = df.groupby(feature, as_index = False)[target].mean()\n",
    "    # get dataframe of (binned_feature, support, n_pos)\n",
    "    df = pd.concat([support, n_pos], axis=1).iloc[:, [0, 1, 3]]\n",
    "    df.columns = [feature, 'support', 'pos%']\n",
    "    df['pos%'] = df['pos%'].apply(lambda x: 1-x)\n",
    "    # count of positive/negative occurences\n",
    "    positive = df['pos%'] * df['support']\n",
    "    negative = (1 - df['pos%']) * df['support']\n",
    "    # calculate what percentage of total positives/negatives given feature bin has\n",
    "    pos = positive / positive.sum(); neg = negative / negative.sum()\n",
    "    # finally calculate WoE and sort dataframe by WoE for plotting\n",
    "    df['WoE'] = np.log(pos / neg)\n",
    "    df = df.sort_values([feature]).reset_index(drop=True)\n",
    "    # calculate IV using WoE\n",
    "    df['IV'] = abs(((pos - neg) * df['WoE']).sum())\n",
    "    return df\n",
    "\n",
    "def plot_woe(df):\n",
    "    ''' plots support, WoE and IV of each feature '''\n",
    "    plt.figure(figsize=(10, 5))\n",
    "    plt.plot(df.iloc[:, 0].astype(str), df['WoE'], marker = 'o', color='black')\n",
    "    plt.xlabel(df.columns[0])\n",
    "    plt.ylabel('WoE')"
   ]
  },
  {
   "cell_type": "markdown",
   "id": "9382c931",
   "metadata": {},
   "source": [
    "## Data Preprocessing"
   ]
  },
  {
   "cell_type": "code",
   "execution_count": 6,
   "id": "51bee37e",
   "metadata": {},
   "outputs": [],
   "source": [
    "X_woe = pd.DataFrame()"
   ]
  },
  {
   "cell_type": "markdown",
   "id": "b9002688",
   "metadata": {},
   "source": [
    "### loan_amnt"
   ]
  },
  {
   "cell_type": "code",
   "execution_count": 7,
   "id": "4e31f474",
   "metadata": {},
   "outputs": [
    {
     "data": {
      "text/html": [
       "<div>\n",
       "<style scoped>\n",
       "    .dataframe tbody tr th:only-of-type {\n",
       "        vertical-align: middle;\n",
       "    }\n",
       "\n",
       "    .dataframe tbody tr th {\n",
       "        vertical-align: top;\n",
       "    }\n",
       "\n",
       "    .dataframe thead th {\n",
       "        text-align: right;\n",
       "    }\n",
       "</style>\n",
       "<table border=\"1\" class=\"dataframe\">\n",
       "  <thead>\n",
       "    <tr style=\"text-align: right;\">\n",
       "      <th></th>\n",
       "      <th>loan_amnt</th>\n",
       "      <th>support</th>\n",
       "      <th>pos%</th>\n",
       "      <th>WoE</th>\n",
       "      <th>IV</th>\n",
       "    </tr>\n",
       "  </thead>\n",
       "  <tbody>\n",
       "    <tr>\n",
       "      <th>0</th>\n",
       "      <td>(499.999, 8000.0]</td>\n",
       "      <td>87743</td>\n",
       "      <td>0.896026</td>\n",
       "      <td>0.053888</td>\n",
       "      <td>0.001684</td>\n",
       "    </tr>\n",
       "    <tr>\n",
       "      <th>1</th>\n",
       "      <td>(8000.0, 12000.0]</td>\n",
       "      <td>76014</td>\n",
       "      <td>0.891494</td>\n",
       "      <td>0.006150</td>\n",
       "      <td>0.001684</td>\n",
       "    </tr>\n",
       "    <tr>\n",
       "      <th>2</th>\n",
       "      <td>(12000.0, 20000.0]</td>\n",
       "      <td>94164</td>\n",
       "      <td>0.890330</td>\n",
       "      <td>-0.005827</td>\n",
       "      <td>0.001684</td>\n",
       "    </tr>\n",
       "    <tr>\n",
       "      <th>3</th>\n",
       "      <td>(20000.0, 35000.0]</td>\n",
       "      <td>68478</td>\n",
       "      <td>0.884445</td>\n",
       "      <td>-0.064730</td>\n",
       "      <td>0.001684</td>\n",
       "    </tr>\n",
       "  </tbody>\n",
       "</table>\n",
       "</div>"
      ],
      "text/plain": [
       "            loan_amnt  support      pos%       WoE        IV\n",
       "0   (499.999, 8000.0]    87743  0.896026  0.053888  0.001684\n",
       "1   (8000.0, 12000.0]    76014  0.891494  0.006150  0.001684\n",
       "2  (12000.0, 20000.0]    94164  0.890330 -0.005827  0.001684\n",
       "3  (20000.0, 35000.0]    68478  0.884445 -0.064730  0.001684"
      ]
     },
     "execution_count": 7,
     "metadata": {},
     "output_type": "execute_result"
    },
    {
     "data": {
      "image/png": "[encoded data removed]",
      "text/plain": [
       "<Figure size 720x360 with 1 Axes>"
      ]
     },
     "metadata": {
      "needs_background": "light"
     },
     "output_type": "display_data"
    }
   ],
   "source": [
    "X_woe['loan_amnt'] = pd.qcut(data['loan_amnt'], 4)\n",
    "df_temp = calculate_woe(X_woe, 'loan_amnt', data['loan_status'])\n",
    "plot_woe(df_temp)\n",
    "df_temp"
   ]
  },
  {
   "cell_type": "markdown",
   "id": "90927bf8",
   "metadata": {},
   "source": [
    "### funded_amnt"
   ]
  },
  {
   "cell_type": "code",
   "execution_count": 8,
   "id": "d49bf4cd",
   "metadata": {},
   "outputs": [
    {
     "data": {
      "text/html": [
       "<div>\n",
       "<style scoped>\n",
       "    .dataframe tbody tr th:only-of-type {\n",
       "        vertical-align: middle;\n",
       "    }\n",
       "\n",
       "    .dataframe tbody tr th {\n",
       "        vertical-align: top;\n",
       "    }\n",
       "\n",
       "    .dataframe thead th {\n",
       "        text-align: right;\n",
       "    }\n",
       "</style>\n",
       "<table border=\"1\" class=\"dataframe\">\n",
       "  <thead>\n",
       "    <tr style=\"text-align: right;\">\n",
       "      <th></th>\n",
       "      <th>funded_amnt</th>\n",
       "      <th>support</th>\n",
       "      <th>pos%</th>\n",
       "      <th>WoE</th>\n",
       "      <th>IV</th>\n",
       "    </tr>\n",
       "  </thead>\n",
       "  <tbody>\n",
       "    <tr>\n",
       "      <th>0</th>\n",
       "      <td>(499.999, 8000.0]</td>\n",
       "      <td>87920</td>\n",
       "      <td>0.895871</td>\n",
       "      <td>0.052229</td>\n",
       "      <td>0.00148</td>\n",
       "    </tr>\n",
       "    <tr>\n",
       "      <th>1</th>\n",
       "      <td>(8000.0, 12000.0]</td>\n",
       "      <td>76133</td>\n",
       "      <td>0.891282</td>\n",
       "      <td>0.003967</td>\n",
       "      <td>0.00148</td>\n",
       "    </tr>\n",
       "    <tr>\n",
       "      <th>2</th>\n",
       "      <td>(12000.0, 20000.0]</td>\n",
       "      <td>94228</td>\n",
       "      <td>0.890181</td>\n",
       "      <td>-0.007346</td>\n",
       "      <td>0.00148</td>\n",
       "    </tr>\n",
       "    <tr>\n",
       "      <th>3</th>\n",
       "      <td>(20000.0, 35000.0]</td>\n",
       "      <td>68118</td>\n",
       "      <td>0.885038</td>\n",
       "      <td>-0.058914</td>\n",
       "      <td>0.00148</td>\n",
       "    </tr>\n",
       "  </tbody>\n",
       "</table>\n",
       "</div>"
      ],
      "text/plain": [
       "          funded_amnt  support      pos%       WoE       IV\n",
       "0   (499.999, 8000.0]    87920  0.895871  0.052229  0.00148\n",
       "1   (8000.0, 12000.0]    76133  0.891282  0.003967  0.00148\n",
       "2  (12000.0, 20000.0]    94228  0.890181 -0.007346  0.00148\n",
       "3  (20000.0, 35000.0]    68118  0.885038 -0.058914  0.00148"
      ]
     },
     "execution_count": 8,
     "metadata": {},
     "output_type": "execute_result"
    },
    {
     "data": {
      "image/png": "[encoded data removed]",
      "text/plain": [
       "<Figure size 720x360 with 1 Axes>"
      ]
     },
     "metadata": {
      "needs_background": "light"
     },
     "output_type": "display_data"
    }
   ],
   "source": [
    "X_woe['funded_amnt'] = pd.qcut(data['funded_amnt'], 4)\n",
    "df_temp = calculate_woe(X_woe, 'funded_amnt', data['loan_status'])\n",
    "plot_woe(df_temp)\n",
    "df_temp"
   ]
  },
  {
   "cell_type": "markdown",
   "id": "db0a9822",
   "metadata": {},
   "source": [
    "### funded_amnt_inv"
   ]
  },
  {
   "cell_type": "code",
   "execution_count": 9,
   "id": "907d38f5",
   "metadata": {
    "scrolled": true
   },
   "outputs": [
    {
     "data": {
      "text/html": [
       "<div>\n",
       "<style scoped>\n",
       "    .dataframe tbody tr th:only-of-type {\n",
       "        vertical-align: middle;\n",
       "    }\n",
       "\n",
       "    .dataframe tbody tr th {\n",
       "        vertical-align: top;\n",
       "    }\n",
       "\n",
       "    .dataframe thead th {\n",
       "        text-align: right;\n",
       "    }\n",
       "</style>\n",
       "<table border=\"1\" class=\"dataframe\">\n",
       "  <thead>\n",
       "    <tr style=\"text-align: right;\">\n",
       "      <th></th>\n",
       "      <th>funded_amnt_inv</th>\n",
       "      <th>support</th>\n",
       "      <th>pos%</th>\n",
       "      <th>WoE</th>\n",
       "      <th>IV</th>\n",
       "    </tr>\n",
       "  </thead>\n",
       "  <tbody>\n",
       "    <tr>\n",
       "      <th>0</th>\n",
       "      <td>(-35.0, 11666.667]</td>\n",
       "      <td>145757</td>\n",
       "      <td>0.891058</td>\n",
       "      <td>0.001658</td>\n",
       "      <td>0.000239</td>\n",
       "    </tr>\n",
       "    <tr>\n",
       "      <th>1</th>\n",
       "      <td>(11666.667, 23333.333]</td>\n",
       "      <td>128146</td>\n",
       "      <td>0.892061</td>\n",
       "      <td>0.012024</td>\n",
       "      <td>0.000239</td>\n",
       "    </tr>\n",
       "    <tr>\n",
       "      <th>2</th>\n",
       "      <td>(23333.333, 35000.0]</td>\n",
       "      <td>52496</td>\n",
       "      <td>0.887610</td>\n",
       "      <td>-0.033378</td>\n",
       "      <td>0.000239</td>\n",
       "    </tr>\n",
       "  </tbody>\n",
       "</table>\n",
       "</div>"
      ],
      "text/plain": [
       "          funded_amnt_inv  support      pos%       WoE        IV\n",
       "0      (-35.0, 11666.667]   145757  0.891058  0.001658  0.000239\n",
       "1  (11666.667, 23333.333]   128146  0.892061  0.012024  0.000239\n",
       "2    (23333.333, 35000.0]    52496  0.887610 -0.033378  0.000239"
      ]
     },
     "execution_count": 9,
     "metadata": {},
     "output_type": "execute_result"
    },
    {
     "data": {
      "image/png": "[encoded data removed]",
      "text/plain": [
       "<Figure size 720x360 with 1 Axes>"
      ]
     },
     "metadata": {
      "needs_background": "light"
     },
     "output_type": "display_data"
    }
   ],
   "source": [
    "X_woe['funded_amnt_inv'] = pd.cut(data['funded_amnt_inv'], 3)\n",
    "df_temp = calculate_woe(X_woe, 'funded_amnt_inv', data['loan_status'])\n",
    "plot_woe(df_temp)\n",
    "df_temp"
   ]
  },
  {
   "cell_type": "markdown",
   "id": "14f858e5",
   "metadata": {},
   "source": [
    "### term"
   ]
  },
  {
   "cell_type": "code",
   "execution_count": 10,
   "id": "415d662d",
   "metadata": {},
   "outputs": [
    {
     "data": {
      "text/plain": [
       " 36 months    236600\n",
       " 60 months     89799\n",
       "Name: term, dtype: int64"
      ]
     },
     "execution_count": 10,
     "metadata": {},
     "output_type": "execute_result"
    }
   ],
   "source": [
    "data['term'].value_counts()"
   ]
  },
  {
   "cell_type": "code",
   "execution_count": 11,
   "id": "d6fa3ebd",
   "metadata": {},
   "outputs": [
    {
     "data": {
      "text/html": [
       "<div>\n",
       "<style scoped>\n",
       "    .dataframe tbody tr th:only-of-type {\n",
       "        vertical-align: middle;\n",
       "    }\n",
       "\n",
       "    .dataframe tbody tr th {\n",
       "        vertical-align: top;\n",
       "    }\n",
       "\n",
       "    .dataframe thead th {\n",
       "        text-align: right;\n",
       "    }\n",
       "</style>\n",
       "<table border=\"1\" class=\"dataframe\">\n",
       "  <thead>\n",
       "    <tr style=\"text-align: right;\">\n",
       "      <th></th>\n",
       "      <th>term</th>\n",
       "      <th>support</th>\n",
       "      <th>pos%</th>\n",
       "      <th>WoE</th>\n",
       "      <th>IV</th>\n",
       "    </tr>\n",
       "  </thead>\n",
       "  <tbody>\n",
       "    <tr>\n",
       "      <th>0</th>\n",
       "      <td>36 months</td>\n",
       "      <td>236600</td>\n",
       "      <td>0.903090</td>\n",
       "      <td>0.132095</td>\n",
       "      <td>0.038816</td>\n",
       "    </tr>\n",
       "    <tr>\n",
       "      <th>1</th>\n",
       "      <td>60 months</td>\n",
       "      <td>89799</td>\n",
       "      <td>0.858773</td>\n",
       "      <td>-0.294800</td>\n",
       "      <td>0.038816</td>\n",
       "    </tr>\n",
       "  </tbody>\n",
       "</table>\n",
       "</div>"
      ],
      "text/plain": [
       "         term  support      pos%       WoE        IV\n",
       "0   36 months   236600  0.903090  0.132095  0.038816\n",
       "1   60 months    89799  0.858773 -0.294800  0.038816"
      ]
     },
     "execution_count": 11,
     "metadata": {},
     "output_type": "execute_result"
    },
    {
     "data": {
      "image/png": "[encoded data removed]",
      "text/plain": [
       "<Figure size 720x360 with 1 Axes>"
      ]
     },
     "metadata": {
      "needs_background": "light"
     },
     "output_type": "display_data"
    }
   ],
   "source": [
    "df_temp = calculate_woe(data, 'term', data['loan_status'])\n",
    "plot_woe(df_temp)\n",
    "df_temp"
   ]
  },
  {
   "cell_type": "markdown",
   "id": "414a5435",
   "metadata": {},
   "source": [
    "### int_rate"
   ]
  },
  {
   "cell_type": "code",
   "execution_count": 12,
   "id": "cc4e16d7",
   "metadata": {},
   "outputs": [
    {
     "data": {
      "text/html": [
       "<div>\n",
       "<style scoped>\n",
       "    .dataframe tbody tr th:only-of-type {\n",
       "        vertical-align: middle;\n",
       "    }\n",
       "\n",
       "    .dataframe tbody tr th {\n",
       "        vertical-align: top;\n",
       "    }\n",
       "\n",
       "    .dataframe thead th {\n",
       "        text-align: right;\n",
       "    }\n",
       "</style>\n",
       "<table border=\"1\" class=\"dataframe\">\n",
       "  <thead>\n",
       "    <tr style=\"text-align: right;\">\n",
       "      <th></th>\n",
       "      <th>int_rate</th>\n",
       "      <th>support</th>\n",
       "      <th>pos%</th>\n",
       "      <th>WoE</th>\n",
       "      <th>IV</th>\n",
       "    </tr>\n",
       "  </thead>\n",
       "  <tbody>\n",
       "    <tr>\n",
       "      <th>0</th>\n",
       "      <td>(5.399, 12.3]</td>\n",
       "      <td>120535</td>\n",
       "      <td>0.943195</td>\n",
       "      <td>0.709707</td>\n",
       "      <td>0.242939</td>\n",
       "    </tr>\n",
       "    <tr>\n",
       "      <th>1</th>\n",
       "      <td>(12.3, 19.18]</td>\n",
       "      <td>167686</td>\n",
       "      <td>0.875726</td>\n",
       "      <td>-0.147375</td>\n",
       "      <td>0.242939</td>\n",
       "    </tr>\n",
       "    <tr>\n",
       "      <th>2</th>\n",
       "      <td>(19.18, 26.06]</td>\n",
       "      <td>38178</td>\n",
       "      <td>0.792420</td>\n",
       "      <td>-0.760367</td>\n",
       "      <td>0.242939</td>\n",
       "    </tr>\n",
       "  </tbody>\n",
       "</table>\n",
       "</div>"
      ],
      "text/plain": [
       "         int_rate  support      pos%       WoE        IV\n",
       "0   (5.399, 12.3]   120535  0.943195  0.709707  0.242939\n",
       "1   (12.3, 19.18]   167686  0.875726 -0.147375  0.242939\n",
       "2  (19.18, 26.06]    38178  0.792420 -0.760367  0.242939"
      ]
     },
     "execution_count": 12,
     "metadata": {},
     "output_type": "execute_result"
    },
    {
     "data": {
      "image/png": "[encoded data removed]",
      "text/plain": [
       "<Figure size 720x360 with 1 Axes>"
      ]
     },
     "metadata": {
      "needs_background": "light"
     },
     "output_type": "display_data"
    }
   ],
   "source": [
    "X_woe['int_rate'] = pd.cut(data['int_rate'], 3)\n",
    "df_temp = calculate_woe(X_woe, 'int_rate', data['loan_status'])\n",
    "plot_woe(df_temp)\n",
    "df_temp"
   ]
  },
  {
   "cell_type": "markdown",
   "id": "f649e27d",
   "metadata": {},
   "source": [
    "### installment"
   ]
  },
  {
   "cell_type": "code",
   "execution_count": 13,
   "id": "77e6ad46",
   "metadata": {},
   "outputs": [
    {
     "data": {
      "text/html": [
       "<div>\n",
       "<style scoped>\n",
       "    .dataframe tbody tr th:only-of-type {\n",
       "        vertical-align: middle;\n",
       "    }\n",
       "\n",
       "    .dataframe tbody tr th {\n",
       "        vertical-align: top;\n",
       "    }\n",
       "\n",
       "    .dataframe thead th {\n",
       "        text-align: right;\n",
       "    }\n",
       "</style>\n",
       "<table border=\"1\" class=\"dataframe\">\n",
       "  <thead>\n",
       "    <tr style=\"text-align: right;\">\n",
       "      <th></th>\n",
       "      <th>installment</th>\n",
       "      <th>support</th>\n",
       "      <th>pos%</th>\n",
       "      <th>WoE</th>\n",
       "      <th>IV</th>\n",
       "    </tr>\n",
       "  </thead>\n",
       "  <tbody>\n",
       "    <tr>\n",
       "      <th>0</th>\n",
       "      <td>(15.669, 300.54]</td>\n",
       "      <td>108801</td>\n",
       "      <td>0.896058</td>\n",
       "      <td>0.054232</td>\n",
       "      <td>0.001964</td>\n",
       "    </tr>\n",
       "    <tr>\n",
       "      <th>1</th>\n",
       "      <td>(300.54, 495.81]</td>\n",
       "      <td>108801</td>\n",
       "      <td>0.891122</td>\n",
       "      <td>0.002317</td>\n",
       "      <td>0.001964</td>\n",
       "    </tr>\n",
       "    <tr>\n",
       "      <th>2</th>\n",
       "      <td>(495.81, 1409.99]</td>\n",
       "      <td>108797</td>\n",
       "      <td>0.885512</td>\n",
       "      <td>-0.054248</td>\n",
       "      <td>0.001964</td>\n",
       "    </tr>\n",
       "  </tbody>\n",
       "</table>\n",
       "</div>"
      ],
      "text/plain": [
       "         installment  support      pos%       WoE        IV\n",
       "0   (15.669, 300.54]   108801  0.896058  0.054232  0.001964\n",
       "1   (300.54, 495.81]   108801  0.891122  0.002317  0.001964\n",
       "2  (495.81, 1409.99]   108797  0.885512 -0.054248  0.001964"
      ]
     },
     "execution_count": 13,
     "metadata": {},
     "output_type": "execute_result"
    },
    {
     "data": {
      "image/png": "[encoded data removed]",
      "text/plain": [
       "<Figure size 720x360 with 1 Axes>"
      ]
     },
     "metadata": {
      "needs_background": "light"
     },
     "output_type": "display_data"
    }
   ],
   "source": [
    "X_woe['installment'] = pd.qcut(data['installment'], 3)\n",
    "df_temp = calculate_woe(X_woe, 'installment', data['loan_status'])\n",
    "plot_woe(df_temp)\n",
    "df_temp"
   ]
  },
  {
   "cell_type": "markdown",
   "id": "8df62132",
   "metadata": {},
   "source": [
    "### grade"
   ]
  },
  {
   "cell_type": "code",
   "execution_count": 14,
   "id": "012d97b0",
   "metadata": {},
   "outputs": [
    {
     "data": {
      "text/html": [
       "<div>\n",
       "<style scoped>\n",
       "    .dataframe tbody tr th:only-of-type {\n",
       "        vertical-align: middle;\n",
       "    }\n",
       "\n",
       "    .dataframe tbody tr th {\n",
       "        vertical-align: top;\n",
       "    }\n",
       "\n",
       "    .dataframe thead th {\n",
       "        text-align: right;\n",
       "    }\n",
       "</style>\n",
       "<table border=\"1\" class=\"dataframe\">\n",
       "  <thead>\n",
       "    <tr style=\"text-align: right;\">\n",
       "      <th></th>\n",
       "      <th>grade</th>\n",
       "      <th>support</th>\n",
       "      <th>pos%</th>\n",
       "      <th>WoE</th>\n",
       "      <th>IV</th>\n",
       "    </tr>\n",
       "  </thead>\n",
       "  <tbody>\n",
       "    <tr>\n",
       "      <th>0</th>\n",
       "      <td>A</td>\n",
       "      <td>52497</td>\n",
       "      <td>0.961941</td>\n",
       "      <td>1.129867</td>\n",
       "      <td>0.295028</td>\n",
       "    </tr>\n",
       "    <tr>\n",
       "      <th>1</th>\n",
       "      <td>B</td>\n",
       "      <td>95738</td>\n",
       "      <td>0.921525</td>\n",
       "      <td>0.363316</td>\n",
       "      <td>0.295028</td>\n",
       "    </tr>\n",
       "    <tr>\n",
       "      <th>2</th>\n",
       "      <td>C</td>\n",
       "      <td>87825</td>\n",
       "      <td>0.885705</td>\n",
       "      <td>-0.052343</td>\n",
       "      <td>0.295028</td>\n",
       "    </tr>\n",
       "    <tr>\n",
       "      <th>3</th>\n",
       "      <td>D</td>\n",
       "      <td>53780</td>\n",
       "      <td>0.845407</td>\n",
       "      <td>-0.400916</td>\n",
       "      <td>0.295028</td>\n",
       "    </tr>\n",
       "    <tr>\n",
       "      <th>4</th>\n",
       "      <td>E</td>\n",
       "      <td>25015</td>\n",
       "      <td>0.804757</td>\n",
       "      <td>-0.683644</td>\n",
       "      <td>0.295028</td>\n",
       "    </tr>\n",
       "    <tr>\n",
       "      <th>5</th>\n",
       "      <td>F</td>\n",
       "      <td>9234</td>\n",
       "      <td>0.759909</td>\n",
       "      <td>-0.947759</td>\n",
       "      <td>0.295028</td>\n",
       "    </tr>\n",
       "    <tr>\n",
       "      <th>6</th>\n",
       "      <td>G</td>\n",
       "      <td>2310</td>\n",
       "      <td>0.719913</td>\n",
       "      <td>-1.155908</td>\n",
       "      <td>0.295028</td>\n",
       "    </tr>\n",
       "  </tbody>\n",
       "</table>\n",
       "</div>"
      ],
      "text/plain": [
       "  grade  support      pos%       WoE        IV\n",
       "0     A    52497  0.961941  1.129867  0.295028\n",
       "1     B    95738  0.921525  0.363316  0.295028\n",
       "2     C    87825  0.885705 -0.052343  0.295028\n",
       "3     D    53780  0.845407 -0.400916  0.295028\n",
       "4     E    25015  0.804757 -0.683644  0.295028\n",
       "5     F     9234  0.759909 -0.947759  0.295028\n",
       "6     G     2310  0.719913 -1.155908  0.295028"
      ]
     },
     "execution_count": 14,
     "metadata": {},
     "output_type": "execute_result"
    },
    {
     "data": {
      "image/png": "[encoded data removed]",
      "text/plain": [
       "<Figure size 720x360 with 1 Axes>"
      ]
     },
     "metadata": {
      "needs_background": "light"
     },
     "output_type": "display_data"
    }
   ],
   "source": [
    "df_temp = calculate_woe(data, 'grade', data['loan_status'])\n",
    "plot_woe(df_temp)\n",
    "df_temp"
   ]
  },
  {
   "cell_type": "markdown",
   "id": "034e6757",
   "metadata": {},
   "source": [
    "### sub_grade"
   ]
  },
  {
   "cell_type": "code",
   "execution_count": 15,
   "id": "eec0093f",
   "metadata": {},
   "outputs": [
    {
     "data": {
      "text/html": [
       "<div>\n",
       "<style scoped>\n",
       "    .dataframe tbody tr th:only-of-type {\n",
       "        vertical-align: middle;\n",
       "    }\n",
       "\n",
       "    .dataframe tbody tr th {\n",
       "        vertical-align: top;\n",
       "    }\n",
       "\n",
       "    .dataframe thead th {\n",
       "        text-align: right;\n",
       "    }\n",
       "</style>\n",
       "<table border=\"1\" class=\"dataframe\">\n",
       "  <thead>\n",
       "    <tr style=\"text-align: right;\">\n",
       "      <th></th>\n",
       "      <th>sub_grade</th>\n",
       "      <th>support</th>\n",
       "      <th>pos%</th>\n",
       "      <th>WoE</th>\n",
       "      <th>IV</th>\n",
       "    </tr>\n",
       "  </thead>\n",
       "  <tbody>\n",
       "    <tr>\n",
       "      <th>0</th>\n",
       "      <td>A1</td>\n",
       "      <td>7478</td>\n",
       "      <td>0.980744</td>\n",
       "      <td>1.830523</td>\n",
       "      <td>0.318831</td>\n",
       "    </tr>\n",
       "    <tr>\n",
       "      <th>1</th>\n",
       "      <td>A2</td>\n",
       "      <td>7634</td>\n",
       "      <td>0.973539</td>\n",
       "      <td>1.505343</td>\n",
       "      <td>0.318831</td>\n",
       "    </tr>\n",
       "    <tr>\n",
       "      <th>2</th>\n",
       "      <td>A3</td>\n",
       "      <td>8800</td>\n",
       "      <td>0.965341</td>\n",
       "      <td>1.226981</td>\n",
       "      <td>0.318831</td>\n",
       "    </tr>\n",
       "    <tr>\n",
       "      <th>3</th>\n",
       "      <td>A4</td>\n",
       "      <td>13364</td>\n",
       "      <td>0.956076</td>\n",
       "      <td>0.980437</td>\n",
       "      <td>0.318831</td>\n",
       "    </tr>\n",
       "    <tr>\n",
       "      <th>4</th>\n",
       "      <td>A5</td>\n",
       "      <td>15221</td>\n",
       "      <td>0.950069</td>\n",
       "      <td>0.845952</td>\n",
       "      <td>0.318831</td>\n",
       "    </tr>\n",
       "    <tr>\n",
       "      <th>5</th>\n",
       "      <td>B1</td>\n",
       "      <td>15905</td>\n",
       "      <td>0.939956</td>\n",
       "      <td>0.650815</td>\n",
       "      <td>0.318831</td>\n",
       "    </tr>\n",
       "    <tr>\n",
       "      <th>6</th>\n",
       "      <td>B2</td>\n",
       "      <td>18637</td>\n",
       "      <td>0.931158</td>\n",
       "      <td>0.504682</td>\n",
       "      <td>0.318831</td>\n",
       "    </tr>\n",
       "    <tr>\n",
       "      <th>7</th>\n",
       "      <td>B3</td>\n",
       "      <td>22174</td>\n",
       "      <td>0.920989</td>\n",
       "      <td>0.355915</td>\n",
       "      <td>0.318831</td>\n",
       "    </tr>\n",
       "    <tr>\n",
       "      <th>8</th>\n",
       "      <td>B4</td>\n",
       "      <td>21279</td>\n",
       "      <td>0.912684</td>\n",
       "      <td>0.246914</td>\n",
       "      <td>0.318831</td>\n",
       "    </tr>\n",
       "    <tr>\n",
       "      <th>9</th>\n",
       "      <td>B5</td>\n",
       "      <td>17743</td>\n",
       "      <td>0.906160</td>\n",
       "      <td>0.167687</td>\n",
       "      <td>0.318831</td>\n",
       "    </tr>\n",
       "    <tr>\n",
       "      <th>10</th>\n",
       "      <td>C1</td>\n",
       "      <td>18912</td>\n",
       "      <td>0.894934</td>\n",
       "      <td>0.042226</td>\n",
       "      <td>0.318831</td>\n",
       "    </tr>\n",
       "    <tr>\n",
       "      <th>11</th>\n",
       "      <td>C2</td>\n",
       "      <td>18787</td>\n",
       "      <td>0.892798</td>\n",
       "      <td>0.019708</td>\n",
       "      <td>0.318831</td>\n",
       "    </tr>\n",
       "    <tr>\n",
       "      <th>12</th>\n",
       "      <td>C3</td>\n",
       "      <td>17666</td>\n",
       "      <td>0.885486</td>\n",
       "      <td>-0.054498</td>\n",
       "      <td>0.318831</td>\n",
       "    </tr>\n",
       "    <tr>\n",
       "      <th>13</th>\n",
       "      <td>C4</td>\n",
       "      <td>16898</td>\n",
       "      <td>0.880223</td>\n",
       "      <td>-0.105401</td>\n",
       "      <td>0.318831</td>\n",
       "    </tr>\n",
       "    <tr>\n",
       "      <th>14</th>\n",
       "      <td>C5</td>\n",
       "      <td>15562</td>\n",
       "      <td>0.872124</td>\n",
       "      <td>-0.180066</td>\n",
       "      <td>0.318831</td>\n",
       "    </tr>\n",
       "    <tr>\n",
       "      <th>15</th>\n",
       "      <td>D1</td>\n",
       "      <td>13335</td>\n",
       "      <td>0.858793</td>\n",
       "      <td>-0.294642</td>\n",
       "      <td>0.318831</td>\n",
       "    </tr>\n",
       "    <tr>\n",
       "      <th>16</th>\n",
       "      <td>D2</td>\n",
       "      <td>12070</td>\n",
       "      <td>0.848053</td>\n",
       "      <td>-0.380528</td>\n",
       "      <td>0.318831</td>\n",
       "    </tr>\n",
       "    <tr>\n",
       "      <th>17</th>\n",
       "      <td>D3</td>\n",
       "      <td>10397</td>\n",
       "      <td>0.847360</td>\n",
       "      <td>-0.385898</td>\n",
       "      <td>0.318831</td>\n",
       "    </tr>\n",
       "    <tr>\n",
       "      <th>18</th>\n",
       "      <td>D4</td>\n",
       "      <td>9840</td>\n",
       "      <td>0.834654</td>\n",
       "      <td>-0.480959</td>\n",
       "      <td>0.318831</td>\n",
       "    </tr>\n",
       "    <tr>\n",
       "      <th>19</th>\n",
       "      <td>D5</td>\n",
       "      <td>8138</td>\n",
       "      <td>0.830057</td>\n",
       "      <td>-0.513912</td>\n",
       "      <td>0.318831</td>\n",
       "    </tr>\n",
       "    <tr>\n",
       "      <th>20</th>\n",
       "      <td>E1</td>\n",
       "      <td>6345</td>\n",
       "      <td>0.826005</td>\n",
       "      <td>-0.542368</td>\n",
       "      <td>0.318831</td>\n",
       "    </tr>\n",
       "    <tr>\n",
       "      <th>21</th>\n",
       "      <td>E2</td>\n",
       "      <td>6047</td>\n",
       "      <td>0.807508</td>\n",
       "      <td>-0.666042</td>\n",
       "      <td>0.318831</td>\n",
       "    </tr>\n",
       "    <tr>\n",
       "      <th>22</th>\n",
       "      <td>E3</td>\n",
       "      <td>4937</td>\n",
       "      <td>0.807170</td>\n",
       "      <td>-0.668212</td>\n",
       "      <td>0.318831</td>\n",
       "    </tr>\n",
       "    <tr>\n",
       "      <th>23</th>\n",
       "      <td>E4</td>\n",
       "      <td>4179</td>\n",
       "      <td>0.789184</td>\n",
       "      <td>-0.779926</td>\n",
       "      <td>0.318831</td>\n",
       "    </tr>\n",
       "    <tr>\n",
       "      <th>24</th>\n",
       "      <td>E5</td>\n",
       "      <td>3507</td>\n",
       "      <td>0.776732</td>\n",
       "      <td>-0.853216</td>\n",
       "      <td>0.318831</td>\n",
       "    </tr>\n",
       "    <tr>\n",
       "      <th>25</th>\n",
       "      <td>F1</td>\n",
       "      <td>2710</td>\n",
       "      <td>0.781919</td>\n",
       "      <td>-0.823056</td>\n",
       "      <td>0.318831</td>\n",
       "    </tr>\n",
       "    <tr>\n",
       "      <th>26</th>\n",
       "      <td>F2</td>\n",
       "      <td>2119</td>\n",
       "      <td>0.768759</td>\n",
       "      <td>-0.898624</td>\n",
       "      <td>0.318831</td>\n",
       "    </tr>\n",
       "    <tr>\n",
       "      <th>27</th>\n",
       "      <td>F3</td>\n",
       "      <td>1905</td>\n",
       "      <td>0.755381</td>\n",
       "      <td>-0.972422</td>\n",
       "      <td>0.318831</td>\n",
       "    </tr>\n",
       "    <tr>\n",
       "      <th>28</th>\n",
       "      <td>F4</td>\n",
       "      <td>1442</td>\n",
       "      <td>0.744799</td>\n",
       "      <td>-1.028878</td>\n",
       "      <td>0.318831</td>\n",
       "    </tr>\n",
       "    <tr>\n",
       "      <th>29</th>\n",
       "      <td>F5</td>\n",
       "      <td>1058</td>\n",
       "      <td>0.714556</td>\n",
       "      <td>-1.182326</td>\n",
       "      <td>0.318831</td>\n",
       "    </tr>\n",
       "    <tr>\n",
       "      <th>30</th>\n",
       "      <td>G1</td>\n",
       "      <td>775</td>\n",
       "      <td>0.704516</td>\n",
       "      <td>-1.231043</td>\n",
       "      <td>0.318831</td>\n",
       "    </tr>\n",
       "    <tr>\n",
       "      <th>31</th>\n",
       "      <td>G2</td>\n",
       "      <td>577</td>\n",
       "      <td>0.712305</td>\n",
       "      <td>-1.193334</td>\n",
       "      <td>0.318831</td>\n",
       "    </tr>\n",
       "    <tr>\n",
       "      <th>32</th>\n",
       "      <td>G3</td>\n",
       "      <td>400</td>\n",
       "      <td>0.727500</td>\n",
       "      <td>-1.117965</td>\n",
       "      <td>0.318831</td>\n",
       "    </tr>\n",
       "    <tr>\n",
       "      <th>33</th>\n",
       "      <td>G4</td>\n",
       "      <td>294</td>\n",
       "      <td>0.768707</td>\n",
       "      <td>-0.898913</td>\n",
       "      <td>0.318831</td>\n",
       "    </tr>\n",
       "    <tr>\n",
       "      <th>34</th>\n",
       "      <td>G5</td>\n",
       "      <td>264</td>\n",
       "      <td>0.715909</td>\n",
       "      <td>-1.175681</td>\n",
       "      <td>0.318831</td>\n",
       "    </tr>\n",
       "  </tbody>\n",
       "</table>\n",
       "</div>"
      ],
      "text/plain": [
       "   sub_grade  support      pos%       WoE        IV\n",
       "0         A1     7478  0.980744  1.830523  0.318831\n",
       "1         A2     7634  0.973539  1.505343  0.318831\n",
       "2         A3     8800  0.965341  1.226981  0.318831\n",
       "3         A4    13364  0.956076  0.980437  0.318831\n",
       "4         A5    15221  0.950069  0.845952  0.318831\n",
       "5         B1    15905  0.939956  0.650815  0.318831\n",
       "6         B2    18637  0.931158  0.504682  0.318831\n",
       "7         B3    22174  0.920989  0.355915  0.318831\n",
       "8         B4    21279  0.912684  0.246914  0.318831\n",
       "9         B5    17743  0.906160  0.167687  0.318831\n",
       "10        C1    18912  0.894934  0.042226  0.318831\n",
       "11        C2    18787  0.892798  0.019708  0.318831\n",
       "12        C3    17666  0.885486 -0.054498  0.318831\n",
       "13        C4    16898  0.880223 -0.105401  0.318831\n",
       "14        C5    15562  0.872124 -0.180066  0.318831\n",
       "15        D1    13335  0.858793 -0.294642  0.318831\n",
       "16        D2    12070  0.848053 -0.380528  0.318831\n",
       "17        D3    10397  0.847360 -0.385898  0.318831\n",
       "18        D4     9840  0.834654 -0.480959  0.318831\n",
       "19        D5     8138  0.830057 -0.513912  0.318831\n",
       "20        E1     6345  0.826005 -0.542368  0.318831\n",
       "21        E2     6047  0.807508 -0.666042  0.318831\n",
       "22        E3     4937  0.807170 -0.668212  0.318831\n",
       "23        E4     4179  0.789184 -0.779926  0.318831\n",
       "24        E5     3507  0.776732 -0.853216  0.318831\n",
       "25        F1     2710  0.781919 -0.823056  0.318831\n",
       "26        F2     2119  0.768759 -0.898624  0.318831\n",
       "27        F3     1905  0.755381 -0.972422  0.318831\n",
       "28        F4     1442  0.744799 -1.028878  0.318831\n",
       "29        F5     1058  0.714556 -1.182326  0.318831\n",
       "30        G1      775  0.704516 -1.231043  0.318831\n",
       "31        G2      577  0.712305 -1.193334  0.318831\n",
       "32        G3      400  0.727500 -1.117965  0.318831\n",
       "33        G4      294  0.768707 -0.898913  0.318831\n",
       "34        G5      264  0.715909 -1.175681  0.318831"
      ]
     },
     "execution_count": 15,
     "metadata": {},
     "output_type": "execute_result"
    },
    {
     "data": {
      "image/png": "[encoded data removed]",
      "text/plain": [
       "<Figure size 720x360 with 1 Axes>"
      ]
     },
     "metadata": {
      "needs_background": "light"
     },
     "output_type": "display_data"
    }
   ],
   "source": [
    "df_temp = calculate_woe(data, 'sub_grade', data['loan_status'])\n",
    "plot_woe(df_temp)\n",
    "df_temp"
   ]
  },
  {
   "cell_type": "code",
   "execution_count": 16,
   "id": "489649b5",
   "metadata": {},
   "outputs": [
    {
     "data": {
      "text/html": [
       "<div>\n",
       "<style scoped>\n",
       "    .dataframe tbody tr th:only-of-type {\n",
       "        vertical-align: middle;\n",
       "    }\n",
       "\n",
       "    .dataframe tbody tr th {\n",
       "        vertical-align: top;\n",
       "    }\n",
       "\n",
       "    .dataframe thead th {\n",
       "        text-align: right;\n",
       "    }\n",
       "</style>\n",
       "<table border=\"1\" class=\"dataframe\">\n",
       "  <thead>\n",
       "    <tr style=\"text-align: right;\">\n",
       "      <th></th>\n",
       "      <th>sub_grade</th>\n",
       "      <th>support</th>\n",
       "      <th>pos%</th>\n",
       "      <th>WoE</th>\n",
       "      <th>IV</th>\n",
       "    </tr>\n",
       "  </thead>\n",
       "  <tbody>\n",
       "    <tr>\n",
       "      <th>0</th>\n",
       "      <td>(-0.001, 18.0]</td>\n",
       "      <td>77004</td>\n",
       "      <td>0.815867</td>\n",
       "      <td>-0.611349</td>\n",
       "      <td>0.284438</td>\n",
       "    </tr>\n",
       "    <tr>\n",
       "      <th>1</th>\n",
       "      <td>(18.0, 22.0]</td>\n",
       "      <td>63461</td>\n",
       "      <td>0.875199</td>\n",
       "      <td>-0.152210</td>\n",
       "      <td>0.284438</td>\n",
       "    </tr>\n",
       "    <tr>\n",
       "      <th>2</th>\n",
       "      <td>(22.0, 25.0]</td>\n",
       "      <td>55442</td>\n",
       "      <td>0.897803</td>\n",
       "      <td>0.073110</td>\n",
       "      <td>0.284438</td>\n",
       "    </tr>\n",
       "    <tr>\n",
       "      <th>3</th>\n",
       "      <td>(25.0, 29.0]</td>\n",
       "      <td>77995</td>\n",
       "      <td>0.925021</td>\n",
       "      <td>0.412666</td>\n",
       "      <td>0.284438</td>\n",
       "    </tr>\n",
       "    <tr>\n",
       "      <th>4</th>\n",
       "      <td>(29.0, 34.0]</td>\n",
       "      <td>52497</td>\n",
       "      <td>0.961941</td>\n",
       "      <td>1.129867</td>\n",
       "      <td>0.284438</td>\n",
       "    </tr>\n",
       "  </tbody>\n",
       "</table>\n",
       "</div>"
      ],
      "text/plain": [
       "        sub_grade  support      pos%       WoE        IV\n",
       "0  (-0.001, 18.0]    77004  0.815867 -0.611349  0.284438\n",
       "1    (18.0, 22.0]    63461  0.875199 -0.152210  0.284438\n",
       "2    (22.0, 25.0]    55442  0.897803  0.073110  0.284438\n",
       "3    (25.0, 29.0]    77995  0.925021  0.412666  0.284438\n",
       "4    (29.0, 34.0]    52497  0.961941  1.129867  0.284438"
      ]
     },
     "execution_count": 16,
     "metadata": {},
     "output_type": "execute_result"
    },
    {
     "data": {
      "image/png": "[encoded data removed]",
      "text/plain": [
       "<Figure size 720x360 with 1 Axes>"
      ]
     },
     "metadata": {
      "needs_background": "light"
     },
     "output_type": "display_data"
    }
   ],
   "source": [
    "# since grades are ordinal data (we can compare them), its best to use a label encoder here. Otherwise we have too many features\n",
    "grades = list(data['sub_grade'].unique())\n",
    "grades.sort(reverse=True) # sorts grades as [G5, G4, ... A2, A1]\n",
    "grades_map = dict(zip(grades, list(range(len(grades))))) # get dict of corresponding indices\n",
    "data['sub_grade'] = data['sub_grade'].apply(lambda x: grades_map[x])\n",
    "# plot the results\n",
    "X_woe['sub_grade'] = pd.qcut(data['sub_grade'], 5)\n",
    "df_temp = calculate_woe(X_woe, 'sub_grade', data['loan_status'])\n",
    "plot_woe(df_temp)\n",
    "df_temp"
   ]
  },
  {
   "cell_type": "markdown",
   "id": "2c3e2ea9",
   "metadata": {},
   "source": [
    "We have effectively reduced number of features from 35 to 10 while also increasing the IV"
   ]
  },
  {
   "cell_type": "markdown",
   "id": "d91fb342",
   "metadata": {},
   "source": [
    "### emp_length"
   ]
  },
  {
   "cell_type": "code",
   "execution_count": 17,
   "id": "c79d1081",
   "metadata": {},
   "outputs": [],
   "source": [
    "# lots of nan, best strategy would be to make it a separate category\n",
    "data['emp_length'] = data['emp_length'].fillna('NaN')"
   ]
  },
  {
   "cell_type": "code",
   "execution_count": 18,
   "id": "ecc1ba73",
   "metadata": {},
   "outputs": [
    {
     "data": {
      "text/html": [
       "<div>\n",
       "<style scoped>\n",
       "    .dataframe tbody tr th:only-of-type {\n",
       "        vertical-align: middle;\n",
       "    }\n",
       "\n",
       "    .dataframe tbody tr th {\n",
       "        vertical-align: top;\n",
       "    }\n",
       "\n",
       "    .dataframe thead th {\n",
       "        text-align: right;\n",
       "    }\n",
       "</style>\n",
       "<table border=\"1\" class=\"dataframe\">\n",
       "  <thead>\n",
       "    <tr style=\"text-align: right;\">\n",
       "      <th></th>\n",
       "      <th>emp_length</th>\n",
       "      <th>support</th>\n",
       "      <th>pos%</th>\n",
       "      <th>WoE</th>\n",
       "      <th>IV</th>\n",
       "    </tr>\n",
       "  </thead>\n",
       "  <tbody>\n",
       "    <tr>\n",
       "      <th>0</th>\n",
       "      <td>1 year</td>\n",
       "      <td>20777</td>\n",
       "      <td>0.890311</td>\n",
       "      <td>-0.006014</td>\n",
       "      <td>0.006456</td>\n",
       "    </tr>\n",
       "    <tr>\n",
       "      <th>1</th>\n",
       "      <td>10+ years</td>\n",
       "      <td>105069</td>\n",
       "      <td>0.899942</td>\n",
       "      <td>0.096640</td>\n",
       "      <td>0.006456</td>\n",
       "    </tr>\n",
       "    <tr>\n",
       "      <th>2</th>\n",
       "      <td>2 years</td>\n",
       "      <td>28994</td>\n",
       "      <td>0.890046</td>\n",
       "      <td>-0.008727</td>\n",
       "      <td>0.006456</td>\n",
       "    </tr>\n",
       "    <tr>\n",
       "      <th>3</th>\n",
       "      <td>3 years</td>\n",
       "      <td>25367</td>\n",
       "      <td>0.890488</td>\n",
       "      <td>-0.004208</td>\n",
       "      <td>0.006456</td>\n",
       "    </tr>\n",
       "    <tr>\n",
       "      <th>4</th>\n",
       "      <td>4 years</td>\n",
       "      <td>19514</td>\n",
       "      <td>0.889054</td>\n",
       "      <td>-0.018825</td>\n",
       "      <td>0.006456</td>\n",
       "    </tr>\n",
       "    <tr>\n",
       "      <th>5</th>\n",
       "      <td>5 years</td>\n",
       "      <td>21514</td>\n",
       "      <td>0.885330</td>\n",
       "      <td>-0.056033</td>\n",
       "      <td>0.006456</td>\n",
       "    </tr>\n",
       "    <tr>\n",
       "      <th>6</th>\n",
       "      <td>6 years</td>\n",
       "      <td>18290</td>\n",
       "      <td>0.882887</td>\n",
       "      <td>-0.079884</td>\n",
       "      <td>0.006456</td>\n",
       "    </tr>\n",
       "    <tr>\n",
       "      <th>7</th>\n",
       "      <td>7 years</td>\n",
       "      <td>18453</td>\n",
       "      <td>0.889882</td>\n",
       "      <td>-0.010399</td>\n",
       "      <td>0.006456</td>\n",
       "    </tr>\n",
       "    <tr>\n",
       "      <th>8</th>\n",
       "      <td>8 years</td>\n",
       "      <td>15706</td>\n",
       "      <td>0.891443</td>\n",
       "      <td>0.005624</td>\n",
       "      <td>0.006456</td>\n",
       "    </tr>\n",
       "    <tr>\n",
       "      <th>9</th>\n",
       "      <td>9 years</td>\n",
       "      <td>12502</td>\n",
       "      <td>0.888898</td>\n",
       "      <td>-0.020408</td>\n",
       "      <td>0.006456</td>\n",
       "    </tr>\n",
       "    <tr>\n",
       "      <th>10</th>\n",
       "      <td>&lt; 1 year</td>\n",
       "      <td>25475</td>\n",
       "      <td>0.881845</td>\n",
       "      <td>-0.089921</td>\n",
       "      <td>0.006456</td>\n",
       "    </tr>\n",
       "    <tr>\n",
       "      <th>11</th>\n",
       "      <td>NaN</td>\n",
       "      <td>14738</td>\n",
       "      <td>0.868164</td>\n",
       "      <td>-0.215119</td>\n",
       "      <td>0.006456</td>\n",
       "    </tr>\n",
       "  </tbody>\n",
       "</table>\n",
       "</div>"
      ],
      "text/plain": [
       "   emp_length  support      pos%       WoE        IV\n",
       "0      1 year    20777  0.890311 -0.006014  0.006456\n",
       "1   10+ years   105069  0.899942  0.096640  0.006456\n",
       "2     2 years    28994  0.890046 -0.008727  0.006456\n",
       "3     3 years    25367  0.890488 -0.004208  0.006456\n",
       "4     4 years    19514  0.889054 -0.018825  0.006456\n",
       "5     5 years    21514  0.885330 -0.056033  0.006456\n",
       "6     6 years    18290  0.882887 -0.079884  0.006456\n",
       "7     7 years    18453  0.889882 -0.010399  0.006456\n",
       "8     8 years    15706  0.891443  0.005624  0.006456\n",
       "9     9 years    12502  0.888898 -0.020408  0.006456\n",
       "10   < 1 year    25475  0.881845 -0.089921  0.006456\n",
       "11        NaN    14738  0.868164 -0.215119  0.006456"
      ]
     },
     "execution_count": 18,
     "metadata": {},
     "output_type": "execute_result"
    },
    {
     "data": {
      "image/png": "[encoded data removed]",
      "text/plain": [
       "<Figure size 720x360 with 1 Axes>"
      ]
     },
     "metadata": {
      "needs_background": "light"
     },
     "output_type": "display_data"
    }
   ],
   "source": [
    "df_temp = calculate_woe(data, 'emp_length', data['loan_status'])\n",
    "plot_woe(df_temp)\n",
    "df_temp"
   ]
  },
  {
   "cell_type": "code",
   "execution_count": 19,
   "id": "f73d4003",
   "metadata": {},
   "outputs": [],
   "source": [
    "# again, we have an ordinal feature, best to label encode it\n",
    "emp_len = ['NaN', '< 1 year', '1 year', '2 years', '3 years', '4 years', '5 years', \n",
    "           '6 years', '7 years', '8 years', '9 years', '10+ years']\n",
    "emp_len_map = dict(zip(emp_len, range(len(emp_len))))\n",
    "data['emp_length'] = data['emp_length'].apply(lambda x: emp_len_map[x])"
   ]
  },
  {
   "cell_type": "code",
   "execution_count": 20,
   "id": "a21816a9",
   "metadata": {},
   "outputs": [
    {
     "data": {
      "text/html": [
       "<div>\n",
       "<style scoped>\n",
       "    .dataframe tbody tr th:only-of-type {\n",
       "        vertical-align: middle;\n",
       "    }\n",
       "\n",
       "    .dataframe tbody tr th {\n",
       "        vertical-align: top;\n",
       "    }\n",
       "\n",
       "    .dataframe thead th {\n",
       "        text-align: right;\n",
       "    }\n",
       "</style>\n",
       "<table border=\"1\" class=\"dataframe\">\n",
       "  <thead>\n",
       "    <tr style=\"text-align: right;\">\n",
       "      <th></th>\n",
       "      <th>emp_length</th>\n",
       "      <th>support</th>\n",
       "      <th>pos%</th>\n",
       "      <th>WoE</th>\n",
       "      <th>IV</th>\n",
       "    </tr>\n",
       "  </thead>\n",
       "  <tbody>\n",
       "    <tr>\n",
       "      <th>0</th>\n",
       "      <td>(-0.011, 2.75]</td>\n",
       "      <td>60990</td>\n",
       "      <td>0.881423</td>\n",
       "      <td>-0.093963</td>\n",
       "      <td>0.004362</td>\n",
       "    </tr>\n",
       "    <tr>\n",
       "      <th>1</th>\n",
       "      <td>(2.75, 5.5]</td>\n",
       "      <td>73875</td>\n",
       "      <td>0.889936</td>\n",
       "      <td>-0.009855</td>\n",
       "      <td>0.004362</td>\n",
       "    </tr>\n",
       "    <tr>\n",
       "      <th>2</th>\n",
       "      <td>(5.5, 8.25]</td>\n",
       "      <td>58257</td>\n",
       "      <td>0.886005</td>\n",
       "      <td>-0.049371</td>\n",
       "      <td>0.004362</td>\n",
       "    </tr>\n",
       "    <tr>\n",
       "      <th>3</th>\n",
       "      <td>(8.25, 11.0]</td>\n",
       "      <td>133277</td>\n",
       "      <td>0.897904</td>\n",
       "      <td>0.074214</td>\n",
       "      <td>0.004362</td>\n",
       "    </tr>\n",
       "  </tbody>\n",
       "</table>\n",
       "</div>"
      ],
      "text/plain": [
       "       emp_length  support      pos%       WoE        IV\n",
       "0  (-0.011, 2.75]    60990  0.881423 -0.093963  0.004362\n",
       "1     (2.75, 5.5]    73875  0.889936 -0.009855  0.004362\n",
       "2     (5.5, 8.25]    58257  0.886005 -0.049371  0.004362\n",
       "3    (8.25, 11.0]   133277  0.897904  0.074214  0.004362"
      ]
     },
     "execution_count": 20,
     "metadata": {},
     "output_type": "execute_result"
    },
    {
     "data": {
      "image/png": "[encoded data removed]",
      "text/plain": [
       "<Figure size 720x360 with 1 Axes>"
      ]
     },
     "metadata": {
      "needs_background": "light"
     },
     "output_type": "display_data"
    }
   ],
   "source": [
    "# plot the results\n",
    "X_woe['emp_length'] = pd.cut(data['emp_length'], 4)\n",
    "df_temp = calculate_woe(X_woe, 'emp_length', data['loan_status'])\n",
    "plot_woe(df_temp)\n",
    "df_temp"
   ]
  },
  {
   "cell_type": "markdown",
   "id": "ef44e620",
   "metadata": {},
   "source": [
    "### home_ownership"
   ]
  },
  {
   "cell_type": "code",
   "execution_count": 21,
   "id": "8180cec6",
   "metadata": {},
   "outputs": [
    {
     "data": {
      "text/html": [
       "<div>\n",
       "<style scoped>\n",
       "    .dataframe tbody tr th:only-of-type {\n",
       "        vertical-align: middle;\n",
       "    }\n",
       "\n",
       "    .dataframe tbody tr th {\n",
       "        vertical-align: top;\n",
       "    }\n",
       "\n",
       "    .dataframe thead th {\n",
       "        text-align: right;\n",
       "    }\n",
       "</style>\n",
       "<table border=\"1\" class=\"dataframe\">\n",
       "  <thead>\n",
       "    <tr style=\"text-align: right;\">\n",
       "      <th></th>\n",
       "      <th>home_ownership</th>\n",
       "      <th>support</th>\n",
       "      <th>pos%</th>\n",
       "      <th>WoE</th>\n",
       "      <th>IV</th>\n",
       "    </tr>\n",
       "  </thead>\n",
       "  <tbody>\n",
       "    <tr>\n",
       "      <th>0</th>\n",
       "      <td>MORTGAGE</td>\n",
       "      <td>165330</td>\n",
       "      <td>0.904119</td>\n",
       "      <td>0.143914</td>\n",
       "      <td>0.021326</td>\n",
       "    </tr>\n",
       "    <tr>\n",
       "      <th>1</th>\n",
       "      <td>OWN</td>\n",
       "      <td>29288</td>\n",
       "      <td>0.892106</td>\n",
       "      <td>0.012496</td>\n",
       "      <td>0.021326</td>\n",
       "    </tr>\n",
       "    <tr>\n",
       "      <th>2</th>\n",
       "      <td>RENT</td>\n",
       "      <td>131781</td>\n",
       "      <td>0.874041</td>\n",
       "      <td>-0.162769</td>\n",
       "      <td>0.021326</td>\n",
       "    </tr>\n",
       "  </tbody>\n",
       "</table>\n",
       "</div>"
      ],
      "text/plain": [
       "  home_ownership  support      pos%       WoE        IV\n",
       "0       MORTGAGE   165330  0.904119  0.143914  0.021326\n",
       "1            OWN    29288  0.892106  0.012496  0.021326\n",
       "2           RENT   131781  0.874041 -0.162769  0.021326"
      ]
     },
     "execution_count": 21,
     "metadata": {},
     "output_type": "execute_result"
    },
    {
     "data": {
      "image/png": "[encoded data removed]",
      "text/plain": [
       "<Figure size 720x360 with 1 Axes>"
      ]
     },
     "metadata": {
      "needs_background": "light"
     },
     "output_type": "display_data"
    }
   ],
   "source": [
    "# features ANY/NONE/OTHER contain too few samples, therefore we aggregate them with mode - MORTGAGE\n",
    "data['home_ownership'] = data['home_ownership'].replace(['ANY', 'NONE', 'OTHER'], 'MORTGAGE')\n",
    "df_temp = calculate_woe(data, 'home_ownership', data['loan_status'])\n",
    "plot_woe(df_temp)\n",
    "df_temp"
   ]
  },
  {
   "cell_type": "markdown",
   "id": "b0da6dfb",
   "metadata": {},
   "source": [
    "### annual_inc"
   ]
  },
  {
   "cell_type": "code",
   "execution_count": 22,
   "id": "9c8c9fdf",
   "metadata": {},
   "outputs": [],
   "source": [
    "data['annual_inc'] = data['annual_inc'].fillna(data['annual_inc'].median())"
   ]
  },
  {
   "cell_type": "code",
   "execution_count": 23,
   "id": "80324a29",
   "metadata": {},
   "outputs": [
    {
     "data": {
      "text/html": [
       "<div>\n",
       "<style scoped>\n",
       "    .dataframe tbody tr th:only-of-type {\n",
       "        vertical-align: middle;\n",
       "    }\n",
       "\n",
       "    .dataframe tbody tr th {\n",
       "        vertical-align: top;\n",
       "    }\n",
       "\n",
       "    .dataframe thead th {\n",
       "        text-align: right;\n",
       "    }\n",
       "</style>\n",
       "<table border=\"1\" class=\"dataframe\">\n",
       "  <thead>\n",
       "    <tr style=\"text-align: right;\">\n",
       "      <th></th>\n",
       "      <th>annual_inc</th>\n",
       "      <th>support</th>\n",
       "      <th>pos%</th>\n",
       "      <th>WoE</th>\n",
       "      <th>IV</th>\n",
       "    </tr>\n",
       "  </thead>\n",
       "  <tbody>\n",
       "    <tr>\n",
       "      <th>0</th>\n",
       "      <td>(1895.999, 50000.0]</td>\n",
       "      <td>110335</td>\n",
       "      <td>0.865664</td>\n",
       "      <td>-0.236790</td>\n",
       "      <td>0.046739</td>\n",
       "    </tr>\n",
       "    <tr>\n",
       "      <th>1</th>\n",
       "      <td>(50000.0, 78000.0]</td>\n",
       "      <td>107728</td>\n",
       "      <td>0.890948</td>\n",
       "      <td>0.000517</td>\n",
       "      <td>0.046739</td>\n",
       "    </tr>\n",
       "    <tr>\n",
       "      <th>2</th>\n",
       "      <td>(78000.0, 6100000.0]</td>\n",
       "      <td>108336</td>\n",
       "      <td>0.916547</td>\n",
       "      <td>0.296386</td>\n",
       "      <td>0.046739</td>\n",
       "    </tr>\n",
       "  </tbody>\n",
       "</table>\n",
       "</div>"
      ],
      "text/plain": [
       "             annual_inc  support      pos%       WoE        IV\n",
       "0   (1895.999, 50000.0]   110335  0.865664 -0.236790  0.046739\n",
       "1    (50000.0, 78000.0]   107728  0.890948  0.000517  0.046739\n",
       "2  (78000.0, 6100000.0]   108336  0.916547  0.296386  0.046739"
      ]
     },
     "execution_count": 23,
     "metadata": {},
     "output_type": "execute_result"
    },
    {
     "data": {
      "image/png": "[encoded data removed]",
      "text/plain": [
       "<Figure size 720x360 with 1 Axes>"
      ]
     },
     "metadata": {
      "needs_background": "light"
     },
     "output_type": "display_data"
    }
   ],
   "source": [
    "X_woe['annual_inc'] = pd.qcut(data['annual_inc'], 3)\n",
    "df_temp = calculate_woe(X_woe, 'annual_inc', data['loan_status'])\n",
    "plot_woe(df_temp)\n",
    "df_temp"
   ]
  },
  {
   "cell_type": "markdown",
   "id": "d745c32f",
   "metadata": {},
   "source": [
    "### verification_status"
   ]
  },
  {
   "cell_type": "code",
   "execution_count": 24,
   "id": "eb15cfea",
   "metadata": {},
   "outputs": [
    {
     "data": {
      "text/html": [
       "<div>\n",
       "<style scoped>\n",
       "    .dataframe tbody tr th:only-of-type {\n",
       "        vertical-align: middle;\n",
       "    }\n",
       "\n",
       "    .dataframe tbody tr th {\n",
       "        vertical-align: top;\n",
       "    }\n",
       "\n",
       "    .dataframe thead th {\n",
       "        text-align: right;\n",
       "    }\n",
       "</style>\n",
       "<table border=\"1\" class=\"dataframe\">\n",
       "  <thead>\n",
       "    <tr style=\"text-align: right;\">\n",
       "      <th></th>\n",
       "      <th>verification_status</th>\n",
       "      <th>support</th>\n",
       "      <th>pos%</th>\n",
       "      <th>WoE</th>\n",
       "      <th>IV</th>\n",
       "    </tr>\n",
       "  </thead>\n",
       "  <tbody>\n",
       "    <tr>\n",
       "      <th>0</th>\n",
       "      <td>Not Verified</td>\n",
       "      <td>103676</td>\n",
       "      <td>0.905947</td>\n",
       "      <td>0.165187</td>\n",
       "      <td>0.021375</td>\n",
       "    </tr>\n",
       "    <tr>\n",
       "      <th>1</th>\n",
       "      <td>Source Verified</td>\n",
       "      <td>105241</td>\n",
       "      <td>0.896656</td>\n",
       "      <td>0.060672</td>\n",
       "      <td>0.021375</td>\n",
       "    </tr>\n",
       "    <tr>\n",
       "      <th>2</th>\n",
       "      <td>Verified</td>\n",
       "      <td>117482</td>\n",
       "      <td>0.872457</td>\n",
       "      <td>-0.177080</td>\n",
       "      <td>0.021375</td>\n",
       "    </tr>\n",
       "  </tbody>\n",
       "</table>\n",
       "</div>"
      ],
      "text/plain": [
       "  verification_status  support      pos%       WoE        IV\n",
       "0        Not Verified   103676  0.905947  0.165187  0.021375\n",
       "1     Source Verified   105241  0.896656  0.060672  0.021375\n",
       "2            Verified   117482  0.872457 -0.177080  0.021375"
      ]
     },
     "execution_count": 24,
     "metadata": {},
     "output_type": "execute_result"
    },
    {
     "data": {
      "image/png": "[encoded data removed]",
      "text/plain": [
       "<Figure size 720x360 with 1 Axes>"
      ]
     },
     "metadata": {
      "needs_background": "light"
     },
     "output_type": "display_data"
    }
   ],
   "source": [
    "df_temp = calculate_woe(data, 'verification_status', data['loan_status'])\n",
    "plot_woe(df_temp)\n",
    "df_temp"
   ]
  },
  {
   "cell_type": "markdown",
   "id": "92697e2a",
   "metadata": {},
   "source": [
    "### issue_d"
   ]
  },
  {
   "cell_type": "code",
   "execution_count": 25,
   "id": "3438f7fd",
   "metadata": {},
   "outputs": [
    {
     "name": "stdout",
     "output_type": "stream",
     "text": [
      "count     326399\n",
      "unique        91\n",
      "top       Oct-14\n",
      "freq       27172\n",
      "Name: issue_d, dtype: object\n",
      "0\n"
     ]
    }
   ],
   "source": [
    "# based on domain knowledge, its best to omit this feature, banks to not give any preference to any specific issue dates\n",
    "print(data['issue_d'].describe())\n",
    "print(data['issue_d'].isnull().sum())"
   ]
  },
  {
   "cell_type": "markdown",
   "id": "5bb4d552",
   "metadata": {},
   "source": [
    "### pymnt_plan"
   ]
  },
  {
   "cell_type": "code",
   "execution_count": 26,
   "id": "68accb85",
   "metadata": {},
   "outputs": [
    {
     "name": "stdout",
     "output_type": "stream",
     "text": [
      "n    326391\n",
      "y         8\n",
      "Name: pymnt_plan, dtype: int64\n",
      "0\n"
     ]
    }
   ],
   "source": [
    "# omit this feature, features with value `y` are encountered very rarely\n",
    "print(data['pymnt_plan'].value_counts())\n",
    "print(data['pymnt_plan'].isnull().sum())"
   ]
  },
  {
   "cell_type": "markdown",
   "id": "60fbffb1",
   "metadata": {},
   "source": [
    "### purpose"
   ]
  },
  {
   "cell_type": "code",
   "execution_count": 27,
   "id": "f85c5757",
   "metadata": {},
   "outputs": [
    {
     "data": {
      "text/plain": [
       "debt_consolidation    192140\n",
       "credit_card            72796\n",
       "home_improvement       18567\n",
       "other                  16581\n",
       "major_purchase          6894\n",
       "small_business          4891\n",
       "car                     3785\n",
       "medical                 3184\n",
       "moving                  2047\n",
       "vacation                1781\n",
       "wedding                 1614\n",
       "house                   1592\n",
       "educational              285\n",
       "renewable_energy         242\n",
       "Name: purpose, dtype: int64"
      ]
     },
     "execution_count": 27,
     "metadata": {},
     "output_type": "execute_result"
    }
   ],
   "source": [
    "data['purpose'].value_counts()"
   ]
  },
  {
   "cell_type": "code",
   "execution_count": 28,
   "id": "c5d2a829",
   "metadata": {},
   "outputs": [
    {
     "data": {
      "text/html": [
       "<div>\n",
       "<style scoped>\n",
       "    .dataframe tbody tr th:only-of-type {\n",
       "        vertical-align: middle;\n",
       "    }\n",
       "\n",
       "    .dataframe tbody tr th {\n",
       "        vertical-align: top;\n",
       "    }\n",
       "\n",
       "    .dataframe thead th {\n",
       "        text-align: right;\n",
       "    }\n",
       "</style>\n",
       "<table border=\"1\" class=\"dataframe\">\n",
       "  <thead>\n",
       "    <tr style=\"text-align: right;\">\n",
       "      <th></th>\n",
       "      <th>purpose</th>\n",
       "      <th>support</th>\n",
       "      <th>pos%</th>\n",
       "      <th>WoE</th>\n",
       "      <th>IV</th>\n",
       "    </tr>\n",
       "  </thead>\n",
       "  <tbody>\n",
       "    <tr>\n",
       "      <th>0</th>\n",
       "      <td>credit_card</td>\n",
       "      <td>72796</td>\n",
       "      <td>0.913786</td>\n",
       "      <td>0.260830</td>\n",
       "      <td>0.023873</td>\n",
       "    </tr>\n",
       "    <tr>\n",
       "      <th>1</th>\n",
       "      <td>debt_consolidation</td>\n",
       "      <td>192140</td>\n",
       "      <td>0.887218</td>\n",
       "      <td>-0.037309</td>\n",
       "      <td>0.023873</td>\n",
       "    </tr>\n",
       "    <tr>\n",
       "      <th>2</th>\n",
       "      <td>home_improvement</td>\n",
       "      <td>18567</td>\n",
       "      <td>0.900199</td>\n",
       "      <td>0.099501</td>\n",
       "      <td>0.023873</td>\n",
       "    </tr>\n",
       "    <tr>\n",
       "      <th>3</th>\n",
       "      <td>other</td>\n",
       "      <td>42896</td>\n",
       "      <td>0.864510</td>\n",
       "      <td>-0.246679</td>\n",
       "      <td>0.023873</td>\n",
       "    </tr>\n",
       "  </tbody>\n",
       "</table>\n",
       "</div>"
      ],
      "text/plain": [
       "              purpose  support      pos%       WoE        IV\n",
       "0         credit_card    72796  0.913786  0.260830  0.023873\n",
       "1  debt_consolidation   192140  0.887218 -0.037309  0.023873\n",
       "2    home_improvement    18567  0.900199  0.099501  0.023873\n",
       "3               other    42896  0.864510 -0.246679  0.023873"
      ]
     },
     "execution_count": 28,
     "metadata": {},
     "output_type": "execute_result"
    },
    {
     "data": {
      "image/png": "[encoded data removed]",
      "text/plain": [
       "<Figure size 720x360 with 1 Axes>"
      ]
     },
     "metadata": {
      "needs_background": "light"
     },
     "output_type": "display_data"
    }
   ],
   "source": [
    "data['purpose'] = data['purpose'].apply(lambda x: x if x in ['debt_consolidation', 'credit_card', 'home_improvement'] else 'other')\n",
    "df_temp = calculate_woe(data, 'purpose', data['loan_status'])\n",
    "plot_woe(df_temp)\n",
    "df_temp"
   ]
  },
  {
   "cell_type": "code",
   "execution_count": 29,
   "id": "eddaad2f",
   "metadata": {},
   "outputs": [
    {
     "data": {
      "text/html": [
       "<div>\n",
       "<style scoped>\n",
       "    .dataframe tbody tr th:only-of-type {\n",
       "        vertical-align: middle;\n",
       "    }\n",
       "\n",
       "    .dataframe tbody tr th {\n",
       "        vertical-align: top;\n",
       "    }\n",
       "\n",
       "    .dataframe thead th {\n",
       "        text-align: right;\n",
       "    }\n",
       "</style>\n",
       "<table border=\"1\" class=\"dataframe\">\n",
       "  <thead>\n",
       "    <tr style=\"text-align: right;\">\n",
       "      <th></th>\n",
       "      <th>purpose</th>\n",
       "      <th>support</th>\n",
       "      <th>pos%</th>\n",
       "      <th>WoE</th>\n",
       "      <th>IV</th>\n",
       "    </tr>\n",
       "  </thead>\n",
       "  <tbody>\n",
       "    <tr>\n",
       "      <th>0</th>\n",
       "      <td>credit_card</td>\n",
       "      <td>72796</td>\n",
       "      <td>0.913786</td>\n",
       "      <td>0.260830</td>\n",
       "      <td>0.023873</td>\n",
       "    </tr>\n",
       "    <tr>\n",
       "      <th>1</th>\n",
       "      <td>debt_consolidation</td>\n",
       "      <td>192140</td>\n",
       "      <td>0.887218</td>\n",
       "      <td>-0.037309</td>\n",
       "      <td>0.023873</td>\n",
       "    </tr>\n",
       "    <tr>\n",
       "      <th>2</th>\n",
       "      <td>home_improvement</td>\n",
       "      <td>18567</td>\n",
       "      <td>0.900199</td>\n",
       "      <td>0.099501</td>\n",
       "      <td>0.023873</td>\n",
       "    </tr>\n",
       "    <tr>\n",
       "      <th>3</th>\n",
       "      <td>other</td>\n",
       "      <td>42896</td>\n",
       "      <td>0.864510</td>\n",
       "      <td>-0.246679</td>\n",
       "      <td>0.023873</td>\n",
       "    </tr>\n",
       "  </tbody>\n",
       "</table>\n",
       "</div>"
      ],
      "text/plain": [
       "              purpose  support      pos%       WoE        IV\n",
       "0         credit_card    72796  0.913786  0.260830  0.023873\n",
       "1  debt_consolidation   192140  0.887218 -0.037309  0.023873\n",
       "2    home_improvement    18567  0.900199  0.099501  0.023873\n",
       "3               other    42896  0.864510 -0.246679  0.023873"
      ]
     },
     "execution_count": 29,
     "metadata": {},
     "output_type": "execute_result"
    },
    {
     "data": {
      "image/png": "[encoded data removed]",
      "text/plain": [
       "<Figure size 720x360 with 1 Axes>"
      ]
     },
     "metadata": {
      "needs_background": "light"
     },
     "output_type": "display_data"
    }
   ],
   "source": [
    "data['purpose'] = data['purpose'].replace(['educational', 'renewable_energy', 'small_business', 'moving', 'house', 'medical',\n",
    "                                      'wedding', 'vacation', 'major_purchase', 'car'], 'other')\n",
    "df_temp = calculate_woe(data, 'purpose', data['loan_status'])\n",
    "plot_woe(df_temp)\n",
    "df_temp"
   ]
  },
  {
   "cell_type": "markdown",
   "id": "3072b5e3",
   "metadata": {},
   "source": [
    "-----------------------------------------------------------------------"
   ]
  },
  {
   "cell_type": "markdown",
   "id": "dfe03955",
   "metadata": {},
   "source": [
    "# dti"
   ]
  },
  {
   "cell_type": "code",
   "execution_count": 30,
   "id": "4f0b4258",
   "metadata": {},
   "outputs": [
    {
     "data": {
      "text/html": [
       "<div>\n",
       "<style scoped>\n",
       "    .dataframe tbody tr th:only-of-type {\n",
       "        vertical-align: middle;\n",
       "    }\n",
       "\n",
       "    .dataframe tbody tr th {\n",
       "        vertical-align: top;\n",
       "    }\n",
       "\n",
       "    .dataframe thead th {\n",
       "        text-align: right;\n",
       "    }\n",
       "</style>\n",
       "<table border=\"1\" class=\"dataframe\">\n",
       "  <thead>\n",
       "    <tr style=\"text-align: right;\">\n",
       "      <th></th>\n",
       "      <th>dti</th>\n",
       "      <th>support</th>\n",
       "      <th>pos%</th>\n",
       "      <th>WoE</th>\n",
       "      <th>IV</th>\n",
       "    </tr>\n",
       "  </thead>\n",
       "  <tbody>\n",
       "    <tr>\n",
       "      <th>0</th>\n",
       "      <td>(-0.001, 11.35]</td>\n",
       "      <td>81627</td>\n",
       "      <td>0.909638</td>\n",
       "      <td>0.209280</td>\n",
       "      <td>0.023607</td>\n",
       "    </tr>\n",
       "    <tr>\n",
       "      <th>1</th>\n",
       "      <td>(11.35, 16.87]</td>\n",
       "      <td>81621</td>\n",
       "      <td>0.899560</td>\n",
       "      <td>0.092407</td>\n",
       "      <td>0.023607</td>\n",
       "    </tr>\n",
       "    <tr>\n",
       "      <th>2</th>\n",
       "      <td>(16.87, 22.78]</td>\n",
       "      <td>81623</td>\n",
       "      <td>0.883844</td>\n",
       "      <td>-0.070593</td>\n",
       "      <td>0.023607</td>\n",
       "    </tr>\n",
       "    <tr>\n",
       "      <th>3</th>\n",
       "      <td>(22.78, 39.99]</td>\n",
       "      <td>81528</td>\n",
       "      <td>0.870523</td>\n",
       "      <td>-0.194349</td>\n",
       "      <td>0.023607</td>\n",
       "    </tr>\n",
       "  </tbody>\n",
       "</table>\n",
       "</div>"
      ],
      "text/plain": [
       "               dti  support      pos%       WoE        IV\n",
       "0  (-0.001, 11.35]    81627  0.909638  0.209280  0.023607\n",
       "1   (11.35, 16.87]    81621  0.899560  0.092407  0.023607\n",
       "2   (16.87, 22.78]    81623  0.883844 -0.070593  0.023607\n",
       "3   (22.78, 39.99]    81528  0.870523 -0.194349  0.023607"
      ]
     },
     "execution_count": 30,
     "metadata": {},
     "output_type": "execute_result"
    },
    {
     "data": {
      "image/png": "[encoded data removed]",
      "text/plain": [
       "<Figure size 720x360 with 1 Axes>"
      ]
     },
     "metadata": {
      "needs_background": "light"
     },
     "output_type": "display_data"
    }
   ],
   "source": [
    "X_woe['dti'] = pd.qcut(data['dti'], 4)\n",
    "df_temp = calculate_woe(X_woe, 'dti', data['loan_status'])\n",
    "plot_woe(df_temp)\n",
    "df_temp"
   ]
  },
  {
   "cell_type": "markdown",
   "id": "0afb0c53",
   "metadata": {},
   "source": [
    "# delinq_2yrs"
   ]
  },
  {
   "cell_type": "code",
   "execution_count": 31,
   "id": "300ab058",
   "metadata": {},
   "outputs": [
    {
     "data": {
      "text/plain": [
       "count    326379.000000\n",
       "mean          0.283787\n",
       "std           0.797643\n",
       "min           0.000000\n",
       "25%           0.000000\n",
       "50%           0.000000\n",
       "75%           0.000000\n",
       "max          29.000000\n",
       "Name: delinq_2yrs, dtype: float64"
      ]
     },
     "execution_count": 31,
     "metadata": {},
     "output_type": "execute_result"
    }
   ],
   "source": [
    "data['delinq_2yrs'].describe()"
   ]
  },
  {
   "cell_type": "code",
   "execution_count": 32,
   "id": "880f7bad",
   "metadata": {},
   "outputs": [],
   "source": [
    "#as there are only 29 null values we can replace them with the median of the data\n",
    "data['delinq_2yrs'] = data['delinq_2yrs'].fillna(data['delinq_2yrs'].median())"
   ]
  },
  {
   "cell_type": "code",
   "execution_count": 33,
   "id": "be9f50fb",
   "metadata": {},
   "outputs": [],
   "source": [
    "data['delinq_2yrs'] = data['delinq_2yrs'].apply(lambda x: 2 if x>=2 else x)"
   ]
  },
  {
   "cell_type": "code",
   "execution_count": 34,
   "id": "83ec8d73",
   "metadata": {},
   "outputs": [
    {
     "data": {
      "text/html": [
       "<div>\n",
       "<style scoped>\n",
       "    .dataframe tbody tr th:only-of-type {\n",
       "        vertical-align: middle;\n",
       "    }\n",
       "\n",
       "    .dataframe tbody tr th {\n",
       "        vertical-align: top;\n",
       "    }\n",
       "\n",
       "    .dataframe thead th {\n",
       "        text-align: right;\n",
       "    }\n",
       "</style>\n",
       "<table border=\"1\" class=\"dataframe\">\n",
       "  <thead>\n",
       "    <tr style=\"text-align: right;\">\n",
       "      <th></th>\n",
       "      <th>delinq_2yrs</th>\n",
       "      <th>support</th>\n",
       "      <th>pos%</th>\n",
       "      <th>WoE</th>\n",
       "      <th>IV</th>\n",
       "    </tr>\n",
       "  </thead>\n",
       "  <tbody>\n",
       "    <tr>\n",
       "      <th>0</th>\n",
       "      <td>0.0</td>\n",
       "      <td>268260</td>\n",
       "      <td>0.890897</td>\n",
       "      <td>-0.000005</td>\n",
       "      <td>0.000134</td>\n",
       "    </tr>\n",
       "    <tr>\n",
       "      <th>1</th>\n",
       "      <td>1.0</td>\n",
       "      <td>39257</td>\n",
       "      <td>0.892758</td>\n",
       "      <td>0.019287</td>\n",
       "      <td>0.000134</td>\n",
       "    </tr>\n",
       "    <tr>\n",
       "      <th>2</th>\n",
       "      <td>2.0</td>\n",
       "      <td>18882</td>\n",
       "      <td>0.887035</td>\n",
       "      <td>-0.039131</td>\n",
       "      <td>0.000134</td>\n",
       "    </tr>\n",
       "  </tbody>\n",
       "</table>\n",
       "</div>"
      ],
      "text/plain": [
       "   delinq_2yrs  support      pos%       WoE        IV\n",
       "0          0.0   268260  0.890897 -0.000005  0.000134\n",
       "1          1.0    39257  0.892758  0.019287  0.000134\n",
       "2          2.0    18882  0.887035 -0.039131  0.000134"
      ]
     },
     "execution_count": 34,
     "metadata": {},
     "output_type": "execute_result"
    },
    {
     "data": {
      "image/png": "[encoded data removed]",
      "text/plain": [
       "<Figure size 720x360 with 1 Axes>"
      ]
     },
     "metadata": {
      "needs_background": "light"
     },
     "output_type": "display_data"
    }
   ],
   "source": [
    "df_temp = calculate_woe(data, 'delinq_2yrs', data['loan_status'])\n",
    "plot_woe(df_temp)\n",
    "df_temp"
   ]
  },
  {
   "cell_type": "markdown",
   "id": "2e4ae552",
   "metadata": {},
   "source": [
    "# earliest_cr_line"
   ]
  },
  {
   "cell_type": "code",
   "execution_count": 35,
   "id": "4bdc5715",
   "metadata": {},
   "outputs": [],
   "source": [
    "# Date features in this dataset have inconsistent formatting, therefore they cannot be processed properly"
   ]
  },
  {
   "cell_type": "markdown",
   "id": "ffd96282",
   "metadata": {},
   "source": [
    "# inq_last_6mths"
   ]
  },
  {
   "cell_type": "code",
   "execution_count": 36,
   "id": "6c0b481e",
   "metadata": {},
   "outputs": [],
   "source": [
    "data['inq_last_6mths'] = data['inq_last_6mths'].apply(lambda x: 2 if x>1 else x)"
   ]
  },
  {
   "cell_type": "code",
   "execution_count": 37,
   "id": "4849644b",
   "metadata": {},
   "outputs": [],
   "source": [
    "# as there are only 29 null values we can replace them with the median of the data\n",
    "data['inq_last_6mths'] = data['inq_last_6mths'].fillna(data['inq_last_6mths'].median())"
   ]
  },
  {
   "cell_type": "code",
   "execution_count": 38,
   "id": "9c787bea",
   "metadata": {},
   "outputs": [
    {
     "data": {
      "text/html": [
       "<div>\n",
       "<style scoped>\n",
       "    .dataframe tbody tr th:only-of-type {\n",
       "        vertical-align: middle;\n",
       "    }\n",
       "\n",
       "    .dataframe tbody tr th {\n",
       "        vertical-align: top;\n",
       "    }\n",
       "\n",
       "    .dataframe thead th {\n",
       "        text-align: right;\n",
       "    }\n",
       "</style>\n",
       "<table border=\"1\" class=\"dataframe\">\n",
       "  <thead>\n",
       "    <tr style=\"text-align: right;\">\n",
       "      <th></th>\n",
       "      <th>inq_last_6mths</th>\n",
       "      <th>support</th>\n",
       "      <th>pos%</th>\n",
       "      <th>WoE</th>\n",
       "      <th>IV</th>\n",
       "    </tr>\n",
       "  </thead>\n",
       "  <tbody>\n",
       "    <tr>\n",
       "      <th>0</th>\n",
       "      <td>(-0.002, 0.667]</td>\n",
       "      <td>169242</td>\n",
       "      <td>0.908947</td>\n",
       "      <td>0.200905</td>\n",
       "      <td>0.046292</td>\n",
       "    </tr>\n",
       "    <tr>\n",
       "      <th>1</th>\n",
       "      <td>(0.667, 1.333]</td>\n",
       "      <td>90901</td>\n",
       "      <td>0.884149</td>\n",
       "      <td>-0.067622</td>\n",
       "      <td>0.046292</td>\n",
       "    </tr>\n",
       "    <tr>\n",
       "      <th>2</th>\n",
       "      <td>(1.333, 2.0]</td>\n",
       "      <td>66256</td>\n",
       "      <td>0.854051</td>\n",
       "      <td>-0.333207</td>\n",
       "      <td>0.046292</td>\n",
       "    </tr>\n",
       "  </tbody>\n",
       "</table>\n",
       "</div>"
      ],
      "text/plain": [
       "    inq_last_6mths  support      pos%       WoE        IV\n",
       "0  (-0.002, 0.667]   169242  0.908947  0.200905  0.046292\n",
       "1   (0.667, 1.333]    90901  0.884149 -0.067622  0.046292\n",
       "2     (1.333, 2.0]    66256  0.854051 -0.333207  0.046292"
      ]
     },
     "execution_count": 38,
     "metadata": {},
     "output_type": "execute_result"
    },
    {
     "data": {
      "image/png": "[encoded data removed]",
      "text/plain": [
       "<Figure size 720x360 with 1 Axes>"
      ]
     },
     "metadata": {
      "needs_background": "light"
     },
     "output_type": "display_data"
    }
   ],
   "source": [
    "X_woe['inq_last_6mths'] = pd.cut(data['inq_last_6mths'], 3)\n",
    "df_temp = calculate_woe(X_woe, 'inq_last_6mths', data['loan_status'])\n",
    "plot_woe(df_temp)\n",
    "df_temp"
   ]
  },
  {
   "cell_type": "markdown",
   "id": "c8f5a149",
   "metadata": {},
   "source": [
    "# mths_since_last_delinq"
   ]
  },
  {
   "cell_type": "code",
   "execution_count": 39,
   "id": "66681083",
   "metadata": {},
   "outputs": [],
   "source": [
    "# there are lots of nan, best thing to do would be to make it a separate category\n",
    "data['mths_since_last_delinq'] = data['mths_since_last_delinq'].replace(['NaN'],0)"
   ]
  },
  {
   "cell_type": "code",
   "execution_count": 40,
   "id": "dc785412",
   "metadata": {},
   "outputs": [],
   "source": [
    "data['mths_since_last_delinq'] = data['mths_since_last_delinq'].apply(lambda x: 28 if x>0 else x)"
   ]
  },
  {
   "cell_type": "code",
   "execution_count": 41,
   "id": "a197d057",
   "metadata": {},
   "outputs": [],
   "source": [
    "#as IV value is less and also more than 50 percent of data is not given in the data set\n",
    "#we can ignore this 'mths_since_last_delinq' column"
   ]
  },
  {
   "cell_type": "markdown",
   "id": "1c6745cd",
   "metadata": {},
   "source": [
    "# mths_since_last_record"
   ]
  },
  {
   "cell_type": "code",
   "execution_count": 42,
   "id": "0612018e",
   "metadata": {},
   "outputs": [
    {
     "data": {
      "text/plain": [
       "282393"
      ]
     },
     "execution_count": 42,
     "metadata": {},
     "output_type": "execute_result"
    }
   ],
   "source": [
    "data['mths_since_last_record'].isnull().sum()"
   ]
  },
  {
   "cell_type": "code",
   "execution_count": 43,
   "id": "343fa446",
   "metadata": {},
   "outputs": [],
   "source": [
    "# nearly 90 percent of data is Nan. so we can safely ignore this column"
   ]
  },
  {
   "cell_type": "markdown",
   "id": "bd28184d",
   "metadata": {},
   "source": [
    "# open_acc"
   ]
  },
  {
   "cell_type": "code",
   "execution_count": 44,
   "id": "fffff7ac",
   "metadata": {},
   "outputs": [],
   "source": [
    "#as there are only 29 null values we can replace them with the median of the data. also mode is almost same as mean here.\n",
    "data['open_acc'] = data['open_acc'].fillna(data['open_acc'].median())"
   ]
  },
  {
   "cell_type": "code",
   "execution_count": 45,
   "id": "31af617c",
   "metadata": {},
   "outputs": [
    {
     "data": {
      "text/html": [
       "<div>\n",
       "<style scoped>\n",
       "    .dataframe tbody tr th:only-of-type {\n",
       "        vertical-align: middle;\n",
       "    }\n",
       "\n",
       "    .dataframe tbody tr th {\n",
       "        vertical-align: top;\n",
       "    }\n",
       "\n",
       "    .dataframe thead th {\n",
       "        text-align: right;\n",
       "    }\n",
       "</style>\n",
       "<table border=\"1\" class=\"dataframe\">\n",
       "  <thead>\n",
       "    <tr style=\"text-align: right;\">\n",
       "      <th></th>\n",
       "      <th>open_acc</th>\n",
       "      <th>support</th>\n",
       "      <th>pos%</th>\n",
       "      <th>WoE</th>\n",
       "      <th>IV</th>\n",
       "    </tr>\n",
       "  </thead>\n",
       "  <tbody>\n",
       "    <tr>\n",
       "      <th>0</th>\n",
       "      <td>(-0.001, 10.0]</td>\n",
       "      <td>166983</td>\n",
       "      <td>0.889857</td>\n",
       "      <td>-0.010658</td>\n",
       "      <td>0.00012</td>\n",
       "    </tr>\n",
       "    <tr>\n",
       "      <th>1</th>\n",
       "      <td>(10.0, 75.0]</td>\n",
       "      <td>159416</td>\n",
       "      <td>0.891987</td>\n",
       "      <td>0.011260</td>\n",
       "      <td>0.00012</td>\n",
       "    </tr>\n",
       "  </tbody>\n",
       "</table>\n",
       "</div>"
      ],
      "text/plain": [
       "         open_acc  support      pos%       WoE       IV\n",
       "0  (-0.001, 10.0]   166983  0.889857 -0.010658  0.00012\n",
       "1    (10.0, 75.0]   159416  0.891987  0.011260  0.00012"
      ]
     },
     "execution_count": 45,
     "metadata": {},
     "output_type": "execute_result"
    },
    {
     "data": {
      "image/png": "[encoded data removed]",
      "text/plain": [
       "<Figure size 720x360 with 1 Axes>"
      ]
     },
     "metadata": {
      "needs_background": "light"
     },
     "output_type": "display_data"
    }
   ],
   "source": [
    "X_woe['open_acc'] = pd.qcut(data['open_acc'], 2)\n",
    "df_temp = calculate_woe(X_woe, 'open_acc', data['loan_status'])\n",
    "plot_woe(df_temp)\n",
    "df_temp"
   ]
  },
  {
   "cell_type": "code",
   "execution_count": 46,
   "id": "efe534cc",
   "metadata": {},
   "outputs": [],
   "source": [
    "#IV value is very low. so we can ignore this column"
   ]
  },
  {
   "cell_type": "markdown",
   "id": "512709e2",
   "metadata": {},
   "source": [
    "# pub_rec"
   ]
  },
  {
   "cell_type": "code",
   "execution_count": 47,
   "id": "080319cb",
   "metadata": {},
   "outputs": [],
   "source": [
    "data['pub_rec'] = data['pub_rec'].apply(lambda x: 1 if x>0 else x)"
   ]
  },
  {
   "cell_type": "code",
   "execution_count": 48,
   "id": "9b8e4c79",
   "metadata": {},
   "outputs": [],
   "source": [
    "#as there are only 29 null values we can replace them with the median of the data\n",
    "data['pub_rec'] = data['pub_rec'].fillna(data['pub_rec'].median())"
   ]
  },
  {
   "cell_type": "code",
   "execution_count": 49,
   "id": "8f878929",
   "metadata": {},
   "outputs": [
    {
     "data": {
      "text/html": [
       "<div>\n",
       "<style scoped>\n",
       "    .dataframe tbody tr th:only-of-type {\n",
       "        vertical-align: middle;\n",
       "    }\n",
       "\n",
       "    .dataframe tbody tr th {\n",
       "        vertical-align: top;\n",
       "    }\n",
       "\n",
       "    .dataframe thead th {\n",
       "        text-align: right;\n",
       "    }\n",
       "</style>\n",
       "<table border=\"1\" class=\"dataframe\">\n",
       "  <thead>\n",
       "    <tr style=\"text-align: right;\">\n",
       "      <th></th>\n",
       "      <th>pub_rec</th>\n",
       "      <th>support</th>\n",
       "      <th>pos%</th>\n",
       "      <th>WoE</th>\n",
       "      <th>IV</th>\n",
       "    </tr>\n",
       "  </thead>\n",
       "  <tbody>\n",
       "    <tr>\n",
       "      <th>0</th>\n",
       "      <td>0.0</td>\n",
       "      <td>283292</td>\n",
       "      <td>0.890071</td>\n",
       "      <td>-0.008473</td>\n",
       "      <td>0.000484</td>\n",
       "    </tr>\n",
       "    <tr>\n",
       "      <th>1</th>\n",
       "      <td>1.0</td>\n",
       "      <td>43107</td>\n",
       "      <td>0.896328</td>\n",
       "      <td>0.057132</td>\n",
       "      <td>0.000484</td>\n",
       "    </tr>\n",
       "  </tbody>\n",
       "</table>\n",
       "</div>"
      ],
      "text/plain": [
       "   pub_rec  support      pos%       WoE        IV\n",
       "0      0.0   283292  0.890071 -0.008473  0.000484\n",
       "1      1.0    43107  0.896328  0.057132  0.000484"
      ]
     },
     "execution_count": 49,
     "metadata": {},
     "output_type": "execute_result"
    },
    {
     "data": {
      "image/png": "[encoded data removed]",
      "text/plain": [
       "<Figure size 720x360 with 1 Axes>"
      ]
     },
     "metadata": {
      "needs_background": "light"
     },
     "output_type": "display_data"
    }
   ],
   "source": [
    "df_temp = calculate_woe(data, 'pub_rec', data['loan_status'])\n",
    "plot_woe(df_temp)\n",
    "df_temp"
   ]
  },
  {
   "cell_type": "markdown",
   "id": "480a8a77",
   "metadata": {},
   "source": [
    "### revol_bal"
   ]
  },
  {
   "cell_type": "code",
   "execution_count": 50,
   "id": "76cc5d48",
   "metadata": {},
   "outputs": [
    {
     "data": {
      "text/html": [
       "<div>\n",
       "<style scoped>\n",
       "    .dataframe tbody tr th:only-of-type {\n",
       "        vertical-align: middle;\n",
       "    }\n",
       "\n",
       "    .dataframe tbody tr th {\n",
       "        vertical-align: top;\n",
       "    }\n",
       "\n",
       "    .dataframe thead th {\n",
       "        text-align: right;\n",
       "    }\n",
       "</style>\n",
       "<table border=\"1\" class=\"dataframe\">\n",
       "  <thead>\n",
       "    <tr style=\"text-align: right;\">\n",
       "      <th></th>\n",
       "      <th>revol_bal</th>\n",
       "      <th>support</th>\n",
       "      <th>pos%</th>\n",
       "      <th>WoE</th>\n",
       "      <th>IV</th>\n",
       "    </tr>\n",
       "  </thead>\n",
       "  <tbody>\n",
       "    <tr>\n",
       "      <th>0</th>\n",
       "      <td>(-0.001, 5435.0]</td>\n",
       "      <td>65282</td>\n",
       "      <td>0.886600</td>\n",
       "      <td>-0.043471</td>\n",
       "      <td>0.004976</td>\n",
       "    </tr>\n",
       "    <tr>\n",
       "      <th>1</th>\n",
       "      <td>(5435.0, 9445.0]</td>\n",
       "      <td>65282</td>\n",
       "      <td>0.887029</td>\n",
       "      <td>-0.039198</td>\n",
       "      <td>0.004976</td>\n",
       "    </tr>\n",
       "    <tr>\n",
       "      <th>2</th>\n",
       "      <td>(9445.0, 14520.0]</td>\n",
       "      <td>65277</td>\n",
       "      <td>0.886882</td>\n",
       "      <td>-0.040659</td>\n",
       "      <td>0.004976</td>\n",
       "    </tr>\n",
       "    <tr>\n",
       "      <th>3</th>\n",
       "      <td>(14520.0, 23185.0]</td>\n",
       "      <td>65283</td>\n",
       "      <td>0.889849</td>\n",
       "      <td>-0.010742</td>\n",
       "      <td>0.004976</td>\n",
       "    </tr>\n",
       "    <tr>\n",
       "      <th>4</th>\n",
       "      <td>(23185.0, 2568995.0]</td>\n",
       "      <td>65275</td>\n",
       "      <td>0.904129</td>\n",
       "      <td>0.144025</td>\n",
       "      <td>0.004976</td>\n",
       "    </tr>\n",
       "  </tbody>\n",
       "</table>\n",
       "</div>"
      ],
      "text/plain": [
       "              revol_bal  support      pos%       WoE        IV\n",
       "0      (-0.001, 5435.0]    65282  0.886600 -0.043471  0.004976\n",
       "1      (5435.0, 9445.0]    65282  0.887029 -0.039198  0.004976\n",
       "2     (9445.0, 14520.0]    65277  0.886882 -0.040659  0.004976\n",
       "3    (14520.0, 23185.0]    65283  0.889849 -0.010742  0.004976\n",
       "4  (23185.0, 2568995.0]    65275  0.904129  0.144025  0.004976"
      ]
     },
     "execution_count": 50,
     "metadata": {},
     "output_type": "execute_result"
    },
    {
     "data": {
      "image/png": "[encoded data removed]",
      "text/plain": [
       "<Figure size 720x360 with 1 Axes>"
      ]
     },
     "metadata": {
      "needs_background": "light"
     },
     "output_type": "display_data"
    }
   ],
   "source": [
    "X_woe['revol_bal'] = pd.qcut(data['revol_bal'], 5)\n",
    "df_temp = calculate_woe(X_woe, 'revol_bal', data['loan_status'])\n",
    "plot_woe(df_temp)\n",
    "df_temp"
   ]
  },
  {
   "cell_type": "markdown",
   "id": "ad29b33e",
   "metadata": {},
   "source": [
    "### revol_util"
   ]
  },
  {
   "cell_type": "code",
   "execution_count": 51,
   "id": "df8063c1",
   "metadata": {},
   "outputs": [],
   "source": [
    "data['revol_util'] = data['revol_util'].fillna(data['revol_util'].median())"
   ]
  },
  {
   "cell_type": "code",
   "execution_count": 52,
   "id": "665e4066",
   "metadata": {},
   "outputs": [
    {
     "data": {
      "text/html": [
       "<div>\n",
       "<style scoped>\n",
       "    .dataframe tbody tr th:only-of-type {\n",
       "        vertical-align: middle;\n",
       "    }\n",
       "\n",
       "    .dataframe tbody tr th {\n",
       "        vertical-align: top;\n",
       "    }\n",
       "\n",
       "    .dataframe thead th {\n",
       "        text-align: right;\n",
       "    }\n",
       "</style>\n",
       "<table border=\"1\" class=\"dataframe\">\n",
       "  <thead>\n",
       "    <tr style=\"text-align: right;\">\n",
       "      <th></th>\n",
       "      <th>revol_util</th>\n",
       "      <th>support</th>\n",
       "      <th>pos%</th>\n",
       "      <th>WoE</th>\n",
       "      <th>IV</th>\n",
       "    </tr>\n",
       "  </thead>\n",
       "  <tbody>\n",
       "    <tr>\n",
       "      <th>0</th>\n",
       "      <td>(-0.001, 39.2]</td>\n",
       "      <td>81690</td>\n",
       "      <td>0.911213</td>\n",
       "      <td>0.228598</td>\n",
       "      <td>0.024848</td>\n",
       "    </tr>\n",
       "    <tr>\n",
       "      <th>1</th>\n",
       "      <td>(39.2, 57.5]</td>\n",
       "      <td>81652</td>\n",
       "      <td>0.897749</td>\n",
       "      <td>0.072520</td>\n",
       "      <td>0.024848</td>\n",
       "    </tr>\n",
       "    <tr>\n",
       "      <th>2</th>\n",
       "      <td>(57.5, 74.7]</td>\n",
       "      <td>81526</td>\n",
       "      <td>0.884417</td>\n",
       "      <td>-0.064998</td>\n",
       "      <td>0.024848</td>\n",
       "    </tr>\n",
       "    <tr>\n",
       "      <th>3</th>\n",
       "      <td>(74.7, 177.7]</td>\n",
       "      <td>81531</td>\n",
       "      <td>0.870160</td>\n",
       "      <td>-0.197567</td>\n",
       "      <td>0.024848</td>\n",
       "    </tr>\n",
       "  </tbody>\n",
       "</table>\n",
       "</div>"
      ],
      "text/plain": [
       "       revol_util  support      pos%       WoE        IV\n",
       "0  (-0.001, 39.2]    81690  0.911213  0.228598  0.024848\n",
       "1    (39.2, 57.5]    81652  0.897749  0.072520  0.024848\n",
       "2    (57.5, 74.7]    81526  0.884417 -0.064998  0.024848\n",
       "3   (74.7, 177.7]    81531  0.870160 -0.197567  0.024848"
      ]
     },
     "execution_count": 52,
     "metadata": {},
     "output_type": "execute_result"
    },
    {
     "data": {
      "image/png": "[encoded data removed]",
      "text/plain": [
       "<Figure size 720x360 with 1 Axes>"
      ]
     },
     "metadata": {
      "needs_background": "light"
     },
     "output_type": "display_data"
    }
   ],
   "source": [
    "X_woe['revol_util'] = pd.qcut(data['revol_util'], 4)\n",
    "df_temp = calculate_woe(X_woe, 'revol_util', data['loan_status'])\n",
    "plot_woe(df_temp)\n",
    "df_temp"
   ]
  },
  {
   "cell_type": "markdown",
   "id": "a4ba3e41",
   "metadata": {},
   "source": [
    "### total_acc"
   ]
  },
  {
   "cell_type": "code",
   "execution_count": 53,
   "id": "325ed478",
   "metadata": {},
   "outputs": [
    {
     "data": {
      "text/html": [
       "<div>\n",
       "<style scoped>\n",
       "    .dataframe tbody tr th:only-of-type {\n",
       "        vertical-align: middle;\n",
       "    }\n",
       "\n",
       "    .dataframe tbody tr th {\n",
       "        vertical-align: top;\n",
       "    }\n",
       "\n",
       "    .dataframe thead th {\n",
       "        text-align: right;\n",
       "    }\n",
       "</style>\n",
       "<table border=\"1\" class=\"dataframe\">\n",
       "  <thead>\n",
       "    <tr style=\"text-align: right;\">\n",
       "      <th></th>\n",
       "      <th>total_acc</th>\n",
       "      <th>support</th>\n",
       "      <th>pos%</th>\n",
       "      <th>WoE</th>\n",
       "      <th>IV</th>\n",
       "    </tr>\n",
       "  </thead>\n",
       "  <tbody>\n",
       "    <tr>\n",
       "      <th>0</th>\n",
       "      <td>(0.999, 17.0]</td>\n",
       "      <td>92632</td>\n",
       "      <td>0.879221</td>\n",
       "      <td>-0.114892</td>\n",
       "      <td>0.006325</td>\n",
       "    </tr>\n",
       "    <tr>\n",
       "      <th>1</th>\n",
       "      <td>(17.0, 23.0]</td>\n",
       "      <td>70806</td>\n",
       "      <td>0.891704</td>\n",
       "      <td>0.008301</td>\n",
       "      <td>0.006325</td>\n",
       "    </tr>\n",
       "    <tr>\n",
       "      <th>2</th>\n",
       "      <td>(23.0, 32.0]</td>\n",
       "      <td>86679</td>\n",
       "      <td>0.895246</td>\n",
       "      <td>0.045515</td>\n",
       "      <td>0.006325</td>\n",
       "    </tr>\n",
       "    <tr>\n",
       "      <th>3</th>\n",
       "      <td>(32.0, 156.0]</td>\n",
       "      <td>76262</td>\n",
       "      <td>0.899399</td>\n",
       "      <td>0.090604</td>\n",
       "      <td>0.006325</td>\n",
       "    </tr>\n",
       "  </tbody>\n",
       "</table>\n",
       "</div>"
      ],
      "text/plain": [
       "       total_acc  support      pos%       WoE        IV\n",
       "0  (0.999, 17.0]    92632  0.879221 -0.114892  0.006325\n",
       "1   (17.0, 23.0]    70806  0.891704  0.008301  0.006325\n",
       "2   (23.0, 32.0]    86679  0.895246  0.045515  0.006325\n",
       "3  (32.0, 156.0]    76262  0.899399  0.090604  0.006325"
      ]
     },
     "execution_count": 53,
     "metadata": {},
     "output_type": "execute_result"
    },
    {
     "data": {
      "image/png": "[encoded data removed]",
      "text/plain": [
       "<Figure size 720x360 with 1 Axes>"
      ]
     },
     "metadata": {
      "needs_background": "light"
     },
     "output_type": "display_data"
    }
   ],
   "source": [
    "X_woe['total_acc'] = pd.qcut(data['total_acc'], 4)\n",
    "df_temp = calculate_woe(X_woe, 'total_acc', data['loan_status'])\n",
    "plot_woe(df_temp)\n",
    "df_temp\n",
    "# feature can be discarded as IV is Too Low "
   ]
  },
  {
   "cell_type": "markdown",
   "id": "6fa02599",
   "metadata": {},
   "source": [
    "### initial_list_status"
   ]
  },
  {
   "cell_type": "code",
   "execution_count": 54,
   "id": "329f0d33",
   "metadata": {},
   "outputs": [
    {
     "data": {
      "text/html": [
       "<div>\n",
       "<style scoped>\n",
       "    .dataframe tbody tr th:only-of-type {\n",
       "        vertical-align: middle;\n",
       "    }\n",
       "\n",
       "    .dataframe tbody tr th {\n",
       "        vertical-align: top;\n",
       "    }\n",
       "\n",
       "    .dataframe thead th {\n",
       "        text-align: right;\n",
       "    }\n",
       "</style>\n",
       "<table border=\"1\" class=\"dataframe\">\n",
       "  <thead>\n",
       "    <tr style=\"text-align: right;\">\n",
       "      <th></th>\n",
       "      <th>initial_list_status</th>\n",
       "      <th>support</th>\n",
       "      <th>pos%</th>\n",
       "      <th>WoE</th>\n",
       "      <th>IV</th>\n",
       "    </tr>\n",
       "  </thead>\n",
       "  <tbody>\n",
       "    <tr>\n",
       "      <th>0</th>\n",
       "      <td>f</td>\n",
       "      <td>212120</td>\n",
       "      <td>0.880082</td>\n",
       "      <td>-0.106733</td>\n",
       "      <td>0.024033</td>\n",
       "    </tr>\n",
       "    <tr>\n",
       "      <th>1</th>\n",
       "      <td>w</td>\n",
       "      <td>114279</td>\n",
       "      <td>0.910972</td>\n",
       "      <td>0.225625</td>\n",
       "      <td>0.024033</td>\n",
       "    </tr>\n",
       "  </tbody>\n",
       "</table>\n",
       "</div>"
      ],
      "text/plain": [
       "  initial_list_status  support      pos%       WoE        IV\n",
       "0                   f   212120  0.880082 -0.106733  0.024033\n",
       "1                   w   114279  0.910972  0.225625  0.024033"
      ]
     },
     "execution_count": 54,
     "metadata": {},
     "output_type": "execute_result"
    },
    {
     "data": {
      "image/png": "[encoded data removed]",
      "text/plain": [
       "<Figure size 720x360 with 1 Axes>"
      ]
     },
     "metadata": {
      "needs_background": "light"
     },
     "output_type": "display_data"
    }
   ],
   "source": [
    "df_temp = calculate_woe(data, 'initial_list_status', data['loan_status'])\n",
    "plot_woe(df_temp)\n",
    "df_temp"
   ]
  },
  {
   "cell_type": "markdown",
   "id": "14743e0f",
   "metadata": {},
   "source": [
    "### out_prncp"
   ]
  },
  {
   "cell_type": "code",
   "execution_count": 55,
   "id": "5cecb3e3",
   "metadata": {},
   "outputs": [
    {
     "data": {
      "text/html": [
       "<div>\n",
       "<style scoped>\n",
       "    .dataframe tbody tr th:only-of-type {\n",
       "        vertical-align: middle;\n",
       "    }\n",
       "\n",
       "    .dataframe tbody tr th {\n",
       "        vertical-align: top;\n",
       "    }\n",
       "\n",
       "    .dataframe thead th {\n",
       "        text-align: right;\n",
       "    }\n",
       "</style>\n",
       "<table border=\"1\" class=\"dataframe\">\n",
       "  <thead>\n",
       "    <tr style=\"text-align: right;\">\n",
       "      <th></th>\n",
       "      <th>out_prncp</th>\n",
       "      <th>support</th>\n",
       "      <th>pos%</th>\n",
       "      <th>WoE</th>\n",
       "      <th>IV</th>\n",
       "    </tr>\n",
       "  </thead>\n",
       "  <tbody>\n",
       "    <tr>\n",
       "      <th>0</th>\n",
       "      <td>(-0.001, 453.02]</td>\n",
       "      <td>163200</td>\n",
       "      <td>0.814853</td>\n",
       "      <td>-0.618083</td>\n",
       "      <td>0.740902</td>\n",
       "    </tr>\n",
       "    <tr>\n",
       "      <th>1</th>\n",
       "      <td>(453.02, 32160.38]</td>\n",
       "      <td>163199</td>\n",
       "      <td>0.966942</td>\n",
       "      <td>1.275941</td>\n",
       "      <td>0.740902</td>\n",
       "    </tr>\n",
       "  </tbody>\n",
       "</table>\n",
       "</div>"
      ],
      "text/plain": [
       "            out_prncp  support      pos%       WoE        IV\n",
       "0    (-0.001, 453.02]   163200  0.814853 -0.618083  0.740902\n",
       "1  (453.02, 32160.38]   163199  0.966942  1.275941  0.740902"
      ]
     },
     "execution_count": 55,
     "metadata": {},
     "output_type": "execute_result"
    },
    {
     "data": {
      "image/png": "[encoded data removed]",
      "text/plain": [
       "<Figure size 720x360 with 1 Axes>"
      ]
     },
     "metadata": {
      "needs_background": "light"
     },
     "output_type": "display_data"
    }
   ],
   "source": [
    "X_woe['out_prncp'] = pd.qcut(data['out_prncp'], 2, duplicates='drop')\n",
    "df_temp = calculate_woe(X_woe, 'out_prncp', data['loan_status'])\n",
    "plot_woe(df_temp)\n",
    "df_temp"
   ]
  },
  {
   "cell_type": "markdown",
   "id": "d9f74fc5",
   "metadata": {},
   "source": [
    "### out_prncp_inv"
   ]
  },
  {
   "cell_type": "code",
   "execution_count": 56,
   "id": "73755216",
   "metadata": {},
   "outputs": [],
   "source": [
    "# is inverse of `out_prncp` feature, redundant"
   ]
  },
  {
   "cell_type": "markdown",
   "id": "06a9be1c",
   "metadata": {},
   "source": [
    "### total_pymnt"
   ]
  },
  {
   "cell_type": "code",
   "execution_count": 57,
   "id": "bb885244",
   "metadata": {},
   "outputs": [
    {
     "data": {
      "text/html": [
       "<div>\n",
       "<style scoped>\n",
       "    .dataframe tbody tr th:only-of-type {\n",
       "        vertical-align: middle;\n",
       "    }\n",
       "\n",
       "    .dataframe tbody tr th {\n",
       "        vertical-align: top;\n",
       "    }\n",
       "\n",
       "    .dataframe thead th {\n",
       "        text-align: right;\n",
       "    }\n",
       "</style>\n",
       "<table border=\"1\" class=\"dataframe\">\n",
       "  <thead>\n",
       "    <tr style=\"text-align: right;\">\n",
       "      <th></th>\n",
       "      <th>total_pymnt</th>\n",
       "      <th>support</th>\n",
       "      <th>pos%</th>\n",
       "      <th>WoE</th>\n",
       "      <th>IV</th>\n",
       "    </tr>\n",
       "  </thead>\n",
       "  <tbody>\n",
       "    <tr>\n",
       "      <th>0</th>\n",
       "      <td>(-0.001, 5556.116]</td>\n",
       "      <td>81600</td>\n",
       "      <td>0.776213</td>\n",
       "      <td>-0.856206</td>\n",
       "      <td>0.523952</td>\n",
       "    </tr>\n",
       "    <tr>\n",
       "      <th>1</th>\n",
       "      <td>(5556.116, 9418.89]</td>\n",
       "      <td>81600</td>\n",
       "      <td>0.892843</td>\n",
       "      <td>0.020177</td>\n",
       "      <td>0.523952</td>\n",
       "    </tr>\n",
       "    <tr>\n",
       "      <th>2</th>\n",
       "      <td>(9418.89, 15314.035]</td>\n",
       "      <td>81599</td>\n",
       "      <td>0.930980</td>\n",
       "      <td>0.501895</td>\n",
       "      <td>0.523952</td>\n",
       "    </tr>\n",
       "    <tr>\n",
       "      <th>3</th>\n",
       "      <td>(15314.035, 57777.58]</td>\n",
       "      <td>81600</td>\n",
       "      <td>0.963554</td>\n",
       "      <td>1.174855</td>\n",
       "      <td>0.523952</td>\n",
       "    </tr>\n",
       "  </tbody>\n",
       "</table>\n",
       "</div>"
      ],
      "text/plain": [
       "             total_pymnt  support      pos%       WoE        IV\n",
       "0     (-0.001, 5556.116]    81600  0.776213 -0.856206  0.523952\n",
       "1    (5556.116, 9418.89]    81600  0.892843  0.020177  0.523952\n",
       "2   (9418.89, 15314.035]    81599  0.930980  0.501895  0.523952\n",
       "3  (15314.035, 57777.58]    81600  0.963554  1.174855  0.523952"
      ]
     },
     "execution_count": 57,
     "metadata": {},
     "output_type": "execute_result"
    },
    {
     "data": {
      "image/png": "[encoded data removed]",
      "text/plain": [
       "<Figure size 720x360 with 1 Axes>"
      ]
     },
     "metadata": {
      "needs_background": "light"
     },
     "output_type": "display_data"
    }
   ],
   "source": [
    "X_woe['total_pymnt'] = pd.qcut(data['total_pymnt'], 4, duplicates='drop')\n",
    "df_temp = calculate_woe(X_woe, 'total_pymnt', data['loan_status'])\n",
    "plot_woe(df_temp)\n",
    "df_temp"
   ]
  },
  {
   "cell_type": "markdown",
   "id": "7b4a98fa",
   "metadata": {},
   "source": [
    "## total_rec_prncp"
   ]
  },
  {
   "cell_type": "code",
   "execution_count": 58,
   "id": "a04e18e7",
   "metadata": {},
   "outputs": [
    {
     "data": {
      "text/html": [
       "<div>\n",
       "<style scoped>\n",
       "    .dataframe tbody tr th:only-of-type {\n",
       "        vertical-align: middle;\n",
       "    }\n",
       "\n",
       "    .dataframe tbody tr th {\n",
       "        vertical-align: top;\n",
       "    }\n",
       "\n",
       "    .dataframe thead th {\n",
       "        text-align: right;\n",
       "    }\n",
       "</style>\n",
       "<table border=\"1\" class=\"dataframe\">\n",
       "  <thead>\n",
       "    <tr style=\"text-align: right;\">\n",
       "      <th></th>\n",
       "      <th>total_rec_prncp</th>\n",
       "      <th>support</th>\n",
       "      <th>pos%</th>\n",
       "      <th>WoE</th>\n",
       "      <th>IV</th>\n",
       "    </tr>\n",
       "  </thead>\n",
       "  <tbody>\n",
       "    <tr>\n",
       "      <th>0</th>\n",
       "      <td>(-0.001, 3710.955]</td>\n",
       "      <td>81600</td>\n",
       "      <td>0.724191</td>\n",
       "      <td>-1.134592</td>\n",
       "      <td>1.101699</td>\n",
       "    </tr>\n",
       "    <tr>\n",
       "      <th>1</th>\n",
       "      <td>(3710.955, 6822.26]</td>\n",
       "      <td>81600</td>\n",
       "      <td>0.903419</td>\n",
       "      <td>0.135866</td>\n",
       "      <td>1.101699</td>\n",
       "    </tr>\n",
       "    <tr>\n",
       "      <th>2</th>\n",
       "      <td>(6822.26, 12000.0]</td>\n",
       "      <td>86668</td>\n",
       "      <td>0.954008</td>\n",
       "      <td>0.932274</td>\n",
       "      <td>1.101699</td>\n",
       "    </tr>\n",
       "    <tr>\n",
       "      <th>3</th>\n",
       "      <td>(12000.0, 35000.02]</td>\n",
       "      <td>76531</td>\n",
       "      <td>0.983824</td>\n",
       "      <td>2.007950</td>\n",
       "      <td>1.101699</td>\n",
       "    </tr>\n",
       "  </tbody>\n",
       "</table>\n",
       "</div>"
      ],
      "text/plain": [
       "       total_rec_prncp  support      pos%       WoE        IV\n",
       "0   (-0.001, 3710.955]    81600  0.724191 -1.134592  1.101699\n",
       "1  (3710.955, 6822.26]    81600  0.903419  0.135866  1.101699\n",
       "2   (6822.26, 12000.0]    86668  0.954008  0.932274  1.101699\n",
       "3  (12000.0, 35000.02]    76531  0.983824  2.007950  1.101699"
      ]
     },
     "execution_count": 58,
     "metadata": {},
     "output_type": "execute_result"
    },
    {
     "data": {
      "image/png": "[encoded data removed]",
      "text/plain": [
       "<Figure size 720x360 with 1 Axes>"
      ]
     },
     "metadata": {
      "needs_background": "light"
     },
     "output_type": "display_data"
    }
   ],
   "source": [
    "X_woe['total_rec_prncp'] = pd.qcut(data['total_rec_prncp'], 4)\n",
    "df_temp = calculate_woe(X_woe, 'total_rec_prncp', data['loan_status'])\n",
    "plot_woe(df_temp)\n",
    "df_temp"
   ]
  },
  {
   "cell_type": "markdown",
   "id": "1c2775c0",
   "metadata": {},
   "source": [
    "## total_rec_int"
   ]
  },
  {
   "cell_type": "code",
   "execution_count": 59,
   "id": "ea429f7c",
   "metadata": {},
   "outputs": [
    {
     "data": {
      "text/html": [
       "<div>\n",
       "<style scoped>\n",
       "    .dataframe tbody tr th:only-of-type {\n",
       "        vertical-align: middle;\n",
       "    }\n",
       "\n",
       "    .dataframe tbody tr th {\n",
       "        vertical-align: top;\n",
       "    }\n",
       "\n",
       "    .dataframe thead th {\n",
       "        text-align: right;\n",
       "    }\n",
       "</style>\n",
       "<table border=\"1\" class=\"dataframe\">\n",
       "  <thead>\n",
       "    <tr style=\"text-align: right;\">\n",
       "      <th></th>\n",
       "      <th>total_rec_int</th>\n",
       "      <th>support</th>\n",
       "      <th>pos%</th>\n",
       "      <th>WoE</th>\n",
       "      <th>IV</th>\n",
       "    </tr>\n",
       "  </thead>\n",
       "  <tbody>\n",
       "    <tr>\n",
       "      <th>0</th>\n",
       "      <td>(-0.001, 1817.92]</td>\n",
       "      <td>163205</td>\n",
       "      <td>0.881517</td>\n",
       "      <td>-0.093064</td>\n",
       "      <td>0.009334</td>\n",
       "    </tr>\n",
       "    <tr>\n",
       "      <th>1</th>\n",
       "      <td>(1817.92, 23450.38]</td>\n",
       "      <td>163194</td>\n",
       "      <td>0.900278</td>\n",
       "      <td>0.100380</td>\n",
       "      <td>0.009334</td>\n",
       "    </tr>\n",
       "  </tbody>\n",
       "</table>\n",
       "</div>"
      ],
      "text/plain": [
       "         total_rec_int  support      pos%       WoE        IV\n",
       "0    (-0.001, 1817.92]   163205  0.881517 -0.093064  0.009334\n",
       "1  (1817.92, 23450.38]   163194  0.900278  0.100380  0.009334"
      ]
     },
     "execution_count": 59,
     "metadata": {},
     "output_type": "execute_result"
    },
    {
     "data": {
      "image/png": "[encoded data removed]",
      "text/plain": [
       "<Figure size 720x360 with 1 Axes>"
      ]
     },
     "metadata": {
      "needs_background": "light"
     },
     "output_type": "display_data"
    }
   ],
   "source": [
    "X_woe['total_rec_int'] = pd.qcut(data['total_rec_int'], 2)\n",
    "df_temp = calculate_woe(X_woe, 'total_rec_int', data['loan_status'])\n",
    "plot_woe(df_temp)\n",
    "df_temp"
   ]
  },
  {
   "cell_type": "markdown",
   "id": "59a0eeaf",
   "metadata": {},
   "source": [
    "## total_rec_late_fee"
   ]
  },
  {
   "cell_type": "code",
   "execution_count": 60,
   "id": "12f42b2c",
   "metadata": {},
   "outputs": [
    {
     "data": {
      "text/html": [
       "<div>\n",
       "<style scoped>\n",
       "    .dataframe tbody tr th:only-of-type {\n",
       "        vertical-align: middle;\n",
       "    }\n",
       "\n",
       "    .dataframe tbody tr th {\n",
       "        vertical-align: top;\n",
       "    }\n",
       "\n",
       "    .dataframe thead th {\n",
       "        text-align: right;\n",
       "    }\n",
       "</style>\n",
       "<table border=\"1\" class=\"dataframe\">\n",
       "  <thead>\n",
       "    <tr style=\"text-align: right;\">\n",
       "      <th></th>\n",
       "      <th>total_rec_late_fee</th>\n",
       "      <th>support</th>\n",
       "      <th>pos%</th>\n",
       "      <th>WoE</th>\n",
       "      <th>IV</th>\n",
       "    </tr>\n",
       "  </thead>\n",
       "  <tbody>\n",
       "    <tr>\n",
       "      <th>0</th>\n",
       "      <td>(-0.359, 179.34]</td>\n",
       "      <td>326385</td>\n",
       "      <td>0.890914</td>\n",
       "      <td>0.000173</td>\n",
       "      <td>0.000362</td>\n",
       "    </tr>\n",
       "    <tr>\n",
       "      <th>1</th>\n",
       "      <td>(179.34, 358.68]</td>\n",
       "      <td>14</td>\n",
       "      <td>0.500000</td>\n",
       "      <td>-2.099940</td>\n",
       "      <td>0.000362</td>\n",
       "    </tr>\n",
       "  </tbody>\n",
       "</table>\n",
       "</div>"
      ],
      "text/plain": [
       "  total_rec_late_fee  support      pos%       WoE        IV\n",
       "0   (-0.359, 179.34]   326385  0.890914  0.000173  0.000362\n",
       "1   (179.34, 358.68]       14  0.500000 -2.099940  0.000362"
      ]
     },
     "execution_count": 60,
     "metadata": {},
     "output_type": "execute_result"
    },
    {
     "data": {
      "image/png": "[encoded data removed]",
      "text/plain": [
       "<Figure size 720x360 with 1 Axes>"
      ]
     },
     "metadata": {
      "needs_background": "light"
     },
     "output_type": "display_data"
    }
   ],
   "source": [
    "X_woe['total_rec_late_fee'] = pd.cut(data['total_rec_late_fee'], 2, duplicates='drop')\n",
    "df_temp = calculate_woe(X_woe, 'total_rec_late_fee', data['loan_status'])\n",
    "plot_woe(df_temp)\n",
    "df_temp"
   ]
  },
  {
   "cell_type": "markdown",
   "id": "13ba7771",
   "metadata": {},
   "source": [
    "## recoveries"
   ]
  },
  {
   "cell_type": "code",
   "execution_count": 61,
   "id": "a2494f99",
   "metadata": {},
   "outputs": [
    {
     "data": {
      "text/html": [
       "<div>\n",
       "<style scoped>\n",
       "    .dataframe tbody tr th:only-of-type {\n",
       "        vertical-align: middle;\n",
       "    }\n",
       "\n",
       "    .dataframe tbody tr th {\n",
       "        vertical-align: top;\n",
       "    }\n",
       "\n",
       "    .dataframe thead th {\n",
       "        text-align: right;\n",
       "    }\n",
       "</style>\n",
       "<table border=\"1\" class=\"dataframe\">\n",
       "  <thead>\n",
       "    <tr style=\"text-align: right;\">\n",
       "      <th></th>\n",
       "      <th>recoveries</th>\n",
       "      <th>support</th>\n",
       "      <th>pos%</th>\n",
       "      <th>WoE</th>\n",
       "      <th>IV</th>\n",
       "    </tr>\n",
       "  </thead>\n",
       "  <tbody>\n",
       "    <tr>\n",
       "      <th>0</th>\n",
       "      <td>(-33.52, 11173.423]</td>\n",
       "      <td>326331</td>\n",
       "      <td>0.891083</td>\n",
       "      <td>0.001911</td>\n",
       "      <td>inf</td>\n",
       "    </tr>\n",
       "    <tr>\n",
       "      <th>1</th>\n",
       "      <td>(11173.423, 22346.847]</td>\n",
       "      <td>59</td>\n",
       "      <td>0.000000</td>\n",
       "      <td>-inf</td>\n",
       "      <td>inf</td>\n",
       "    </tr>\n",
       "    <tr>\n",
       "      <th>2</th>\n",
       "      <td>(22346.847, 33520.27]</td>\n",
       "      <td>9</td>\n",
       "      <td>0.000000</td>\n",
       "      <td>-inf</td>\n",
       "      <td>inf</td>\n",
       "    </tr>\n",
       "  </tbody>\n",
       "</table>\n",
       "</div>"
      ],
      "text/plain": [
       "               recoveries  support      pos%       WoE   IV\n",
       "0     (-33.52, 11173.423]   326331  0.891083  0.001911  inf\n",
       "1  (11173.423, 22346.847]       59  0.000000      -inf  inf\n",
       "2   (22346.847, 33520.27]        9  0.000000      -inf  inf"
      ]
     },
     "execution_count": 61,
     "metadata": {},
     "output_type": "execute_result"
    },
    {
     "data": {
      "image/png": "[encoded data removed]",
      "text/plain": [
       "<Figure size 720x360 with 1 Axes>"
      ]
     },
     "metadata": {
      "needs_background": "light"
     },
     "output_type": "display_data"
    }
   ],
   "source": [
    "X_woe['recoveries'] = pd.cut(data['recoveries'], 3)\n",
    "df_temp = calculate_woe(X_woe, 'recoveries', data['loan_status'])\n",
    "plot_woe(df_temp)\n",
    "df_temp\n",
    "#IV values is NaN and almost all the values are 0's."
   ]
  },
  {
   "cell_type": "markdown",
   "id": "aa4f2195",
   "metadata": {},
   "source": [
    "## collection_recovery_fee"
   ]
  },
  {
   "cell_type": "code",
   "execution_count": 62,
   "id": "074913d7",
   "metadata": {},
   "outputs": [
    {
     "data": {
      "text/html": [
       "<div>\n",
       "<style scoped>\n",
       "    .dataframe tbody tr th:only-of-type {\n",
       "        vertical-align: middle;\n",
       "    }\n",
       "\n",
       "    .dataframe tbody tr th {\n",
       "        vertical-align: top;\n",
       "    }\n",
       "\n",
       "    .dataframe thead th {\n",
       "        text-align: right;\n",
       "    }\n",
       "</style>\n",
       "<table border=\"1\" class=\"dataframe\">\n",
       "  <thead>\n",
       "    <tr style=\"text-align: right;\">\n",
       "      <th></th>\n",
       "      <th>collection_recovery_fee</th>\n",
       "      <th>support</th>\n",
       "      <th>pos%</th>\n",
       "      <th>WoE</th>\n",
       "      <th>IV</th>\n",
       "    </tr>\n",
       "  </thead>\n",
       "  <tbody>\n",
       "    <tr>\n",
       "      <th>0</th>\n",
       "      <td>(-7.002, 3501.095]</td>\n",
       "      <td>326381</td>\n",
       "      <td>0.890946</td>\n",
       "      <td>0.000506</td>\n",
       "      <td>inf</td>\n",
       "    </tr>\n",
       "    <tr>\n",
       "      <th>1</th>\n",
       "      <td>(3501.095, 7002.19]</td>\n",
       "      <td>18</td>\n",
       "      <td>0.000000</td>\n",
       "      <td>-inf</td>\n",
       "      <td>inf</td>\n",
       "    </tr>\n",
       "  </tbody>\n",
       "</table>\n",
       "</div>"
      ],
      "text/plain": [
       "  collection_recovery_fee  support      pos%       WoE   IV\n",
       "0      (-7.002, 3501.095]   326381  0.890946  0.000506  inf\n",
       "1     (3501.095, 7002.19]       18  0.000000      -inf  inf"
      ]
     },
     "execution_count": 62,
     "metadata": {},
     "output_type": "execute_result"
    },
    {
     "data": {
      "image/png": "[encoded data removed]",
      "text/plain": [
       "<Figure size 720x360 with 1 Axes>"
      ]
     },
     "metadata": {
      "needs_background": "light"
     },
     "output_type": "display_data"
    }
   ],
   "source": [
    "X_woe['collection_recovery_fee'] = pd.cut(data['collection_recovery_fee'], 2)\n",
    "df_temp = calculate_woe(X_woe, 'collection_recovery_fee', data['loan_status'])\n",
    "plot_woe(df_temp)\n",
    "df_temp"
   ]
  },
  {
   "cell_type": "markdown",
   "id": "ca014d1c",
   "metadata": {},
   "source": [
    "## last_pymnt_amnt"
   ]
  },
  {
   "cell_type": "code",
   "execution_count": 63,
   "id": "0372c731",
   "metadata": {},
   "outputs": [
    {
     "data": {
      "text/html": [
       "<div>\n",
       "<style scoped>\n",
       "    .dataframe tbody tr th:only-of-type {\n",
       "        vertical-align: middle;\n",
       "    }\n",
       "\n",
       "    .dataframe tbody tr th {\n",
       "        vertical-align: top;\n",
       "    }\n",
       "\n",
       "    .dataframe thead th {\n",
       "        text-align: right;\n",
       "    }\n",
       "</style>\n",
       "<table border=\"1\" class=\"dataframe\">\n",
       "  <thead>\n",
       "    <tr style=\"text-align: right;\">\n",
       "      <th></th>\n",
       "      <th>last_pymnt_amnt</th>\n",
       "      <th>support</th>\n",
       "      <th>pos%</th>\n",
       "      <th>WoE</th>\n",
       "      <th>IV</th>\n",
       "    </tr>\n",
       "  </thead>\n",
       "  <tbody>\n",
       "    <tr>\n",
       "      <th>0</th>\n",
       "      <td>(-0.001, 545.99]</td>\n",
       "      <td>163213</td>\n",
       "      <td>0.842384</td>\n",
       "      <td>-0.423867</td>\n",
       "      <td>0.265851</td>\n",
       "    </tr>\n",
       "    <tr>\n",
       "      <th>1</th>\n",
       "      <td>(545.99, 36004.61]</td>\n",
       "      <td>163186</td>\n",
       "      <td>0.939419</td>\n",
       "      <td>0.641337</td>\n",
       "      <td>0.265851</td>\n",
       "    </tr>\n",
       "  </tbody>\n",
       "</table>\n",
       "</div>"
      ],
      "text/plain": [
       "      last_pymnt_amnt  support      pos%       WoE        IV\n",
       "0    (-0.001, 545.99]   163213  0.842384 -0.423867  0.265851\n",
       "1  (545.99, 36004.61]   163186  0.939419  0.641337  0.265851"
      ]
     },
     "execution_count": 63,
     "metadata": {},
     "output_type": "execute_result"
    },
    {
     "data": {
      "image/png": "[encoded data removed]",
      "text/plain": [
       "<Figure size 720x360 with 1 Axes>"
      ]
     },
     "metadata": {
      "needs_background": "light"
     },
     "output_type": "display_data"
    }
   ],
   "source": [
    "X_woe['last_pymnt_amnt'] = pd.qcut(data['last_pymnt_amnt'], 2)\n",
    "df_temp = calculate_woe(X_woe, 'last_pymnt_amnt', data['loan_status'])\n",
    "plot_woe(df_temp)\n",
    "df_temp"
   ]
  },
  {
   "cell_type": "code",
   "execution_count": 64,
   "id": "10da2b0b",
   "metadata": {},
   "outputs": [
    {
     "data": {
      "text/html": [
       "<div>\n",
       "<style scoped>\n",
       "    .dataframe tbody tr th:only-of-type {\n",
       "        vertical-align: middle;\n",
       "    }\n",
       "\n",
       "    .dataframe tbody tr th {\n",
       "        vertical-align: top;\n",
       "    }\n",
       "\n",
       "    .dataframe thead th {\n",
       "        text-align: right;\n",
       "    }\n",
       "</style>\n",
       "<table border=\"1\" class=\"dataframe\">\n",
       "  <thead>\n",
       "    <tr style=\"text-align: right;\">\n",
       "      <th></th>\n",
       "      <th>collections_12_mths_ex_med</th>\n",
       "      <th>support</th>\n",
       "      <th>pos%</th>\n",
       "      <th>WoE</th>\n",
       "      <th>IV</th>\n",
       "    </tr>\n",
       "  </thead>\n",
       "  <tbody>\n",
       "    <tr>\n",
       "      <th>0</th>\n",
       "      <td>(-0.02, 6.667]</td>\n",
       "      <td>326298</td>\n",
       "      <td>0.890916</td>\n",
       "      <td>-0.000007</td>\n",
       "      <td>inf</td>\n",
       "    </tr>\n",
       "    <tr>\n",
       "      <th>1</th>\n",
       "      <td>(6.667, 13.333]</td>\n",
       "      <td>0</td>\n",
       "      <td>NaN</td>\n",
       "      <td>NaN</td>\n",
       "      <td>inf</td>\n",
       "    </tr>\n",
       "    <tr>\n",
       "      <th>2</th>\n",
       "      <td>(13.333, 20.0]</td>\n",
       "      <td>2</td>\n",
       "      <td>1.000000</td>\n",
       "      <td>inf</td>\n",
       "      <td>inf</td>\n",
       "    </tr>\n",
       "  </tbody>\n",
       "</table>\n",
       "</div>"
      ],
      "text/plain": [
       "  collections_12_mths_ex_med  support      pos%       WoE   IV\n",
       "0             (-0.02, 6.667]   326298  0.890916 -0.000007  inf\n",
       "1            (6.667, 13.333]        0       NaN       NaN  inf\n",
       "2             (13.333, 20.0]        2  1.000000       inf  inf"
      ]
     },
     "execution_count": 64,
     "metadata": {},
     "output_type": "execute_result"
    },
    {
     "data": {
      "image/png": "[encoded data removed]",
      "text/plain": [
       "<Figure size 720x360 with 1 Axes>"
      ]
     },
     "metadata": {
      "needs_background": "light"
     },
     "output_type": "display_data"
    }
   ],
   "source": [
    "X_woe['collections_12_mths_ex_med'] = pd.cut(data['collections_12_mths_ex_med'], 3)\n",
    "df_temp = calculate_woe(X_woe, 'collections_12_mths_ex_med', data['loan_status'])\n",
    "plot_woe(df_temp)\n",
    "df_temp\n",
    "#IV values is negligible and almost all the values are 0's."
   ]
  },
  {
   "cell_type": "markdown",
   "id": "c6f6b4a0",
   "metadata": {},
   "source": [
    "## Data transformation"
   ]
  },
  {
   "cell_type": "code",
   "execution_count": 65,
   "id": "74086f21",
   "metadata": {},
   "outputs": [],
   "source": [
    "def transform(df):\n",
    "    ''' takes regular, unprocessed data as input and produces binary matrix representation '''\n",
    "    out = pd.DataFrame()\n",
    "    out['int_rate:(5.399, 12.3]'] = np.where(df['int_rate'] <= 12.3, 1, 0)\n",
    "    out['int_rate:(12.3, 19.18]'] = np.where((df['int_rate'] > 12.3) & (df['int_rate'] <= 19.18), 1, 0)\n",
    "    out['int_rate:(19.18, 26.06]'] = np.where(df['int_rate'] > 19.18, 1, 0)\n",
    "    out['annual_inc:(1895.999, 50000.0]'] = np.where(df['annual_inc'] <= 50_000, 1, 0)\n",
    "    out['annual_inc:(50000.0, 78000.0]'] = np.where((df['annual_inc'] > 50_000) & (df['annual_inc'] <= 78_000), 1, 0)\n",
    "    out['annual_inc:(78000.0, 7500000.0]'] = np.where(df['annual_inc'] > 78_000, 1, 0)\n",
    "    out['dti:(-0.001, 11.36]'] = np.where(df['dti'] <= 11.36, 1, 0)\n",
    "    out['dti:(11.36, 16.87]'] = np.where((df['dti'] > 11.36) & (df['dti'] <= 16.87), 1, 0)\n",
    "    out['dti:(16.87, 22.78]'] = np.where((df['dti'] > 16.87) & (df['dti'] <= 22.78), 1, 0)\n",
    "    out['dti:(22.78, 39.99]'] = np.where(df['dti'] > 22.78, 1, 0)\n",
    "    out['inq_last_6mths:(-0.002, 0.667]'] = np.where(df['inq_last_6mths'] <= 0.667, 1, 0)\n",
    "    out['inq_last_6mths:(0.667, 1.333]'] = np.where((df['inq_last_6mths'] > 0.667) & (df['inq_last_6mths'] <= 1.333), 1, 0)\n",
    "    out['inq_last_6mths:(1.333, 2.0]'] = np.where(df['inq_last_6mths'] > 1.333, 1, 0)\n",
    "    out['revol_util:(-0.001, 39.2]'] = np.where(df['revol_util'] <= 39.2, 1, 0)\n",
    "    out['revol_util:(39.2, 57.6]'] = np.where((df['revol_util'] > 39.2) & (df['revol_util'] <= 57.6), 1, 0)\n",
    "    out['revol_util:(57.6, 74.7]'] = np.where((df['revol_util'] > 57.6) & (df['revol_util'] <= 74.7), 1, 0)\n",
    "    out['revol_util:(74.7, 892.3]'] = np.where(df['revol_util'] > 74.7, 1, 0)\n",
    "    out['out_prncp:(-0.001, 441.47]'] = np.where(df['out_prncp'] <= 441.47, 1, 0)\n",
    "    out['out_prncp:(441.47, 32160.38]'] = np.where(df['out_prncp'] > 441.47, 1, 0)\n",
    "    out['total_pymnt:(-0.001, 5552.125]'] = np.where(df['total_pymnt'] <= 5552.125, 1, 0)\n",
    "    out['total_pymnt:(5552.125, 9419.251]'] = np.where((df['total_pymnt']>5552.125) & (df['total_pymnt']<=9419.251), 1, 0)\n",
    "    out['total_pymnt:(9419.251, 15308.158]'] = np.where((df['total_pymnt']>9419.251) & (df['total_pymnt']<15308.158), 1, 0)\n",
    "    out['total_pymnt:(15308.158, 57777.58]'] = np.where(df['total_pymnt'] > 15308.158, 1, 0)\n",
    "    out['last_pymnt_amnt:(-0.001, 545.96]'] = np.where(df['last_pymnt_amnt']<=545.96, 1, 0)\n",
    "    out['last_pymnt_amnt:(545.96, 36234.44]'] = np.where(df['last_pymnt_amnt']>545.96, 1, 0)\n",
    "    out['term: 36 months'] = np.where(df['term'] == ' 36 months', 1, 0)\n",
    "    out['term: 60 months'] = np.where(df['term'] == ' 60 months', 1, 0)\n",
    "    out['grade:A'] = np.where(df['grade']=='A', 1, 0)\n",
    "    out['grade:B'] = np.where(df['grade']=='B', 1, 0)\n",
    "    out['grade:C'] = np.where(df['grade']=='C', 1, 0)\n",
    "    out['grade:D'] = np.where(df['grade']=='D', 1, 0)\n",
    "    out['grade:E'] = np.where(df['grade']=='E', 1, 0)\n",
    "    out['grade:F'] = np.where(df['grade']=='F', 1, 0)\n",
    "    out['grade:G'] = np.where(df['grade']=='G', 1, 0)\n",
    "    out['verification_status:Not Verified'] = np.where(df['verification_status']=='Not Verified', 1, 0)\n",
    "    out['verification_status:Source Verified'] = np.where(df['verification_status']=='Source Verified', 1, 0)\n",
    "    out['verification_status:Verified'] = np.where(df['verification_status']=='Verified', 1, 0)\n",
    "    df['purpose'] = df['purpose'].apply(lambda x: x if x in ['debt_consolidation', 'credit_card', 'home_improvement'] else 'other')\n",
    "    out['purpose:credit_card'] = np.where(df['purpose']=='credit_card', 1, 0)\n",
    "    out['purpose:debt_consolidation'] = np.where(df['purpose']=='debt_consolidation', 1, 0)\n",
    "    out['purpose:home_improvement'] = np.where(df['purpose']=='home_improvement', 1, 0)\n",
    "    out['purpose:other'] = np.where(df['purpose']=='other', 1, 0)\n",
    "    out['home_ownership:MORTGAGE'] = np.where(df['home_ownership']=='MORTGAGE', 1, 0)\n",
    "    out['home_ownership:OWN'] = np.where(df['home_ownership']=='OWN', 1, 0)\n",
    "    out['home_ownership:RENT'] = np.where(df['home_ownership']=='RENT', 1, 0)\n",
    "    out['initial_list_status:f'] = np.where(df['initial_list_status']=='f', 1, 0)\n",
    "    out['initial_list_status:w'] = np.where(df['initial_list_status']=='w', 1, 0)\n",
    "    return out"
   ]
  },
  {
   "cell_type": "code",
   "execution_count": 66,
   "id": "d3aefb96",
   "metadata": {},
   "outputs": [
    {
     "data": {
      "image/png": "[encoded data removed]",
      "text/plain": [
       "<Figure size 576x432 with 2 Axes>"
      ]
     },
     "metadata": {
      "needs_background": "light"
     },
     "output_type": "display_data"
    },
    {
     "name": "stdout",
     "output_type": "stream",
     "text": [
      "term : grade -> 0.0\n",
      "term : verification_status -> 0.0\n",
      "term : purpose -> 0.0\n",
      "term : home_ownership -> 0.0\n",
      "term : initial_list_status -> 0.0\n",
      "grade : verification_status -> 0.0\n",
      "grade : purpose -> 0.0\n",
      "grade : home_ownership -> 0.0\n",
      "grade : initial_list_status -> 7.665929301662164e-110\n",
      "verification_status : purpose -> 0.0\n",
      "verification_status : home_ownership -> 0.0\n",
      "verification_status : initial_list_status -> 0.0\n",
      "purpose : home_ownership -> 0.0\n",
      "purpose : initial_list_status -> 0.0\n",
      "home_ownership : initial_list_status -> 2.6535314945926523e-58\n"
     ]
    }
   ],
   "source": [
    "categoric = ['term', 'grade', 'verification_status', 'purpose', 'home_ownership', 'initial_list_status']\n",
    "numeric = ['int_rate', 'sub_grade', 'annual_inc', 'dti', 'inq_last_6mths', 'revol_util', 'out_prncp', 'total_pymnt',\n",
    "          'total_rec_prncp', 'last_pymnt_amnt', 'out_prncp_inv']\n",
    "\n",
    "df = data[categoric+numeric]\n",
    "\n",
    "# based on correlation matrix we can exclude features 'sub_grade', 'total_rec_prncp', 'out_prncp_inv'\n",
    "df = df.drop(['sub_grade', 'total_rec_prncp', 'out_prncp_inv'], axis=1)\n",
    "numeric = list(filter(lambda x: x not in set(['sub_grade', 'total_rec_prncp', 'out_prncp_inv']), numeric))\n",
    "\n",
    "plt.figure(figsize=(8,6))\n",
    "sns.heatmap(df.corr(), annot=True, fmt='.2f')\n",
    "plt.show()\n",
    "\n",
    "# perform Chi-squared test on categoric features\n",
    "for i, c1 in enumerate(categoric):\n",
    "    for j in range(i+1, len(categoric)):\n",
    "        c2 = categoric[j]\n",
    "        # obtain observation matrix\n",
    "        observation = pd.crosstab(data[c1], data[c2])\n",
    "        # distribution of features `c2`\n",
    "        c2_dist = [x / len(data[c2]) for x in data[c2].value_counts()]\n",
    "        # expected values for c1 based on distribution of c2\n",
    "        expected = [[len(data[data[c1]==x]) * d for d in c2_dist] for x in observation.index]\n",
    "        # chi squared p value based on observed/expected values\n",
    "        chi_res = list(chisquare(observation.values.flatten(), np.array(expected).flatten()))\n",
    "        print(f'{c1} : {c2} -> {chi_res[1]}')\n",
    "        \n",
    "# Chi-squared test has given us inconclusive results"
   ]
  },
  {
   "cell_type": "markdown",
   "id": "b402c1dc",
   "metadata": {},
   "source": [
    "## Model training and validation"
   ]
  },
  {
   "cell_type": "code",
   "execution_count": 67,
   "id": "179bb67b",
   "metadata": {},
   "outputs": [
    {
     "data": {
      "text/html": [
       "<div>\n",
       "<style scoped>\n",
       "    .dataframe tbody tr th:only-of-type {\n",
       "        vertical-align: middle;\n",
       "    }\n",
       "\n",
       "    .dataframe tbody tr th {\n",
       "        vertical-align: top;\n",
       "    }\n",
       "\n",
       "    .dataframe thead th {\n",
       "        text-align: right;\n",
       "    }\n",
       "</style>\n",
       "<table border=\"1\" class=\"dataframe\">\n",
       "  <thead>\n",
       "    <tr style=\"text-align: right;\">\n",
       "      <th></th>\n",
       "      <th>int_rate:(5.399, 12.3]</th>\n",
       "      <th>int_rate:(12.3, 19.18]</th>\n",
       "      <th>int_rate:(19.18, 26.06]</th>\n",
       "      <th>annual_inc:(1895.999, 50000.0]</th>\n",
       "      <th>annual_inc:(50000.0, 78000.0]</th>\n",
       "      <th>annual_inc:(78000.0, 7500000.0]</th>\n",
       "      <th>dti:(-0.001, 11.36]</th>\n",
       "      <th>dti:(11.36, 16.87]</th>\n",
       "      <th>dti:(16.87, 22.78]</th>\n",
       "      <th>dti:(22.78, 39.99]</th>\n",
       "      <th>...</th>\n",
       "      <th>verification_status:Verified</th>\n",
       "      <th>purpose:credit_card</th>\n",
       "      <th>purpose:debt_consolidation</th>\n",
       "      <th>purpose:home_improvement</th>\n",
       "      <th>purpose:other</th>\n",
       "      <th>home_ownership:MORTGAGE</th>\n",
       "      <th>home_ownership:OWN</th>\n",
       "      <th>home_ownership:RENT</th>\n",
       "      <th>initial_list_status:f</th>\n",
       "      <th>initial_list_status:w</th>\n",
       "    </tr>\n",
       "  </thead>\n",
       "  <tbody>\n",
       "    <tr>\n",
       "      <th>0</th>\n",
       "      <td>1</td>\n",
       "      <td>0</td>\n",
       "      <td>0</td>\n",
       "      <td>1</td>\n",
       "      <td>0</td>\n",
       "      <td>0</td>\n",
       "      <td>0</td>\n",
       "      <td>0</td>\n",
       "      <td>0</td>\n",
       "      <td>1</td>\n",
       "      <td>...</td>\n",
       "      <td>1</td>\n",
       "      <td>1</td>\n",
       "      <td>0</td>\n",
       "      <td>0</td>\n",
       "      <td>0</td>\n",
       "      <td>0</td>\n",
       "      <td>0</td>\n",
       "      <td>1</td>\n",
       "      <td>1</td>\n",
       "      <td>0</td>\n",
       "    </tr>\n",
       "    <tr>\n",
       "      <th>1</th>\n",
       "      <td>0</td>\n",
       "      <td>1</td>\n",
       "      <td>0</td>\n",
       "      <td>1</td>\n",
       "      <td>0</td>\n",
       "      <td>0</td>\n",
       "      <td>1</td>\n",
       "      <td>0</td>\n",
       "      <td>0</td>\n",
       "      <td>0</td>\n",
       "      <td>...</td>\n",
       "      <td>0</td>\n",
       "      <td>0</td>\n",
       "      <td>0</td>\n",
       "      <td>0</td>\n",
       "      <td>1</td>\n",
       "      <td>0</td>\n",
       "      <td>0</td>\n",
       "      <td>1</td>\n",
       "      <td>1</td>\n",
       "      <td>0</td>\n",
       "    </tr>\n",
       "    <tr>\n",
       "      <th>2</th>\n",
       "      <td>0</td>\n",
       "      <td>1</td>\n",
       "      <td>0</td>\n",
       "      <td>1</td>\n",
       "      <td>0</td>\n",
       "      <td>0</td>\n",
       "      <td>1</td>\n",
       "      <td>0</td>\n",
       "      <td>0</td>\n",
       "      <td>0</td>\n",
       "      <td>...</td>\n",
       "      <td>0</td>\n",
       "      <td>0</td>\n",
       "      <td>0</td>\n",
       "      <td>0</td>\n",
       "      <td>1</td>\n",
       "      <td>0</td>\n",
       "      <td>0</td>\n",
       "      <td>1</td>\n",
       "      <td>1</td>\n",
       "      <td>0</td>\n",
       "    </tr>\n",
       "    <tr>\n",
       "      <th>3</th>\n",
       "      <td>0</td>\n",
       "      <td>1</td>\n",
       "      <td>0</td>\n",
       "      <td>1</td>\n",
       "      <td>0</td>\n",
       "      <td>0</td>\n",
       "      <td>0</td>\n",
       "      <td>0</td>\n",
       "      <td>1</td>\n",
       "      <td>0</td>\n",
       "      <td>...</td>\n",
       "      <td>0</td>\n",
       "      <td>0</td>\n",
       "      <td>0</td>\n",
       "      <td>0</td>\n",
       "      <td>1</td>\n",
       "      <td>0</td>\n",
       "      <td>0</td>\n",
       "      <td>1</td>\n",
       "      <td>1</td>\n",
       "      <td>0</td>\n",
       "    </tr>\n",
       "    <tr>\n",
       "      <th>4</th>\n",
       "      <td>0</td>\n",
       "      <td>1</td>\n",
       "      <td>0</td>\n",
       "      <td>0</td>\n",
       "      <td>0</td>\n",
       "      <td>1</td>\n",
       "      <td>0</td>\n",
       "      <td>0</td>\n",
       "      <td>1</td>\n",
       "      <td>0</td>\n",
       "      <td>...</td>\n",
       "      <td>0</td>\n",
       "      <td>0</td>\n",
       "      <td>0</td>\n",
       "      <td>0</td>\n",
       "      <td>1</td>\n",
       "      <td>0</td>\n",
       "      <td>0</td>\n",
       "      <td>1</td>\n",
       "      <td>1</td>\n",
       "      <td>0</td>\n",
       "    </tr>\n",
       "    <tr>\n",
       "      <th>...</th>\n",
       "      <td>...</td>\n",
       "      <td>...</td>\n",
       "      <td>...</td>\n",
       "      <td>...</td>\n",
       "      <td>...</td>\n",
       "      <td>...</td>\n",
       "      <td>...</td>\n",
       "      <td>...</td>\n",
       "      <td>...</td>\n",
       "      <td>...</td>\n",
       "      <td>...</td>\n",
       "      <td>...</td>\n",
       "      <td>...</td>\n",
       "      <td>...</td>\n",
       "      <td>...</td>\n",
       "      <td>...</td>\n",
       "      <td>...</td>\n",
       "      <td>...</td>\n",
       "      <td>...</td>\n",
       "      <td>...</td>\n",
       "      <td>...</td>\n",
       "    </tr>\n",
       "    <tr>\n",
       "      <th>326394</th>\n",
       "      <td>1</td>\n",
       "      <td>0</td>\n",
       "      <td>0</td>\n",
       "      <td>0</td>\n",
       "      <td>0</td>\n",
       "      <td>1</td>\n",
       "      <td>1</td>\n",
       "      <td>0</td>\n",
       "      <td>0</td>\n",
       "      <td>0</td>\n",
       "      <td>...</td>\n",
       "      <td>1</td>\n",
       "      <td>0</td>\n",
       "      <td>1</td>\n",
       "      <td>0</td>\n",
       "      <td>0</td>\n",
       "      <td>0</td>\n",
       "      <td>0</td>\n",
       "      <td>1</td>\n",
       "      <td>1</td>\n",
       "      <td>0</td>\n",
       "    </tr>\n",
       "    <tr>\n",
       "      <th>326395</th>\n",
       "      <td>0</td>\n",
       "      <td>1</td>\n",
       "      <td>0</td>\n",
       "      <td>0</td>\n",
       "      <td>0</td>\n",
       "      <td>1</td>\n",
       "      <td>0</td>\n",
       "      <td>0</td>\n",
       "      <td>1</td>\n",
       "      <td>0</td>\n",
       "      <td>...</td>\n",
       "      <td>0</td>\n",
       "      <td>0</td>\n",
       "      <td>1</td>\n",
       "      <td>0</td>\n",
       "      <td>0</td>\n",
       "      <td>1</td>\n",
       "      <td>0</td>\n",
       "      <td>0</td>\n",
       "      <td>0</td>\n",
       "      <td>1</td>\n",
       "    </tr>\n",
       "    <tr>\n",
       "      <th>326396</th>\n",
       "      <td>0</td>\n",
       "      <td>0</td>\n",
       "      <td>1</td>\n",
       "      <td>0</td>\n",
       "      <td>1</td>\n",
       "      <td>0</td>\n",
       "      <td>0</td>\n",
       "      <td>0</td>\n",
       "      <td>1</td>\n",
       "      <td>0</td>\n",
       "      <td>...</td>\n",
       "      <td>1</td>\n",
       "      <td>0</td>\n",
       "      <td>1</td>\n",
       "      <td>0</td>\n",
       "      <td>0</td>\n",
       "      <td>1</td>\n",
       "      <td>0</td>\n",
       "      <td>0</td>\n",
       "      <td>1</td>\n",
       "      <td>0</td>\n",
       "    </tr>\n",
       "    <tr>\n",
       "      <th>326397</th>\n",
       "      <td>0</td>\n",
       "      <td>1</td>\n",
       "      <td>0</td>\n",
       "      <td>1</td>\n",
       "      <td>0</td>\n",
       "      <td>0</td>\n",
       "      <td>0</td>\n",
       "      <td>0</td>\n",
       "      <td>0</td>\n",
       "      <td>1</td>\n",
       "      <td>...</td>\n",
       "      <td>1</td>\n",
       "      <td>0</td>\n",
       "      <td>1</td>\n",
       "      <td>0</td>\n",
       "      <td>0</td>\n",
       "      <td>1</td>\n",
       "      <td>0</td>\n",
       "      <td>0</td>\n",
       "      <td>1</td>\n",
       "      <td>0</td>\n",
       "    </tr>\n",
       "    <tr>\n",
       "      <th>326398</th>\n",
       "      <td>0</td>\n",
       "      <td>0</td>\n",
       "      <td>1</td>\n",
       "      <td>1</td>\n",
       "      <td>0</td>\n",
       "      <td>0</td>\n",
       "      <td>0</td>\n",
       "      <td>0</td>\n",
       "      <td>1</td>\n",
       "      <td>0</td>\n",
       "      <td>...</td>\n",
       "      <td>1</td>\n",
       "      <td>0</td>\n",
       "      <td>0</td>\n",
       "      <td>0</td>\n",
       "      <td>1</td>\n",
       "      <td>1</td>\n",
       "      <td>0</td>\n",
       "      <td>0</td>\n",
       "      <td>1</td>\n",
       "      <td>0</td>\n",
       "    </tr>\n",
       "  </tbody>\n",
       "</table>\n",
       "<p>326399 rows × 46 columns</p>\n",
       "</div>"
      ],
      "text/plain": [
       "        int_rate:(5.399, 12.3]  int_rate:(12.3, 19.18]  \\\n",
       "0                            1                       0   \n",
       "1                            0                       1   \n",
       "2                            0                       1   \n",
       "3                            0                       1   \n",
       "4                            0                       1   \n",
       "...                        ...                     ...   \n",
       "326394                       1                       0   \n",
       "326395                       0                       1   \n",
       "326396                       0                       0   \n",
       "326397                       0                       1   \n",
       "326398                       0                       0   \n",
       "\n",
       "        int_rate:(19.18, 26.06]  annual_inc:(1895.999, 50000.0]  \\\n",
       "0                             0                               1   \n",
       "1                             0                               1   \n",
       "2                             0                               1   \n",
       "3                             0                               1   \n",
       "4                             0                               0   \n",
       "...                         ...                             ...   \n",
       "326394                        0                               0   \n",
       "326395                        0                               0   \n",
       "326396                        1                               0   \n",
       "326397                        0                               1   \n",
       "326398                        1                               1   \n",
       "\n",
       "        annual_inc:(50000.0, 78000.0]  annual_inc:(78000.0, 7500000.0]  \\\n",
       "0                                   0                                0   \n",
       "1                                   0                                0   \n",
       "2                                   0                                0   \n",
       "3                                   0                                0   \n",
       "4                                   0                                1   \n",
       "...                               ...                              ...   \n",
       "326394                              0                                1   \n",
       "326395                              0                                1   \n",
       "326396                              1                                0   \n",
       "326397                              0                                0   \n",
       "326398                              0                                0   \n",
       "\n",
       "        dti:(-0.001, 11.36]  dti:(11.36, 16.87]  dti:(16.87, 22.78]  \\\n",
       "0                         0                   0                   0   \n",
       "1                         1                   0                   0   \n",
       "2                         1                   0                   0   \n",
       "3                         0                   0                   1   \n",
       "4                         0                   0                   1   \n",
       "...                     ...                 ...                 ...   \n",
       "326394                    1                   0                   0   \n",
       "326395                    0                   0                   1   \n",
       "326396                    0                   0                   1   \n",
       "326397                    0                   0                   0   \n",
       "326398                    0                   0                   1   \n",
       "\n",
       "        dti:(22.78, 39.99]  ...  verification_status:Verified  \\\n",
       "0                        1  ...                             1   \n",
       "1                        0  ...                             0   \n",
       "2                        0  ...                             0   \n",
       "3                        0  ...                             0   \n",
       "4                        0  ...                             0   \n",
       "...                    ...  ...                           ...   \n",
       "326394                   0  ...                             1   \n",
       "326395                   0  ...                             0   \n",
       "326396                   0  ...                             1   \n",
       "326397                   1  ...                             1   \n",
       "326398                   0  ...                             1   \n",
       "\n",
       "        purpose:credit_card  purpose:debt_consolidation  \\\n",
       "0                         1                           0   \n",
       "1                         0                           0   \n",
       "2                         0                           0   \n",
       "3                         0                           0   \n",
       "4                         0                           0   \n",
       "...                     ...                         ...   \n",
       "326394                    0                           1   \n",
       "326395                    0                           1   \n",
       "326396                    0                           1   \n",
       "326397                    0                           1   \n",
       "326398                    0                           0   \n",
       "\n",
       "        purpose:home_improvement  purpose:other  home_ownership:MORTGAGE  \\\n",
       "0                              0              0                        0   \n",
       "1                              0              1                        0   \n",
       "2                              0              1                        0   \n",
       "3                              0              1                        0   \n",
       "4                              0              1                        0   \n",
       "...                          ...            ...                      ...   \n",
       "326394                         0              0                        0   \n",
       "326395                         0              0                        1   \n",
       "326396                         0              0                        1   \n",
       "326397                         0              0                        1   \n",
       "326398                         0              1                        1   \n",
       "\n",
       "        home_ownership:OWN  home_ownership:RENT  initial_list_status:f  \\\n",
       "0                        0                    1                      1   \n",
       "1                        0                    1                      1   \n",
       "2                        0                    1                      1   \n",
       "3                        0                    1                      1   \n",
       "4                        0                    1                      1   \n",
       "...                    ...                  ...                    ...   \n",
       "326394                   0                    1                      1   \n",
       "326395                   0                    0                      0   \n",
       "326396                   0                    0                      1   \n",
       "326397                   0                    0                      1   \n",
       "326398                   0                    0                      1   \n",
       "\n",
       "        initial_list_status:w  \n",
       "0                           0  \n",
       "1                           0  \n",
       "2                           0  \n",
       "3                           0  \n",
       "4                           0  \n",
       "...                       ...  \n",
       "326394                      0  \n",
       "326395                      1  \n",
       "326396                      0  \n",
       "326397                      0  \n",
       "326398                      0  \n",
       "\n",
       "[326399 rows x 46 columns]"
      ]
     },
     "execution_count": 67,
     "metadata": {},
     "output_type": "execute_result"
    }
   ],
   "source": [
    "# transform train data\n",
    "TRAIN = transform(df)\n",
    "TRAIN"
   ]
  },
  {
   "cell_type": "code",
   "execution_count": 68,
   "id": "cebc8fca",
   "metadata": {},
   "outputs": [
    {
     "name": "stdout",
     "output_type": "stream",
     "text": [
      "              precision    recall  f1-score   support\n",
      "\n",
      "           0       0.97      0.82      0.89    124529\n",
      "           1       0.35      0.79      0.48     15357\n",
      "\n",
      "    accuracy                           0.81    139886\n",
      "   macro avg       0.66      0.80      0.68    139886\n",
      "weighted avg       0.90      0.81      0.84    139886\n",
      "\n"
     ]
    },
    {
     "data": {
      "image/png": "[encoded data removed]",
      "text/plain": [
       "<Figure size 432x288 with 2 Axes>"
      ]
     },
     "metadata": {
      "needs_background": "light"
     },
     "output_type": "display_data"
    }
   ],
   "source": [
    "model = LogisticRegression(class_weight='balanced')\n",
    "model = model.fit(TRAIN.values, data['loan_status'].values)\n",
    "\n",
    "# transform test set\n",
    "y_test = TEST['loan_status'].values\n",
    "TEST = transform(TEST)\n",
    "\n",
    "y_pred = model.predict(TEST)\n",
    "\n",
    "print(classification_report(y_test, y_pred))\n",
    "\n",
    "gini = 2*roc_auc_score(y_test, y_pred) - 1\n",
    "plt.title(f'Gini: {gini:.2f}')\n",
    "sns.heatmap(confusion_matrix(y_test, y_pred), annot=True, fmt='d')\n",
    "plt.show()"
   ]
  },
  {
   "cell_type": "markdown",
   "id": "e8717a23",
   "metadata": {},
   "source": [
    "## Coefficient scaling"
   ]
  },
  {
   "cell_type": "code",
   "execution_count": 69,
   "id": "54bf20f7",
   "metadata": {},
   "outputs": [
    {
     "data": {
      "text/plain": [
       "{'int_rate:(5.399, 12.3]': 18.42,\n",
       " 'int_rate:(12.3, 19.18]': 8.59,\n",
       " 'int_rate:(19.18, 26.06]': -4.04,\n",
       " 'annual_inc:(1895.999, 50000.0]': 8.13,\n",
       " 'annual_inc:(50000.0, 78000.0]': 10.79,\n",
       " 'annual_inc:(78000.0, 7500000.0]': 16.48,\n",
       " 'dti:(-0.001, 11.36]': 13.55,\n",
       " 'dti:(11.36, 16.87]': 12.29,\n",
       " 'dti:(16.87, 22.78]': 9.58,\n",
       " 'dti:(22.78, 39.99]': 7.48,\n",
       " 'inq_last_6mths:(-0.002, 0.667]': 13.83,\n",
       " 'inq_last_6mths:(0.667, 1.333]': 9.89,\n",
       " 'inq_last_6mths:(1.333, 2.0]': 5.62,\n",
       " 'revol_util:(-0.001, 39.2]': 14.18,\n",
       " 'revol_util:(39.2, 57.6]': 11.79,\n",
       " 'revol_util:(57.6, 74.7]': 9.94,\n",
       " 'revol_util:(74.7, 892.3]': 7.68,\n",
       " 'out_prncp:(-0.001, 441.47]': -7.75,\n",
       " 'out_prncp:(441.47, 32160.38]': 10.84,\n",
       " 'total_pymnt:(-0.001, 5552.125]': -12.78,\n",
       " 'total_pymnt:(5552.125, 9419.251]': 11.22,\n",
       " 'total_pymnt:(9419.251, 15308.158]': 17.29,\n",
       " 'total_pymnt:(15308.158, 57777.58]': 11.72,\n",
       " 'last_pymnt_amnt:(-0.001, 545.96]': 1.29,\n",
       " 'last_pymnt_amnt:(545.96, 36234.44]': 15.54,\n",
       " 'term: 36 months': 12.54,\n",
       " 'term: 60 months': 5.8,\n",
       " 'grade:A': 16.31,\n",
       " 'grade:B': 14.95,\n",
       " 'grade:C': 10.15,\n",
       " 'grade:D': 4.36,\n",
       " 'grade:E': -1.5,\n",
       " 'grade:F': -9.02,\n",
       " 'grade:G': -16.26,\n",
       " 'verification_status:Not Verified': 12.73,\n",
       " 'verification_status:Source Verified': 11.66,\n",
       " 'verification_status:Verified': 7.52,\n",
       " 'purpose:credit_card': 15.27,\n",
       " 'purpose:debt_consolidation': 10.14,\n",
       " 'purpose:home_improvement': 12.61,\n",
       " 'purpose:other': 7.87,\n",
       " 'home_ownership:MORTGAGE': 12.98,\n",
       " 'home_ownership:OWN': 11.0,\n",
       " 'home_ownership:RENT': 8.32,\n",
       " 'initial_list_status:f': 9.15,\n",
       " 'initial_list_status:w': 14.13}"
      ]
     },
     "execution_count": 69,
     "metadata": {},
     "output_type": "execute_result"
    }
   ],
   "source": [
    "WoE = [0.708396, -0.147986, -0.757155, -0.237045, -0.002945, 0.300903, 0.213164, 0.098333, -0.076295, -0.196744,\n",
    "      0.200440, -0.062687, -0.337605, 0.235823, 0.062544, -0.055850, -0.203325, -0.619863, 1.283692, -0.850290,\n",
    "      0.019978, 0.482927, 1.180022, -0.422353, 0.637729, 0.132203, -0.294894, 1.1143, 0.364, -0.05525, -0.395, -0.6785,\n",
    "      -0.9522, -1.144166, 0.166972, 0.054438, -0.173420, 0.262772, -0.040475, 0.11994, -0.24381, 0.14378, 0.010764, -0.162,\n",
    "      -0.10833, 0.229417]\n",
    "beta = model.coef_[0, :]\n",
    "# min-max scaling coefficients of logistic regression to root out negative values\n",
    "beta = [(x-min(beta))/max(beta) for x in beta]\n",
    "alpha = model.intercept_[0]\n",
    "PDO = 10 # points to double the odds\n",
    "factor = PDO / math.log(2)\n",
    "base_score = 500\n",
    "target_odds = 1\n",
    "offset = base_score - (factor * math.log(target_odds))\n",
    "n = len(beta)\n",
    "\n",
    "# Score_i= (βi × WoE_i + α/n) × Factor + Offset/n\n",
    "scores = {}\n",
    "for i, feature in enumerate(TRAIN.columns):\n",
    "    scores[feature] = round((beta[i] * WoE[i] + alpha/n)*factor + offset/n, 2)\n",
    "scores"
   ]
  },
  {
   "cell_type": "markdown",
   "id": "d3318a7a",
   "metadata": {},
   "source": [
    "## Cutoff analysis"
   ]
  },
  {
   "cell_type": "code",
   "execution_count": 70,
   "id": "16c99966",
   "metadata": {},
   "outputs": [
    {
     "name": "stdout",
     "output_type": "stream",
     "text": [
      "count    326399.000000\n",
      "mean        136.157682\n",
      "std          25.042877\n",
      "min          30.290000\n",
      "25%         119.640000\n",
      "50%         137.760000\n",
      "75%         154.400000\n",
      "max         204.090000\n",
      "Name: total_score, dtype: float64\n"
     ]
    },
    {
     "data": {
      "text/html": [
       "<div>\n",
       "<style scoped>\n",
       "    .dataframe tbody tr th:only-of-type {\n",
       "        vertical-align: middle;\n",
       "    }\n",
       "\n",
       "    .dataframe tbody tr th {\n",
       "        vertical-align: top;\n",
       "    }\n",
       "\n",
       "    .dataframe thead th {\n",
       "        text-align: right;\n",
       "    }\n",
       "</style>\n",
       "<table border=\"1\" class=\"dataframe\">\n",
       "  <thead>\n",
       "    <tr style=\"text-align: right;\">\n",
       "      <th></th>\n",
       "      <th>total_score</th>\n",
       "      <th>label</th>\n",
       "    </tr>\n",
       "  </thead>\n",
       "  <tbody>\n",
       "    <tr>\n",
       "      <th>0</th>\n",
       "      <td>124.11</td>\n",
       "      <td>0</td>\n",
       "    </tr>\n",
       "    <tr>\n",
       "      <th>1</th>\n",
       "      <td>83.78</td>\n",
       "      <td>1</td>\n",
       "    </tr>\n",
       "    <tr>\n",
       "      <th>2</th>\n",
       "      <td>99.34</td>\n",
       "      <td>0</td>\n",
       "    </tr>\n",
       "    <tr>\n",
       "      <th>3</th>\n",
       "      <td>120.89</td>\n",
       "      <td>0</td>\n",
       "    </tr>\n",
       "    <tr>\n",
       "      <th>4</th>\n",
       "      <td>117.37</td>\n",
       "      <td>0</td>\n",
       "    </tr>\n",
       "    <tr>\n",
       "      <th>...</th>\n",
       "      <td>...</td>\n",
       "      <td>...</td>\n",
       "    </tr>\n",
       "    <tr>\n",
       "      <th>326394</th>\n",
       "      <td>159.45</td>\n",
       "      <td>1</td>\n",
       "    </tr>\n",
       "    <tr>\n",
       "      <th>326395</th>\n",
       "      <td>142.23</td>\n",
       "      <td>0</td>\n",
       "    </tr>\n",
       "    <tr>\n",
       "      <th>326396</th>\n",
       "      <td>64.45</td>\n",
       "      <td>1</td>\n",
       "    </tr>\n",
       "    <tr>\n",
       "      <th>326397</th>\n",
       "      <td>120.98</td>\n",
       "      <td>0</td>\n",
       "    </tr>\n",
       "    <tr>\n",
       "      <th>326398</th>\n",
       "      <td>115.21</td>\n",
       "      <td>0</td>\n",
       "    </tr>\n",
       "  </tbody>\n",
       "</table>\n",
       "<p>326399 rows × 2 columns</p>\n",
       "</div>"
      ],
      "text/plain": [
       "        total_score  label\n",
       "0            124.11      0\n",
       "1             83.78      1\n",
       "2             99.34      0\n",
       "3            120.89      0\n",
       "4            117.37      0\n",
       "...             ...    ...\n",
       "326394       159.45      1\n",
       "326395       142.23      0\n",
       "326396        64.45      1\n",
       "326397       120.98      0\n",
       "326398       115.21      0\n",
       "\n",
       "[326399 rows x 2 columns]"
      ]
     },
     "execution_count": 70,
     "metadata": {},
     "output_type": "execute_result"
    }
   ],
   "source": [
    "output = pd.DataFrame()\n",
    "output['total_score'] = np.sum(scores.values() * TRAIN, axis=1)\n",
    "output['label'] = data['loan_status'].values\n",
    "print(output['total_score'].describe())\n",
    "output"
   ]
  },
  {
   "cell_type": "code",
   "execution_count": 71,
   "id": "7f2d5326",
   "metadata": {},
   "outputs": [
    {
     "data": {
      "application/vnd.jupyter.widget-view+json": {
       "model_id": "d36818cd81054c22857889764618388e",
       "version_major": 2,
       "version_minor": 0
      },
      "text/plain": [
       "interactive(children=(IntSlider(value=120, description='threshold', max=200, min=30, step=5), Output()), _dom_…"
      ]
     },
     "metadata": {},
     "output_type": "display_data"
    }
   ],
   "source": [
    "@interact(threshold=(30, 200, 5))\n",
    "def validation(threshold=120):\n",
    "    output['predicted'] = output['total_score'].apply(lambda x: 1 if x < threshold else 0)\n",
    "    print('\\n', classification_report(output['label'], output['predicted']))\n",
    "    gini = 2*roc_auc_score(output['label'], output['predicted']) - 1\n",
    "    plt.title(f'Cutoff: {threshold}, Gini:{gini:.2f}')\n",
    "    sns.heatmap(confusion_matrix(output['label'], output['predicted']), annot=True, fmt='d')\n",
    "    plt.show()"
   ]
  },
  {
   "cell_type": "markdown",
   "id": "92b1455d",
   "metadata": {},
   "source": [
    "-------------------------------------------------------------------"
   ]
  },
  {
   "cell_type": "markdown",
   "id": "1f974f00",
   "metadata": {},
   "source": [
    "## Neural network based scorecard"
   ]
  },
  {
   "cell_type": "code",
   "execution_count": 72,
   "id": "9f43bfc0",
   "metadata": {},
   "outputs": [
    {
     "name": "stdout",
     "output_type": "stream",
     "text": [
      "Epoch 1/2\n",
      "10200/10200 [==============================] - 8s 771us/step - loss: 0.2462 - accuracy: 0.9159\n",
      "Epoch 2/2\n",
      "10200/10200 [==============================] - 8s 767us/step - loss: 0.2240 - accuracy: 0.9281\n",
      "              precision    recall  f1-score   support\n",
      "\n",
      "           0       0.94      0.99      0.96    124529\n",
      "           1       0.79      0.46      0.58     15357\n",
      "\n",
      "    accuracy                           0.93    139886\n",
      "   macro avg       0.87      0.72      0.77    139886\n",
      "weighted avg       0.92      0.93      0.92    139886\n",
      "\n"
     ]
    },
    {
     "data": {
      "image/png": "[encoded data removed]",
      "text/plain": [
       "<Figure size 432x288 with 2 Axes>"
      ]
     },
     "metadata": {
      "needs_background": "light"
     },
     "output_type": "display_data"
    }
   ],
   "source": [
    "from tensorflow import keras\n",
    "from tensorflow.keras import Model\n",
    "from tensorflow.keras.layers import Dense, Input\n",
    "from tensorflow.keras.optimizers import Adam\n",
    "\n",
    "IN = Input(shape=(46, ))\n",
    "OUT = Dense(1, activation='sigmoid')(IN)\n",
    "\n",
    "model = Model(IN, OUT)\n",
    "model.compile(loss='binary_crossentropy', optimizer=Adam(0.001), metrics=['accuracy'])\n",
    "model.fit(TRAIN.values, data['loan_status'].values, epochs=2)\n",
    "\n",
    "y_pred = [1 if x >= 0.5 else 0 for x in model.predict(TEST)]\n",
    "\n",
    "print(classification_report(y_test, y_pred))\n",
    "\n",
    "gini = 2*roc_auc_score(y_test, y_pred) - 1\n",
    "plt.title(f'Gini: {gini:.2f}')\n",
    "sns.heatmap(confusion_matrix(y_test, y_pred), annot=True, fmt='d')\n",
    "plt.show()"
   ]
  },
  {
   "cell_type": "code",
   "execution_count": 73,
   "id": "f8666e84",
   "metadata": {},
   "outputs": [
    {
     "data": {
      "text/plain": [
       "{'int_rate:(5.399, 12.3]': 22.34,\n",
       " 'int_rate:(12.3, 19.18]': 7.85,\n",
       " 'int_rate:(19.18, 26.06]': -8.63,\n",
       " 'annual_inc:(1895.999, 50000.0]': 7.64,\n",
       " 'annual_inc:(50000.0, 78000.0]': 10.82,\n",
       " 'annual_inc:(78000.0, 7500000.0]': 17.04,\n",
       " 'dti:(-0.001, 11.36]': 14.6,\n",
       " 'dti:(11.36, 16.87]': 12.8,\n",
       " 'dti:(16.87, 22.78]': 9.31,\n",
       " 'dti:(22.78, 39.99]': 6.57,\n",
       " 'inq_last_6mths:(-0.002, 0.667]': 14.78,\n",
       " 'inq_last_6mths:(0.667, 1.333]': 9.61,\n",
       " 'inq_last_6mths:(1.333, 2.0]': 4.22,\n",
       " 'revol_util:(-0.001, 39.2]': 14.82,\n",
       " 'revol_util:(39.2, 57.6]': 12.02,\n",
       " 'revol_util:(57.6, 74.7]': 9.79,\n",
       " 'revol_util:(74.7, 892.3]': 7.24,\n",
       " 'out_prncp:(-0.001, 441.47]': -11.0,\n",
       " 'out_prncp:(441.47, 32160.38]': 10.87,\n",
       " 'total_pymnt:(-0.001, 5552.125]': -16.47,\n",
       " 'total_pymnt:(5552.125, 9419.251]': 11.33,\n",
       " 'total_pymnt:(9419.251, 15308.158]': 18.25,\n",
       " 'total_pymnt:(15308.158, 57777.58]': 13.63,\n",
       " 'last_pymnt_amnt:(-0.001, 545.96]': -0.47,\n",
       " 'last_pymnt_amnt:(545.96, 36234.44]': 16.64,\n",
       " 'term: 36 months': 13.21,\n",
       " 'term: 60 months': 3.42,\n",
       " 'grade:A': 25.16,\n",
       " 'grade:B': 17.82,\n",
       " 'grade:C': 9.74,\n",
       " 'grade:D': 1.85,\n",
       " 'grade:E': -5.41,\n",
       " 'grade:F': -14.34,\n",
       " 'grade:G': -20.54,\n",
       " 'verification_status:Not Verified': 13.42,\n",
       " 'verification_status:Source Verified': 11.92,\n",
       " 'verification_status:Verified': 6.98,\n",
       " 'purpose:credit_card': 15.76,\n",
       " 'purpose:debt_consolidation': 10.07,\n",
       " 'purpose:home_improvement': 12.68,\n",
       " 'purpose:other': 7.8,\n",
       " 'home_ownership:MORTGAGE': 13.39,\n",
       " 'home_ownership:OWN': 11.05,\n",
       " 'home_ownership:RENT': 8.02,\n",
       " 'initial_list_status:f': 8.79,\n",
       " 'initial_list_status:w': 15.26}"
      ]
     },
     "execution_count": 73,
     "metadata": {},
     "output_type": "execute_result"
    }
   ],
   "source": [
    "# obtain weights and biases of the neural network\n",
    "W, b = model.layers[1].get_weights()\n",
    "beta = W[:, 0]\n",
    "alpha = b[0]\n",
    "# min-max scaling coefficients\n",
    "beta = [(x-min(beta))/max(beta) for x in beta]\n",
    "PDO = 10 # points to double the odds\n",
    "factor = PDO / math.log(2)\n",
    "base_score = 500\n",
    "target_odds = 1\n",
    "offset = base_score - (factor * math.log(target_odds))\n",
    "n = len(beta)\n",
    "\n",
    "# Score_i= (βi × WoE_i + α/n) × Factor + Offset/n\n",
    "scores = {}\n",
    "for i, feature in enumerate(TRAIN.columns):\n",
    "    scores[feature] = round((beta[i] * WoE[i])*factor + offset/n, 2)\n",
    "scores"
   ]
  }
 ],
 "metadata": {
  "kernelspec": {
   "display_name": "Python 3",
   "language": "python",
   "name": "python3"
  },
  "language_info": {
   "codemirror_mode": {
    "name": "ipython",
    "version": 3
   },
   "file_extension": ".py",
   "mimetype": "text/x-python",
   "name": "python",
   "nbconvert_exporter": "python",
   "pygments_lexer": "ipython3",
   "version": "3.8.8"
  }
 },
 "nbformat": 4,
 "nbformat_minor": 5
}
