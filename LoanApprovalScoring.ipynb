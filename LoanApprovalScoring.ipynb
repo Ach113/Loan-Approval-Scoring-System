{
 "cells": [
  {
   "cell_type": "code",
   "execution_count": 1,
   "id": "880acac1",
   "metadata": {},
   "outputs": [],
   "source": [
    "import pandas as pd\n",
    "import numpy as np\n",
    "\n",
    "from scipy.stats import chisquare\n",
    "from sklearn.linear_model import LogisticRegression\n",
    "from sklearn.model_selection import train_test_split\n",
    "from sklearn.metrics import roc_auc_score, classification_report, confusion_matrix\n",
    "\n",
    "import matplotlib.pyplot as plt\n",
    "import seaborn as sns\n",
    "\n",
    "import warnings, math\n",
    "warnings.simplefilter(\"ignore\")"
   ]
  },
  {
   "cell_type": "code",
   "execution_count": 2,
   "id": "1dc2174f",
   "metadata": {},
   "outputs": [
    {
     "data": {
      "text/html": [
       "<div>\n",
       "<style scoped>\n",
       "    .dataframe tbody tr th:only-of-type {\n",
       "        vertical-align: middle;\n",
       "    }\n",
       "\n",
       "    .dataframe tbody tr th {\n",
       "        vertical-align: top;\n",
       "    }\n",
       "\n",
       "    .dataframe thead th {\n",
       "        text-align: right;\n",
       "    }\n",
       "</style>\n",
       "<table border=\"1\" class=\"dataframe\">\n",
       "  <thead>\n",
       "    <tr style=\"text-align: right;\">\n",
       "      <th></th>\n",
       "      <th>id</th>\n",
       "      <th>member_id</th>\n",
       "      <th>loan_amnt</th>\n",
       "      <th>funded_amnt</th>\n",
       "      <th>funded_amnt_inv</th>\n",
       "      <th>term</th>\n",
       "      <th>int_rate</th>\n",
       "      <th>installment</th>\n",
       "      <th>grade</th>\n",
       "      <th>sub_grade</th>\n",
       "      <th>...</th>\n",
       "      <th>total_bal_il</th>\n",
       "      <th>il_util</th>\n",
       "      <th>open_rv_12m</th>\n",
       "      <th>open_rv_24m</th>\n",
       "      <th>max_bal_bc</th>\n",
       "      <th>all_util</th>\n",
       "      <th>total_rev_hi_lim</th>\n",
       "      <th>inq_fi</th>\n",
       "      <th>total_cu_tl</th>\n",
       "      <th>inq_last_12m</th>\n",
       "    </tr>\n",
       "  </thead>\n",
       "  <tbody>\n",
       "    <tr>\n",
       "      <th>0</th>\n",
       "      <td>1077501</td>\n",
       "      <td>1296599</td>\n",
       "      <td>5000</td>\n",
       "      <td>5000</td>\n",
       "      <td>4975.0</td>\n",
       "      <td>36 months</td>\n",
       "      <td>10.65</td>\n",
       "      <td>162.87</td>\n",
       "      <td>B</td>\n",
       "      <td>B2</td>\n",
       "      <td>...</td>\n",
       "      <td>NaN</td>\n",
       "      <td>NaN</td>\n",
       "      <td>NaN</td>\n",
       "      <td>NaN</td>\n",
       "      <td>NaN</td>\n",
       "      <td>NaN</td>\n",
       "      <td>NaN</td>\n",
       "      <td>NaN</td>\n",
       "      <td>NaN</td>\n",
       "      <td>NaN</td>\n",
       "    </tr>\n",
       "    <tr>\n",
       "      <th>1</th>\n",
       "      <td>1077430</td>\n",
       "      <td>1314167</td>\n",
       "      <td>2500</td>\n",
       "      <td>2500</td>\n",
       "      <td>2500.0</td>\n",
       "      <td>60 months</td>\n",
       "      <td>15.27</td>\n",
       "      <td>59.83</td>\n",
       "      <td>C</td>\n",
       "      <td>C4</td>\n",
       "      <td>...</td>\n",
       "      <td>NaN</td>\n",
       "      <td>NaN</td>\n",
       "      <td>NaN</td>\n",
       "      <td>NaN</td>\n",
       "      <td>NaN</td>\n",
       "      <td>NaN</td>\n",
       "      <td>NaN</td>\n",
       "      <td>NaN</td>\n",
       "      <td>NaN</td>\n",
       "      <td>NaN</td>\n",
       "    </tr>\n",
       "    <tr>\n",
       "      <th>2</th>\n",
       "      <td>1077175</td>\n",
       "      <td>1313524</td>\n",
       "      <td>2400</td>\n",
       "      <td>2400</td>\n",
       "      <td>2400.0</td>\n",
       "      <td>36 months</td>\n",
       "      <td>15.96</td>\n",
       "      <td>84.33</td>\n",
       "      <td>C</td>\n",
       "      <td>C5</td>\n",
       "      <td>...</td>\n",
       "      <td>NaN</td>\n",
       "      <td>NaN</td>\n",
       "      <td>NaN</td>\n",
       "      <td>NaN</td>\n",
       "      <td>NaN</td>\n",
       "      <td>NaN</td>\n",
       "      <td>NaN</td>\n",
       "      <td>NaN</td>\n",
       "      <td>NaN</td>\n",
       "      <td>NaN</td>\n",
       "    </tr>\n",
       "    <tr>\n",
       "      <th>3</th>\n",
       "      <td>1076863</td>\n",
       "      <td>1277178</td>\n",
       "      <td>10000</td>\n",
       "      <td>10000</td>\n",
       "      <td>10000.0</td>\n",
       "      <td>36 months</td>\n",
       "      <td>13.49</td>\n",
       "      <td>339.31</td>\n",
       "      <td>C</td>\n",
       "      <td>C1</td>\n",
       "      <td>...</td>\n",
       "      <td>NaN</td>\n",
       "      <td>NaN</td>\n",
       "      <td>NaN</td>\n",
       "      <td>NaN</td>\n",
       "      <td>NaN</td>\n",
       "      <td>NaN</td>\n",
       "      <td>NaN</td>\n",
       "      <td>NaN</td>\n",
       "      <td>NaN</td>\n",
       "      <td>NaN</td>\n",
       "    </tr>\n",
       "    <tr>\n",
       "      <th>4</th>\n",
       "      <td>1075358</td>\n",
       "      <td>1311748</td>\n",
       "      <td>3000</td>\n",
       "      <td>3000</td>\n",
       "      <td>3000.0</td>\n",
       "      <td>60 months</td>\n",
       "      <td>12.69</td>\n",
       "      <td>67.79</td>\n",
       "      <td>B</td>\n",
       "      <td>B5</td>\n",
       "      <td>...</td>\n",
       "      <td>NaN</td>\n",
       "      <td>NaN</td>\n",
       "      <td>NaN</td>\n",
       "      <td>NaN</td>\n",
       "      <td>NaN</td>\n",
       "      <td>NaN</td>\n",
       "      <td>NaN</td>\n",
       "      <td>NaN</td>\n",
       "      <td>NaN</td>\n",
       "      <td>NaN</td>\n",
       "    </tr>\n",
       "  </tbody>\n",
       "</table>\n",
       "<p>5 rows × 74 columns</p>\n",
       "</div>"
      ],
      "text/plain": [
       "        id  member_id  loan_amnt  funded_amnt  funded_amnt_inv        term  \\\n",
       "0  1077501    1296599       5000         5000           4975.0   36 months   \n",
       "1  1077430    1314167       2500         2500           2500.0   60 months   \n",
       "2  1077175    1313524       2400         2400           2400.0   36 months   \n",
       "3  1076863    1277178      10000        10000          10000.0   36 months   \n",
       "4  1075358    1311748       3000         3000           3000.0   60 months   \n",
       "\n",
       "   int_rate  installment grade sub_grade  ... total_bal_il il_util  \\\n",
       "0     10.65       162.87     B        B2  ...          NaN     NaN   \n",
       "1     15.27        59.83     C        C4  ...          NaN     NaN   \n",
       "2     15.96        84.33     C        C5  ...          NaN     NaN   \n",
       "3     13.49       339.31     C        C1  ...          NaN     NaN   \n",
       "4     12.69        67.79     B        B5  ...          NaN     NaN   \n",
       "\n",
       "  open_rv_12m  open_rv_24m max_bal_bc all_util total_rev_hi_lim inq_fi  \\\n",
       "0         NaN          NaN        NaN      NaN              NaN    NaN   \n",
       "1         NaN          NaN        NaN      NaN              NaN    NaN   \n",
       "2         NaN          NaN        NaN      NaN              NaN    NaN   \n",
       "3         NaN          NaN        NaN      NaN              NaN    NaN   \n",
       "4         NaN          NaN        NaN      NaN              NaN    NaN   \n",
       "\n",
       "  total_cu_tl inq_last_12m  \n",
       "0         NaN          NaN  \n",
       "1         NaN          NaN  \n",
       "2         NaN          NaN  \n",
       "3         NaN          NaN  \n",
       "4         NaN          NaN  \n",
       "\n",
       "[5 rows x 74 columns]"
      ]
     },
     "execution_count": 2,
     "metadata": {},
     "output_type": "execute_result"
    }
   ],
   "source": [
    "# hello world\n",
    "data = pd.read_csv('../loan_data_2007_2014.csv', low_memory=False)\n",
    "data.head()"
   ]
  },
  {
   "cell_type": "code",
   "execution_count": 3,
   "id": "969c9105",
   "metadata": {},
   "outputs": [],
   "source": [
    "def calculate_woe(df, feature, y):\n",
    "    ''' calculates WoE and IV for each feature '''\n",
    "    df = pd.concat([df[feature], y], axis=1)\n",
    "    target = df.columns.values[1]\n",
    "    \n",
    "    # calculate number of occurences of the given bin (support)\n",
    "    support = df.groupby(feature, as_index=False)[target].count()\n",
    "    # calculate the proportion of positive occurences \n",
    "    n_pos = df.groupby(feature, as_index = False)[target].mean()\n",
    "    # get dataframe of (binned_feature, support, n_pos)\n",
    "    df = pd.concat([support, n_pos], axis=1).iloc[:, [0, 1, 3]]\n",
    "    df.columns = [feature, 'support', 'pos%']\n",
    "    df['pos%'] = df['pos%'].apply(lambda x: 1-x)\n",
    "    # count of positive/negative occurences\n",
    "    positive = df['pos%'] * df['support']\n",
    "    negative = (1 - df['pos%']) * df['support']\n",
    "    # calculate what percentage of total positives/negatives given feature bin has\n",
    "    pos = positive / positive.sum(); neg = negative / negative.sum()\n",
    "    # finally calculate WoE and sort dataframe by WoE for plotting\n",
    "    df['WoE'] = np.log(pos / neg)\n",
    "    df = df.sort_values([feature]).reset_index(drop=True)\n",
    "    # calculate IV using WoE\n",
    "    df['IV'] = abs(((pos - neg) * df['WoE']).sum())\n",
    "    return df\n",
    "\n",
    "def plot_woe(df):\n",
    "    ''' plots support, WoE and IV of each feature '''\n",
    "    plt.figure(figsize=(10, 5))\n",
    "    plt.plot(df.iloc[:, 0].astype(str), df['WoE'], marker = 'o', color='black')\n",
    "    plt.xlabel(df.columns[0])\n",
    "    plt.ylabel('WoE')"
   ]
  },
  {
   "cell_type": "code",
   "execution_count": 4,
   "id": "02d62c42",
   "metadata": {},
   "outputs": [],
   "source": [
    "# preprocess the target column\n",
    "''' \n",
    "Current                                                224226\n",
    "Fully Paid                                             184739\n",
    "Charged Off                                             42475\n",
    "Late (31-120 days)                                       6900\n",
    "In Grace Period                                          3146\n",
    "Does not meet the credit policy. Status:Fully Paid       1988\n",
    "Late (16-30 days)                                        1218\n",
    "Default                                                   832\n",
    "Does not meet the credit policy. Status:Charged Off       761\n",
    "'''\n",
    "\n",
    "# following features will be labeled `1` to indicate \"bad\" loans\n",
    "data['loan_status'] = data['loan_status'].replace(['Charged Off', 'Late (31-120 days)', 'Default',\n",
    "                                                  'Does not meet the credit policy. Status:Charged Off'], 1)\n",
    "# following features will be labeled `0` to indicate \"good\" loans\n",
    "data['loan_status'] = data['loan_status'].replace(['Current', 'Fully Paid', 'In Grace Period', 'Late (16-30 days)',\n",
    "                                                  'Does not meet the credit policy. Status:Fully Paid'], 0)\n"
   ]
  },
  {
   "cell_type": "markdown",
   "id": "9382c931",
   "metadata": {},
   "source": [
    "## Data Preprocessing"
   ]
  },
  {
   "cell_type": "code",
   "execution_count": 5,
   "id": "51bee37e",
   "metadata": {},
   "outputs": [],
   "source": [
    "X_woe = pd.DataFrame()"
   ]
  },
  {
   "cell_type": "markdown",
   "id": "b9002688",
   "metadata": {},
   "source": [
    "### loan_amnt"
   ]
  },
  {
   "cell_type": "code",
   "execution_count": 6,
   "id": "4e31f474",
   "metadata": {},
   "outputs": [
    {
     "data": {
      "text/html": [
       "<div>\n",
       "<style scoped>\n",
       "    .dataframe tbody tr th:only-of-type {\n",
       "        vertical-align: middle;\n",
       "    }\n",
       "\n",
       "    .dataframe tbody tr th {\n",
       "        vertical-align: top;\n",
       "    }\n",
       "\n",
       "    .dataframe thead th {\n",
       "        text-align: right;\n",
       "    }\n",
       "</style>\n",
       "<table border=\"1\" class=\"dataframe\">\n",
       "  <thead>\n",
       "    <tr style=\"text-align: right;\">\n",
       "      <th></th>\n",
       "      <th>loan_amnt</th>\n",
       "      <th>support</th>\n",
       "      <th>pos%</th>\n",
       "      <th>WoE</th>\n",
       "      <th>IV</th>\n",
       "    </tr>\n",
       "  </thead>\n",
       "  <tbody>\n",
       "    <tr>\n",
       "      <th>0</th>\n",
       "      <td>(499.999, 8000.0]</td>\n",
       "      <td>125326</td>\n",
       "      <td>0.896095</td>\n",
       "      <td>0.056725</td>\n",
       "      <td>0.001849</td>\n",
       "    </tr>\n",
       "    <tr>\n",
       "      <th>1</th>\n",
       "      <td>(8000.0, 12000.0]</td>\n",
       "      <td>108713</td>\n",
       "      <td>0.892166</td>\n",
       "      <td>0.015211</td>\n",
       "      <td>0.001849</td>\n",
       "    </tr>\n",
       "    <tr>\n",
       "      <th>2</th>\n",
       "      <td>(12000.0, 20000.0]</td>\n",
       "      <td>134488</td>\n",
       "      <td>0.889090</td>\n",
       "      <td>-0.016360</td>\n",
       "      <td>0.001849</td>\n",
       "    </tr>\n",
       "    <tr>\n",
       "      <th>3</th>\n",
       "      <td>(20000.0, 35000.0]</td>\n",
       "      <td>97758</td>\n",
       "      <td>0.884337</td>\n",
       "      <td>-0.063688</td>\n",
       "      <td>0.001849</td>\n",
       "    </tr>\n",
       "  </tbody>\n",
       "</table>\n",
       "</div>"
      ],
      "text/plain": [
       "            loan_amnt  support      pos%       WoE        IV\n",
       "0   (499.999, 8000.0]   125326  0.896095  0.056725  0.001849\n",
       "1   (8000.0, 12000.0]   108713  0.892166  0.015211  0.001849\n",
       "2  (12000.0, 20000.0]   134488  0.889090 -0.016360  0.001849\n",
       "3  (20000.0, 35000.0]    97758  0.884337 -0.063688  0.001849"
      ]
     },
     "execution_count": 6,
     "metadata": {},
     "output_type": "execute_result"
    },
    {
     "data": {
      "image/png": "[encoded data removed]",
      "text/plain": [
       "<Figure size 720x360 with 1 Axes>"
      ]
     },
     "metadata": {
      "needs_background": "light"
     },
     "output_type": "display_data"
    }
   ],
   "source": [
    "X_woe['loan_amnt'] = pd.qcut(data['loan_amnt'], 4)\n",
    "df_temp = calculate_woe(X_woe, 'loan_amnt', data['loan_status'])\n",
    "plot_woe(df_temp)\n",
    "df_temp"
   ]
  },
  {
   "cell_type": "markdown",
   "id": "90927bf8",
   "metadata": {},
   "source": [
    "### funded_amnt"
   ]
  },
  {
   "cell_type": "code",
   "execution_count": 7,
   "id": "d49bf4cd",
   "metadata": {},
   "outputs": [
    {
     "data": {
      "text/html": [
       "<div>\n",
       "<style scoped>\n",
       "    .dataframe tbody tr th:only-of-type {\n",
       "        vertical-align: middle;\n",
       "    }\n",
       "\n",
       "    .dataframe tbody tr th {\n",
       "        vertical-align: top;\n",
       "    }\n",
       "\n",
       "    .dataframe thead th {\n",
       "        text-align: right;\n",
       "    }\n",
       "</style>\n",
       "<table border=\"1\" class=\"dataframe\">\n",
       "  <thead>\n",
       "    <tr style=\"text-align: right;\">\n",
       "      <th></th>\n",
       "      <th>funded_amnt</th>\n",
       "      <th>support</th>\n",
       "      <th>pos%</th>\n",
       "      <th>WoE</th>\n",
       "      <th>IV</th>\n",
       "    </tr>\n",
       "  </thead>\n",
       "  <tbody>\n",
       "    <tr>\n",
       "      <th>0</th>\n",
       "      <td>(499.999, 8000.0]</td>\n",
       "      <td>125587</td>\n",
       "      <td>0.895984</td>\n",
       "      <td>0.055539</td>\n",
       "      <td>0.001668</td>\n",
       "    </tr>\n",
       "    <tr>\n",
       "      <th>1</th>\n",
       "      <td>(8000.0, 12000.0]</td>\n",
       "      <td>108880</td>\n",
       "      <td>0.891927</td>\n",
       "      <td>0.012732</td>\n",
       "      <td>0.001668</td>\n",
       "    </tr>\n",
       "    <tr>\n",
       "      <th>2</th>\n",
       "      <td>(12000.0, 20000.0]</td>\n",
       "      <td>134579</td>\n",
       "      <td>0.888957</td>\n",
       "      <td>-0.017709</td>\n",
       "      <td>0.001668</td>\n",
       "    </tr>\n",
       "    <tr>\n",
       "      <th>3</th>\n",
       "      <td>(20000.0, 35000.0]</td>\n",
       "      <td>97239</td>\n",
       "      <td>0.884882</td>\n",
       "      <td>-0.058352</td>\n",
       "      <td>0.001668</td>\n",
       "    </tr>\n",
       "  </tbody>\n",
       "</table>\n",
       "</div>"
      ],
      "text/plain": [
       "          funded_amnt  support      pos%       WoE        IV\n",
       "0   (499.999, 8000.0]   125587  0.895984  0.055539  0.001668\n",
       "1   (8000.0, 12000.0]   108880  0.891927  0.012732  0.001668\n",
       "2  (12000.0, 20000.0]   134579  0.888957 -0.017709  0.001668\n",
       "3  (20000.0, 35000.0]    97239  0.884882 -0.058352  0.001668"
      ]
     },
     "execution_count": 7,
     "metadata": {},
     "output_type": "execute_result"
    },
    {
     "data": {
      "image/png": "[encoded data removed]",
      "text/plain": [
       "<Figure size 720x360 with 1 Axes>"
      ]
     },
     "metadata": {
      "needs_background": "light"
     },
     "output_type": "display_data"
    }
   ],
   "source": [
    "X_woe['funded_amnt'] = pd.qcut(data['funded_amnt'], 4)\n",
    "df_temp = calculate_woe(X_woe, 'funded_amnt', data['loan_status'])\n",
    "plot_woe(df_temp)\n",
    "df_temp"
   ]
  },
  {
   "cell_type": "markdown",
   "id": "db0a9822",
   "metadata": {},
   "source": [
    "### funded_amnt_inv"
   ]
  },
  {
   "cell_type": "code",
   "execution_count": 8,
   "id": "907d38f5",
   "metadata": {
    "scrolled": true
   },
   "outputs": [
    {
     "data": {
      "text/html": [
       "<div>\n",
       "<style scoped>\n",
       "    .dataframe tbody tr th:only-of-type {\n",
       "        vertical-align: middle;\n",
       "    }\n",
       "\n",
       "    .dataframe tbody tr th {\n",
       "        vertical-align: top;\n",
       "    }\n",
       "\n",
       "    .dataframe thead th {\n",
       "        text-align: right;\n",
       "    }\n",
       "</style>\n",
       "<table border=\"1\" class=\"dataframe\">\n",
       "  <thead>\n",
       "    <tr style=\"text-align: right;\">\n",
       "      <th></th>\n",
       "      <th>funded_amnt_inv</th>\n",
       "      <th>support</th>\n",
       "      <th>pos%</th>\n",
       "      <th>WoE</th>\n",
       "      <th>IV</th>\n",
       "    </tr>\n",
       "  </thead>\n",
       "  <tbody>\n",
       "    <tr>\n",
       "      <th>0</th>\n",
       "      <td>(-35.0, 11666.667]</td>\n",
       "      <td>208389</td>\n",
       "      <td>0.891578</td>\n",
       "      <td>0.009115</td>\n",
       "      <td>0.00018</td>\n",
       "    </tr>\n",
       "    <tr>\n",
       "      <th>1</th>\n",
       "      <td>(11666.667, 23333.333]</td>\n",
       "      <td>183004</td>\n",
       "      <td>0.890877</td>\n",
       "      <td>0.001884</td>\n",
       "      <td>0.00018</td>\n",
       "    </tr>\n",
       "    <tr>\n",
       "      <th>2</th>\n",
       "      <td>(23333.333, 35000.0]</td>\n",
       "      <td>74892</td>\n",
       "      <td>0.887785</td>\n",
       "      <td>-0.029530</td>\n",
       "      <td>0.00018</td>\n",
       "    </tr>\n",
       "  </tbody>\n",
       "</table>\n",
       "</div>"
      ],
      "text/plain": [
       "          funded_amnt_inv  support      pos%       WoE       IV\n",
       "0      (-35.0, 11666.667]   208389  0.891578  0.009115  0.00018\n",
       "1  (11666.667, 23333.333]   183004  0.890877  0.001884  0.00018\n",
       "2    (23333.333, 35000.0]    74892  0.887785 -0.029530  0.00018"
      ]
     },
     "execution_count": 8,
     "metadata": {},
     "output_type": "execute_result"
    },
    {
     "data": {
      "image/png": "[encoded data removed]",
      "text/plain": [
       "<Figure size 720x360 with 1 Axes>"
      ]
     },
     "metadata": {
      "needs_background": "light"
     },
     "output_type": "display_data"
    }
   ],
   "source": [
    "X_woe['funded_amnt_inv'] = pd.cut(data['funded_amnt_inv'], 3)\n",
    "df_temp = calculate_woe(X_woe, 'funded_amnt_inv', data['loan_status'])\n",
    "plot_woe(df_temp)\n",
    "df_temp"
   ]
  },
  {
   "cell_type": "markdown",
   "id": "14f858e5",
   "metadata": {},
   "source": [
    "### term"
   ]
  },
  {
   "cell_type": "code",
   "execution_count": 9,
   "id": "415d662d",
   "metadata": {},
   "outputs": [
    {
     "data": {
      "text/plain": [
       " 36 months    337953\n",
       " 60 months    128332\n",
       "Name: term, dtype: int64"
      ]
     },
     "execution_count": 9,
     "metadata": {},
     "output_type": "execute_result"
    }
   ],
   "source": [
    "data['term'].value_counts()"
   ]
  },
  {
   "cell_type": "code",
   "execution_count": 10,
   "id": "d6fa3ebd",
   "metadata": {},
   "outputs": [
    {
     "data": {
      "text/html": [
       "<div>\n",
       "<style scoped>\n",
       "    .dataframe tbody tr th:only-of-type {\n",
       "        vertical-align: middle;\n",
       "    }\n",
       "\n",
       "    .dataframe tbody tr th {\n",
       "        vertical-align: top;\n",
       "    }\n",
       "\n",
       "    .dataframe thead th {\n",
       "        text-align: right;\n",
       "    }\n",
       "</style>\n",
       "<table border=\"1\" class=\"dataframe\">\n",
       "  <thead>\n",
       "    <tr style=\"text-align: right;\">\n",
       "      <th></th>\n",
       "      <th>term</th>\n",
       "      <th>support</th>\n",
       "      <th>pos%</th>\n",
       "      <th>WoE</th>\n",
       "      <th>IV</th>\n",
       "    </tr>\n",
       "  </thead>\n",
       "  <tbody>\n",
       "    <tr>\n",
       "      <th>0</th>\n",
       "      <td>36 months</td>\n",
       "      <td>337953</td>\n",
       "      <td>0.902915</td>\n",
       "      <td>0.132203</td>\n",
       "      <td>0.03886</td>\n",
       "    </tr>\n",
       "    <tr>\n",
       "      <th>1</th>\n",
       "      <td>60 months</td>\n",
       "      <td>128332</td>\n",
       "      <td>0.858508</td>\n",
       "      <td>-0.294894</td>\n",
       "      <td>0.03886</td>\n",
       "    </tr>\n",
       "  </tbody>\n",
       "</table>\n",
       "</div>"
      ],
      "text/plain": [
       "         term  support      pos%       WoE       IV\n",
       "0   36 months   337953  0.902915  0.132203  0.03886\n",
       "1   60 months   128332  0.858508 -0.294894  0.03886"
      ]
     },
     "execution_count": 10,
     "metadata": {},
     "output_type": "execute_result"
    },
    {
     "data": {
      "image/png": "[encoded data removed]",
      "text/plain": [
       "<Figure size 720x360 with 1 Axes>"
      ]
     },
     "metadata": {
      "needs_background": "light"
     },
     "output_type": "display_data"
    }
   ],
   "source": [
    "df_temp = calculate_woe(data, 'term', data['loan_status'])\n",
    "plot_woe(df_temp)\n",
    "df_temp"
   ]
  },
  {
   "cell_type": "markdown",
   "id": "414a5435",
   "metadata": {},
   "source": [
    "### int_rate"
   ]
  },
  {
   "cell_type": "code",
   "execution_count": 11,
   "id": "cc4e16d7",
   "metadata": {},
   "outputs": [
    {
     "data": {
      "text/html": [
       "<div>\n",
       "<style scoped>\n",
       "    .dataframe tbody tr th:only-of-type {\n",
       "        vertical-align: middle;\n",
       "    }\n",
       "\n",
       "    .dataframe tbody tr th {\n",
       "        vertical-align: top;\n",
       "    }\n",
       "\n",
       "    .dataframe thead th {\n",
       "        text-align: right;\n",
       "    }\n",
       "</style>\n",
       "<table border=\"1\" class=\"dataframe\">\n",
       "  <thead>\n",
       "    <tr style=\"text-align: right;\">\n",
       "      <th></th>\n",
       "      <th>int_rate</th>\n",
       "      <th>support</th>\n",
       "      <th>pos%</th>\n",
       "      <th>WoE</th>\n",
       "      <th>IV</th>\n",
       "    </tr>\n",
       "  </thead>\n",
       "  <tbody>\n",
       "    <tr>\n",
       "      <th>0</th>\n",
       "      <td>(5.399, 12.3]</td>\n",
       "      <td>172212</td>\n",
       "      <td>0.943012</td>\n",
       "      <td>0.708396</td>\n",
       "      <td>0.241821</td>\n",
       "    </tr>\n",
       "    <tr>\n",
       "      <th>1</th>\n",
       "      <td>(12.3, 19.18]</td>\n",
       "      <td>239482</td>\n",
       "      <td>0.875431</td>\n",
       "      <td>-0.147986</td>\n",
       "      <td>0.241821</td>\n",
       "    </tr>\n",
       "    <tr>\n",
       "      <th>2</th>\n",
       "      <td>(19.18, 26.06]</td>\n",
       "      <td>54591</td>\n",
       "      <td>0.792603</td>\n",
       "      <td>-0.757155</td>\n",
       "      <td>0.241821</td>\n",
       "    </tr>\n",
       "  </tbody>\n",
       "</table>\n",
       "</div>"
      ],
      "text/plain": [
       "         int_rate  support      pos%       WoE        IV\n",
       "0   (5.399, 12.3]   172212  0.943012  0.708396  0.241821\n",
       "1   (12.3, 19.18]   239482  0.875431 -0.147986  0.241821\n",
       "2  (19.18, 26.06]    54591  0.792603 -0.757155  0.241821"
      ]
     },
     "execution_count": 11,
     "metadata": {},
     "output_type": "execute_result"
    },
    {
     "data": {
      "image/png": "[encoded data removed]",
      "text/plain": [
       "<Figure size 720x360 with 1 Axes>"
      ]
     },
     "metadata": {
      "needs_background": "light"
     },
     "output_type": "display_data"
    }
   ],
   "source": [
    "X_woe['int_rate'] = pd.cut(data['int_rate'], 3)\n",
    "df_temp = calculate_woe(X_woe, 'int_rate', data['loan_status'])\n",
    "plot_woe(df_temp)\n",
    "df_temp"
   ]
  },
  {
   "cell_type": "markdown",
   "id": "f649e27d",
   "metadata": {},
   "source": [
    "### installment"
   ]
  },
  {
   "cell_type": "code",
   "execution_count": 12,
   "id": "77e6ad46",
   "metadata": {},
   "outputs": [
    {
     "data": {
      "text/html": [
       "<div>\n",
       "<style scoped>\n",
       "    .dataframe tbody tr th:only-of-type {\n",
       "        vertical-align: middle;\n",
       "    }\n",
       "\n",
       "    .dataframe tbody tr th {\n",
       "        vertical-align: top;\n",
       "    }\n",
       "\n",
       "    .dataframe thead th {\n",
       "        text-align: right;\n",
       "    }\n",
       "</style>\n",
       "<table border=\"1\" class=\"dataframe\">\n",
       "  <thead>\n",
       "    <tr style=\"text-align: right;\">\n",
       "      <th></th>\n",
       "      <th>installment</th>\n",
       "      <th>support</th>\n",
       "      <th>pos%</th>\n",
       "      <th>WoE</th>\n",
       "      <th>IV</th>\n",
       "    </tr>\n",
       "  </thead>\n",
       "  <tbody>\n",
       "    <tr>\n",
       "      <th>0</th>\n",
       "      <td>(15.669, 300.39]</td>\n",
       "      <td>155497</td>\n",
       "      <td>0.896557</td>\n",
       "      <td>0.061702</td>\n",
       "      <td>0.002334</td>\n",
       "    </tr>\n",
       "    <tr>\n",
       "      <th>1</th>\n",
       "      <td>(300.39, 495.35]</td>\n",
       "      <td>155363</td>\n",
       "      <td>0.890463</td>\n",
       "      <td>-0.002365</td>\n",
       "      <td>0.002334</td>\n",
       "    </tr>\n",
       "    <tr>\n",
       "      <th>2</th>\n",
       "      <td>(495.35, 1409.99]</td>\n",
       "      <td>155425</td>\n",
       "      <td>0.885057</td>\n",
       "      <td>-0.056627</td>\n",
       "      <td>0.002334</td>\n",
       "    </tr>\n",
       "  </tbody>\n",
       "</table>\n",
       "</div>"
      ],
      "text/plain": [
       "         installment  support      pos%       WoE        IV\n",
       "0   (15.669, 300.39]   155497  0.896557  0.061702  0.002334\n",
       "1   (300.39, 495.35]   155363  0.890463 -0.002365  0.002334\n",
       "2  (495.35, 1409.99]   155425  0.885057 -0.056627  0.002334"
      ]
     },
     "execution_count": 12,
     "metadata": {},
     "output_type": "execute_result"
    },
    {
     "data": {
      "image/png": "[encoded data removed]",
      "text/plain": [
       "<Figure size 720x360 with 1 Axes>"
      ]
     },
     "metadata": {
      "needs_background": "light"
     },
     "output_type": "display_data"
    }
   ],
   "source": [
    "X_woe['installment'] = pd.qcut(data['installment'], 3)\n",
    "df_temp = calculate_woe(X_woe, 'installment', data['loan_status'])\n",
    "plot_woe(df_temp)\n",
    "df_temp"
   ]
  },
  {
   "cell_type": "markdown",
   "id": "8df62132",
   "metadata": {},
   "source": [
    "### grade"
   ]
  },
  {
   "cell_type": "code",
   "execution_count": 13,
   "id": "012d97b0",
   "metadata": {},
   "outputs": [
    {
     "data": {
      "text/html": [
       "<div>\n",
       "<style scoped>\n",
       "    .dataframe tbody tr th:only-of-type {\n",
       "        vertical-align: middle;\n",
       "    }\n",
       "\n",
       "    .dataframe tbody tr th {\n",
       "        vertical-align: top;\n",
       "    }\n",
       "\n",
       "    .dataframe thead th {\n",
       "        text-align: right;\n",
       "    }\n",
       "</style>\n",
       "<table border=\"1\" class=\"dataframe\">\n",
       "  <thead>\n",
       "    <tr style=\"text-align: right;\">\n",
       "      <th></th>\n",
       "      <th>grade</th>\n",
       "      <th>support</th>\n",
       "      <th>pos%</th>\n",
       "      <th>WoE</th>\n",
       "      <th>IV</th>\n",
       "    </tr>\n",
       "  </thead>\n",
       "  <tbody>\n",
       "    <tr>\n",
       "      <th>0</th>\n",
       "      <td>A</td>\n",
       "      <td>74867</td>\n",
       "      <td>0.961305</td>\n",
       "      <td>1.114730</td>\n",
       "      <td>0.290782</td>\n",
       "    </tr>\n",
       "    <tr>\n",
       "      <th>1</th>\n",
       "      <td>B</td>\n",
       "      <td>136929</td>\n",
       "      <td>0.921426</td>\n",
       "      <td>0.364043</td>\n",
       "      <td>0.290782</td>\n",
       "    </tr>\n",
       "    <tr>\n",
       "      <th>2</th>\n",
       "      <td>C</td>\n",
       "      <td>125293</td>\n",
       "      <td>0.885197</td>\n",
       "      <td>-0.055251</td>\n",
       "      <td>0.290782</td>\n",
       "    </tr>\n",
       "    <tr>\n",
       "      <th>3</th>\n",
       "      <td>D</td>\n",
       "      <td>76888</td>\n",
       "      <td>0.845906</td>\n",
       "      <td>-0.395001</td>\n",
       "      <td>0.290782</td>\n",
       "    </tr>\n",
       "    <tr>\n",
       "      <th>4</th>\n",
       "      <td>E</td>\n",
       "      <td>35757</td>\n",
       "      <td>0.805241</td>\n",
       "      <td>-0.678466</td>\n",
       "      <td>0.290782</td>\n",
       "    </tr>\n",
       "    <tr>\n",
       "      <th>5</th>\n",
       "      <td>F</td>\n",
       "      <td>13229</td>\n",
       "      <td>0.758712</td>\n",
       "      <td>-0.952214</td>\n",
       "      <td>0.290782</td>\n",
       "    </tr>\n",
       "    <tr>\n",
       "      <th>6</th>\n",
       "      <td>G</td>\n",
       "      <td>3322</td>\n",
       "      <td>0.721854</td>\n",
       "      <td>-1.144166</td>\n",
       "      <td>0.290782</td>\n",
       "    </tr>\n",
       "  </tbody>\n",
       "</table>\n",
       "</div>"
      ],
      "text/plain": [
       "  grade  support      pos%       WoE        IV\n",
       "0     A    74867  0.961305  1.114730  0.290782\n",
       "1     B   136929  0.921426  0.364043  0.290782\n",
       "2     C   125293  0.885197 -0.055251  0.290782\n",
       "3     D    76888  0.845906 -0.395001  0.290782\n",
       "4     E    35757  0.805241 -0.678466  0.290782\n",
       "5     F    13229  0.758712 -0.952214  0.290782\n",
       "6     G     3322  0.721854 -1.144166  0.290782"
      ]
     },
     "execution_count": 13,
     "metadata": {},
     "output_type": "execute_result"
    },
    {
     "data": {
      "image/png": "[encoded data removed]",
      "text/plain": [
       "<Figure size 720x360 with 1 Axes>"
      ]
     },
     "metadata": {
      "needs_background": "light"
     },
     "output_type": "display_data"
    }
   ],
   "source": [
    "df_temp = calculate_woe(data, 'grade', data['loan_status'])\n",
    "plot_woe(df_temp)\n",
    "df_temp"
   ]
  },
  {
   "cell_type": "markdown",
   "id": "034e6757",
   "metadata": {},
   "source": [
    "### sub_grade"
   ]
  },
  {
   "cell_type": "code",
   "execution_count": 14,
   "id": "eec0093f",
   "metadata": {},
   "outputs": [
    {
     "data": {
      "text/html": [
       "<div>\n",
       "<style scoped>\n",
       "    .dataframe tbody tr th:only-of-type {\n",
       "        vertical-align: middle;\n",
       "    }\n",
       "\n",
       "    .dataframe tbody tr th {\n",
       "        vertical-align: top;\n",
       "    }\n",
       "\n",
       "    .dataframe thead th {\n",
       "        text-align: right;\n",
       "    }\n",
       "</style>\n",
       "<table border=\"1\" class=\"dataframe\">\n",
       "  <thead>\n",
       "    <tr style=\"text-align: right;\">\n",
       "      <th></th>\n",
       "      <th>sub_grade</th>\n",
       "      <th>support</th>\n",
       "      <th>pos%</th>\n",
       "      <th>WoE</th>\n",
       "      <th>IV</th>\n",
       "    </tr>\n",
       "  </thead>\n",
       "  <tbody>\n",
       "    <tr>\n",
       "      <th>0</th>\n",
       "      <td>A1</td>\n",
       "      <td>10541</td>\n",
       "      <td>0.980837</td>\n",
       "      <td>1.837567</td>\n",
       "      <td>0.31518</td>\n",
       "    </tr>\n",
       "    <tr>\n",
       "      <th>1</th>\n",
       "      <td>A2</td>\n",
       "      <td>10956</td>\n",
       "      <td>0.971431</td>\n",
       "      <td>1.428610</td>\n",
       "      <td>0.31518</td>\n",
       "    </tr>\n",
       "    <tr>\n",
       "      <th>2</th>\n",
       "      <td>A3</td>\n",
       "      <td>12568</td>\n",
       "      <td>0.964990</td>\n",
       "      <td>1.218653</td>\n",
       "      <td>0.31518</td>\n",
       "    </tr>\n",
       "    <tr>\n",
       "      <th>3</th>\n",
       "      <td>A4</td>\n",
       "      <td>19045</td>\n",
       "      <td>0.955684</td>\n",
       "      <td>0.973235</td>\n",
       "      <td>0.31518</td>\n",
       "    </tr>\n",
       "    <tr>\n",
       "      <th>4</th>\n",
       "      <td>A5</td>\n",
       "      <td>21757</td>\n",
       "      <td>0.949533</td>\n",
       "      <td>0.836817</td>\n",
       "      <td>0.31518</td>\n",
       "    </tr>\n",
       "    <tr>\n",
       "      <th>5</th>\n",
       "      <td>B1</td>\n",
       "      <td>22876</td>\n",
       "      <td>0.940287</td>\n",
       "      <td>0.658787</td>\n",
       "      <td>0.31518</td>\n",
       "    </tr>\n",
       "    <tr>\n",
       "      <th>6</th>\n",
       "      <td>B2</td>\n",
       "      <td>26610</td>\n",
       "      <td>0.931567</td>\n",
       "      <td>0.513170</td>\n",
       "      <td>0.31518</td>\n",
       "    </tr>\n",
       "    <tr>\n",
       "      <th>7</th>\n",
       "      <td>B3</td>\n",
       "      <td>31686</td>\n",
       "      <td>0.921038</td>\n",
       "      <td>0.358686</td>\n",
       "      <td>0.31518</td>\n",
       "    </tr>\n",
       "    <tr>\n",
       "      <th>8</th>\n",
       "      <td>B4</td>\n",
       "      <td>30505</td>\n",
       "      <td>0.912998</td>\n",
       "      <td>0.252957</td>\n",
       "      <td>0.31518</td>\n",
       "    </tr>\n",
       "    <tr>\n",
       "      <th>9</th>\n",
       "      <td>B5</td>\n",
       "      <td>25252</td>\n",
       "      <td>0.904324</td>\n",
       "      <td>0.148381</td>\n",
       "      <td>0.31518</td>\n",
       "    </tr>\n",
       "    <tr>\n",
       "      <th>10</th>\n",
       "      <td>C1</td>\n",
       "      <td>26953</td>\n",
       "      <td>0.896078</td>\n",
       "      <td>0.056547</td>\n",
       "      <td>0.31518</td>\n",
       "    </tr>\n",
       "    <tr>\n",
       "      <th>11</th>\n",
       "      <td>C2</td>\n",
       "      <td>26740</td>\n",
       "      <td>0.892932</td>\n",
       "      <td>0.023202</td>\n",
       "      <td>0.31518</td>\n",
       "    </tr>\n",
       "    <tr>\n",
       "      <th>12</th>\n",
       "      <td>C3</td>\n",
       "      <td>25317</td>\n",
       "      <td>0.884109</td>\n",
       "      <td>-0.065909</td>\n",
       "      <td>0.31518</td>\n",
       "    </tr>\n",
       "    <tr>\n",
       "      <th>13</th>\n",
       "      <td>C4</td>\n",
       "      <td>24105</td>\n",
       "      <td>0.878946</td>\n",
       "      <td>-0.115355</td>\n",
       "      <td>0.31518</td>\n",
       "    </tr>\n",
       "    <tr>\n",
       "      <th>14</th>\n",
       "      <td>C5</td>\n",
       "      <td>22178</td>\n",
       "      <td>0.870683</td>\n",
       "      <td>-0.190836</td>\n",
       "      <td>0.31518</td>\n",
       "    </tr>\n",
       "    <tr>\n",
       "      <th>15</th>\n",
       "      <td>D1</td>\n",
       "      <td>19261</td>\n",
       "      <td>0.858470</td>\n",
       "      <td>-0.295200</td>\n",
       "      <td>0.31518</td>\n",
       "    </tr>\n",
       "    <tr>\n",
       "      <th>16</th>\n",
       "      <td>D2</td>\n",
       "      <td>17046</td>\n",
       "      <td>0.849349</td>\n",
       "      <td>-0.368341</td>\n",
       "      <td>0.31518</td>\n",
       "    </tr>\n",
       "    <tr>\n",
       "      <th>17</th>\n",
       "      <td>D3</td>\n",
       "      <td>14916</td>\n",
       "      <td>0.847546</td>\n",
       "      <td>-0.382360</td>\n",
       "      <td>0.31518</td>\n",
       "    </tr>\n",
       "    <tr>\n",
       "      <th>18</th>\n",
       "      <td>D4</td>\n",
       "      <td>14099</td>\n",
       "      <td>0.835520</td>\n",
       "      <td>-0.472577</td>\n",
       "      <td>0.31518</td>\n",
       "    </tr>\n",
       "    <tr>\n",
       "      <th>19</th>\n",
       "      <td>D5</td>\n",
       "      <td>11566</td>\n",
       "      <td>0.830451</td>\n",
       "      <td>-0.509015</td>\n",
       "      <td>0.31518</td>\n",
       "    </tr>\n",
       "    <tr>\n",
       "      <th>20</th>\n",
       "      <td>E1</td>\n",
       "      <td>9033</td>\n",
       "      <td>0.826968</td>\n",
       "      <td>-0.533556</td>\n",
       "      <td>0.31518</td>\n",
       "    </tr>\n",
       "    <tr>\n",
       "      <th>21</th>\n",
       "      <td>E2</td>\n",
       "      <td>8669</td>\n",
       "      <td>0.805745</td>\n",
       "      <td>-0.675251</td>\n",
       "      <td>0.31518</td>\n",
       "    </tr>\n",
       "    <tr>\n",
       "      <th>22</th>\n",
       "      <td>E3</td>\n",
       "      <td>6976</td>\n",
       "      <td>0.809920</td>\n",
       "      <td>-0.648355</td>\n",
       "      <td>0.31518</td>\n",
       "    </tr>\n",
       "    <tr>\n",
       "      <th>23</th>\n",
       "      <td>E4</td>\n",
       "      <td>5992</td>\n",
       "      <td>0.787550</td>\n",
       "      <td>-0.787624</td>\n",
       "      <td>0.31518</td>\n",
       "    </tr>\n",
       "    <tr>\n",
       "      <th>24</th>\n",
       "      <td>E5</td>\n",
       "      <td>5087</td>\n",
       "      <td>0.780224</td>\n",
       "      <td>-0.830871</td>\n",
       "      <td>0.31518</td>\n",
       "    </tr>\n",
       "    <tr>\n",
       "      <th>25</th>\n",
       "      <td>F1</td>\n",
       "      <td>3940</td>\n",
       "      <td>0.783249</td>\n",
       "      <td>-0.813144</td>\n",
       "      <td>0.31518</td>\n",
       "    </tr>\n",
       "    <tr>\n",
       "      <th>26</th>\n",
       "      <td>F2</td>\n",
       "      <td>3001</td>\n",
       "      <td>0.768411</td>\n",
       "      <td>-0.898486</td>\n",
       "      <td>0.31518</td>\n",
       "    </tr>\n",
       "    <tr>\n",
       "      <th>27</th>\n",
       "      <td>F3</td>\n",
       "      <td>2708</td>\n",
       "      <td>0.750739</td>\n",
       "      <td>-0.995289</td>\n",
       "      <td>0.31518</td>\n",
       "    </tr>\n",
       "    <tr>\n",
       "      <th>28</th>\n",
       "      <td>F4</td>\n",
       "      <td>2067</td>\n",
       "      <td>0.745041</td>\n",
       "      <td>-1.025507</td>\n",
       "      <td>0.31518</td>\n",
       "    </tr>\n",
       "    <tr>\n",
       "      <th>29</th>\n",
       "      <td>F5</td>\n",
       "      <td>1513</td>\n",
       "      <td>0.708526</td>\n",
       "      <td>-1.209608</td>\n",
       "      <td>0.31518</td>\n",
       "    </tr>\n",
       "    <tr>\n",
       "      <th>30</th>\n",
       "      <td>G1</td>\n",
       "      <td>1109</td>\n",
       "      <td>0.706943</td>\n",
       "      <td>-1.217260</td>\n",
       "      <td>0.31518</td>\n",
       "    </tr>\n",
       "    <tr>\n",
       "      <th>31</th>\n",
       "      <td>G2</td>\n",
       "      <td>823</td>\n",
       "      <td>0.736330</td>\n",
       "      <td>-1.070861</td>\n",
       "      <td>0.31518</td>\n",
       "    </tr>\n",
       "    <tr>\n",
       "      <th>32</th>\n",
       "      <td>G3</td>\n",
       "      <td>583</td>\n",
       "      <td>0.715266</td>\n",
       "      <td>-1.176746</td>\n",
       "      <td>0.31518</td>\n",
       "    </tr>\n",
       "    <tr>\n",
       "      <th>33</th>\n",
       "      <td>G4</td>\n",
       "      <td>422</td>\n",
       "      <td>0.751185</td>\n",
       "      <td>-0.992903</td>\n",
       "      <td>0.31518</td>\n",
       "    </tr>\n",
       "    <tr>\n",
       "      <th>34</th>\n",
       "      <td>G5</td>\n",
       "      <td>385</td>\n",
       "      <td>0.711688</td>\n",
       "      <td>-1.194246</td>\n",
       "      <td>0.31518</td>\n",
       "    </tr>\n",
       "  </tbody>\n",
       "</table>\n",
       "</div>"
      ],
      "text/plain": [
       "   sub_grade  support      pos%       WoE       IV\n",
       "0         A1    10541  0.980837  1.837567  0.31518\n",
       "1         A2    10956  0.971431  1.428610  0.31518\n",
       "2         A3    12568  0.964990  1.218653  0.31518\n",
       "3         A4    19045  0.955684  0.973235  0.31518\n",
       "4         A5    21757  0.949533  0.836817  0.31518\n",
       "5         B1    22876  0.940287  0.658787  0.31518\n",
       "6         B2    26610  0.931567  0.513170  0.31518\n",
       "7         B3    31686  0.921038  0.358686  0.31518\n",
       "8         B4    30505  0.912998  0.252957  0.31518\n",
       "9         B5    25252  0.904324  0.148381  0.31518\n",
       "10        C1    26953  0.896078  0.056547  0.31518\n",
       "11        C2    26740  0.892932  0.023202  0.31518\n",
       "12        C3    25317  0.884109 -0.065909  0.31518\n",
       "13        C4    24105  0.878946 -0.115355  0.31518\n",
       "14        C5    22178  0.870683 -0.190836  0.31518\n",
       "15        D1    19261  0.858470 -0.295200  0.31518\n",
       "16        D2    17046  0.849349 -0.368341  0.31518\n",
       "17        D3    14916  0.847546 -0.382360  0.31518\n",
       "18        D4    14099  0.835520 -0.472577  0.31518\n",
       "19        D5    11566  0.830451 -0.509015  0.31518\n",
       "20        E1     9033  0.826968 -0.533556  0.31518\n",
       "21        E2     8669  0.805745 -0.675251  0.31518\n",
       "22        E3     6976  0.809920 -0.648355  0.31518\n",
       "23        E4     5992  0.787550 -0.787624  0.31518\n",
       "24        E5     5087  0.780224 -0.830871  0.31518\n",
       "25        F1     3940  0.783249 -0.813144  0.31518\n",
       "26        F2     3001  0.768411 -0.898486  0.31518\n",
       "27        F3     2708  0.750739 -0.995289  0.31518\n",
       "28        F4     2067  0.745041 -1.025507  0.31518\n",
       "29        F5     1513  0.708526 -1.209608  0.31518\n",
       "30        G1     1109  0.706943 -1.217260  0.31518\n",
       "31        G2      823  0.736330 -1.070861  0.31518\n",
       "32        G3      583  0.715266 -1.176746  0.31518\n",
       "33        G4      422  0.751185 -0.992903  0.31518\n",
       "34        G5      385  0.711688 -1.194246  0.31518"
      ]
     },
     "execution_count": 14,
     "metadata": {},
     "output_type": "execute_result"
    },
    {
     "data": {
      "image/png": "[encoded data removed]",
      "text/plain": [
       "<Figure size 720x360 with 1 Axes>"
      ]
     },
     "metadata": {
      "needs_background": "light"
     },
     "output_type": "display_data"
    }
   ],
   "source": [
    "df_temp = calculate_woe(data, 'sub_grade', data['loan_status'])\n",
    "plot_woe(df_temp)\n",
    "df_temp"
   ]
  },
  {
   "cell_type": "code",
   "execution_count": 15,
   "id": "489649b5",
   "metadata": {},
   "outputs": [
    {
     "data": {
      "text/html": [
       "<div>\n",
       "<style scoped>\n",
       "    .dataframe tbody tr th:only-of-type {\n",
       "        vertical-align: middle;\n",
       "    }\n",
       "\n",
       "    .dataframe tbody tr th {\n",
       "        vertical-align: top;\n",
       "    }\n",
       "\n",
       "    .dataframe thead th {\n",
       "        text-align: right;\n",
       "    }\n",
       "</style>\n",
       "<table border=\"1\" class=\"dataframe\">\n",
       "  <thead>\n",
       "    <tr style=\"text-align: right;\">\n",
       "      <th></th>\n",
       "      <th>sub_grade</th>\n",
       "      <th>support</th>\n",
       "      <th>pos%</th>\n",
       "      <th>WoE</th>\n",
       "      <th>IV</th>\n",
       "    </tr>\n",
       "  </thead>\n",
       "  <tbody>\n",
       "    <tr>\n",
       "      <th>0</th>\n",
       "      <td>(-0.001, 18.0]</td>\n",
       "      <td>109935</td>\n",
       "      <td>0.816237</td>\n",
       "      <td>-0.606787</td>\n",
       "      <td>0.282049</td>\n",
       "    </tr>\n",
       "    <tr>\n",
       "      <th>1</th>\n",
       "      <td>(18.0, 22.0]</td>\n",
       "      <td>90861</td>\n",
       "      <td>0.874027</td>\n",
       "      <td>-0.160797</td>\n",
       "      <td>0.282049</td>\n",
       "    </tr>\n",
       "    <tr>\n",
       "      <th>2</th>\n",
       "      <td>(22.0, 26.0]</td>\n",
       "      <td>109450</td>\n",
       "      <td>0.901928</td>\n",
       "      <td>0.120987</td>\n",
       "      <td>0.282049</td>\n",
       "    </tr>\n",
       "    <tr>\n",
       "      <th>3</th>\n",
       "      <td>(26.0, 29.0]</td>\n",
       "      <td>81172</td>\n",
       "      <td>0.929914</td>\n",
       "      <td>0.487529</td>\n",
       "      <td>0.282049</td>\n",
       "    </tr>\n",
       "    <tr>\n",
       "      <th>4</th>\n",
       "      <td>(29.0, 34.0]</td>\n",
       "      <td>74867</td>\n",
       "      <td>0.961305</td>\n",
       "      <td>1.114730</td>\n",
       "      <td>0.282049</td>\n",
       "    </tr>\n",
       "  </tbody>\n",
       "</table>\n",
       "</div>"
      ],
      "text/plain": [
       "        sub_grade  support      pos%       WoE        IV\n",
       "0  (-0.001, 18.0]   109935  0.816237 -0.606787  0.282049\n",
       "1    (18.0, 22.0]    90861  0.874027 -0.160797  0.282049\n",
       "2    (22.0, 26.0]   109450  0.901928  0.120987  0.282049\n",
       "3    (26.0, 29.0]    81172  0.929914  0.487529  0.282049\n",
       "4    (29.0, 34.0]    74867  0.961305  1.114730  0.282049"
      ]
     },
     "execution_count": 15,
     "metadata": {},
     "output_type": "execute_result"
    },
    {
     "data": {
      "image/png": "[encoded data removed]",
      "text/plain": [
       "<Figure size 720x360 with 1 Axes>"
      ]
     },
     "metadata": {
      "needs_background": "light"
     },
     "output_type": "display_data"
    }
   ],
   "source": [
    "# since grades are ordinal data (we can compare them), its best to use a label encoder here. Otherwise we have too many features\n",
    "grades = list(data['sub_grade'].unique())\n",
    "grades.sort(reverse=True) # sorts grades as [G5, G4, ... A2, A1]\n",
    "grades_map = dict(zip(grades, list(range(len(grades))))) # get dict of corresponding indices\n",
    "data['sub_grade'] = data['sub_grade'].apply(lambda x: grades_map[x])\n",
    "# plot the results\n",
    "X_woe['sub_grade'] = pd.qcut(data['sub_grade'], 5)\n",
    "df_temp = calculate_woe(X_woe, 'sub_grade', data['loan_status'])\n",
    "plot_woe(df_temp)\n",
    "df_temp"
   ]
  },
  {
   "cell_type": "markdown",
   "id": "2c3e2ea9",
   "metadata": {},
   "source": [
    "We have effectively reduced number of features from 35 to 10 while also increasing the IV"
   ]
  },
  {
   "cell_type": "markdown",
   "id": "d91fb342",
   "metadata": {},
   "source": [
    "### emp_length"
   ]
  },
  {
   "cell_type": "code",
   "execution_count": 16,
   "id": "c79d1081",
   "metadata": {},
   "outputs": [],
   "source": [
    "# lots of nan, best strategy would be to make it a separate category\n",
    "data['emp_length'] = data['emp_length'].fillna('NaN')"
   ]
  },
  {
   "cell_type": "code",
   "execution_count": 17,
   "id": "ecc1ba73",
   "metadata": {},
   "outputs": [
    {
     "data": {
      "text/html": [
       "<div>\n",
       "<style scoped>\n",
       "    .dataframe tbody tr th:only-of-type {\n",
       "        vertical-align: middle;\n",
       "    }\n",
       "\n",
       "    .dataframe tbody tr th {\n",
       "        vertical-align: top;\n",
       "    }\n",
       "\n",
       "    .dataframe thead th {\n",
       "        text-align: right;\n",
       "    }\n",
       "</style>\n",
       "<table border=\"1\" class=\"dataframe\">\n",
       "  <thead>\n",
       "    <tr style=\"text-align: right;\">\n",
       "      <th></th>\n",
       "      <th>emp_length</th>\n",
       "      <th>support</th>\n",
       "      <th>pos%</th>\n",
       "      <th>WoE</th>\n",
       "      <th>IV</th>\n",
       "    </tr>\n",
       "  </thead>\n",
       "  <tbody>\n",
       "    <tr>\n",
       "      <th>0</th>\n",
       "      <td>1 year</td>\n",
       "      <td>29622</td>\n",
       "      <td>0.888124</td>\n",
       "      <td>-0.026127</td>\n",
       "      <td>0.007082</td>\n",
       "    </tr>\n",
       "    <tr>\n",
       "      <th>1</th>\n",
       "      <td>10+ years</td>\n",
       "      <td>150049</td>\n",
       "      <td>0.900353</td>\n",
       "      <td>0.103304</td>\n",
       "      <td>0.007082</td>\n",
       "    </tr>\n",
       "    <tr>\n",
       "      <th>2</th>\n",
       "      <td>2 years</td>\n",
       "      <td>41373</td>\n",
       "      <td>0.890242</td>\n",
       "      <td>-0.004624</td>\n",
       "      <td>0.007082</td>\n",
       "    </tr>\n",
       "    <tr>\n",
       "      <th>3</th>\n",
       "      <td>3 years</td>\n",
       "      <td>36596</td>\n",
       "      <td>0.890480</td>\n",
       "      <td>-0.002192</td>\n",
       "      <td>0.007082</td>\n",
       "    </tr>\n",
       "    <tr>\n",
       "      <th>4</th>\n",
       "      <td>4 years</td>\n",
       "      <td>28023</td>\n",
       "      <td>0.890411</td>\n",
       "      <td>-0.002893</td>\n",
       "      <td>0.007082</td>\n",
       "    </tr>\n",
       "    <tr>\n",
       "      <th>5</th>\n",
       "      <td>5 years</td>\n",
       "      <td>30774</td>\n",
       "      <td>0.885033</td>\n",
       "      <td>-0.056866</td>\n",
       "      <td>0.007082</td>\n",
       "    </tr>\n",
       "    <tr>\n",
       "      <th>6</th>\n",
       "      <td>6 years</td>\n",
       "      <td>26112</td>\n",
       "      <td>0.882889</td>\n",
       "      <td>-0.077766</td>\n",
       "      <td>0.007082</td>\n",
       "    </tr>\n",
       "    <tr>\n",
       "      <th>7</th>\n",
       "      <td>7 years</td>\n",
       "      <td>26180</td>\n",
       "      <td>0.888655</td>\n",
       "      <td>-0.020764</td>\n",
       "      <td>0.007082</td>\n",
       "    </tr>\n",
       "    <tr>\n",
       "      <th>8</th>\n",
       "      <td>8 years</td>\n",
       "      <td>22395</td>\n",
       "      <td>0.889931</td>\n",
       "      <td>-0.007810</td>\n",
       "      <td>0.007082</td>\n",
       "    </tr>\n",
       "    <tr>\n",
       "      <th>9</th>\n",
       "      <td>9 years</td>\n",
       "      <td>17888</td>\n",
       "      <td>0.887914</td>\n",
       "      <td>-0.028239</td>\n",
       "      <td>0.007082</td>\n",
       "    </tr>\n",
       "    <tr>\n",
       "      <th>10</th>\n",
       "      <td>&lt; 1 year</td>\n",
       "      <td>36265</td>\n",
       "      <td>0.881015</td>\n",
       "      <td>-0.095769</td>\n",
       "      <td>0.007082</td>\n",
       "    </tr>\n",
       "    <tr>\n",
       "      <th>11</th>\n",
       "      <td>NaN</td>\n",
       "      <td>21008</td>\n",
       "      <td>0.867384</td>\n",
       "      <td>-0.219821</td>\n",
       "      <td>0.007082</td>\n",
       "    </tr>\n",
       "  </tbody>\n",
       "</table>\n",
       "</div>"
      ],
      "text/plain": [
       "   emp_length  support      pos%       WoE        IV\n",
       "0      1 year    29622  0.888124 -0.026127  0.007082\n",
       "1   10+ years   150049  0.900353  0.103304  0.007082\n",
       "2     2 years    41373  0.890242 -0.004624  0.007082\n",
       "3     3 years    36596  0.890480 -0.002192  0.007082\n",
       "4     4 years    28023  0.890411 -0.002893  0.007082\n",
       "5     5 years    30774  0.885033 -0.056866  0.007082\n",
       "6     6 years    26112  0.882889 -0.077766  0.007082\n",
       "7     7 years    26180  0.888655 -0.020764  0.007082\n",
       "8     8 years    22395  0.889931 -0.007810  0.007082\n",
       "9     9 years    17888  0.887914 -0.028239  0.007082\n",
       "10   < 1 year    36265  0.881015 -0.095769  0.007082\n",
       "11        NaN    21008  0.867384 -0.219821  0.007082"
      ]
     },
     "execution_count": 17,
     "metadata": {},
     "output_type": "execute_result"
    },
    {
     "data": {
      "image/png": "[encoded data removed]",
      "text/plain": [
       "<Figure size 720x360 with 1 Axes>"
      ]
     },
     "metadata": {
      "needs_background": "light"
     },
     "output_type": "display_data"
    }
   ],
   "source": [
    "df_temp = calculate_woe(data, 'emp_length', data['loan_status'])\n",
    "plot_woe(df_temp)\n",
    "df_temp"
   ]
  },
  {
   "cell_type": "code",
   "execution_count": 18,
   "id": "f73d4003",
   "metadata": {},
   "outputs": [],
   "source": [
    "# again, we have an ordinal feature, best to label encode it\n",
    "emp_len = ['NaN', '< 1 year', '1 year', '2 years', '3 years', '4 years', '5 years', \n",
    "           '6 years', '7 years', '8 years', '9 years', '10+ years']\n",
    "emp_len_map = dict(zip(emp_len, range(len(emp_len))))\n",
    "data['emp_length'] = data['emp_length'].apply(lambda x: emp_len_map[x])"
   ]
  },
  {
   "cell_type": "code",
   "execution_count": 19,
   "id": "a21816a9",
   "metadata": {},
   "outputs": [
    {
     "data": {
      "text/html": [
       "<div>\n",
       "<style scoped>\n",
       "    .dataframe tbody tr th:only-of-type {\n",
       "        vertical-align: middle;\n",
       "    }\n",
       "\n",
       "    .dataframe tbody tr th {\n",
       "        vertical-align: top;\n",
       "    }\n",
       "\n",
       "    .dataframe thead th {\n",
       "        text-align: right;\n",
       "    }\n",
       "</style>\n",
       "<table border=\"1\" class=\"dataframe\">\n",
       "  <thead>\n",
       "    <tr style=\"text-align: right;\">\n",
       "      <th></th>\n",
       "      <th>emp_length</th>\n",
       "      <th>support</th>\n",
       "      <th>pos%</th>\n",
       "      <th>WoE</th>\n",
       "      <th>IV</th>\n",
       "    </tr>\n",
       "  </thead>\n",
       "  <tbody>\n",
       "    <tr>\n",
       "      <th>0</th>\n",
       "      <td>(-0.011, 2.75]</td>\n",
       "      <td>86895</td>\n",
       "      <td>0.880143</td>\n",
       "      <td>-0.104062</td>\n",
       "      <td>0.004942</td>\n",
       "    </tr>\n",
       "    <tr>\n",
       "      <th>1</th>\n",
       "      <td>(2.75, 5.5]</td>\n",
       "      <td>105992</td>\n",
       "      <td>0.890369</td>\n",
       "      <td>-0.003327</td>\n",
       "      <td>0.004942</td>\n",
       "    </tr>\n",
       "    <tr>\n",
       "      <th>2</th>\n",
       "      <td>(5.5, 8.25]</td>\n",
       "      <td>83066</td>\n",
       "      <td>0.885501</td>\n",
       "      <td>-0.052260</td>\n",
       "      <td>0.004942</td>\n",
       "    </tr>\n",
       "    <tr>\n",
       "      <th>3</th>\n",
       "      <td>(8.25, 11.0]</td>\n",
       "      <td>190332</td>\n",
       "      <td>0.897957</td>\n",
       "      <td>0.076887</td>\n",
       "      <td>0.004942</td>\n",
       "    </tr>\n",
       "  </tbody>\n",
       "</table>\n",
       "</div>"
      ],
      "text/plain": [
       "       emp_length  support      pos%       WoE        IV\n",
       "0  (-0.011, 2.75]    86895  0.880143 -0.104062  0.004942\n",
       "1     (2.75, 5.5]   105992  0.890369 -0.003327  0.004942\n",
       "2     (5.5, 8.25]    83066  0.885501 -0.052260  0.004942\n",
       "3    (8.25, 11.0]   190332  0.897957  0.076887  0.004942"
      ]
     },
     "execution_count": 19,
     "metadata": {},
     "output_type": "execute_result"
    },
    {
     "data": {
      "image/png": "[encoded data removed]",
      "text/plain": [
       "<Figure size 720x360 with 1 Axes>"
      ]
     },
     "metadata": {
      "needs_background": "light"
     },
     "output_type": "display_data"
    }
   ],
   "source": [
    "# plot the results\n",
    "X_woe['emp_length'] = pd.cut(data['emp_length'], 4)\n",
    "df_temp = calculate_woe(X_woe, 'emp_length', data['loan_status'])\n",
    "plot_woe(df_temp)\n",
    "df_temp"
   ]
  },
  {
   "cell_type": "markdown",
   "id": "ef44e620",
   "metadata": {},
   "source": [
    "### home_ownership"
   ]
  },
  {
   "cell_type": "code",
   "execution_count": 20,
   "id": "8180cec6",
   "metadata": {},
   "outputs": [
    {
     "data": {
      "text/html": [
       "<div>\n",
       "<style scoped>\n",
       "    .dataframe tbody tr th:only-of-type {\n",
       "        vertical-align: middle;\n",
       "    }\n",
       "\n",
       "    .dataframe tbody tr th {\n",
       "        vertical-align: top;\n",
       "    }\n",
       "\n",
       "    .dataframe thead th {\n",
       "        text-align: right;\n",
       "    }\n",
       "</style>\n",
       "<table border=\"1\" class=\"dataframe\">\n",
       "  <thead>\n",
       "    <tr style=\"text-align: right;\">\n",
       "      <th></th>\n",
       "      <th>home_ownership</th>\n",
       "      <th>support</th>\n",
       "      <th>pos%</th>\n",
       "      <th>WoE</th>\n",
       "      <th>IV</th>\n",
       "    </tr>\n",
       "  </thead>\n",
       "  <tbody>\n",
       "    <tr>\n",
       "      <th>0</th>\n",
       "      <td>MORTGAGE</td>\n",
       "      <td>236108</td>\n",
       "      <td>0.903917</td>\n",
       "      <td>0.143679</td>\n",
       "      <td>0.021187</td>\n",
       "    </tr>\n",
       "    <tr>\n",
       "      <th>1</th>\n",
       "      <td>OWN</td>\n",
       "      <td>41704</td>\n",
       "      <td>0.891737</td>\n",
       "      <td>0.010764</td>\n",
       "      <td>0.021187</td>\n",
       "    </tr>\n",
       "    <tr>\n",
       "      <th>2</th>\n",
       "      <td>RENT</td>\n",
       "      <td>188473</td>\n",
       "      <td>0.873897</td>\n",
       "      <td>-0.161980</td>\n",
       "      <td>0.021187</td>\n",
       "    </tr>\n",
       "  </tbody>\n",
       "</table>\n",
       "</div>"
      ],
      "text/plain": [
       "  home_ownership  support      pos%       WoE        IV\n",
       "0       MORTGAGE   236108  0.903917  0.143679  0.021187\n",
       "1            OWN    41704  0.891737  0.010764  0.021187\n",
       "2           RENT   188473  0.873897 -0.161980  0.021187"
      ]
     },
     "execution_count": 20,
     "metadata": {},
     "output_type": "execute_result"
    },
    {
     "data": {
      "image/png": "[encoded data removed]",
      "text/plain": [
       "<Figure size 720x360 with 1 Axes>"
      ]
     },
     "metadata": {
      "needs_background": "light"
     },
     "output_type": "display_data"
    }
   ],
   "source": [
    "# features ANY/NONE/OTHER contain too few samples, therefore we aggregate them with mode - MORTGAGE\n",
    "data['home_ownership'] = data['home_ownership'].replace(['ANY', 'NONE', 'OTHER'], 'MORTGAGE')\n",
    "df_temp = calculate_woe(data, 'home_ownership', data['loan_status'])\n",
    "plot_woe(df_temp)\n",
    "df_temp"
   ]
  },
  {
   "cell_type": "markdown",
   "id": "b0da6dfb",
   "metadata": {},
   "source": [
    "### annual_inc"
   ]
  },
  {
   "cell_type": "code",
   "execution_count": 21,
   "id": "9c8c9fdf",
   "metadata": {},
   "outputs": [],
   "source": [
    "data['annual_inc'] = data['annual_inc'].fillna(data['annual_inc'].median())"
   ]
  },
  {
   "cell_type": "code",
   "execution_count": 22,
   "id": "80324a29",
   "metadata": {},
   "outputs": [
    {
     "data": {
      "text/html": [
       "<div>\n",
       "<style scoped>\n",
       "    .dataframe tbody tr th:only-of-type {\n",
       "        vertical-align: middle;\n",
       "    }\n",
       "\n",
       "    .dataframe tbody tr th {\n",
       "        vertical-align: top;\n",
       "    }\n",
       "\n",
       "    .dataframe thead th {\n",
       "        text-align: right;\n",
       "    }\n",
       "</style>\n",
       "<table border=\"1\" class=\"dataframe\">\n",
       "  <thead>\n",
       "    <tr style=\"text-align: right;\">\n",
       "      <th></th>\n",
       "      <th>annual_inc</th>\n",
       "      <th>support</th>\n",
       "      <th>pos%</th>\n",
       "      <th>WoE</th>\n",
       "      <th>IV</th>\n",
       "    </tr>\n",
       "  </thead>\n",
       "  <tbody>\n",
       "    <tr>\n",
       "      <th>0</th>\n",
       "      <td>(1895.999, 50000.0]</td>\n",
       "      <td>157715</td>\n",
       "      <td>0.865390</td>\n",
       "      <td>-0.237045</td>\n",
       "      <td>0.047585</td>\n",
       "    </tr>\n",
       "    <tr>\n",
       "      <th>1</th>\n",
       "      <td>(50000.0, 78000.0]</td>\n",
       "      <td>153613</td>\n",
       "      <td>0.890406</td>\n",
       "      <td>-0.002945</td>\n",
       "      <td>0.047585</td>\n",
       "    </tr>\n",
       "    <tr>\n",
       "      <th>2</th>\n",
       "      <td>(78000.0, 7500000.0]</td>\n",
       "      <td>154957</td>\n",
       "      <td>0.916732</td>\n",
       "      <td>0.300903</td>\n",
       "      <td>0.047585</td>\n",
       "    </tr>\n",
       "  </tbody>\n",
       "</table>\n",
       "</div>"
      ],
      "text/plain": [
       "             annual_inc  support      pos%       WoE        IV\n",
       "0   (1895.999, 50000.0]   157715  0.865390 -0.237045  0.047585\n",
       "1    (50000.0, 78000.0]   153613  0.890406 -0.002945  0.047585\n",
       "2  (78000.0, 7500000.0]   154957  0.916732  0.300903  0.047585"
      ]
     },
     "execution_count": 22,
     "metadata": {},
     "output_type": "execute_result"
    },
    {
     "data": {
      "image/png": "[encoded data removed]",
      "text/plain": [
       "<Figure size 720x360 with 1 Axes>"
      ]
     },
     "metadata": {
      "needs_background": "light"
     },
     "output_type": "display_data"
    }
   ],
   "source": [
    "X_woe['annual_inc'] = pd.qcut(data['annual_inc'], 3)\n",
    "df_temp = calculate_woe(X_woe, 'annual_inc', data['loan_status'])\n",
    "plot_woe(df_temp)\n",
    "df_temp"
   ]
  },
  {
   "cell_type": "markdown",
   "id": "d745c32f",
   "metadata": {},
   "source": [
    "### verification_status"
   ]
  },
  {
   "cell_type": "code",
   "execution_count": 23,
   "id": "eb15cfea",
   "metadata": {},
   "outputs": [
    {
     "data": {
      "text/html": [
       "<div>\n",
       "<style scoped>\n",
       "    .dataframe tbody tr th:only-of-type {\n",
       "        vertical-align: middle;\n",
       "    }\n",
       "\n",
       "    .dataframe tbody tr th {\n",
       "        vertical-align: top;\n",
       "    }\n",
       "\n",
       "    .dataframe thead th {\n",
       "        text-align: right;\n",
       "    }\n",
       "</style>\n",
       "<table border=\"1\" class=\"dataframe\">\n",
       "  <thead>\n",
       "    <tr style=\"text-align: right;\">\n",
       "      <th></th>\n",
       "      <th>verification_status</th>\n",
       "      <th>support</th>\n",
       "      <th>pos%</th>\n",
       "      <th>WoE</th>\n",
       "      <th>IV</th>\n",
       "    </tr>\n",
       "  </thead>\n",
       "  <tbody>\n",
       "    <tr>\n",
       "      <th>0</th>\n",
       "      <td>Not Verified</td>\n",
       "      <td>148237</td>\n",
       "      <td>0.905921</td>\n",
       "      <td>0.166972</td>\n",
       "      <td>0.020831</td>\n",
       "    </tr>\n",
       "    <tr>\n",
       "      <th>1</th>\n",
       "      <td>Source Verified</td>\n",
       "      <td>149993</td>\n",
       "      <td>0.895882</td>\n",
       "      <td>0.054438</td>\n",
       "      <td>0.020831</td>\n",
       "    </tr>\n",
       "    <tr>\n",
       "      <th>2</th>\n",
       "      <td>Verified</td>\n",
       "      <td>168055</td>\n",
       "      <td>0.872631</td>\n",
       "      <td>-0.173420</td>\n",
       "      <td>0.020831</td>\n",
       "    </tr>\n",
       "  </tbody>\n",
       "</table>\n",
       "</div>"
      ],
      "text/plain": [
       "  verification_status  support      pos%       WoE        IV\n",
       "0        Not Verified   148237  0.905921  0.166972  0.020831\n",
       "1     Source Verified   149993  0.895882  0.054438  0.020831\n",
       "2            Verified   168055  0.872631 -0.173420  0.020831"
      ]
     },
     "execution_count": 23,
     "metadata": {},
     "output_type": "execute_result"
    },
    {
     "data": {
      "image/png": "[encoded data removed]",
      "text/plain": [
       "<Figure size 720x360 with 1 Axes>"
      ]
     },
     "metadata": {
      "needs_background": "light"
     },
     "output_type": "display_data"
    }
   ],
   "source": [
    "df_temp = calculate_woe(data, 'verification_status', data['loan_status'])\n",
    "plot_woe(df_temp)\n",
    "df_temp"
   ]
  },
  {
   "cell_type": "markdown",
   "id": "92697e2a",
   "metadata": {},
   "source": [
    "### issue_d"
   ]
  },
  {
   "cell_type": "code",
   "execution_count": 24,
   "id": "3438f7fd",
   "metadata": {},
   "outputs": [
    {
     "name": "stdout",
     "output_type": "stream",
     "text": [
      "count     466285\n",
      "unique        91\n",
      "top       Oct-14\n",
      "freq       38782\n",
      "Name: issue_d, dtype: object\n",
      "0\n"
     ]
    }
   ],
   "source": [
    "# based on domain knowledge, its best to omit this feature, banks to not give any preference to any specific issue dates\n",
    "print(data['issue_d'].describe())\n",
    "print(data['issue_d'].isnull().sum())"
   ]
  },
  {
   "cell_type": "markdown",
   "id": "5bb4d552",
   "metadata": {},
   "source": [
    "### pymnt_plan"
   ]
  },
  {
   "cell_type": "code",
   "execution_count": 25,
   "id": "68accb85",
   "metadata": {},
   "outputs": [
    {
     "name": "stdout",
     "output_type": "stream",
     "text": [
      "n    466276\n",
      "y         9\n",
      "Name: pymnt_plan, dtype: int64\n",
      "0\n"
     ]
    }
   ],
   "source": [
    "# omit this feature, features with value `y` are encountered very rarely\n",
    "print(data['pymnt_plan'].value_counts())\n",
    "print(data['pymnt_plan'].isnull().sum())"
   ]
  },
  {
   "cell_type": "markdown",
   "id": "60fbffb1",
   "metadata": {},
   "source": [
    "### purpose"
   ]
  },
  {
   "cell_type": "code",
   "execution_count": 26,
   "id": "f85c5757",
   "metadata": {},
   "outputs": [
    {
     "data": {
      "text/plain": [
       "debt_consolidation    274195\n",
       "credit_card           104157\n",
       "home_improvement       26537\n",
       "other                  23690\n",
       "major_purchase          9828\n",
       "small_business          7013\n",
       "car                     5397\n",
       "medical                 4602\n",
       "moving                  2994\n",
       "vacation                2487\n",
       "wedding                 2343\n",
       "house                   2269\n",
       "educational              422\n",
       "renewable_energy         351\n",
       "Name: purpose, dtype: int64"
      ]
     },
     "execution_count": 26,
     "metadata": {},
     "output_type": "execute_result"
    }
   ],
   "source": [
    "data['purpose'].value_counts()"
   ]
  },
  {
   "cell_type": "code",
   "execution_count": 27,
   "id": "c5d2a829",
   "metadata": {},
   "outputs": [
    {
     "data": {
      "text/html": [
       "<div>\n",
       "<style scoped>\n",
       "    .dataframe tbody tr th:only-of-type {\n",
       "        vertical-align: middle;\n",
       "    }\n",
       "\n",
       "    .dataframe tbody tr th {\n",
       "        vertical-align: top;\n",
       "    }\n",
       "\n",
       "    .dataframe thead th {\n",
       "        text-align: right;\n",
       "    }\n",
       "</style>\n",
       "<table border=\"1\" class=\"dataframe\">\n",
       "  <thead>\n",
       "    <tr style=\"text-align: right;\">\n",
       "      <th></th>\n",
       "      <th>purpose</th>\n",
       "      <th>support</th>\n",
       "      <th>pos%</th>\n",
       "      <th>WoE</th>\n",
       "      <th>IV</th>\n",
       "    </tr>\n",
       "  </thead>\n",
       "  <tbody>\n",
       "    <tr>\n",
       "      <th>0</th>\n",
       "      <td>credit_card</td>\n",
       "      <td>104157</td>\n",
       "      <td>0.913774</td>\n",
       "      <td>0.262772</td>\n",
       "      <td>0.024279</td>\n",
       "    </tr>\n",
       "    <tr>\n",
       "      <th>1</th>\n",
       "      <td>debt_consolidation</td>\n",
       "      <td>274195</td>\n",
       "      <td>0.886690</td>\n",
       "      <td>-0.040475</td>\n",
       "      <td>0.024279</td>\n",
       "    </tr>\n",
       "    <tr>\n",
       "      <th>2</th>\n",
       "      <td>home_improvement</td>\n",
       "      <td>26537</td>\n",
       "      <td>0.901835</td>\n",
       "      <td>0.119940</td>\n",
       "      <td>0.024279</td>\n",
       "    </tr>\n",
       "    <tr>\n",
       "      <th>3</th>\n",
       "      <td>other</td>\n",
       "      <td>61396</td>\n",
       "      <td>0.864600</td>\n",
       "      <td>-0.243808</td>\n",
       "      <td>0.024279</td>\n",
       "    </tr>\n",
       "  </tbody>\n",
       "</table>\n",
       "</div>"
      ],
      "text/plain": [
       "              purpose  support      pos%       WoE        IV\n",
       "0         credit_card   104157  0.913774  0.262772  0.024279\n",
       "1  debt_consolidation   274195  0.886690 -0.040475  0.024279\n",
       "2    home_improvement    26537  0.901835  0.119940  0.024279\n",
       "3               other    61396  0.864600 -0.243808  0.024279"
      ]
     },
     "execution_count": 27,
     "metadata": {},
     "output_type": "execute_result"
    },
    {
     "data": {
      "image/png": "[encoded data removed]",
      "text/plain": [
       "<Figure size 720x360 with 1 Axes>"
      ]
     },
     "metadata": {
      "needs_background": "light"
     },
     "output_type": "display_data"
    }
   ],
   "source": [
    "data['purpose'] = data['purpose'].apply(lambda x: x if x in ['debt_consolidation', 'credit_card', 'home_improvement'] else 'other')\n",
    "df_temp = calculate_woe(data, 'purpose', data['loan_status'])\n",
    "plot_woe(df_temp)\n",
    "df_temp"
   ]
  },
  {
   "cell_type": "code",
   "execution_count": 28,
   "id": "eddaad2f",
   "metadata": {},
   "outputs": [
    {
     "data": {
      "text/html": [
       "<div>\n",
       "<style scoped>\n",
       "    .dataframe tbody tr th:only-of-type {\n",
       "        vertical-align: middle;\n",
       "    }\n",
       "\n",
       "    .dataframe tbody tr th {\n",
       "        vertical-align: top;\n",
       "    }\n",
       "\n",
       "    .dataframe thead th {\n",
       "        text-align: right;\n",
       "    }\n",
       "</style>\n",
       "<table border=\"1\" class=\"dataframe\">\n",
       "  <thead>\n",
       "    <tr style=\"text-align: right;\">\n",
       "      <th></th>\n",
       "      <th>purpose</th>\n",
       "      <th>support</th>\n",
       "      <th>pos%</th>\n",
       "      <th>WoE</th>\n",
       "      <th>IV</th>\n",
       "    </tr>\n",
       "  </thead>\n",
       "  <tbody>\n",
       "    <tr>\n",
       "      <th>0</th>\n",
       "      <td>credit_card</td>\n",
       "      <td>104157</td>\n",
       "      <td>0.913774</td>\n",
       "      <td>0.262772</td>\n",
       "      <td>0.024279</td>\n",
       "    </tr>\n",
       "    <tr>\n",
       "      <th>1</th>\n",
       "      <td>debt_consolidation</td>\n",
       "      <td>274195</td>\n",
       "      <td>0.886690</td>\n",
       "      <td>-0.040475</td>\n",
       "      <td>0.024279</td>\n",
       "    </tr>\n",
       "    <tr>\n",
       "      <th>2</th>\n",
       "      <td>home_improvement</td>\n",
       "      <td>26537</td>\n",
       "      <td>0.901835</td>\n",
       "      <td>0.119940</td>\n",
       "      <td>0.024279</td>\n",
       "    </tr>\n",
       "    <tr>\n",
       "      <th>3</th>\n",
       "      <td>other</td>\n",
       "      <td>61396</td>\n",
       "      <td>0.864600</td>\n",
       "      <td>-0.243808</td>\n",
       "      <td>0.024279</td>\n",
       "    </tr>\n",
       "  </tbody>\n",
       "</table>\n",
       "</div>"
      ],
      "text/plain": [
       "              purpose  support      pos%       WoE        IV\n",
       "0         credit_card   104157  0.913774  0.262772  0.024279\n",
       "1  debt_consolidation   274195  0.886690 -0.040475  0.024279\n",
       "2    home_improvement    26537  0.901835  0.119940  0.024279\n",
       "3               other    61396  0.864600 -0.243808  0.024279"
      ]
     },
     "execution_count": 28,
     "metadata": {},
     "output_type": "execute_result"
    },
    {
     "data": {
      "image/png": "[encoded data removed]",
      "text/plain": [
       "<Figure size 720x360 with 1 Axes>"
      ]
     },
     "metadata": {
      "needs_background": "light"
     },
     "output_type": "display_data"
    }
   ],
   "source": [
    "data['purpose'] = data['purpose'].replace(['educational', 'renewable_energy', 'small_business', 'moving', 'house', 'medical',\n",
    "                                      'wedding', 'vacation', 'major_purchase', 'car'], 'other')\n",
    "df_temp = calculate_woe(data, 'purpose', data['loan_status'])\n",
    "plot_woe(df_temp)\n",
    "df_temp"
   ]
  },
  {
   "cell_type": "markdown",
   "id": "3072b5e3",
   "metadata": {},
   "source": [
    "-----------------------------------------------------------------------"
   ]
  },
  {
   "cell_type": "markdown",
   "id": "dfe03955",
   "metadata": {},
   "source": [
    "# dti"
   ]
  },
  {
   "cell_type": "code",
   "execution_count": 29,
   "id": "4f0b4258",
   "metadata": {},
   "outputs": [
    {
     "data": {
      "text/html": [
       "<div>\n",
       "<style scoped>\n",
       "    .dataframe tbody tr th:only-of-type {\n",
       "        vertical-align: middle;\n",
       "    }\n",
       "\n",
       "    .dataframe tbody tr th {\n",
       "        vertical-align: top;\n",
       "    }\n",
       "\n",
       "    .dataframe thead th {\n",
       "        text-align: right;\n",
       "    }\n",
       "</style>\n",
       "<table border=\"1\" class=\"dataframe\">\n",
       "  <thead>\n",
       "    <tr style=\"text-align: right;\">\n",
       "      <th></th>\n",
       "      <th>dti</th>\n",
       "      <th>support</th>\n",
       "      <th>pos%</th>\n",
       "      <th>WoE</th>\n",
       "      <th>IV</th>\n",
       "    </tr>\n",
       "  </thead>\n",
       "  <tbody>\n",
       "    <tr>\n",
       "      <th>0</th>\n",
       "      <td>(-0.001, 11.36]</td>\n",
       "      <td>116632</td>\n",
       "      <td>0.909785</td>\n",
       "      <td>0.213164</td>\n",
       "      <td>0.024723</td>\n",
       "    </tr>\n",
       "    <tr>\n",
       "      <th>1</th>\n",
       "      <td>(11.36, 16.87]</td>\n",
       "      <td>116620</td>\n",
       "      <td>0.899906</td>\n",
       "      <td>0.098333</td>\n",
       "      <td>0.024723</td>\n",
       "    </tr>\n",
       "    <tr>\n",
       "      <th>2</th>\n",
       "      <td>(16.87, 22.78]</td>\n",
       "      <td>116511</td>\n",
       "      <td>0.883041</td>\n",
       "      <td>-0.076295</td>\n",
       "      <td>0.024723</td>\n",
       "    </tr>\n",
       "    <tr>\n",
       "      <th>3</th>\n",
       "      <td>(22.78, 39.99]</td>\n",
       "      <td>116522</td>\n",
       "      <td>0.870016</td>\n",
       "      <td>-0.196744</td>\n",
       "      <td>0.024723</td>\n",
       "    </tr>\n",
       "  </tbody>\n",
       "</table>\n",
       "</div>"
      ],
      "text/plain": [
       "               dti  support      pos%       WoE        IV\n",
       "0  (-0.001, 11.36]   116632  0.909785  0.213164  0.024723\n",
       "1   (11.36, 16.87]   116620  0.899906  0.098333  0.024723\n",
       "2   (16.87, 22.78]   116511  0.883041 -0.076295  0.024723\n",
       "3   (22.78, 39.99]   116522  0.870016 -0.196744  0.024723"
      ]
     },
     "execution_count": 29,
     "metadata": {},
     "output_type": "execute_result"
    },
    {
     "data": {
      "image/png": "[encoded data removed]",
      "text/plain": [
       "<Figure size 720x360 with 1 Axes>"
      ]
     },
     "metadata": {
      "needs_background": "light"
     },
     "output_type": "display_data"
    }
   ],
   "source": [
    "X_woe['dti'] = pd.qcut(data['dti'], 4)\n",
    "df_temp = calculate_woe(X_woe, 'dti', data['loan_status'])\n",
    "plot_woe(df_temp)\n",
    "df_temp"
   ]
  },
  {
   "cell_type": "markdown",
   "id": "0afb0c53",
   "metadata": {},
   "source": [
    "# delinq_2yrs"
   ]
  },
  {
   "cell_type": "code",
   "execution_count": 30,
   "id": "300ab058",
   "metadata": {},
   "outputs": [
    {
     "data": {
      "text/plain": [
       "count    466256.000000\n",
       "mean          0.284678\n",
       "std           0.797365\n",
       "min           0.000000\n",
       "25%           0.000000\n",
       "50%           0.000000\n",
       "75%           0.000000\n",
       "max          29.000000\n",
       "Name: delinq_2yrs, dtype: float64"
      ]
     },
     "execution_count": 30,
     "metadata": {},
     "output_type": "execute_result"
    }
   ],
   "source": [
    "data['delinq_2yrs'].describe()"
   ]
  },
  {
   "cell_type": "code",
   "execution_count": 31,
   "id": "880f7bad",
   "metadata": {},
   "outputs": [],
   "source": [
    "#as there are only 29 null values we can replace them with the median of the data\n",
    "data['delinq_2yrs'] = data['delinq_2yrs'].fillna(data['delinq_2yrs'].median())"
   ]
  },
  {
   "cell_type": "code",
   "execution_count": 32,
   "id": "be9f50fb",
   "metadata": {},
   "outputs": [],
   "source": [
    "data['delinq_2yrs'] = data['delinq_2yrs'].apply(lambda x: 2 if x>=2 else x)"
   ]
  },
  {
   "cell_type": "code",
   "execution_count": 33,
   "id": "83ec8d73",
   "metadata": {},
   "outputs": [
    {
     "data": {
      "text/html": [
       "<div>\n",
       "<style scoped>\n",
       "    .dataframe tbody tr th:only-of-type {\n",
       "        vertical-align: middle;\n",
       "    }\n",
       "\n",
       "    .dataframe tbody tr th {\n",
       "        vertical-align: top;\n",
       "    }\n",
       "\n",
       "    .dataframe thead th {\n",
       "        text-align: right;\n",
       "    }\n",
       "</style>\n",
       "<table border=\"1\" class=\"dataframe\">\n",
       "  <thead>\n",
       "    <tr style=\"text-align: right;\">\n",
       "      <th></th>\n",
       "      <th>delinq_2yrs</th>\n",
       "      <th>support</th>\n",
       "      <th>pos%</th>\n",
       "      <th>WoE</th>\n",
       "      <th>IV</th>\n",
       "    </tr>\n",
       "  </thead>\n",
       "  <tbody>\n",
       "    <tr>\n",
       "      <th>0</th>\n",
       "      <td>0.0</td>\n",
       "      <td>382983</td>\n",
       "      <td>0.890588</td>\n",
       "      <td>-0.001084</td>\n",
       "      <td>0.000093</td>\n",
       "    </tr>\n",
       "    <tr>\n",
       "      <th>1</th>\n",
       "      <td>1.0</td>\n",
       "      <td>56224</td>\n",
       "      <td>0.892679</td>\n",
       "      <td>0.020562</td>\n",
       "      <td>0.000093</td>\n",
       "    </tr>\n",
       "    <tr>\n",
       "      <th>2</th>\n",
       "      <td>2.0</td>\n",
       "      <td>27078</td>\n",
       "      <td>0.888064</td>\n",
       "      <td>-0.026726</td>\n",
       "      <td>0.000093</td>\n",
       "    </tr>\n",
       "  </tbody>\n",
       "</table>\n",
       "</div>"
      ],
      "text/plain": [
       "   delinq_2yrs  support      pos%       WoE        IV\n",
       "0          0.0   382983  0.890588 -0.001084  0.000093\n",
       "1          1.0    56224  0.892679  0.020562  0.000093\n",
       "2          2.0    27078  0.888064 -0.026726  0.000093"
      ]
     },
     "execution_count": 33,
     "metadata": {},
     "output_type": "execute_result"
    },
    {
     "data": {
      "image/png": "[encoded data removed]",
      "text/plain": [
       "<Figure size 720x360 with 1 Axes>"
      ]
     },
     "metadata": {
      "needs_background": "light"
     },
     "output_type": "display_data"
    }
   ],
   "source": [
    "df_temp = calculate_woe(data, 'delinq_2yrs', data['loan_status'])\n",
    "plot_woe(df_temp)\n",
    "df_temp"
   ]
  },
  {
   "cell_type": "markdown",
   "id": "2e4ae552",
   "metadata": {},
   "source": [
    "# earliest_cr_line"
   ]
  },
  {
   "cell_type": "code",
   "execution_count": 34,
   "id": "4bdc5715",
   "metadata": {},
   "outputs": [],
   "source": [
    "# Date features in this dataset have inconsistent formatting, therefore they cannot be processed properly"
   ]
  },
  {
   "cell_type": "markdown",
   "id": "ffd96282",
   "metadata": {},
   "source": [
    "# inq_last_6mths"
   ]
  },
  {
   "cell_type": "code",
   "execution_count": 35,
   "id": "6c0b481e",
   "metadata": {},
   "outputs": [],
   "source": [
    "data['inq_last_6mths'] = data['inq_last_6mths'].apply(lambda x: 2 if x>1 else x)"
   ]
  },
  {
   "cell_type": "code",
   "execution_count": 36,
   "id": "4849644b",
   "metadata": {},
   "outputs": [],
   "source": [
    "# as there are only 29 null values we can replace them with the median of the data\n",
    "data['inq_last_6mths'] = data['inq_last_6mths'].fillna(data['inq_last_6mths'].median())"
   ]
  },
  {
   "cell_type": "code",
   "execution_count": 37,
   "id": "9c787bea",
   "metadata": {},
   "outputs": [
    {
     "data": {
      "text/html": [
       "<div>\n",
       "<style scoped>\n",
       "    .dataframe tbody tr th:only-of-type {\n",
       "        vertical-align: middle;\n",
       "    }\n",
       "\n",
       "    .dataframe tbody tr th {\n",
       "        vertical-align: top;\n",
       "    }\n",
       "\n",
       "    .dataframe thead th {\n",
       "        text-align: right;\n",
       "    }\n",
       "</style>\n",
       "<table border=\"1\" class=\"dataframe\">\n",
       "  <thead>\n",
       "    <tr style=\"text-align: right;\">\n",
       "      <th></th>\n",
       "      <th>inq_last_6mths</th>\n",
       "      <th>support</th>\n",
       "      <th>pos%</th>\n",
       "      <th>WoE</th>\n",
       "      <th>IV</th>\n",
       "    </tr>\n",
       "  </thead>\n",
       "  <tbody>\n",
       "    <tr>\n",
       "      <th>0</th>\n",
       "      <td>(-0.002, 0.667]</td>\n",
       "      <td>241527</td>\n",
       "      <td>0.908735</td>\n",
       "      <td>0.200440</td>\n",
       "      <td>0.046716</td>\n",
       "    </tr>\n",
       "    <tr>\n",
       "      <th>1</th>\n",
       "      <td>(0.667, 1.333]</td>\n",
       "      <td>130148</td>\n",
       "      <td>0.884439</td>\n",
       "      <td>-0.062687</td>\n",
       "      <td>0.046716</td>\n",
       "    </tr>\n",
       "    <tr>\n",
       "      <th>2</th>\n",
       "      <td>(1.333, 2.0]</td>\n",
       "      <td>94610</td>\n",
       "      <td>0.853240</td>\n",
       "      <td>-0.337605</td>\n",
       "      <td>0.046716</td>\n",
       "    </tr>\n",
       "  </tbody>\n",
       "</table>\n",
       "</div>"
      ],
      "text/plain": [
       "    inq_last_6mths  support      pos%       WoE        IV\n",
       "0  (-0.002, 0.667]   241527  0.908735  0.200440  0.046716\n",
       "1   (0.667, 1.333]   130148  0.884439 -0.062687  0.046716\n",
       "2     (1.333, 2.0]    94610  0.853240 -0.337605  0.046716"
      ]
     },
     "execution_count": 37,
     "metadata": {},
     "output_type": "execute_result"
    },
    {
     "data": {
      "image/png": "[encoded data removed]",
      "text/plain": [
       "<Figure size 720x360 with 1 Axes>"
      ]
     },
     "metadata": {
      "needs_background": "light"
     },
     "output_type": "display_data"
    }
   ],
   "source": [
    "X_woe['inq_last_6mths'] = pd.cut(data['inq_last_6mths'], 3)\n",
    "df_temp = calculate_woe(X_woe, 'inq_last_6mths', data['loan_status'])\n",
    "plot_woe(df_temp)\n",
    "df_temp"
   ]
  },
  {
   "cell_type": "markdown",
   "id": "c8f5a149",
   "metadata": {},
   "source": [
    "# mths_since_last_delinq"
   ]
  },
  {
   "cell_type": "code",
   "execution_count": 38,
   "id": "66681083",
   "metadata": {},
   "outputs": [],
   "source": [
    "# there are lots of nan, best thing to do would be to make it a separate category\n",
    "data['mths_since_last_delinq'] = data['mths_since_last_delinq'].replace(['NaN'],0)"
   ]
  },
  {
   "cell_type": "code",
   "execution_count": 39,
   "id": "dc785412",
   "metadata": {},
   "outputs": [],
   "source": [
    "data['mths_since_last_delinq'] = data['mths_since_last_delinq'].apply(lambda x: 28 if x>0 else x)"
   ]
  },
  {
   "cell_type": "code",
   "execution_count": 40,
   "id": "a197d057",
   "metadata": {},
   "outputs": [],
   "source": [
    "#as IV value is less and also more than 50 percent of data is not given in the data set\n",
    "#we can ignore this 'mths_since_last_delinq' column"
   ]
  },
  {
   "cell_type": "markdown",
   "id": "1c6745cd",
   "metadata": {},
   "source": [
    "# mths_since_last_record"
   ]
  },
  {
   "cell_type": "code",
   "execution_count": 41,
   "id": "0612018e",
   "metadata": {},
   "outputs": [
    {
     "data": {
      "text/plain": [
       "403647"
      ]
     },
     "execution_count": 41,
     "metadata": {},
     "output_type": "execute_result"
    }
   ],
   "source": [
    "data['mths_since_last_record'].isnull().sum()"
   ]
  },
  {
   "cell_type": "code",
   "execution_count": 42,
   "id": "343fa446",
   "metadata": {},
   "outputs": [],
   "source": [
    "# nearly 90 percent of data is Nan. so we can safely ignore this column"
   ]
  },
  {
   "cell_type": "markdown",
   "id": "bd28184d",
   "metadata": {},
   "source": [
    "# open_acc"
   ]
  },
  {
   "cell_type": "code",
   "execution_count": 43,
   "id": "fffff7ac",
   "metadata": {},
   "outputs": [],
   "source": [
    "#as there are only 29 null values we can replace them with the median of the data. also mode is almost same as mean here.\n",
    "data['open_acc'] = data['open_acc'].fillna(data['open_acc'].median())"
   ]
  },
  {
   "cell_type": "code",
   "execution_count": 44,
   "id": "31af617c",
   "metadata": {},
   "outputs": [
    {
     "data": {
      "text/html": [
       "<div>\n",
       "<style scoped>\n",
       "    .dataframe tbody tr th:only-of-type {\n",
       "        vertical-align: middle;\n",
       "    }\n",
       "\n",
       "    .dataframe tbody tr th {\n",
       "        vertical-align: top;\n",
       "    }\n",
       "\n",
       "    .dataframe thead th {\n",
       "        text-align: right;\n",
       "    }\n",
       "</style>\n",
       "<table border=\"1\" class=\"dataframe\">\n",
       "  <thead>\n",
       "    <tr style=\"text-align: right;\">\n",
       "      <th></th>\n",
       "      <th>open_acc</th>\n",
       "      <th>support</th>\n",
       "      <th>pos%</th>\n",
       "      <th>WoE</th>\n",
       "      <th>IV</th>\n",
       "    </tr>\n",
       "  </thead>\n",
       "  <tbody>\n",
       "    <tr>\n",
       "      <th>0</th>\n",
       "      <td>(-0.001, 10.0]</td>\n",
       "      <td>238463</td>\n",
       "      <td>0.889639</td>\n",
       "      <td>-0.010785</td>\n",
       "      <td>0.000123</td>\n",
       "    </tr>\n",
       "    <tr>\n",
       "      <th>1</th>\n",
       "      <td>(10.0, 84.0]</td>\n",
       "      <td>227822</td>\n",
       "      <td>0.891797</td>\n",
       "      <td>0.011386</td>\n",
       "      <td>0.000123</td>\n",
       "    </tr>\n",
       "  </tbody>\n",
       "</table>\n",
       "</div>"
      ],
      "text/plain": [
       "         open_acc  support      pos%       WoE        IV\n",
       "0  (-0.001, 10.0]   238463  0.889639 -0.010785  0.000123\n",
       "1    (10.0, 84.0]   227822  0.891797  0.011386  0.000123"
      ]
     },
     "execution_count": 44,
     "metadata": {},
     "output_type": "execute_result"
    },
    {
     "data": {
      "image/png": "[encoded data removed]",
      "text/plain": [
       "<Figure size 720x360 with 1 Axes>"
      ]
     },
     "metadata": {
      "needs_background": "light"
     },
     "output_type": "display_data"
    }
   ],
   "source": [
    "X_woe['open_acc'] = pd.qcut(data['open_acc'], 2)\n",
    "df_temp = calculate_woe(X_woe, 'open_acc', data['loan_status'])\n",
    "plot_woe(df_temp)\n",
    "df_temp"
   ]
  },
  {
   "cell_type": "code",
   "execution_count": 45,
   "id": "efe534cc",
   "metadata": {},
   "outputs": [],
   "source": [
    "#IV value is very low. so we can ignore this column"
   ]
  },
  {
   "cell_type": "markdown",
   "id": "512709e2",
   "metadata": {},
   "source": [
    "# pub_rec"
   ]
  },
  {
   "cell_type": "code",
   "execution_count": 46,
   "id": "080319cb",
   "metadata": {},
   "outputs": [],
   "source": [
    "data['pub_rec'] = data['pub_rec'].apply(lambda x: 1 if x>0 else x)"
   ]
  },
  {
   "cell_type": "code",
   "execution_count": 47,
   "id": "9b8e4c79",
   "metadata": {},
   "outputs": [],
   "source": [
    "#as there are only 29 null values we can replace them with the median of the data\n",
    "data['pub_rec'] = data['pub_rec'].fillna(data['pub_rec'].median())"
   ]
  },
  {
   "cell_type": "code",
   "execution_count": 48,
   "id": "8f878929",
   "metadata": {},
   "outputs": [
    {
     "data": {
      "text/html": [
       "<div>\n",
       "<style scoped>\n",
       "    .dataframe tbody tr th:only-of-type {\n",
       "        vertical-align: middle;\n",
       "    }\n",
       "\n",
       "    .dataframe tbody tr th {\n",
       "        vertical-align: top;\n",
       "    }\n",
       "\n",
       "    .dataframe thead th {\n",
       "        text-align: right;\n",
       "    }\n",
       "</style>\n",
       "<table border=\"1\" class=\"dataframe\">\n",
       "  <thead>\n",
       "    <tr style=\"text-align: right;\">\n",
       "      <th></th>\n",
       "      <th>pub_rec</th>\n",
       "      <th>support</th>\n",
       "      <th>pos%</th>\n",
       "      <th>WoE</th>\n",
       "      <th>IV</th>\n",
       "    </tr>\n",
       "  </thead>\n",
       "  <tbody>\n",
       "    <tr>\n",
       "      <th>0</th>\n",
       "      <td>0.0</td>\n",
       "      <td>404922</td>\n",
       "      <td>0.889789</td>\n",
       "      <td>-0.009260</td>\n",
       "      <td>0.000582</td>\n",
       "    </tr>\n",
       "    <tr>\n",
       "      <th>1</th>\n",
       "      <td>1.0</td>\n",
       "      <td>61363</td>\n",
       "      <td>0.896664</td>\n",
       "      <td>0.062853</td>\n",
       "      <td>0.000582</td>\n",
       "    </tr>\n",
       "  </tbody>\n",
       "</table>\n",
       "</div>"
      ],
      "text/plain": [
       "   pub_rec  support      pos%       WoE        IV\n",
       "0      0.0   404922  0.889789 -0.009260  0.000582\n",
       "1      1.0    61363  0.896664  0.062853  0.000582"
      ]
     },
     "execution_count": 48,
     "metadata": {},
     "output_type": "execute_result"
    },
    {
     "data": {
      "image/png": "[encoded data removed]",
      "text/plain": [
       "<Figure size 720x360 with 1 Axes>"
      ]
     },
     "metadata": {
      "needs_background": "light"
     },
     "output_type": "display_data"
    }
   ],
   "source": [
    "df_temp = calculate_woe(data, 'pub_rec', data['loan_status'])\n",
    "plot_woe(df_temp)\n",
    "df_temp"
   ]
  },
  {
   "cell_type": "markdown",
   "id": "480a8a77",
   "metadata": {},
   "source": [
    "### revol_bal"
   ]
  },
  {
   "cell_type": "code",
   "execution_count": 49,
   "id": "76cc5d48",
   "metadata": {},
   "outputs": [
    {
     "data": {
      "text/html": [
       "<div>\n",
       "<style scoped>\n",
       "    .dataframe tbody tr th:only-of-type {\n",
       "        vertical-align: middle;\n",
       "    }\n",
       "\n",
       "    .dataframe tbody tr th {\n",
       "        vertical-align: top;\n",
       "    }\n",
       "\n",
       "    .dataframe thead th {\n",
       "        text-align: right;\n",
       "    }\n",
       "</style>\n",
       "<table border=\"1\" class=\"dataframe\">\n",
       "  <thead>\n",
       "    <tr style=\"text-align: right;\">\n",
       "      <th></th>\n",
       "      <th>revol_bal</th>\n",
       "      <th>support</th>\n",
       "      <th>pos%</th>\n",
       "      <th>WoE</th>\n",
       "      <th>IV</th>\n",
       "    </tr>\n",
       "  </thead>\n",
       "  <tbody>\n",
       "    <tr>\n",
       "      <th>0</th>\n",
       "      <td>(-0.001, 5442.0]</td>\n",
       "      <td>93275</td>\n",
       "      <td>0.887044</td>\n",
       "      <td>-0.036951</td>\n",
       "      <td>0.004783</td>\n",
       "    </tr>\n",
       "    <tr>\n",
       "      <th>1</th>\n",
       "      <td>(5442.0, 9451.0]</td>\n",
       "      <td>93242</td>\n",
       "      <td>0.886146</td>\n",
       "      <td>-0.045882</td>\n",
       "      <td>0.004783</td>\n",
       "    </tr>\n",
       "    <tr>\n",
       "      <th>2</th>\n",
       "      <td>(9451.0, 14527.0]</td>\n",
       "      <td>93261</td>\n",
       "      <td>0.887027</td>\n",
       "      <td>-0.037120</td>\n",
       "      <td>0.004783</td>\n",
       "    </tr>\n",
       "    <tr>\n",
       "      <th>3</th>\n",
       "      <td>(14527.0, 23168.0]</td>\n",
       "      <td>93259</td>\n",
       "      <td>0.889555</td>\n",
       "      <td>-0.011641</td>\n",
       "      <td>0.004783</td>\n",
       "    </tr>\n",
       "    <tr>\n",
       "      <th>4</th>\n",
       "      <td>(23168.0, 2568995.0]</td>\n",
       "      <td>93248</td>\n",
       "      <td>0.903698</td>\n",
       "      <td>0.141158</td>\n",
       "      <td>0.004783</td>\n",
       "    </tr>\n",
       "  </tbody>\n",
       "</table>\n",
       "</div>"
      ],
      "text/plain": [
       "              revol_bal  support      pos%       WoE        IV\n",
       "0      (-0.001, 5442.0]    93275  0.887044 -0.036951  0.004783\n",
       "1      (5442.0, 9451.0]    93242  0.886146 -0.045882  0.004783\n",
       "2     (9451.0, 14527.0]    93261  0.887027 -0.037120  0.004783\n",
       "3    (14527.0, 23168.0]    93259  0.889555 -0.011641  0.004783\n",
       "4  (23168.0, 2568995.0]    93248  0.903698  0.141158  0.004783"
      ]
     },
     "execution_count": 49,
     "metadata": {},
     "output_type": "execute_result"
    },
    {
     "data": {
      "image/png": "[encoded data removed]",
      "text/plain": [
       "<Figure size 720x360 with 1 Axes>"
      ]
     },
     "metadata": {
      "needs_background": "light"
     },
     "output_type": "display_data"
    }
   ],
   "source": [
    "X_woe['revol_bal'] = pd.qcut(data['revol_bal'], 5)\n",
    "df_temp = calculate_woe(X_woe, 'revol_bal', data['loan_status'])\n",
    "plot_woe(df_temp)\n",
    "df_temp"
   ]
  },
  {
   "cell_type": "markdown",
   "id": "ad29b33e",
   "metadata": {},
   "source": [
    "### revol_util"
   ]
  },
  {
   "cell_type": "code",
   "execution_count": 50,
   "id": "df8063c1",
   "metadata": {},
   "outputs": [],
   "source": [
    "data['revol_util'] = data['revol_util'].fillna(data['revol_util'].median())"
   ]
  },
  {
   "cell_type": "code",
   "execution_count": 51,
   "id": "665e4066",
   "metadata": {},
   "outputs": [
    {
     "data": {
      "text/html": [
       "<div>\n",
       "<style scoped>\n",
       "    .dataframe tbody tr th:only-of-type {\n",
       "        vertical-align: middle;\n",
       "    }\n",
       "\n",
       "    .dataframe tbody tr th {\n",
       "        vertical-align: top;\n",
       "    }\n",
       "\n",
       "    .dataframe thead th {\n",
       "        text-align: right;\n",
       "    }\n",
       "</style>\n",
       "<table border=\"1\" class=\"dataframe\">\n",
       "  <thead>\n",
       "    <tr style=\"text-align: right;\">\n",
       "      <th></th>\n",
       "      <th>revol_util</th>\n",
       "      <th>support</th>\n",
       "      <th>pos%</th>\n",
       "      <th>WoE</th>\n",
       "      <th>IV</th>\n",
       "    </tr>\n",
       "  </thead>\n",
       "  <tbody>\n",
       "    <tr>\n",
       "      <th>0</th>\n",
       "      <td>(-0.001, 39.2]</td>\n",
       "      <td>116597</td>\n",
       "      <td>0.911627</td>\n",
       "      <td>0.235823</td>\n",
       "      <td>0.025596</td>\n",
       "    </tr>\n",
       "    <tr>\n",
       "      <th>1</th>\n",
       "      <td>(39.2, 57.6]</td>\n",
       "      <td>117255</td>\n",
       "      <td>0.896636</td>\n",
       "      <td>0.062544</td>\n",
       "      <td>0.025596</td>\n",
       "    </tr>\n",
       "    <tr>\n",
       "      <th>2</th>\n",
       "      <td>(57.6, 74.7]</td>\n",
       "      <td>116094</td>\n",
       "      <td>0.885136</td>\n",
       "      <td>-0.055850</td>\n",
       "      <td>0.025596</td>\n",
       "    </tr>\n",
       "    <tr>\n",
       "      <th>3</th>\n",
       "      <td>(74.7, 892.3]</td>\n",
       "      <td>116339</td>\n",
       "      <td>0.869270</td>\n",
       "      <td>-0.203325</td>\n",
       "      <td>0.025596</td>\n",
       "    </tr>\n",
       "  </tbody>\n",
       "</table>\n",
       "</div>"
      ],
      "text/plain": [
       "       revol_util  support      pos%       WoE        IV\n",
       "0  (-0.001, 39.2]   116597  0.911627  0.235823  0.025596\n",
       "1    (39.2, 57.6]   117255  0.896636  0.062544  0.025596\n",
       "2    (57.6, 74.7]   116094  0.885136 -0.055850  0.025596\n",
       "3   (74.7, 892.3]   116339  0.869270 -0.203325  0.025596"
      ]
     },
     "execution_count": 51,
     "metadata": {},
     "output_type": "execute_result"
    },
    {
     "data": {
      "image/png": "[encoded data removed]",
      "text/plain": [
       "<Figure size 720x360 with 1 Axes>"
      ]
     },
     "metadata": {
      "needs_background": "light"
     },
     "output_type": "display_data"
    }
   ],
   "source": [
    "X_woe['revol_util'] = pd.qcut(data['revol_util'], 4)\n",
    "df_temp = calculate_woe(X_woe, 'revol_util', data['loan_status'])\n",
    "plot_woe(df_temp)\n",
    "df_temp"
   ]
  },
  {
   "cell_type": "markdown",
   "id": "a4ba3e41",
   "metadata": {},
   "source": [
    "### total_acc"
   ]
  },
  {
   "cell_type": "code",
   "execution_count": 52,
   "id": "325ed478",
   "metadata": {},
   "outputs": [
    {
     "data": {
      "text/html": [
       "<div>\n",
       "<style scoped>\n",
       "    .dataframe tbody tr th:only-of-type {\n",
       "        vertical-align: middle;\n",
       "    }\n",
       "\n",
       "    .dataframe tbody tr th {\n",
       "        vertical-align: top;\n",
       "    }\n",
       "\n",
       "    .dataframe thead th {\n",
       "        text-align: right;\n",
       "    }\n",
       "</style>\n",
       "<table border=\"1\" class=\"dataframe\">\n",
       "  <thead>\n",
       "    <tr style=\"text-align: right;\">\n",
       "      <th></th>\n",
       "      <th>total_acc</th>\n",
       "      <th>support</th>\n",
       "      <th>pos%</th>\n",
       "      <th>WoE</th>\n",
       "      <th>IV</th>\n",
       "    </tr>\n",
       "  </thead>\n",
       "  <tbody>\n",
       "    <tr>\n",
       "      <th>0</th>\n",
       "      <td>(0.999, 17.0]</td>\n",
       "      <td>132281</td>\n",
       "      <td>0.879930</td>\n",
       "      <td>-0.106074</td>\n",
       "      <td>0.005802</td>\n",
       "    </tr>\n",
       "    <tr>\n",
       "      <th>1</th>\n",
       "      <td>(17.0, 23.0]</td>\n",
       "      <td>101106</td>\n",
       "      <td>0.889789</td>\n",
       "      <td>-0.009253</td>\n",
       "      <td>0.005802</td>\n",
       "    </tr>\n",
       "    <tr>\n",
       "      <th>2</th>\n",
       "      <td>(23.0, 32.0]</td>\n",
       "      <td>123799</td>\n",
       "      <td>0.895605</td>\n",
       "      <td>0.051477</td>\n",
       "      <td>0.005802</td>\n",
       "    </tr>\n",
       "    <tr>\n",
       "      <th>3</th>\n",
       "      <td>(32.0, 156.0]</td>\n",
       "      <td>109070</td>\n",
       "      <td>0.899010</td>\n",
       "      <td>0.088430</td>\n",
       "      <td>0.005802</td>\n",
       "    </tr>\n",
       "  </tbody>\n",
       "</table>\n",
       "</div>"
      ],
      "text/plain": [
       "       total_acc  support      pos%       WoE        IV\n",
       "0  (0.999, 17.0]   132281  0.879930 -0.106074  0.005802\n",
       "1   (17.0, 23.0]   101106  0.889789 -0.009253  0.005802\n",
       "2   (23.0, 32.0]   123799  0.895605  0.051477  0.005802\n",
       "3  (32.0, 156.0]   109070  0.899010  0.088430  0.005802"
      ]
     },
     "execution_count": 52,
     "metadata": {},
     "output_type": "execute_result"
    },
    {
     "data": {
      "image/png": "[encoded data removed]",
      "text/plain": [
       "<Figure size 720x360 with 1 Axes>"
      ]
     },
     "metadata": {
      "needs_background": "light"
     },
     "output_type": "display_data"
    }
   ],
   "source": [
    "X_woe['total_acc'] = pd.qcut(data['total_acc'], 4)\n",
    "df_temp = calculate_woe(X_woe, 'total_acc', data['loan_status'])\n",
    "plot_woe(df_temp)\n",
    "df_temp\n",
    "# feature can be discarded as IV is Too Low "
   ]
  },
  {
   "cell_type": "markdown",
   "id": "6fa02599",
   "metadata": {},
   "source": [
    "### initial_list_status"
   ]
  },
  {
   "cell_type": "code",
   "execution_count": 53,
   "id": "329f0d33",
   "metadata": {},
   "outputs": [
    {
     "data": {
      "text/html": [
       "<div>\n",
       "<style scoped>\n",
       "    .dataframe tbody tr th:only-of-type {\n",
       "        vertical-align: middle;\n",
       "    }\n",
       "\n",
       "    .dataframe tbody tr th {\n",
       "        vertical-align: top;\n",
       "    }\n",
       "\n",
       "    .dataframe thead th {\n",
       "        text-align: right;\n",
       "    }\n",
       "</style>\n",
       "<table border=\"1\" class=\"dataframe\">\n",
       "  <thead>\n",
       "    <tr style=\"text-align: right;\">\n",
       "      <th></th>\n",
       "      <th>initial_list_status</th>\n",
       "      <th>support</th>\n",
       "      <th>pos%</th>\n",
       "      <th>WoE</th>\n",
       "      <th>IV</th>\n",
       "    </tr>\n",
       "  </thead>\n",
       "  <tbody>\n",
       "    <tr>\n",
       "      <th>0</th>\n",
       "      <td>f</td>\n",
       "      <td>303005</td>\n",
       "      <td>0.879692</td>\n",
       "      <td>-0.108330</td>\n",
       "      <td>0.024801</td>\n",
       "    </tr>\n",
       "    <tr>\n",
       "      <th>1</th>\n",
       "      <td>w</td>\n",
       "      <td>163280</td>\n",
       "      <td>0.911110</td>\n",
       "      <td>0.229417</td>\n",
       "      <td>0.024801</td>\n",
       "    </tr>\n",
       "  </tbody>\n",
       "</table>\n",
       "</div>"
      ],
      "text/plain": [
       "  initial_list_status  support      pos%       WoE        IV\n",
       "0                   f   303005  0.879692 -0.108330  0.024801\n",
       "1                   w   163280  0.911110  0.229417  0.024801"
      ]
     },
     "execution_count": 53,
     "metadata": {},
     "output_type": "execute_result"
    },
    {
     "data": {
      "image/png": "[encoded data removed]",
      "text/plain": [
       "<Figure size 720x360 with 1 Axes>"
      ]
     },
     "metadata": {
      "needs_background": "light"
     },
     "output_type": "display_data"
    }
   ],
   "source": [
    "df_temp = calculate_woe(data, 'initial_list_status', data['loan_status'])\n",
    "plot_woe(df_temp)\n",
    "df_temp"
   ]
  },
  {
   "cell_type": "markdown",
   "id": "14743e0f",
   "metadata": {},
   "source": [
    "### out_prncp"
   ]
  },
  {
   "cell_type": "code",
   "execution_count": 54,
   "id": "24c047af",
   "metadata": {},
   "outputs": [],
   "source": [
    "data['out_prncp'] = data['out_prncp'].apply(lambda x: 0 if x < 442 else 1)"
   ]
  },
  {
   "cell_type": "code",
   "execution_count": 55,
   "id": "5cecb3e3",
   "metadata": {},
   "outputs": [
    {
     "data": {
      "text/html": [
       "<div>\n",
       "<style scoped>\n",
       "    .dataframe tbody tr th:only-of-type {\n",
       "        vertical-align: middle;\n",
       "    }\n",
       "\n",
       "    .dataframe tbody tr th {\n",
       "        vertical-align: top;\n",
       "    }\n",
       "\n",
       "    .dataframe thead th {\n",
       "        text-align: right;\n",
       "    }\n",
       "</style>\n",
       "<table border=\"1\" class=\"dataframe\">\n",
       "  <thead>\n",
       "    <tr style=\"text-align: right;\">\n",
       "      <th></th>\n",
       "      <th>out_prncp</th>\n",
       "      <th>support</th>\n",
       "      <th>pos%</th>\n",
       "      <th>WoE</th>\n",
       "      <th>IV</th>\n",
       "    </tr>\n",
       "  </thead>\n",
       "  <tbody>\n",
       "    <tr>\n",
       "      <th>0</th>\n",
       "      <td>0</td>\n",
       "      <td>233147</td>\n",
       "      <td>0.814267</td>\n",
       "      <td>-0.619863</td>\n",
       "      <td>0.747155</td>\n",
       "    </tr>\n",
       "    <tr>\n",
       "      <th>1</th>\n",
       "      <td>1</td>\n",
       "      <td>233138</td>\n",
       "      <td>0.967122</td>\n",
       "      <td>1.283692</td>\n",
       "      <td>0.747155</td>\n",
       "    </tr>\n",
       "  </tbody>\n",
       "</table>\n",
       "</div>"
      ],
      "text/plain": [
       "   out_prncp  support      pos%       WoE        IV\n",
       "0          0   233147  0.814267 -0.619863  0.747155\n",
       "1          1   233138  0.967122  1.283692  0.747155"
      ]
     },
     "execution_count": 55,
     "metadata": {},
     "output_type": "execute_result"
    },
    {
     "data": {
      "image/png": "[encoded data removed]",
      "text/plain": [
       "<Figure size 720x360 with 1 Axes>"
      ]
     },
     "metadata": {
      "needs_background": "light"
     },
     "output_type": "display_data"
    }
   ],
   "source": [
    "df_temp = calculate_woe(data, 'out_prncp', data['loan_status'])\n",
    "plot_woe(df_temp)\n",
    "df_temp"
   ]
  },
  {
   "cell_type": "markdown",
   "id": "d9f74fc5",
   "metadata": {},
   "source": [
    "### out_prncp_inv"
   ]
  },
  {
   "cell_type": "code",
   "execution_count": 56,
   "id": "73755216",
   "metadata": {},
   "outputs": [],
   "source": [
    "# is inverse of `out_prncp` feature, redundant"
   ]
  },
  {
   "cell_type": "markdown",
   "id": "06a9be1c",
   "metadata": {},
   "source": [
    "### total_pymnt"
   ]
  },
  {
   "cell_type": "code",
   "execution_count": 57,
   "id": "bb885244",
   "metadata": {},
   "outputs": [
    {
     "data": {
      "text/html": [
       "<div>\n",
       "<style scoped>\n",
       "    .dataframe tbody tr th:only-of-type {\n",
       "        vertical-align: middle;\n",
       "    }\n",
       "\n",
       "    .dataframe tbody tr th {\n",
       "        vertical-align: top;\n",
       "    }\n",
       "\n",
       "    .dataframe thead th {\n",
       "        text-align: right;\n",
       "    }\n",
       "</style>\n",
       "<table border=\"1\" class=\"dataframe\">\n",
       "  <thead>\n",
       "    <tr style=\"text-align: right;\">\n",
       "      <th></th>\n",
       "      <th>total_pymnt</th>\n",
       "      <th>support</th>\n",
       "      <th>pos%</th>\n",
       "      <th>WoE</th>\n",
       "      <th>IV</th>\n",
       "    </tr>\n",
       "  </thead>\n",
       "  <tbody>\n",
       "    <tr>\n",
       "      <th>0</th>\n",
       "      <td>(-0.001, 5552.125]</td>\n",
       "      <td>116572</td>\n",
       "      <td>0.776876</td>\n",
       "      <td>-0.850290</td>\n",
       "      <td>0.517973</td>\n",
       "    </tr>\n",
       "    <tr>\n",
       "      <th>1</th>\n",
       "      <td>(5552.125, 9419.251]</td>\n",
       "      <td>116571</td>\n",
       "      <td>0.892623</td>\n",
       "      <td>0.019978</td>\n",
       "      <td>0.517973</td>\n",
       "    </tr>\n",
       "    <tr>\n",
       "      <th>2</th>\n",
       "      <td>(9419.251, 15308.158]</td>\n",
       "      <td>116571</td>\n",
       "      <td>0.929614</td>\n",
       "      <td>0.482927</td>\n",
       "      <td>0.517973</td>\n",
       "    </tr>\n",
       "    <tr>\n",
       "      <th>3</th>\n",
       "      <td>(15308.158, 57777.58]</td>\n",
       "      <td>116571</td>\n",
       "      <td>0.963662</td>\n",
       "      <td>1.180022</td>\n",
       "      <td>0.517973</td>\n",
       "    </tr>\n",
       "  </tbody>\n",
       "</table>\n",
       "</div>"
      ],
      "text/plain": [
       "             total_pymnt  support      pos%       WoE        IV\n",
       "0     (-0.001, 5552.125]   116572  0.776876 -0.850290  0.517973\n",
       "1   (5552.125, 9419.251]   116571  0.892623  0.019978  0.517973\n",
       "2  (9419.251, 15308.158]   116571  0.929614  0.482927  0.517973\n",
       "3  (15308.158, 57777.58]   116571  0.963662  1.180022  0.517973"
      ]
     },
     "execution_count": 57,
     "metadata": {},
     "output_type": "execute_result"
    },
    {
     "data": {
      "image/png": "[encoded data removed]",
      "text/plain": [
       "<Figure size 720x360 with 1 Axes>"
      ]
     },
     "metadata": {
      "needs_background": "light"
     },
     "output_type": "display_data"
    }
   ],
   "source": [
    "X_woe['total_pymnt'] = pd.qcut(data['total_pymnt'], 4, duplicates='drop')\n",
    "df_temp = calculate_woe(X_woe, 'total_pymnt', data['loan_status'])\n",
    "plot_woe(df_temp)\n",
    "df_temp"
   ]
  },
  {
   "cell_type": "markdown",
   "id": "7b4a98fa",
   "metadata": {},
   "source": [
    "## total_rec_prncp"
   ]
  },
  {
   "cell_type": "code",
   "execution_count": 58,
   "id": "a04e18e7",
   "metadata": {},
   "outputs": [
    {
     "data": {
      "text/html": [
       "<div>\n",
       "<style scoped>\n",
       "    .dataframe tbody tr th:only-of-type {\n",
       "        vertical-align: middle;\n",
       "    }\n",
       "\n",
       "    .dataframe tbody tr th {\n",
       "        vertical-align: top;\n",
       "    }\n",
       "\n",
       "    .dataframe thead th {\n",
       "        text-align: right;\n",
       "    }\n",
       "</style>\n",
       "<table border=\"1\" class=\"dataframe\">\n",
       "  <thead>\n",
       "    <tr style=\"text-align: right;\">\n",
       "      <th></th>\n",
       "      <th>total_rec_prncp</th>\n",
       "      <th>support</th>\n",
       "      <th>pos%</th>\n",
       "      <th>WoE</th>\n",
       "      <th>IV</th>\n",
       "    </tr>\n",
       "  </thead>\n",
       "  <tbody>\n",
       "    <tr>\n",
       "      <th>0</th>\n",
       "      <td>(-0.001, 3708.56]</td>\n",
       "      <td>116572</td>\n",
       "      <td>0.724582</td>\n",
       "      <td>-1.130538</td>\n",
       "      <td>1.097607</td>\n",
       "    </tr>\n",
       "    <tr>\n",
       "      <th>1</th>\n",
       "      <td>(3708.56, 6817.76]</td>\n",
       "      <td>116572</td>\n",
       "      <td>0.902404</td>\n",
       "      <td>0.126378</td>\n",
       "      <td>1.097607</td>\n",
       "    </tr>\n",
       "    <tr>\n",
       "      <th>2</th>\n",
       "      <td>(6817.76, 12000.0]</td>\n",
       "      <td>123921</td>\n",
       "      <td>0.953809</td>\n",
       "      <td>0.929841</td>\n",
       "      <td>1.097607</td>\n",
       "    </tr>\n",
       "    <tr>\n",
       "      <th>3</th>\n",
       "      <td>(12000.0, 35000.03]</td>\n",
       "      <td>109220</td>\n",
       "      <td>0.983877</td>\n",
       "      <td>2.013383</td>\n",
       "      <td>1.097607</td>\n",
       "    </tr>\n",
       "  </tbody>\n",
       "</table>\n",
       "</div>"
      ],
      "text/plain": [
       "       total_rec_prncp  support      pos%       WoE        IV\n",
       "0    (-0.001, 3708.56]   116572  0.724582 -1.130538  1.097607\n",
       "1   (3708.56, 6817.76]   116572  0.902404  0.126378  1.097607\n",
       "2   (6817.76, 12000.0]   123921  0.953809  0.929841  1.097607\n",
       "3  (12000.0, 35000.03]   109220  0.983877  2.013383  1.097607"
      ]
     },
     "execution_count": 58,
     "metadata": {},
     "output_type": "execute_result"
    },
    {
     "data": {
      "image/png": "[encoded data removed]",
      "text/plain": [
       "<Figure size 720x360 with 1 Axes>"
      ]
     },
     "metadata": {
      "needs_background": "light"
     },
     "output_type": "display_data"
    }
   ],
   "source": [
    "X_woe['total_rec_prncp'] = pd.qcut(data['total_rec_prncp'], 4)\n",
    "df_temp = calculate_woe(X_woe, 'total_rec_prncp', data['loan_status'])\n",
    "plot_woe(df_temp)\n",
    "df_temp"
   ]
  },
  {
   "cell_type": "markdown",
   "id": "1c2775c0",
   "metadata": {},
   "source": [
    "## total_rec_int"
   ]
  },
  {
   "cell_type": "code",
   "execution_count": 59,
   "id": "ea429f7c",
   "metadata": {},
   "outputs": [
    {
     "data": {
      "text/html": [
       "<div>\n",
       "<style scoped>\n",
       "    .dataframe tbody tr th:only-of-type {\n",
       "        vertical-align: middle;\n",
       "    }\n",
       "\n",
       "    .dataframe tbody tr th {\n",
       "        vertical-align: top;\n",
       "    }\n",
       "\n",
       "    .dataframe thead th {\n",
       "        text-align: right;\n",
       "    }\n",
       "</style>\n",
       "<table border=\"1\" class=\"dataframe\">\n",
       "  <thead>\n",
       "    <tr style=\"text-align: right;\">\n",
       "      <th></th>\n",
       "      <th>total_rec_int</th>\n",
       "      <th>support</th>\n",
       "      <th>pos%</th>\n",
       "      <th>WoE</th>\n",
       "      <th>IV</th>\n",
       "    </tr>\n",
       "  </thead>\n",
       "  <tbody>\n",
       "    <tr>\n",
       "      <th>0</th>\n",
       "      <td>(-0.001, 1818.88]</td>\n",
       "      <td>233149</td>\n",
       "      <td>0.881634</td>\n",
       "      <td>-0.089852</td>\n",
       "      <td>0.008678</td>\n",
       "    </tr>\n",
       "    <tr>\n",
       "      <th>1</th>\n",
       "      <td>(1818.88, 24205.62]</td>\n",
       "      <td>233136</td>\n",
       "      <td>0.899754</td>\n",
       "      <td>0.096648</td>\n",
       "      <td>0.008678</td>\n",
       "    </tr>\n",
       "  </tbody>\n",
       "</table>\n",
       "</div>"
      ],
      "text/plain": [
       "         total_rec_int  support      pos%       WoE        IV\n",
       "0    (-0.001, 1818.88]   233149  0.881634 -0.089852  0.008678\n",
       "1  (1818.88, 24205.62]   233136  0.899754  0.096648  0.008678"
      ]
     },
     "execution_count": 59,
     "metadata": {},
     "output_type": "execute_result"
    },
    {
     "data": {
      "image/png": "[encoded data removed]",
      "text/plain": [
       "<Figure size 720x360 with 1 Axes>"
      ]
     },
     "metadata": {
      "needs_background": "light"
     },
     "output_type": "display_data"
    }
   ],
   "source": [
    "X_woe['total_rec_int'] = pd.qcut(data['total_rec_int'], 2)\n",
    "df_temp = calculate_woe(X_woe, 'total_rec_int', data['loan_status'])\n",
    "plot_woe(df_temp)\n",
    "df_temp"
   ]
  },
  {
   "cell_type": "markdown",
   "id": "59a0eeaf",
   "metadata": {},
   "source": [
    "## total_rec_late_fee"
   ]
  },
  {
   "cell_type": "code",
   "execution_count": 60,
   "id": "12f42b2c",
   "metadata": {},
   "outputs": [
    {
     "data": {
      "text/html": [
       "<div>\n",
       "<style scoped>\n",
       "    .dataframe tbody tr th:only-of-type {\n",
       "        vertical-align: middle;\n",
       "    }\n",
       "\n",
       "    .dataframe tbody tr th {\n",
       "        vertical-align: top;\n",
       "    }\n",
       "\n",
       "    .dataframe thead th {\n",
       "        text-align: right;\n",
       "    }\n",
       "</style>\n",
       "<table border=\"1\" class=\"dataframe\">\n",
       "  <thead>\n",
       "    <tr style=\"text-align: right;\">\n",
       "      <th></th>\n",
       "      <th>total_rec_late_fee</th>\n",
       "      <th>support</th>\n",
       "      <th>pos%</th>\n",
       "      <th>WoE</th>\n",
       "      <th>IV</th>\n",
       "    </tr>\n",
       "  </thead>\n",
       "  <tbody>\n",
       "    <tr>\n",
       "      <th>0</th>\n",
       "      <td>(-0.359, 179.34]</td>\n",
       "      <td>466270</td>\n",
       "      <td>0.890707</td>\n",
       "      <td>0.000140</td>\n",
       "      <td>0.000313</td>\n",
       "    </tr>\n",
       "    <tr>\n",
       "      <th>1</th>\n",
       "      <td>(179.34, 358.68]</td>\n",
       "      <td>15</td>\n",
       "      <td>0.466667</td>\n",
       "      <td>-2.231375</td>\n",
       "      <td>0.000313</td>\n",
       "    </tr>\n",
       "  </tbody>\n",
       "</table>\n",
       "</div>"
      ],
      "text/plain": [
       "  total_rec_late_fee  support      pos%       WoE        IV\n",
       "0   (-0.359, 179.34]   466270  0.890707  0.000140  0.000313\n",
       "1   (179.34, 358.68]       15  0.466667 -2.231375  0.000313"
      ]
     },
     "execution_count": 60,
     "metadata": {},
     "output_type": "execute_result"
    },
    {
     "data": {
      "image/png": "[encoded data removed]",
      "text/plain": [
       "<Figure size 720x360 with 1 Axes>"
      ]
     },
     "metadata": {
      "needs_background": "light"
     },
     "output_type": "display_data"
    }
   ],
   "source": [
    "X_woe['total_rec_late_fee'] = pd.cut(data['total_rec_late_fee'], 2, duplicates='drop')\n",
    "df_temp = calculate_woe(X_woe, 'total_rec_late_fee', data['loan_status'])\n",
    "plot_woe(df_temp)\n",
    "df_temp"
   ]
  },
  {
   "cell_type": "markdown",
   "id": "13ba7771",
   "metadata": {},
   "source": [
    "## recoveries"
   ]
  },
  {
   "cell_type": "code",
   "execution_count": 61,
   "id": "a2494f99",
   "metadata": {},
   "outputs": [
    {
     "data": {
      "text/html": [
       "<div>\n",
       "<style scoped>\n",
       "    .dataframe tbody tr th:only-of-type {\n",
       "        vertical-align: middle;\n",
       "    }\n",
       "\n",
       "    .dataframe tbody tr th {\n",
       "        vertical-align: top;\n",
       "    }\n",
       "\n",
       "    .dataframe thead th {\n",
       "        text-align: right;\n",
       "    }\n",
       "</style>\n",
       "<table border=\"1\" class=\"dataframe\">\n",
       "  <thead>\n",
       "    <tr style=\"text-align: right;\">\n",
       "      <th></th>\n",
       "      <th>recoveries</th>\n",
       "      <th>support</th>\n",
       "      <th>pos%</th>\n",
       "      <th>WoE</th>\n",
       "      <th>IV</th>\n",
       "    </tr>\n",
       "  </thead>\n",
       "  <tbody>\n",
       "    <tr>\n",
       "      <th>0</th>\n",
       "      <td>(-33.52, 11173.423]</td>\n",
       "      <td>466180</td>\n",
       "      <td>0.890894</td>\n",
       "      <td>0.002062</td>\n",
       "      <td>inf</td>\n",
       "    </tr>\n",
       "    <tr>\n",
       "      <th>1</th>\n",
       "      <td>(11173.423, 22346.847]</td>\n",
       "      <td>93</td>\n",
       "      <td>0.000000</td>\n",
       "      <td>-inf</td>\n",
       "      <td>inf</td>\n",
       "    </tr>\n",
       "    <tr>\n",
       "      <th>2</th>\n",
       "      <td>(22346.847, 33520.27]</td>\n",
       "      <td>12</td>\n",
       "      <td>0.000000</td>\n",
       "      <td>-inf</td>\n",
       "      <td>inf</td>\n",
       "    </tr>\n",
       "  </tbody>\n",
       "</table>\n",
       "</div>"
      ],
      "text/plain": [
       "               recoveries  support      pos%       WoE   IV\n",
       "0     (-33.52, 11173.423]   466180  0.890894  0.002062  inf\n",
       "1  (11173.423, 22346.847]       93  0.000000      -inf  inf\n",
       "2   (22346.847, 33520.27]       12  0.000000      -inf  inf"
      ]
     },
     "execution_count": 61,
     "metadata": {},
     "output_type": "execute_result"
    },
    {
     "data": {
      "image/png": "[encoded data removed]",
      "text/plain": [
       "<Figure size 720x360 with 1 Axes>"
      ]
     },
     "metadata": {
      "needs_background": "light"
     },
     "output_type": "display_data"
    }
   ],
   "source": [
    "X_woe['recoveries'] = pd.cut(data['recoveries'], 3)\n",
    "df_temp = calculate_woe(X_woe, 'recoveries', data['loan_status'])\n",
    "plot_woe(df_temp)\n",
    "df_temp\n",
    "#IV values is NaN and almost all the values are 0's."
   ]
  },
  {
   "cell_type": "markdown",
   "id": "aa4f2195",
   "metadata": {},
   "source": [
    "## collection_recovery_fee"
   ]
  },
  {
   "cell_type": "code",
   "execution_count": 62,
   "id": "074913d7",
   "metadata": {},
   "outputs": [
    {
     "data": {
      "text/html": [
       "<div>\n",
       "<style scoped>\n",
       "    .dataframe tbody tr th:only-of-type {\n",
       "        vertical-align: middle;\n",
       "    }\n",
       "\n",
       "    .dataframe tbody tr th {\n",
       "        vertical-align: top;\n",
       "    }\n",
       "\n",
       "    .dataframe thead th {\n",
       "        text-align: right;\n",
       "    }\n",
       "</style>\n",
       "<table border=\"1\" class=\"dataframe\">\n",
       "  <thead>\n",
       "    <tr style=\"text-align: right;\">\n",
       "      <th></th>\n",
       "      <th>collection_recovery_fee</th>\n",
       "      <th>support</th>\n",
       "      <th>pos%</th>\n",
       "      <th>WoE</th>\n",
       "      <th>IV</th>\n",
       "    </tr>\n",
       "  </thead>\n",
       "  <tbody>\n",
       "    <tr>\n",
       "      <th>0</th>\n",
       "      <td>(-7.002, 3501.095]</td>\n",
       "      <td>466252</td>\n",
       "      <td>0.890757</td>\n",
       "      <td>0.000648</td>\n",
       "      <td>inf</td>\n",
       "    </tr>\n",
       "    <tr>\n",
       "      <th>1</th>\n",
       "      <td>(3501.095, 7002.19]</td>\n",
       "      <td>33</td>\n",
       "      <td>0.000000</td>\n",
       "      <td>-inf</td>\n",
       "      <td>inf</td>\n",
       "    </tr>\n",
       "  </tbody>\n",
       "</table>\n",
       "</div>"
      ],
      "text/plain": [
       "  collection_recovery_fee  support      pos%       WoE   IV\n",
       "0      (-7.002, 3501.095]   466252  0.890757  0.000648  inf\n",
       "1     (3501.095, 7002.19]       33  0.000000      -inf  inf"
      ]
     },
     "execution_count": 62,
     "metadata": {},
     "output_type": "execute_result"
    },
    {
     "data": {
      "image/png": "[encoded data removed]",
      "text/plain": [
       "<Figure size 720x360 with 1 Axes>"
      ]
     },
     "metadata": {
      "needs_background": "light"
     },
     "output_type": "display_data"
    }
   ],
   "source": [
    "X_woe['collection_recovery_fee'] = pd.cut(data['collection_recovery_fee'], 2)\n",
    "df_temp = calculate_woe(X_woe, 'collection_recovery_fee', data['loan_status'])\n",
    "plot_woe(df_temp)\n",
    "df_temp"
   ]
  },
  {
   "cell_type": "markdown",
   "id": "ca014d1c",
   "metadata": {},
   "source": [
    "## last_pymnt_amnt"
   ]
  },
  {
   "cell_type": "code",
   "execution_count": 63,
   "id": "0372c731",
   "metadata": {},
   "outputs": [
    {
     "data": {
      "text/html": [
       "<div>\n",
       "<style scoped>\n",
       "    .dataframe tbody tr th:only-of-type {\n",
       "        vertical-align: middle;\n",
       "    }\n",
       "\n",
       "    .dataframe tbody tr th {\n",
       "        vertical-align: top;\n",
       "    }\n",
       "\n",
       "    .dataframe thead th {\n",
       "        text-align: right;\n",
       "    }\n",
       "</style>\n",
       "<table border=\"1\" class=\"dataframe\">\n",
       "  <thead>\n",
       "    <tr style=\"text-align: right;\">\n",
       "      <th></th>\n",
       "      <th>last_pymnt_amnt</th>\n",
       "      <th>support</th>\n",
       "      <th>pos%</th>\n",
       "      <th>WoE</th>\n",
       "      <th>IV</th>\n",
       "    </tr>\n",
       "  </thead>\n",
       "  <tbody>\n",
       "    <tr>\n",
       "      <th>0</th>\n",
       "      <td>(-0.001, 545.96]</td>\n",
       "      <td>233174</td>\n",
       "      <td>0.842307</td>\n",
       "      <td>-0.422353</td>\n",
       "      <td>0.263464</td>\n",
       "    </tr>\n",
       "    <tr>\n",
       "      <th>1</th>\n",
       "      <td>(545.96, 36234.44]</td>\n",
       "      <td>233111</td>\n",
       "      <td>0.939093</td>\n",
       "      <td>0.637729</td>\n",
       "      <td>0.263464</td>\n",
       "    </tr>\n",
       "  </tbody>\n",
       "</table>\n",
       "</div>"
      ],
      "text/plain": [
       "      last_pymnt_amnt  support      pos%       WoE        IV\n",
       "0    (-0.001, 545.96]   233174  0.842307 -0.422353  0.263464\n",
       "1  (545.96, 36234.44]   233111  0.939093  0.637729  0.263464"
      ]
     },
     "execution_count": 63,
     "metadata": {},
     "output_type": "execute_result"
    },
    {
     "data": {
      "image/png": "[encoded data removed]",
      "text/plain": [
       "<Figure size 720x360 with 1 Axes>"
      ]
     },
     "metadata": {
      "needs_background": "light"
     },
     "output_type": "display_data"
    }
   ],
   "source": [
    "X_woe['last_pymnt_amnt'] = pd.qcut(data['last_pymnt_amnt'], 2)\n",
    "df_temp = calculate_woe(X_woe, 'last_pymnt_amnt', data['loan_status'])\n",
    "plot_woe(df_temp)\n",
    "df_temp"
   ]
  },
  {
   "cell_type": "code",
   "execution_count": 64,
   "id": "10da2b0b",
   "metadata": {},
   "outputs": [
    {
     "data": {
      "text/html": [
       "<div>\n",
       "<style scoped>\n",
       "    .dataframe tbody tr th:only-of-type {\n",
       "        vertical-align: middle;\n",
       "    }\n",
       "\n",
       "    .dataframe tbody tr th {\n",
       "        vertical-align: top;\n",
       "    }\n",
       "\n",
       "    .dataframe thead th {\n",
       "        text-align: right;\n",
       "    }\n",
       "</style>\n",
       "<table border=\"1\" class=\"dataframe\">\n",
       "  <thead>\n",
       "    <tr style=\"text-align: right;\">\n",
       "      <th></th>\n",
       "      <th>collections_12_mths_ex_med</th>\n",
       "      <th>support</th>\n",
       "      <th>pos%</th>\n",
       "      <th>WoE</th>\n",
       "      <th>IV</th>\n",
       "    </tr>\n",
       "  </thead>\n",
       "  <tbody>\n",
       "    <tr>\n",
       "      <th>0</th>\n",
       "      <td>(-0.02, 6.667]</td>\n",
       "      <td>466138</td>\n",
       "      <td>0.890719</td>\n",
       "      <td>-0.000005</td>\n",
       "      <td>inf</td>\n",
       "    </tr>\n",
       "    <tr>\n",
       "      <th>1</th>\n",
       "      <td>(6.667, 13.333]</td>\n",
       "      <td>0</td>\n",
       "      <td>NaN</td>\n",
       "      <td>NaN</td>\n",
       "      <td>inf</td>\n",
       "    </tr>\n",
       "    <tr>\n",
       "      <th>2</th>\n",
       "      <td>(13.333, 20.0]</td>\n",
       "      <td>2</td>\n",
       "      <td>1.000000</td>\n",
       "      <td>inf</td>\n",
       "      <td>inf</td>\n",
       "    </tr>\n",
       "  </tbody>\n",
       "</table>\n",
       "</div>"
      ],
      "text/plain": [
       "  collections_12_mths_ex_med  support      pos%       WoE   IV\n",
       "0             (-0.02, 6.667]   466138  0.890719 -0.000005  inf\n",
       "1            (6.667, 13.333]        0       NaN       NaN  inf\n",
       "2             (13.333, 20.0]        2  1.000000       inf  inf"
      ]
     },
     "execution_count": 64,
     "metadata": {},
     "output_type": "execute_result"
    },
    {
     "data": {
      "image/png": "[encoded data removed]",
      "text/plain": [
       "<Figure size 720x360 with 1 Axes>"
      ]
     },
     "metadata": {
      "needs_background": "light"
     },
     "output_type": "display_data"
    }
   ],
   "source": [
    "X_woe['collections_12_mths_ex_med'] = pd.cut(data['collections_12_mths_ex_med'], 3)\n",
    "df_temp = calculate_woe(X_woe, 'collections_12_mths_ex_med', data['loan_status'])\n",
    "plot_woe(df_temp)\n",
    "df_temp\n",
    "#IV values is negligible and almost all the values are 0's."
   ]
  },
  {
   "cell_type": "markdown",
   "id": "c6f6b4a0",
   "metadata": {},
   "source": [
    "## Data transformation"
   ]
  },
  {
   "cell_type": "code",
   "execution_count": 78,
   "id": "d3aefb96",
   "metadata": {},
   "outputs": [
    {
     "data": {
      "image/png": "[encoded data removed]",
      "text/plain": [
       "<Figure size 576x432 with 2 Axes>"
      ]
     },
     "metadata": {
      "needs_background": "light"
     },
     "output_type": "display_data"
    },
    {
     "name": "stdout",
     "output_type": "stream",
     "text": [
      "term : grade -> 0.0\n",
      "term : verification_status -> 0.0\n",
      "term : purpose -> 0.0\n",
      "term : home_ownership -> 0.0\n",
      "term : initial_list_status -> 0.0\n",
      "grade : verification_status -> 0.0\n",
      "grade : purpose -> 0.0\n",
      "grade : home_ownership -> 0.0\n",
      "grade : initial_list_status -> 1.6747217714055217e-160\n",
      "verification_status : purpose -> 0.0\n",
      "verification_status : home_ownership -> 0.0\n",
      "verification_status : initial_list_status -> 0.0\n",
      "purpose : home_ownership -> 0.0\n",
      "purpose : initial_list_status -> 0.0\n",
      "home_ownership : initial_list_status -> 1.3087933455700188e-87\n"
     ]
    },
    {
     "data": {
      "text/html": [
       "<div>\n",
       "<style scoped>\n",
       "    .dataframe tbody tr th:only-of-type {\n",
       "        vertical-align: middle;\n",
       "    }\n",
       "\n",
       "    .dataframe tbody tr th {\n",
       "        vertical-align: top;\n",
       "    }\n",
       "\n",
       "    .dataframe thead th {\n",
       "        text-align: right;\n",
       "    }\n",
       "</style>\n",
       "<table border=\"1\" class=\"dataframe\">\n",
       "  <thead>\n",
       "    <tr style=\"text-align: right;\">\n",
       "      <th></th>\n",
       "      <th>int_rate:(5.399, 12.3]</th>\n",
       "      <th>int_rate:(12.3, 19.18]</th>\n",
       "      <th>int_rate:(19.18, 26.06]</th>\n",
       "      <th>annual_inc:(1895.999, 50000.0]</th>\n",
       "      <th>annual_inc:(50000.0, 78000.0]</th>\n",
       "      <th>annual_inc:(78000.0, 7500000.0]</th>\n",
       "      <th>dti:(-0.001, 11.36]</th>\n",
       "      <th>dti:(11.36, 16.87]</th>\n",
       "      <th>dti:(16.87, 22.78]</th>\n",
       "      <th>dti:(22.78, 39.99]</th>\n",
       "      <th>...</th>\n",
       "      <th>verification_status:Verified</th>\n",
       "      <th>purpose:credit_card</th>\n",
       "      <th>purpose:debt_consolidation</th>\n",
       "      <th>purpose:home_improvement</th>\n",
       "      <th>purpose:other</th>\n",
       "      <th>home_ownership:MORTGAGE</th>\n",
       "      <th>home_ownership:OWN</th>\n",
       "      <th>home_ownership:RENT</th>\n",
       "      <th>initial_list_status:f</th>\n",
       "      <th>initial_list_status:w</th>\n",
       "    </tr>\n",
       "  </thead>\n",
       "  <tbody>\n",
       "    <tr>\n",
       "      <th>0</th>\n",
       "      <td>1</td>\n",
       "      <td>0</td>\n",
       "      <td>0</td>\n",
       "      <td>1</td>\n",
       "      <td>0</td>\n",
       "      <td>0</td>\n",
       "      <td>0</td>\n",
       "      <td>0</td>\n",
       "      <td>0</td>\n",
       "      <td>1</td>\n",
       "      <td>...</td>\n",
       "      <td>1</td>\n",
       "      <td>1</td>\n",
       "      <td>0</td>\n",
       "      <td>0</td>\n",
       "      <td>0</td>\n",
       "      <td>0</td>\n",
       "      <td>0</td>\n",
       "      <td>1</td>\n",
       "      <td>1</td>\n",
       "      <td>0</td>\n",
       "    </tr>\n",
       "    <tr>\n",
       "      <th>1</th>\n",
       "      <td>0</td>\n",
       "      <td>1</td>\n",
       "      <td>0</td>\n",
       "      <td>1</td>\n",
       "      <td>0</td>\n",
       "      <td>0</td>\n",
       "      <td>1</td>\n",
       "      <td>0</td>\n",
       "      <td>0</td>\n",
       "      <td>0</td>\n",
       "      <td>...</td>\n",
       "      <td>0</td>\n",
       "      <td>0</td>\n",
       "      <td>0</td>\n",
       "      <td>0</td>\n",
       "      <td>1</td>\n",
       "      <td>0</td>\n",
       "      <td>0</td>\n",
       "      <td>1</td>\n",
       "      <td>1</td>\n",
       "      <td>0</td>\n",
       "    </tr>\n",
       "    <tr>\n",
       "      <th>2</th>\n",
       "      <td>0</td>\n",
       "      <td>1</td>\n",
       "      <td>0</td>\n",
       "      <td>1</td>\n",
       "      <td>0</td>\n",
       "      <td>0</td>\n",
       "      <td>1</td>\n",
       "      <td>0</td>\n",
       "      <td>0</td>\n",
       "      <td>0</td>\n",
       "      <td>...</td>\n",
       "      <td>0</td>\n",
       "      <td>0</td>\n",
       "      <td>0</td>\n",
       "      <td>0</td>\n",
       "      <td>1</td>\n",
       "      <td>0</td>\n",
       "      <td>0</td>\n",
       "      <td>1</td>\n",
       "      <td>1</td>\n",
       "      <td>0</td>\n",
       "    </tr>\n",
       "    <tr>\n",
       "      <th>3</th>\n",
       "      <td>0</td>\n",
       "      <td>1</td>\n",
       "      <td>0</td>\n",
       "      <td>1</td>\n",
       "      <td>0</td>\n",
       "      <td>0</td>\n",
       "      <td>0</td>\n",
       "      <td>0</td>\n",
       "      <td>1</td>\n",
       "      <td>0</td>\n",
       "      <td>...</td>\n",
       "      <td>0</td>\n",
       "      <td>0</td>\n",
       "      <td>0</td>\n",
       "      <td>0</td>\n",
       "      <td>1</td>\n",
       "      <td>0</td>\n",
       "      <td>0</td>\n",
       "      <td>1</td>\n",
       "      <td>1</td>\n",
       "      <td>0</td>\n",
       "    </tr>\n",
       "    <tr>\n",
       "      <th>4</th>\n",
       "      <td>0</td>\n",
       "      <td>1</td>\n",
       "      <td>0</td>\n",
       "      <td>0</td>\n",
       "      <td>0</td>\n",
       "      <td>1</td>\n",
       "      <td>0</td>\n",
       "      <td>0</td>\n",
       "      <td>1</td>\n",
       "      <td>0</td>\n",
       "      <td>...</td>\n",
       "      <td>0</td>\n",
       "      <td>0</td>\n",
       "      <td>0</td>\n",
       "      <td>0</td>\n",
       "      <td>1</td>\n",
       "      <td>0</td>\n",
       "      <td>0</td>\n",
       "      <td>1</td>\n",
       "      <td>1</td>\n",
       "      <td>0</td>\n",
       "    </tr>\n",
       "    <tr>\n",
       "      <th>...</th>\n",
       "      <td>...</td>\n",
       "      <td>...</td>\n",
       "      <td>...</td>\n",
       "      <td>...</td>\n",
       "      <td>...</td>\n",
       "      <td>...</td>\n",
       "      <td>...</td>\n",
       "      <td>...</td>\n",
       "      <td>...</td>\n",
       "      <td>...</td>\n",
       "      <td>...</td>\n",
       "      <td>...</td>\n",
       "      <td>...</td>\n",
       "      <td>...</td>\n",
       "      <td>...</td>\n",
       "      <td>...</td>\n",
       "      <td>...</td>\n",
       "      <td>...</td>\n",
       "      <td>...</td>\n",
       "      <td>...</td>\n",
       "      <td>...</td>\n",
       "    </tr>\n",
       "    <tr>\n",
       "      <th>466280</th>\n",
       "      <td>0</td>\n",
       "      <td>1</td>\n",
       "      <td>0</td>\n",
       "      <td>0</td>\n",
       "      <td>0</td>\n",
       "      <td>1</td>\n",
       "      <td>0</td>\n",
       "      <td>0</td>\n",
       "      <td>1</td>\n",
       "      <td>0</td>\n",
       "      <td>...</td>\n",
       "      <td>0</td>\n",
       "      <td>0</td>\n",
       "      <td>1</td>\n",
       "      <td>0</td>\n",
       "      <td>0</td>\n",
       "      <td>1</td>\n",
       "      <td>0</td>\n",
       "      <td>0</td>\n",
       "      <td>0</td>\n",
       "      <td>1</td>\n",
       "    </tr>\n",
       "    <tr>\n",
       "      <th>466281</th>\n",
       "      <td>0</td>\n",
       "      <td>0</td>\n",
       "      <td>1</td>\n",
       "      <td>0</td>\n",
       "      <td>1</td>\n",
       "      <td>0</td>\n",
       "      <td>0</td>\n",
       "      <td>0</td>\n",
       "      <td>1</td>\n",
       "      <td>0</td>\n",
       "      <td>...</td>\n",
       "      <td>1</td>\n",
       "      <td>0</td>\n",
       "      <td>1</td>\n",
       "      <td>0</td>\n",
       "      <td>0</td>\n",
       "      <td>1</td>\n",
       "      <td>0</td>\n",
       "      <td>0</td>\n",
       "      <td>1</td>\n",
       "      <td>0</td>\n",
       "    </tr>\n",
       "    <tr>\n",
       "      <th>466282</th>\n",
       "      <td>0</td>\n",
       "      <td>1</td>\n",
       "      <td>0</td>\n",
       "      <td>1</td>\n",
       "      <td>0</td>\n",
       "      <td>0</td>\n",
       "      <td>0</td>\n",
       "      <td>0</td>\n",
       "      <td>0</td>\n",
       "      <td>1</td>\n",
       "      <td>...</td>\n",
       "      <td>1</td>\n",
       "      <td>0</td>\n",
       "      <td>1</td>\n",
       "      <td>0</td>\n",
       "      <td>0</td>\n",
       "      <td>1</td>\n",
       "      <td>0</td>\n",
       "      <td>0</td>\n",
       "      <td>1</td>\n",
       "      <td>0</td>\n",
       "    </tr>\n",
       "    <tr>\n",
       "      <th>466283</th>\n",
       "      <td>1</td>\n",
       "      <td>0</td>\n",
       "      <td>0</td>\n",
       "      <td>0</td>\n",
       "      <td>0</td>\n",
       "      <td>1</td>\n",
       "      <td>1</td>\n",
       "      <td>0</td>\n",
       "      <td>0</td>\n",
       "      <td>0</td>\n",
       "      <td>...</td>\n",
       "      <td>1</td>\n",
       "      <td>1</td>\n",
       "      <td>0</td>\n",
       "      <td>0</td>\n",
       "      <td>0</td>\n",
       "      <td>0</td>\n",
       "      <td>1</td>\n",
       "      <td>0</td>\n",
       "      <td>0</td>\n",
       "      <td>1</td>\n",
       "    </tr>\n",
       "    <tr>\n",
       "      <th>466284</th>\n",
       "      <td>0</td>\n",
       "      <td>0</td>\n",
       "      <td>1</td>\n",
       "      <td>1</td>\n",
       "      <td>0</td>\n",
       "      <td>0</td>\n",
       "      <td>0</td>\n",
       "      <td>0</td>\n",
       "      <td>1</td>\n",
       "      <td>0</td>\n",
       "      <td>...</td>\n",
       "      <td>1</td>\n",
       "      <td>0</td>\n",
       "      <td>0</td>\n",
       "      <td>0</td>\n",
       "      <td>1</td>\n",
       "      <td>1</td>\n",
       "      <td>0</td>\n",
       "      <td>0</td>\n",
       "      <td>1</td>\n",
       "      <td>0</td>\n",
       "    </tr>\n",
       "  </tbody>\n",
       "</table>\n",
       "<p>466285 rows × 46 columns</p>\n",
       "</div>"
      ],
      "text/plain": [
       "        int_rate:(5.399, 12.3]  int_rate:(12.3, 19.18]  \\\n",
       "0                            1                       0   \n",
       "1                            0                       1   \n",
       "2                            0                       1   \n",
       "3                            0                       1   \n",
       "4                            0                       1   \n",
       "...                        ...                     ...   \n",
       "466280                       0                       1   \n",
       "466281                       0                       0   \n",
       "466282                       0                       1   \n",
       "466283                       1                       0   \n",
       "466284                       0                       0   \n",
       "\n",
       "        int_rate:(19.18, 26.06]  annual_inc:(1895.999, 50000.0]  \\\n",
       "0                             0                               1   \n",
       "1                             0                               1   \n",
       "2                             0                               1   \n",
       "3                             0                               1   \n",
       "4                             0                               0   \n",
       "...                         ...                             ...   \n",
       "466280                        0                               0   \n",
       "466281                        1                               0   \n",
       "466282                        0                               1   \n",
       "466283                        0                               0   \n",
       "466284                        1                               1   \n",
       "\n",
       "        annual_inc:(50000.0, 78000.0]  annual_inc:(78000.0, 7500000.0]  \\\n",
       "0                                   0                                0   \n",
       "1                                   0                                0   \n",
       "2                                   0                                0   \n",
       "3                                   0                                0   \n",
       "4                                   0                                1   \n",
       "...                               ...                              ...   \n",
       "466280                              0                                1   \n",
       "466281                              1                                0   \n",
       "466282                              0                                0   \n",
       "466283                              0                                1   \n",
       "466284                              0                                0   \n",
       "\n",
       "        dti:(-0.001, 11.36]  dti:(11.36, 16.87]  dti:(16.87, 22.78]  \\\n",
       "0                         0                   0                   0   \n",
       "1                         1                   0                   0   \n",
       "2                         1                   0                   0   \n",
       "3                         0                   0                   1   \n",
       "4                         0                   0                   1   \n",
       "...                     ...                 ...                 ...   \n",
       "466280                    0                   0                   1   \n",
       "466281                    0                   0                   1   \n",
       "466282                    0                   0                   0   \n",
       "466283                    1                   0                   0   \n",
       "466284                    0                   0                   1   \n",
       "\n",
       "        dti:(22.78, 39.99]  ...  verification_status:Verified  \\\n",
       "0                        1  ...                             1   \n",
       "1                        0  ...                             0   \n",
       "2                        0  ...                             0   \n",
       "3                        0  ...                             0   \n",
       "4                        0  ...                             0   \n",
       "...                    ...  ...                           ...   \n",
       "466280                   0  ...                             0   \n",
       "466281                   0  ...                             1   \n",
       "466282                   1  ...                             1   \n",
       "466283                   0  ...                             1   \n",
       "466284                   0  ...                             1   \n",
       "\n",
       "        purpose:credit_card  purpose:debt_consolidation  \\\n",
       "0                         1                           0   \n",
       "1                         0                           0   \n",
       "2                         0                           0   \n",
       "3                         0                           0   \n",
       "4                         0                           0   \n",
       "...                     ...                         ...   \n",
       "466280                    0                           1   \n",
       "466281                    0                           1   \n",
       "466282                    0                           1   \n",
       "466283                    1                           0   \n",
       "466284                    0                           0   \n",
       "\n",
       "        purpose:home_improvement  purpose:other  home_ownership:MORTGAGE  \\\n",
       "0                              0              0                        0   \n",
       "1                              0              1                        0   \n",
       "2                              0              1                        0   \n",
       "3                              0              1                        0   \n",
       "4                              0              1                        0   \n",
       "...                          ...            ...                      ...   \n",
       "466280                         0              0                        1   \n",
       "466281                         0              0                        1   \n",
       "466282                         0              0                        1   \n",
       "466283                         0              0                        0   \n",
       "466284                         0              1                        1   \n",
       "\n",
       "        home_ownership:OWN  home_ownership:RENT  initial_list_status:f  \\\n",
       "0                        0                    1                      1   \n",
       "1                        0                    1                      1   \n",
       "2                        0                    1                      1   \n",
       "3                        0                    1                      1   \n",
       "4                        0                    1                      1   \n",
       "...                    ...                  ...                    ...   \n",
       "466280                   0                    0                      0   \n",
       "466281                   0                    0                      1   \n",
       "466282                   0                    0                      1   \n",
       "466283                   1                    0                      0   \n",
       "466284                   0                    0                      1   \n",
       "\n",
       "        initial_list_status:w  \n",
       "0                           0  \n",
       "1                           0  \n",
       "2                           0  \n",
       "3                           0  \n",
       "4                           0  \n",
       "...                       ...  \n",
       "466280                      1  \n",
       "466281                      0  \n",
       "466282                      0  \n",
       "466283                      1  \n",
       "466284                      0  \n",
       "\n",
       "[466285 rows x 46 columns]"
      ]
     },
     "execution_count": 78,
     "metadata": {},
     "output_type": "execute_result"
    }
   ],
   "source": [
    "categoric = ['term', 'grade', 'verification_status', 'purpose', 'home_ownership', 'initial_list_status']\n",
    "numeric = ['int_rate', 'sub_grade', 'annual_inc', 'dti', 'inq_last_6mths', 'revol_util', 'out_prncp', 'total_pymnt',\n",
    "          'total_rec_prncp', 'last_pymnt_amnt', 'out_prncp_inv']\n",
    "\n",
    "df = data[categoric+numeric]\n",
    "\n",
    "# based on correlation matrix we can exclude features 'sub_grade', 'total_rec_prncp', 'out_prncp_inv'\n",
    "df = df.drop(['sub_grade', 'total_rec_prncp', 'out_prncp_inv'], axis=1)\n",
    "numeric = list(filter(lambda x: x not in set(['sub_grade', 'total_rec_prncp', 'out_prncp_inv']), numeric))\n",
    "\n",
    "plt.figure(figsize=(8,6))\n",
    "sns.heatmap(df.corr(), annot=True, fmt='.2f')\n",
    "plt.show()\n",
    "\n",
    "# numeric columns are discretized by binning\n",
    "df.loc[:, 'int_rate'] = pd.cut(df['int_rate'], 3).astype('str')\n",
    "df.loc[:, 'annual_inc'] = pd.qcut(df['annual_inc'], 3).astype('str')\n",
    "df.loc[:, 'dti'] = pd.qcut(df['dti'], 4).astype('str')\n",
    "df.loc[:, 'inq_last_6mths'] = pd.cut(df['inq_last_6mths'], 3).astype('str')\n",
    "df.loc[:, 'revol_util'] = pd.qcut(df['revol_util'], 4).astype('str')\n",
    "df.loc[:, 'total_pymnt'] = pd.qcut(df['total_pymnt'], 4, duplicates='drop').astype('str')\n",
    "df.loc[:, 'last_pymnt_amnt'] = pd.qcut(df['last_pymnt_amnt'], 2).astype('str')\n",
    "df['out_prncp'] = df['out_prncp'].astype('str')\n",
    "\n",
    "# iterate over all columns\n",
    "for i, c1 in enumerate(categoric):\n",
    "    for j in range(i+1, len(categoric)):\n",
    "        c2 = categoric[j]\n",
    "        # obtain observation matrix\n",
    "        observation = pd.crosstab(data[c1], data[c2])\n",
    "        # distribution of features `c2`\n",
    "        c2_dist = [x / len(data[c2]) for x in data[c2].value_counts()]\n",
    "        # expected values for c1 based on distribution of c2\n",
    "        expected = [[len(data[data[c1]==x]) * d for d in c2_dist] for x in observation.index]\n",
    "        # chi squared p value based on observed/expected values\n",
    "        chi_res = list(chisquare(observation.values.flatten(), np.array(expected).flatten()))\n",
    "        print(f'{c1} : {c2} -> {chi_res[1]}')\n",
    "\n",
    "for col in numeric+categoric:\n",
    "    df[col] = df[col].apply(lambda x: col+':'+x)\n",
    "\n",
    "# one-hot-encode all features\n",
    "for col in numeric+categoric:\n",
    "    df = pd.concat([df,  pd.get_dummies(df[col])], axis=1).drop(col, axis=1)\n",
    "\n",
    "# rearrange columns in ascending order\n",
    "df = df[['int_rate:(5.399, 12.3]', 'int_rate:(12.3, 19.18]', 'int_rate:(19.18, 26.06]', 'annual_inc:(1895.999, 50000.0]',\n",
    "       'annual_inc:(50000.0, 78000.0]', 'annual_inc:(78000.0, 7500000.0]',\n",
    "       'dti:(-0.001, 11.36]', 'dti:(11.36, 16.87]', 'dti:(16.87, 22.78]',\n",
    "       'dti:(22.78, 39.99]', 'inq_last_6mths:(-0.002, 0.667]',\n",
    "       'inq_last_6mths:(0.667, 1.333]', 'inq_last_6mths:(1.333, 2.0]',\n",
    "       'revol_util:(-0.001, 39.2]', 'revol_util:(39.2, 57.6]',\n",
    "       'revol_util:(57.6, 74.7]', 'revol_util:(74.7, 892.3]',\n",
    "       'out_prncp:0', 'out_prncp:1', 'total_pymnt:(-0.001, 5552.125]', 'total_pymnt:(5552.125, 9419.251]',\n",
    "       'total_pymnt:(9419.251, 15308.158]', 'total_pymnt:(15308.158, 57777.58]', 'last_pymnt_amnt:(-0.001, 545.96]',\n",
    "       'last_pymnt_amnt:(545.96, 36234.44]', 'term: 36 months',\n",
    "       'term: 60 months', 'grade:A', 'grade:B', 'grade:C', 'grade:D',\n",
    "       'grade:E', 'grade:F', 'grade:G', 'verification_status:Not Verified',\n",
    "       'verification_status:Source Verified', 'verification_status:Verified',\n",
    "       'purpose:credit_card', 'purpose:debt_consolidation',\n",
    "       'purpose:home_improvement', 'purpose:other', 'home_ownership:MORTGAGE',\n",
    "       'home_ownership:OWN', 'home_ownership:RENT', 'initial_list_status:f', 'initial_list_status:w']]\n",
    "df"
   ]
  },
  {
   "cell_type": "code",
   "execution_count": 79,
   "id": "4c6dde5b",
   "metadata": {},
   "outputs": [
    {
     "data": {
      "text/plain": [
       "['int_rate:(5.399, 12.3]',\n",
       " 'int_rate:(12.3, 19.18]',\n",
       " 'int_rate:(19.18, 26.06]',\n",
       " 'annual_inc:(1895.999, 50000.0]',\n",
       " 'annual_inc:(50000.0, 78000.0]',\n",
       " 'annual_inc:(78000.0, 7500000.0]',\n",
       " 'dti:(-0.001, 11.36]',\n",
       " 'dti:(11.36, 16.87]',\n",
       " 'dti:(16.87, 22.78]',\n",
       " 'dti:(22.78, 39.99]',\n",
       " 'inq_last_6mths:(-0.002, 0.667]',\n",
       " 'inq_last_6mths:(0.667, 1.333]',\n",
       " 'inq_last_6mths:(1.333, 2.0]',\n",
       " 'revol_util:(-0.001, 39.2]',\n",
       " 'revol_util:(39.2, 57.6]',\n",
       " 'revol_util:(57.6, 74.7]',\n",
       " 'revol_util:(74.7, 892.3]',\n",
       " 'out_prncp:0',\n",
       " 'out_prncp:1',\n",
       " 'total_pymnt:(-0.001, 5552.125]',\n",
       " 'total_pymnt:(5552.125, 9419.251]',\n",
       " 'total_pymnt:(9419.251, 15308.158]',\n",
       " 'total_pymnt:(15308.158, 57777.58]',\n",
       " 'last_pymnt_amnt:(-0.001, 545.96]',\n",
       " 'last_pymnt_amnt:(545.96, 36234.44]',\n",
       " 'term: 36 months',\n",
       " 'term: 60 months',\n",
       " 'grade:A',\n",
       " 'grade:B',\n",
       " 'grade:C',\n",
       " 'grade:D',\n",
       " 'grade:E',\n",
       " 'grade:F',\n",
       " 'grade:G',\n",
       " 'verification_status:Not Verified',\n",
       " 'verification_status:Source Verified',\n",
       " 'verification_status:Verified',\n",
       " 'purpose:credit_card',\n",
       " 'purpose:debt_consolidation',\n",
       " 'purpose:home_improvement',\n",
       " 'purpose:other',\n",
       " 'home_ownership:MORTGAGE',\n",
       " 'home_ownership:OWN',\n",
       " 'home_ownership:RENT',\n",
       " 'initial_list_status:f',\n",
       " 'initial_list_status:w']"
      ]
     },
     "execution_count": 79,
     "metadata": {},
     "output_type": "execute_result"
    }
   ],
   "source": [
    "list(df.columns)"
   ]
  },
  {
   "cell_type": "markdown",
   "id": "b402c1dc",
   "metadata": {},
   "source": [
    "## Model training and validation"
   ]
  },
  {
   "cell_type": "code",
   "execution_count": 83,
   "id": "071c4bc5",
   "metadata": {},
   "outputs": [
    {
     "name": "stdout",
     "output_type": "stream",
     "text": [
      "              precision    recall  f1-score   support\n",
      "\n",
      "           0       0.97      0.82      0.89    124504\n",
      "           1       0.35      0.79      0.48     15382\n",
      "\n",
      "    accuracy                           0.81    139886\n",
      "   macro avg       0.66      0.80      0.68    139886\n",
      "weighted avg       0.90      0.81      0.84    139886\n",
      "\n"
     ]
    },
    {
     "data": {
      "image/png": "[encoded data removed]",
      "text/plain": [
       "<Figure size 432x288 with 2 Axes>"
      ]
     },
     "metadata": {
      "needs_background": "light"
     },
     "output_type": "display_data"
    }
   ],
   "source": [
    "X_train, X_test, y_train, y_test = train_test_split(df.values, data['loan_status'].values, test_size=0.3, random_state=42)\n",
    "\n",
    "model = LogisticRegression(class_weight='balanced')\n",
    "model.fit(X_train, y_train)\n",
    "y_pred = model.predict(X_test)\n",
    "\n",
    "print(classification_report(y_test, y_pred))\n",
    "\n",
    "gini = 2*roc_auc_score(y_test, y_pred) - 1\n",
    "plt.title(f'Gini: {gini:.2f}')\n",
    "sns.heatmap(confusion_matrix(y_test, y_pred), annot=True, fmt='d')\n",
    "plt.show()"
   ]
  },
  {
   "cell_type": "markdown",
   "id": "e8717a23",
   "metadata": {},
   "source": [
    "## Coefficient scaling"
   ]
  },
  {
   "cell_type": "code",
   "execution_count": 84,
   "id": "54bf20f7",
   "metadata": {},
   "outputs": [
    {
     "data": {
      "text/plain": [
       "{'int_rate:(5.399, 12.3]': 18.489674035662073,\n",
       " 'int_rate:(12.3, 19.18]': 8.593255724596624,\n",
       " 'int_rate:(19.18, 26.06]': -3.9419835947706137,\n",
       " 'annual_inc:(1895.999, 50000.0]': 8.112707768041151,\n",
       " 'annual_inc:(50000.0, 78000.0]': 10.79244590577256,\n",
       " 'annual_inc:(78000.0, 7500000.0]': 16.453011118030044,\n",
       " 'dti:(-0.001, 11.36]': 13.556632251573753,\n",
       " 'dti:(11.36, 16.87]': 12.274001944046981,\n",
       " 'dti:(16.87, 22.78]': 9.568943886450706,\n",
       " 'dti:(22.78, 39.99]': 7.487688173379712,\n",
       " 'inq_last_6mths:(-0.002, 0.667]': 13.821487938804328,\n",
       " 'inq_last_6mths:(0.667, 1.333]': 9.892284594318093,\n",
       " 'inq_last_6mths:(1.333, 2.0]': 5.597562012488575,\n",
       " 'revol_util:(-0.001, 39.2]': 14.114778085276054,\n",
       " 'revol_util:(39.2, 57.6]': 11.8099796035917,\n",
       " 'revol_util:(57.6, 74.7]': 9.944178799965801,\n",
       " 'revol_util:(74.7, 892.3]': 7.67031127885324,\n",
       " 'out_prncp:0': -7.731858732851702,\n",
       " 'out_prncp:1': 10.83759463558696,\n",
       " 'total_pymnt:(-0.001, 5552.125]': -12.692815456545055,\n",
       " 'total_pymnt:(5552.125, 9419.251]': 11.220730170730802,\n",
       " 'total_pymnt:(9419.251, 15308.158]': 17.302272545236825,\n",
       " 'total_pymnt:(15308.158, 57777.58]': 11.75852615739761,\n",
       " 'last_pymnt_amnt:(-0.001, 545.96]': 1.2987053083548528,\n",
       " 'last_pymnt_amnt:(545.96, 36234.44]': 15.539085870362523,\n",
       " 'term: 36 months': 12.537211301670707,\n",
       " 'term: 60 months': 5.794542110627476,\n",
       " 'grade:A': 16.492168956937014,\n",
       " 'grade:B': 14.885021868391735,\n",
       " 'grade:C': 10.15291940400234,\n",
       " 'grade:D': 4.520355317053358,\n",
       " 'grade:E': -1.349582635323264,\n",
       " 'grade:F': -9.17259066932965,\n",
       " 'grade:G': -16.683651342469897,\n",
       " 'verification_status:Not Verified': 12.733071075485851,\n",
       " 'verification_status:Source Verified': 11.665717984202537,\n",
       " 'verification_status:Verified': 7.555888178022599,\n",
       " 'purpose:credit_card': 15.269662938067514,\n",
       " 'purpose:debt_consolidation': 10.140006288564281,\n",
       " 'purpose:home_improvement': 12.628735050052144,\n",
       " 'purpose:other': 7.916048779903033,\n",
       " 'home_ownership:MORTGAGE': 12.981637020576983,\n",
       " 'home_ownership:OWN': 10.999378094017379,\n",
       " 'home_ownership:RENT': 8.319185425225957,\n",
       " 'initial_list_status:f': 9.147689509763138,\n",
       " 'initial_list_status:w': 14.131505792227188}"
      ]
     },
     "execution_count": 84,
     "metadata": {},
     "output_type": "execute_result"
    }
   ],
   "source": [
    "WoE = [0.708396, -0.147986, -0.757155, -0.237045, -0.002945, 0.300903, 0.213164, 0.098333, -0.076295, -0.196744,\n",
    "      0.200440, -0.062687, -0.337605, 0.235823, 0.062544, -0.055850, -0.203325, -0.619863, 1.283692, -0.850290,\n",
    "      0.019978, 0.482927, 1.180022, -0.422353, 0.637729, 0.132203, -0.294894, 1.1143, 0.364, -0.05525, -0.395, -0.6785,\n",
    "      -0.9522, -1.144166, 0.166972, 0.054438, -0.173420, 0.262772, -0.040475, 0.11994, -0.24381, 0.14378, 0.010764, -0.162,\n",
    "      -0.10833, 0.229417]\n",
    "beta = model.coef_[0, :]\n",
    "# min-max scaling coefficients of logistic regression to root out negative values\n",
    "beta = [(x-min(beta))/max(beta) for x in beta]\n",
    "alpha = model.intercept_[0]\n",
    "PDO = 10 # points to double the odds\n",
    "factor = PDO / math.log(2)\n",
    "base_score = 500\n",
    "target_odds = 1\n",
    "offset = base_score - (factor * math.log(target_odds))\n",
    "n = len(beta)\n",
    "\n",
    "# Score_i= (βi × WoE_i + α/n) × Factor + Offset/n\n",
    "scores = {}\n",
    "for i, feature in enumerate(df.columns):\n",
    "    scores[feature] = (beta[i] * WoE[i] + alpha/n)*factor + offset/n\n",
    "scores"
   ]
  }
 ],
 "metadata": {
  "kernelspec": {
   "display_name": "Python 3",
   "language": "python",
   "name": "python3"
  },
  "language_info": {
   "codemirror_mode": {
    "name": "ipython",
    "version": 3
   },
   "file_extension": ".py",
   "mimetype": "text/x-python",
   "name": "python",
   "nbconvert_exporter": "python",
   "pygments_lexer": "ipython3",
   "version": "3.8.8"
  }
 },
 "nbformat": 4,
 "nbformat_minor": 5
}
