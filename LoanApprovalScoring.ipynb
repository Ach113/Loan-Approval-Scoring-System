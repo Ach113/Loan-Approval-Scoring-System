{
 "cells": [
  {
   "cell_type": "code",
   "execution_count": 5,
   "id": "880acac1",
   "metadata": {},
   "outputs": [],
   "source": [
    "import pandas as pd\n",
    "import numpy as np\n",
    "\n",
    "import matplotlib.pyplot as plt\n",
    "import seaborn as sns"
   ]
  },
  {
   "cell_type": "code",
   "execution_count": 6,
   "id": "1dc2174f",
   "metadata": {},
   "outputs": [
    {
     "data": {
      "text/html": [
       "<div>\n",
       "<style scoped>\n",
       "    .dataframe tbody tr th:only-of-type {\n",
       "        vertical-align: middle;\n",
       "    }\n",
       "\n",
       "    .dataframe tbody tr th {\n",
       "        vertical-align: top;\n",
       "    }\n",
       "\n",
       "    .dataframe thead th {\n",
       "        text-align: right;\n",
       "    }\n",
       "</style>\n",
       "<table border=\"1\" class=\"dataframe\">\n",
       "  <thead>\n",
       "    <tr style=\"text-align: right;\">\n",
       "      <th></th>\n",
       "      <th>id</th>\n",
       "      <th>member_id</th>\n",
       "      <th>loan_amnt</th>\n",
       "      <th>funded_amnt</th>\n",
       "      <th>funded_amnt_inv</th>\n",
       "      <th>term</th>\n",
       "      <th>int_rate</th>\n",
       "      <th>installment</th>\n",
       "      <th>grade</th>\n",
       "      <th>sub_grade</th>\n",
       "      <th>...</th>\n",
       "      <th>total_bal_il</th>\n",
       "      <th>il_util</th>\n",
       "      <th>open_rv_12m</th>\n",
       "      <th>open_rv_24m</th>\n",
       "      <th>max_bal_bc</th>\n",
       "      <th>all_util</th>\n",
       "      <th>total_rev_hi_lim</th>\n",
       "      <th>inq_fi</th>\n",
       "      <th>total_cu_tl</th>\n",
       "      <th>inq_last_12m</th>\n",
       "    </tr>\n",
       "  </thead>\n",
       "  <tbody>\n",
       "    <tr>\n",
       "      <th>0</th>\n",
       "      <td>1077501</td>\n",
       "      <td>1296599</td>\n",
       "      <td>5000</td>\n",
       "      <td>5000</td>\n",
       "      <td>4975.0</td>\n",
       "      <td>36 months</td>\n",
       "      <td>10.65</td>\n",
       "      <td>162.87</td>\n",
       "      <td>B</td>\n",
       "      <td>B2</td>\n",
       "      <td>...</td>\n",
       "      <td>NaN</td>\n",
       "      <td>NaN</td>\n",
       "      <td>NaN</td>\n",
       "      <td>NaN</td>\n",
       "      <td>NaN</td>\n",
       "      <td>NaN</td>\n",
       "      <td>NaN</td>\n",
       "      <td>NaN</td>\n",
       "      <td>NaN</td>\n",
       "      <td>NaN</td>\n",
       "    </tr>\n",
       "    <tr>\n",
       "      <th>1</th>\n",
       "      <td>1077430</td>\n",
       "      <td>1314167</td>\n",
       "      <td>2500</td>\n",
       "      <td>2500</td>\n",
       "      <td>2500.0</td>\n",
       "      <td>60 months</td>\n",
       "      <td>15.27</td>\n",
       "      <td>59.83</td>\n",
       "      <td>C</td>\n",
       "      <td>C4</td>\n",
       "      <td>...</td>\n",
       "      <td>NaN</td>\n",
       "      <td>NaN</td>\n",
       "      <td>NaN</td>\n",
       "      <td>NaN</td>\n",
       "      <td>NaN</td>\n",
       "      <td>NaN</td>\n",
       "      <td>NaN</td>\n",
       "      <td>NaN</td>\n",
       "      <td>NaN</td>\n",
       "      <td>NaN</td>\n",
       "    </tr>\n",
       "    <tr>\n",
       "      <th>2</th>\n",
       "      <td>1077175</td>\n",
       "      <td>1313524</td>\n",
       "      <td>2400</td>\n",
       "      <td>2400</td>\n",
       "      <td>2400.0</td>\n",
       "      <td>36 months</td>\n",
       "      <td>15.96</td>\n",
       "      <td>84.33</td>\n",
       "      <td>C</td>\n",
       "      <td>C5</td>\n",
       "      <td>...</td>\n",
       "      <td>NaN</td>\n",
       "      <td>NaN</td>\n",
       "      <td>NaN</td>\n",
       "      <td>NaN</td>\n",
       "      <td>NaN</td>\n",
       "      <td>NaN</td>\n",
       "      <td>NaN</td>\n",
       "      <td>NaN</td>\n",
       "      <td>NaN</td>\n",
       "      <td>NaN</td>\n",
       "    </tr>\n",
       "    <tr>\n",
       "      <th>3</th>\n",
       "      <td>1076863</td>\n",
       "      <td>1277178</td>\n",
       "      <td>10000</td>\n",
       "      <td>10000</td>\n",
       "      <td>10000.0</td>\n",
       "      <td>36 months</td>\n",
       "      <td>13.49</td>\n",
       "      <td>339.31</td>\n",
       "      <td>C</td>\n",
       "      <td>C1</td>\n",
       "      <td>...</td>\n",
       "      <td>NaN</td>\n",
       "      <td>NaN</td>\n",
       "      <td>NaN</td>\n",
       "      <td>NaN</td>\n",
       "      <td>NaN</td>\n",
       "      <td>NaN</td>\n",
       "      <td>NaN</td>\n",
       "      <td>NaN</td>\n",
       "      <td>NaN</td>\n",
       "      <td>NaN</td>\n",
       "    </tr>\n",
       "    <tr>\n",
       "      <th>4</th>\n",
       "      <td>1075358</td>\n",
       "      <td>1311748</td>\n",
       "      <td>3000</td>\n",
       "      <td>3000</td>\n",
       "      <td>3000.0</td>\n",
       "      <td>60 months</td>\n",
       "      <td>12.69</td>\n",
       "      <td>67.79</td>\n",
       "      <td>B</td>\n",
       "      <td>B5</td>\n",
       "      <td>...</td>\n",
       "      <td>NaN</td>\n",
       "      <td>NaN</td>\n",
       "      <td>NaN</td>\n",
       "      <td>NaN</td>\n",
       "      <td>NaN</td>\n",
       "      <td>NaN</td>\n",
       "      <td>NaN</td>\n",
       "      <td>NaN</td>\n",
       "      <td>NaN</td>\n",
       "      <td>NaN</td>\n",
       "    </tr>\n",
       "  </tbody>\n",
       "</table>\n",
       "<p>5 rows × 74 columns</p>\n",
       "</div>"
      ],
      "text/plain": [
       "        id  member_id  loan_amnt  funded_amnt  funded_amnt_inv        term  \\\n",
       "0  1077501    1296599       5000         5000           4975.0   36 months   \n",
       "1  1077430    1314167       2500         2500           2500.0   60 months   \n",
       "2  1077175    1313524       2400         2400           2400.0   36 months   \n",
       "3  1076863    1277178      10000        10000          10000.0   36 months   \n",
       "4  1075358    1311748       3000         3000           3000.0   60 months   \n",
       "\n",
       "   int_rate  installment grade sub_grade  ... total_bal_il il_util  \\\n",
       "0     10.65       162.87     B        B2  ...          NaN     NaN   \n",
       "1     15.27        59.83     C        C4  ...          NaN     NaN   \n",
       "2     15.96        84.33     C        C5  ...          NaN     NaN   \n",
       "3     13.49       339.31     C        C1  ...          NaN     NaN   \n",
       "4     12.69        67.79     B        B5  ...          NaN     NaN   \n",
       "\n",
       "  open_rv_12m  open_rv_24m max_bal_bc all_util total_rev_hi_lim inq_fi  \\\n",
       "0         NaN          NaN        NaN      NaN              NaN    NaN   \n",
       "1         NaN          NaN        NaN      NaN              NaN    NaN   \n",
       "2         NaN          NaN        NaN      NaN              NaN    NaN   \n",
       "3         NaN          NaN        NaN      NaN              NaN    NaN   \n",
       "4         NaN          NaN        NaN      NaN              NaN    NaN   \n",
       "\n",
       "  total_cu_tl inq_last_12m  \n",
       "0         NaN          NaN  \n",
       "1         NaN          NaN  \n",
       "2         NaN          NaN  \n",
       "3         NaN          NaN  \n",
       "4         NaN          NaN  \n",
       "\n",
       "[5 rows x 74 columns]"
      ]
     },
     "execution_count": 6,
     "metadata": {},
     "output_type": "execute_result"
    }
   ],
   "source": [
    "# hello world\n",
    "data = pd.read_csv('loan_data_2007_2014.csv', low_memory=False)\n",
    "data.head()"
   ]
  },
  {
   "cell_type": "markdown",
   "id": "9382c931",
   "metadata": {},
   "source": [
    "## Data Inspection"
   ]
  },
  {
   "cell_type": "markdown",
   "id": "b9002688",
   "metadata": {},
   "source": [
    "### loan_amnt"
   ]
  },
  {
   "cell_type": "code",
   "execution_count": 7,
   "id": "f73d7385",
   "metadata": {},
   "outputs": [
    {
     "name": "stdout",
     "output_type": "stream",
     "text": [
      "count    466285.000000\n",
      "mean      14317.277577\n",
      "std        8286.509164\n",
      "min         500.000000\n",
      "25%        8000.000000\n",
      "50%       12000.000000\n",
      "75%       20000.000000\n",
      "max       35000.000000\n",
      "Name: loan_amnt, dtype: float64\n"
     ]
    },
    {
     "data": {
      "text/plain": [
       "0"
      ]
     },
     "execution_count": 7,
     "metadata": {},
     "output_type": "execute_result"
    }
   ],
   "source": [
    "print(data['loan_amnt'].describe())\n",
    "data['loan_amnt'].isnull().sum()"
   ]
  },
  {
   "cell_type": "markdown",
   "id": "90927bf8",
   "metadata": {},
   "source": [
    "### funded_amnt"
   ]
  },
  {
   "cell_type": "code",
   "execution_count": 5,
   "id": "f1f8abb8",
   "metadata": {},
   "outputs": [
    {
     "name": "stdout",
     "output_type": "stream",
     "text": [
      "count    466285.000000\n",
      "mean      14291.801044\n",
      "std        8274.371300\n",
      "min         500.000000\n",
      "25%        8000.000000\n",
      "50%       12000.000000\n",
      "75%       20000.000000\n",
      "max       35000.000000\n",
      "Name: funded_amnt, dtype: float64\n",
      "0\n"
     ]
    }
   ],
   "source": [
    "print(data['funded_amnt'].describe())\n",
    "print(data['funded_amnt'].isnull().sum())"
   ]
  },
  {
   "cell_type": "markdown",
   "id": "db0a9822",
   "metadata": {},
   "source": [
    "### funded_amnt_inv"
   ]
  },
  {
   "cell_type": "code",
   "execution_count": 6,
   "id": "73bb7c8f",
   "metadata": {},
   "outputs": [
    {
     "name": "stdout",
     "output_type": "stream",
     "text": [
      "count    466285.000000\n",
      "mean      14222.329888\n",
      "std        8297.637788\n",
      "min           0.000000\n",
      "25%        8000.000000\n",
      "50%       12000.000000\n",
      "75%       19950.000000\n",
      "max       35000.000000\n",
      "Name: funded_amnt_inv, dtype: float64\n",
      "0\n"
     ]
    }
   ],
   "source": [
    "print(data['funded_amnt_inv'].describe())\n",
    "print(data['funded_amnt_inv'].isnull().sum())"
   ]
  },
  {
   "cell_type": "markdown",
   "id": "14f858e5",
   "metadata": {},
   "source": [
    "### term"
   ]
  },
  {
   "cell_type": "code",
   "execution_count": 7,
   "id": "c0f21d1e",
   "metadata": {},
   "outputs": [
    {
     "name": "stdout",
     "output_type": "stream",
     "text": [
      " 36 months    337953\n",
      " 60 months    128332\n",
      "Name: term, dtype: int64\n",
      "0\n"
     ]
    }
   ],
   "source": [
    "print(data['term'].value_counts())\n",
    "print(data['term'].isnull().sum())"
   ]
  },
  {
   "cell_type": "markdown",
   "id": "414a5435",
   "metadata": {},
   "source": [
    "### int_rate"
   ]
  },
  {
   "cell_type": "code",
   "execution_count": 8,
   "id": "6a9c941f",
   "metadata": {},
   "outputs": [
    {
     "name": "stdout",
     "output_type": "stream",
     "text": [
      "count    466285.000000\n",
      "mean         13.829236\n",
      "std           4.357587\n",
      "min           5.420000\n",
      "25%          10.990000\n",
      "50%          13.660000\n",
      "75%          16.490000\n",
      "max          26.060000\n",
      "Name: int_rate, dtype: float64\n",
      "0\n"
     ]
    }
   ],
   "source": [
    "print(data['int_rate'].describe())\n",
    "print(data['int_rate'].isnull().sum())"
   ]
  },
  {
   "cell_type": "markdown",
   "id": "f649e27d",
   "metadata": {},
   "source": [
    "### installment"
   ]
  },
  {
   "cell_type": "code",
   "execution_count": 9,
   "id": "db6c8927",
   "metadata": {},
   "outputs": [
    {
     "name": "stdout",
     "output_type": "stream",
     "text": [
      "count    466285.000000\n",
      "mean        432.061201\n",
      "std         243.485550\n",
      "min          15.670000\n",
      "25%         256.690000\n",
      "50%         379.890000\n",
      "75%         566.580000\n",
      "max        1409.990000\n",
      "Name: installment, dtype: float64\n",
      "0\n"
     ]
    }
   ],
   "source": [
    "print(data['installment'].describe())\n",
    "print(data['installment'].isnull().sum())"
   ]
  },
  {
   "cell_type": "markdown",
   "id": "8df62132",
   "metadata": {},
   "source": [
    "### grade"
   ]
  },
  {
   "cell_type": "code",
   "execution_count": 10,
   "id": "4f969c84",
   "metadata": {},
   "outputs": [
    {
     "name": "stdout",
     "output_type": "stream",
     "text": [
      "B    136929\n",
      "C    125293\n",
      "D     76888\n",
      "A     74867\n",
      "E     35757\n",
      "F     13229\n",
      "G      3322\n",
      "Name: grade, dtype: int64\n",
      "0\n"
     ]
    }
   ],
   "source": [
    "print(data['grade'].value_counts())\n",
    "print(data['grade'].isnull().sum())"
   ]
  },
  {
   "cell_type": "markdown",
   "id": "034e6757",
   "metadata": {},
   "source": [
    "### sub_grade"
   ]
  },
  {
   "cell_type": "code",
   "execution_count": 11,
   "id": "78c9152a",
   "metadata": {},
   "outputs": [
    {
     "name": "stdout",
     "output_type": "stream",
     "text": [
      "B3    31686\n",
      "B4    30505\n",
      "C1    26953\n",
      "C2    26740\n",
      "B2    26610\n",
      "C3    25317\n",
      "B5    25252\n",
      "C4    24105\n",
      "B1    22876\n",
      "C5    22178\n",
      "A5    21757\n",
      "D1    19261\n",
      "A4    19045\n",
      "D2    17046\n",
      "D3    14916\n",
      "D4    14099\n",
      "A3    12568\n",
      "D5    11566\n",
      "A2    10956\n",
      "A1    10541\n",
      "E1     9033\n",
      "E2     8669\n",
      "E3     6976\n",
      "E4     5992\n",
      "E5     5087\n",
      "F1     3940\n",
      "F2     3001\n",
      "F3     2708\n",
      "F4     2067\n",
      "F5     1513\n",
      "G1     1109\n",
      "G2      823\n",
      "G3      583\n",
      "G4      422\n",
      "G5      385\n",
      "Name: sub_grade, dtype: int64\n",
      "0\n"
     ]
    }
   ],
   "source": [
    "print(data['sub_grade'].value_counts())\n",
    "print(data['sub_grade'].isnull().sum())"
   ]
  },
  {
   "cell_type": "markdown",
   "id": "d91fb342",
   "metadata": {},
   "source": [
    "### emp_length"
   ]
  },
  {
   "cell_type": "code",
   "execution_count": 12,
   "id": "648c8873",
   "metadata": {},
   "outputs": [
    {
     "name": "stdout",
     "output_type": "stream",
     "text": [
      "10+ years    150049\n",
      "2 years       41373\n",
      "3 years       36596\n",
      "< 1 year      36265\n",
      "5 years       30774\n",
      "1 year        29622\n",
      "4 years       28023\n",
      "7 years       26180\n",
      "6 years       26112\n",
      "8 years       22395\n",
      "9 years       17888\n",
      "Name: emp_length, dtype: int64\n",
      "21008\n"
     ]
    }
   ],
   "source": [
    "print(data['emp_length'].value_counts())\n",
    "print(data['emp_length'].isnull().sum())"
   ]
  },
  {
   "cell_type": "markdown",
   "id": "ef44e620",
   "metadata": {},
   "source": [
    "### home_ownership"
   ]
  },
  {
   "cell_type": "code",
   "execution_count": 13,
   "id": "f3a71f64",
   "metadata": {},
   "outputs": [
    {
     "name": "stdout",
     "output_type": "stream",
     "text": [
      "MORTGAGE    235875\n",
      "RENT        188473\n",
      "OWN          41704\n",
      "OTHER          182\n",
      "NONE            50\n",
      "ANY              1\n",
      "Name: home_ownership, dtype: int64\n",
      "0\n"
     ]
    }
   ],
   "source": [
    "print(data['home_ownership'].value_counts())\n",
    "print(data['home_ownership'].isnull().sum())"
   ]
  },
  {
   "cell_type": "markdown",
   "id": "b0da6dfb",
   "metadata": {},
   "source": [
    "### annual_inc"
   ]
  },
  {
   "cell_type": "code",
   "execution_count": 14,
   "id": "9c8c9fdf",
   "metadata": {},
   "outputs": [
    {
     "name": "stdout",
     "output_type": "stream",
     "text": [
      "count    4.662810e+05\n",
      "mean     7.327738e+04\n",
      "std      5.496357e+04\n",
      "min      1.896000e+03\n",
      "25%      4.500000e+04\n",
      "50%      6.300000e+04\n",
      "75%      8.896000e+04\n",
      "max      7.500000e+06\n",
      "Name: annual_inc, dtype: float64\n",
      "4\n"
     ]
    }
   ],
   "source": [
    "print(data['annual_inc'].describe())\n",
    "print(data['annual_inc'].isnull().sum())"
   ]
  },
  {
   "cell_type": "markdown",
   "id": "d745c32f",
   "metadata": {},
   "source": [
    "### verification_status"
   ]
  },
  {
   "cell_type": "code",
   "execution_count": 15,
   "id": "1fdee9bb",
   "metadata": {},
   "outputs": [
    {
     "name": "stdout",
     "output_type": "stream",
     "text": [
      "Verified           168055\n",
      "Source Verified    149993\n",
      "Not Verified       148237\n",
      "Name: verification_status, dtype: int64\n",
      "0\n"
     ]
    }
   ],
   "source": [
    "print(data['verification_status'].value_counts())\n",
    "print(data['verification_status'].isnull().sum())"
   ]
  },
  {
   "cell_type": "markdown",
   "id": "92697e2a",
   "metadata": {},
   "source": [
    "### issue_d"
   ]
  },
  {
   "cell_type": "code",
   "execution_count": 16,
   "id": "3438f7fd",
   "metadata": {},
   "outputs": [
    {
     "name": "stdout",
     "output_type": "stream",
     "text": [
      "count     466285\n",
      "unique        91\n",
      "top       Oct-14\n",
      "freq       38782\n",
      "Name: issue_d, dtype: object\n",
      "0\n"
     ]
    }
   ],
   "source": [
    "print(data['issue_d'].describe())\n",
    "print(data['issue_d'].isnull().sum())"
   ]
  },
  {
   "cell_type": "markdown",
   "id": "1b0b0ff7",
   "metadata": {},
   "source": [
    "### loan_status"
   ]
  },
  {
   "cell_type": "code",
   "execution_count": 17,
   "id": "52b399cd",
   "metadata": {},
   "outputs": [
    {
     "name": "stdout",
     "output_type": "stream",
     "text": [
      "Current                                                224226\n",
      "Fully Paid                                             184739\n",
      "Charged Off                                             42475\n",
      "Late (31-120 days)                                       6900\n",
      "In Grace Period                                          3146\n",
      "Does not meet the credit policy. Status:Fully Paid       1988\n",
      "Late (16-30 days)                                        1218\n",
      "Default                                                   832\n",
      "Does not meet the credit policy. Status:Charged Off       761\n",
      "Name: loan_status, dtype: int64\n",
      "0\n"
     ]
    }
   ],
   "source": [
    "print(data['loan_status'].value_counts())\n",
    "print(data['loan_status'].isnull().sum())"
   ]
  },
  {
   "cell_type": "markdown",
   "id": "5bb4d552",
   "metadata": {},
   "source": [
    "### pymnt_plan"
   ]
  },
  {
   "cell_type": "code",
   "execution_count": 18,
   "id": "68accb85",
   "metadata": {},
   "outputs": [
    {
     "name": "stdout",
     "output_type": "stream",
     "text": [
      "n    466276\n",
      "y         9\n",
      "Name: pymnt_plan, dtype: int64\n",
      "0\n"
     ]
    }
   ],
   "source": [
    "print(data['pymnt_plan'].value_counts())\n",
    "print(data['pymnt_plan'].isnull().sum())"
   ]
  },
  {
   "cell_type": "markdown",
   "id": "60fbffb1",
   "metadata": {},
   "source": [
    "### purpose"
   ]
  },
  {
   "cell_type": "code",
   "execution_count": 19,
   "id": "d66bdfa4",
   "metadata": {},
   "outputs": [
    {
     "name": "stdout",
     "output_type": "stream",
     "text": [
      "debt_consolidation    274195\n",
      "credit_card           104157\n",
      "home_improvement       26537\n",
      "other                  23690\n",
      "major_purchase          9828\n",
      "small_business          7013\n",
      "car                     5397\n",
      "medical                 4602\n",
      "moving                  2994\n",
      "vacation                2487\n",
      "wedding                 2343\n",
      "house                   2269\n",
      "educational              422\n",
      "renewable_energy         351\n",
      "Name: purpose, dtype: int64\n",
      "0\n"
     ]
    }
   ],
   "source": [
    "print(data['purpose'].value_counts())\n",
    "print(data['purpose'].isnull().sum())"
   ]
  },
  {
   "cell_type": "code",
   "execution_count": 24,
   "id": "0d7d94a7",
   "metadata": {},
   "outputs": [
    {
     "name": "stdout",
     "output_type": "stream",
     "text": [
      "id\n",
      "member_id\n",
      "loan_amnt\n",
      "funded_amnt\n",
      "funded_amnt_inv\n",
      "term\n",
      "int_rate\n",
      "installment\n",
      "grade\n",
      "sub_grade\n",
      "emp_title\n",
      "emp_length\n",
      "home_ownership\n",
      "annual_inc\n",
      "verification_status\n",
      "issue_d\n",
      "loan_status\n",
      "pymnt_plan\n",
      "url\n",
      "desc\n",
      "purpose\n",
      "title\n",
      "zip_code\n",
      "addr_state\n",
      "dti\n",
      "delinq_2yrs\n",
      "earliest_cr_line\n",
      "inq_last_6mths\n",
      "mths_since_last_delinq\n",
      "mths_since_last_record\n",
      "open_acc\n",
      "pub_rec\n",
      "revol_bal\n",
      "revol_util\n",
      "total_acc\n",
      "initial_list_status\n",
      "out_prncp\n",
      "out_prncp_inv\n",
      "total_pymnt\n",
      "total_pymnt_inv\n",
      "total_rec_prncp\n",
      "total_rec_int\n",
      "total_rec_late_fee\n",
      "recoveries\n",
      "collection_recovery_fee\n",
      "last_pymnt_d\n",
      "last_pymnt_amnt\n",
      "next_pymnt_d\n",
      "last_credit_pull_d\n",
      "collections_12_mths_ex_med\n",
      "mths_since_last_major_derog\n",
      "policy_code\n",
      "application_type\n",
      "annual_inc_joint\n",
      "dti_joint\n",
      "verification_status_joint\n",
      "acc_now_delinq\n",
      "tot_coll_amt\n",
      "tot_cur_bal\n",
      "open_acc_6m\n",
      "open_il_6m\n",
      "open_il_12m\n",
      "open_il_24m\n",
      "mths_since_rcnt_il\n",
      "total_bal_il\n",
      "il_util\n",
      "open_rv_12m\n",
      "open_rv_24m\n",
      "max_bal_bc\n",
      "all_util\n",
      "total_rev_hi_lim\n",
      "inq_fi\n",
      "total_cu_tl\n",
      "inq_last_12m\n"
     ]
    }
   ],
   "source": [
    "#function to print all the columns\n",
    "def printcolumns():\n",
    "    for col in data:\n",
    "        print(col)\n",
    "printcolumns()"
   ]
  },
  {
   "cell_type": "markdown",
   "id": "b1aeb6b7",
   "metadata": {},
   "source": [
    "# title"
   ]
  },
  {
   "cell_type": "code",
   "execution_count": 28,
   "id": "13a7b601",
   "metadata": {},
   "outputs": [
    {
     "name": "stdout",
     "output_type": "stream",
     "text": [
      "Debt consolidation                      164075\n",
      "Credit card refinancing                  62275\n",
      "Debt Consolidation                       15760\n",
      "Home improvement                         14849\n",
      "Other                                    12713\n",
      "                                         ...  \n",
      "Citibank Sux Loan                            1\n",
      "Consolidating Debt to Increase FICO          1\n",
      "Zero Credit Cards                            1\n",
      "Credit cards/apartment                       1\n",
      "Alabama                                      1\n",
      "Name: title, Length: 63098, dtype: int64\n",
      "20\n"
     ]
    }
   ],
   "source": [
    "print(data['title'].value_counts())\n",
    "print(data['title'].isnull().sum())"
   ]
  },
  {
   "cell_type": "code",
   "execution_count": 30,
   "id": "892589f9",
   "metadata": {},
   "outputs": [
    {
     "data": {
      "text/plain": [
       "count                 466265\n",
       "unique                 63098\n",
       "top       Debt consolidation\n",
       "freq                  164075\n",
       "Name: title, dtype: object"
      ]
     },
     "execution_count": 30,
     "metadata": {},
     "output_type": "execute_result"
    }
   ],
   "source": [
    "data['title'].describe()"
   ]
  },
  {
   "cell_type": "markdown",
   "id": "9e456904",
   "metadata": {},
   "source": [
    "# zip_code"
   ]
  },
  {
   "cell_type": "code",
   "execution_count": 31,
   "id": "bbf81887",
   "metadata": {},
   "outputs": [
    {
     "name": "stdout",
     "output_type": "stream",
     "text": [
      "945xx    5304\n",
      "112xx    5102\n",
      "750xx    5013\n",
      "606xx    4696\n",
      "100xx    4391\n",
      "         ... \n",
      "429xx       1\n",
      "510xx       1\n",
      "513xx       1\n",
      "522xx       1\n",
      "582xx       1\n",
      "Name: zip_code, Length: 888, dtype: int64\n",
      "0\n"
     ]
    }
   ],
   "source": [
    "print(data['zip_code'].value_counts())\n",
    "print(data['zip_code'].isnull().sum())"
   ]
  },
  {
   "cell_type": "markdown",
   "id": "e4f21369",
   "metadata": {},
   "source": [
    "# addr_state "
   ]
  },
  {
   "cell_type": "code",
   "execution_count": 32,
   "id": "4d9db215",
   "metadata": {},
   "outputs": [
    {
     "name": "stdout",
     "output_type": "stream",
     "text": [
      "CA    71450\n",
      "NY    40242\n",
      "TX    36439\n",
      "FL    31637\n",
      "IL    18612\n",
      "NJ    18061\n",
      "PA    16424\n",
      "OH    15237\n",
      "GA    14975\n",
      "VA    14222\n",
      "NC    12682\n",
      "MI    11549\n",
      "MA    11072\n",
      "MD    10974\n",
      "AZ    10712\n",
      "WA    10517\n",
      "CO     9739\n",
      "MN     8158\n",
      "MO     7508\n",
      "CT     7204\n",
      "IN     6525\n",
      "NV     6519\n",
      "TN     5984\n",
      "OR     5949\n",
      "WI     5911\n",
      "AL     5853\n",
      "SC     5583\n",
      "LA     5489\n",
      "KY     4438\n",
      "KS     4190\n",
      "OK     4117\n",
      "AR     3488\n",
      "UT     3428\n",
      "NM     2588\n",
      "HI     2487\n",
      "WV     2412\n",
      "NH     2232\n",
      "RI     2050\n",
      "DC     1426\n",
      "MT     1396\n",
      "DE     1272\n",
      "AK     1251\n",
      "MS     1226\n",
      "WY     1128\n",
      "SD      980\n",
      "VT      905\n",
      "IA       14\n",
      "NE       14\n",
      "ID       12\n",
      "ME        4\n",
      "Name: addr_state, dtype: int64\n",
      "0\n"
     ]
    }
   ],
   "source": [
    "print(data['addr_state'].value_counts())\n",
    "print(data['addr_state'].isnull().sum())"
   ]
  },
  {
   "cell_type": "markdown",
   "id": "dfe03955",
   "metadata": {},
   "source": [
    "# dti"
   ]
  },
  {
   "cell_type": "code",
   "execution_count": 33,
   "id": "1bbc167e",
   "metadata": {},
   "outputs": [
    {
     "name": "stdout",
     "output_type": "stream",
     "text": [
      "14.40    410\n",
      "19.20    381\n",
      "12.00    369\n",
      "16.80    368\n",
      "18.00    365\n",
      "        ... \n",
      "36.52      2\n",
      "39.94      1\n",
      "39.14      1\n",
      "38.95      1\n",
      "35.54      1\n",
      "Name: dti, Length: 3997, dtype: int64\n",
      "0\n"
     ]
    }
   ],
   "source": [
    "print(data['dti'].value_counts())\n",
    "print(data['dti'].isnull().sum())"
   ]
  },
  {
   "cell_type": "markdown",
   "id": "0afb0c53",
   "metadata": {},
   "source": [
    "# deling_2yrs"
   ]
  },
  {
   "cell_type": "code",
   "execution_count": 36,
   "id": "dfff5893",
   "metadata": {},
   "outputs": [
    {
     "name": "stdout",
     "output_type": "stream",
     "text": [
      "0.0     382954\n",
      "1.0      56224\n",
      "2.0      16310\n",
      "3.0       5684\n",
      "4.0       2378\n",
      "5.0       1236\n",
      "6.0        629\n",
      "7.0        346\n",
      "8.0        177\n",
      "9.0        111\n",
      "10.0        65\n",
      "11.0        41\n",
      "12.0        38\n",
      "13.0        25\n",
      "14.0         8\n",
      "15.0         7\n",
      "18.0         6\n",
      "16.0         5\n",
      "19.0         3\n",
      "17.0         3\n",
      "21.0         2\n",
      "22.0         2\n",
      "29.0         1\n",
      "24.0         1\n",
      "Name: delinq_2yrs, dtype: int64\n",
      "29\n"
     ]
    }
   ],
   "source": [
    "print(data['delinq_2yrs'].value_counts())\n",
    "print(data['delinq_2yrs'].isnull().sum())"
   ]
  },
  {
   "cell_type": "markdown",
   "id": "2e4ae552",
   "metadata": {},
   "source": [
    "# earliest_cr_line"
   ]
  },
  {
   "cell_type": "code",
   "execution_count": 37,
   "id": "487565d9",
   "metadata": {},
   "outputs": [
    {
     "name": "stdout",
     "output_type": "stream",
     "text": [
      "Oct-00    3674\n",
      "Aug-00    3597\n",
      "Aug-01    3455\n",
      "Oct-99    3406\n",
      "Oct-01    3329\n",
      "          ... \n",
      "Jul-62       1\n",
      "May-53       1\n",
      "Jan-44       1\n",
      "Jul-58       1\n",
      "Nov-53       1\n",
      "Name: earliest_cr_line, Length: 664, dtype: int64\n",
      "29\n"
     ]
    }
   ],
   "source": [
    "print(data['earliest_cr_line'].value_counts())\n",
    "print(data['earliest_cr_line'].isnull().sum())"
   ]
  },
  {
   "cell_type": "markdown",
   "id": "ffd96282",
   "metadata": {},
   "source": [
    "# inq_last_6mths"
   ]
  },
  {
   "cell_type": "code",
   "execution_count": 39,
   "id": "6fe1a756",
   "metadata": {},
   "outputs": [
    {
     "name": "stdout",
     "output_type": "stream",
     "text": [
      "0.0     241498\n",
      "1.0     130148\n",
      "2.0      57825\n",
      "3.0      25126\n",
      "4.0       7241\n",
      "5.0       2768\n",
      "6.0       1188\n",
      "7.0        195\n",
      "8.0        122\n",
      "9.0         50\n",
      "10.0        24\n",
      "11.0        15\n",
      "12.0        15\n",
      "15.0         9\n",
      "14.0         6\n",
      "13.0         6\n",
      "18.0         4\n",
      "16.0         3\n",
      "19.0         2\n",
      "17.0         2\n",
      "24.0         2\n",
      "25.0         1\n",
      "20.0         1\n",
      "31.0         1\n",
      "27.0         1\n",
      "28.0         1\n",
      "33.0         1\n",
      "32.0         1\n",
      "Name: inq_last_6mths, dtype: int64\n",
      "29\n"
     ]
    }
   ],
   "source": [
    "print(data['inq_last_6mths'].value_counts())\n",
    "print(data['inq_last_6mths'].isnull().sum())"
   ]
  },
  {
   "cell_type": "markdown",
   "id": "c8f5a149",
   "metadata": {},
   "source": [
    "# mths_since_last_delinq"
   ]
  },
  {
   "cell_type": "code",
   "execution_count": 40,
   "id": "34a86225",
   "metadata": {},
   "outputs": [
    {
     "name": "stdout",
     "output_type": "stream",
     "text": [
      "9.0      4358\n",
      "8.0      4272\n",
      "13.0     4260\n",
      "12.0     4193\n",
      "10.0     4146\n",
      "         ... \n",
      "152.0       1\n",
      "139.0       1\n",
      "151.0       1\n",
      "108.0       1\n",
      "180.0       1\n",
      "Name: mths_since_last_delinq, Length: 145, dtype: int64\n",
      "250351\n"
     ]
    }
   ],
   "source": [
    "print(data['mths_since_last_delinq'].value_counts())\n",
    "print(data['mths_since_last_delinq'].isnull().sum())"
   ]
  },
  {
   "cell_type": "markdown",
   "id": "1c6745cd",
   "metadata": {},
   "source": [
    "# mths_since_last_record"
   ]
  },
  {
   "cell_type": "code",
   "execution_count": 41,
   "id": "3e378429",
   "metadata": {},
   "outputs": [
    {
     "name": "stdout",
     "output_type": "stream",
     "text": [
      "0.0      1278\n",
      "109.0    1098\n",
      "108.0     999\n",
      "106.0     968\n",
      "104.0     953\n",
      "         ... \n",
      "1.0        28\n",
      "2.0        24\n",
      "120.0       2\n",
      "121.0       2\n",
      "129.0       1\n",
      "Name: mths_since_last_record, Length: 123, dtype: int64\n",
      "403647\n"
     ]
    }
   ],
   "source": [
    "print(data['mths_since_last_record'].value_counts())\n",
    "print(data['mths_since_last_record'].isnull().sum())"
   ]
  },
  {
   "cell_type": "markdown",
   "id": "bd28184d",
   "metadata": {},
   "source": [
    "# open_acc"
   ]
  },
  {
   "cell_type": "code",
   "execution_count": 42,
   "id": "cc0d592d",
   "metadata": {},
   "outputs": [
    {
     "name": "stdout",
     "output_type": "stream",
     "text": [
      "9.0     44019\n",
      "10.0    42512\n",
      "8.0     41893\n",
      "11.0    39112\n",
      "7.0     37602\n",
      "        ...  \n",
      "76.0        2\n",
      "75.0        1\n",
      "84.0        1\n",
      "61.0        1\n",
      "62.0        1\n",
      "Name: open_acc, Length: 62, dtype: int64\n",
      "29\n"
     ]
    }
   ],
   "source": [
    "print(data['open_acc'].value_counts())\n",
    "print(data['open_acc'].isnull().sum())"
   ]
  },
  {
   "cell_type": "markdown",
   "id": "512709e2",
   "metadata": {},
   "source": [
    "# pub_rec"
   ]
  },
  {
   "cell_type": "code",
   "execution_count": 43,
   "id": "7de0adab",
   "metadata": {},
   "outputs": [
    {
     "name": "stdout",
     "output_type": "stream",
     "text": [
      "0.0     404893\n",
      "1.0      53051\n",
      "2.0       5624\n",
      "3.0       1611\n",
      "4.0        520\n",
      "5.0        276\n",
      "6.0        136\n",
      "7.0         62\n",
      "8.0         29\n",
      "9.0         16\n",
      "10.0        13\n",
      "11.0         8\n",
      "18.0         2\n",
      "13.0         2\n",
      "12.0         2\n",
      "16.0         1\n",
      "40.0         1\n",
      "21.0         1\n",
      "14.0         1\n",
      "15.0         1\n",
      "19.0         1\n",
      "49.0         1\n",
      "17.0         1\n",
      "63.0         1\n",
      "34.0         1\n",
      "54.0         1\n",
      "Name: pub_rec, dtype: int64\n",
      "29\n"
     ]
    }
   ],
   "source": [
    "print(data['pub_rec'].value_counts())\n",
    "print(data['pub_rec'].isnull().sum())"
   ]
  },
  {
   "cell_type": "markdown",
   "id": "480a8a77",
   "metadata": {},
   "source": [
    "### revol_bal"
   ]
  },
  {
   "cell_type": "code",
   "execution_count": 6,
   "id": "950f8706",
   "metadata": {},
   "outputs": [
    {
     "name": "stdout",
     "output_type": "stream",
     "text": [
      "0         2269\n",
      "6052        40\n",
      "8696        39\n",
      "5896        39\n",
      "4532        39\n",
      "          ... \n",
      "51021        1\n",
      "38032        1\n",
      "45601        1\n",
      "40823        1\n",
      "119663       1\n",
      "Name: revol_bal, Length: 58142, dtype: int64\n",
      "0\n"
     ]
    }
   ],
   "source": [
    "print(data['revol_bal'].value_counts())\n",
    "print(data['revol_bal'].isnull().sum())"
   ]
  },
  {
   "cell_type": "markdown",
   "id": "ad29b33e",
   "metadata": {},
   "source": [
    "### revol_util"
   ]
  },
  {
   "cell_type": "code",
   "execution_count": 7,
   "id": "df8063c1",
   "metadata": {},
   "outputs": [
    {
     "name": "stdout",
     "output_type": "stream",
     "text": [
      "0.00      2284\n",
      "58.00      864\n",
      "53.00      850\n",
      "59.00      845\n",
      "61.00      832\n",
      "          ... \n",
      "8.49         1\n",
      "88.48        1\n",
      "7.43         1\n",
      "11.63        1\n",
      "141.80       1\n",
      "Name: revol_util, Length: 1269, dtype: int64\n",
      "340\n"
     ]
    }
   ],
   "source": [
    "print(data['revol_util'].value_counts())\n",
    "print(data['revol_util'].isnull().sum())"
   ]
  },
  {
   "cell_type": "markdown",
   "id": "a4ba3e41",
   "metadata": {},
   "source": [
    "### total_acc"
   ]
  },
  {
   "cell_type": "code",
   "execution_count": 8,
   "id": "e9fba5f0",
   "metadata": {},
   "outputs": [
    {
     "name": "stdout",
     "output_type": "stream",
     "text": [
      "21.0     17087\n",
      "20.0     17073\n",
      "22.0     17028\n",
      "23.0     16719\n",
      "19.0     16709\n",
      "         ...  \n",
      "106.0        1\n",
      "156.0        1\n",
      "101.0        1\n",
      "96.0         1\n",
      "118.0        1\n",
      "Name: total_acc, Length: 112, dtype: int64\n",
      "29\n"
     ]
    }
   ],
   "source": [
    "print(data['total_acc'].value_counts())\n",
    "print(data['total_acc'].isnull().sum())"
   ]
  },
  {
   "cell_type": "markdown",
   "id": "6fa02599",
   "metadata": {},
   "source": [
    "### initial_list_status"
   ]
  },
  {
   "cell_type": "code",
   "execution_count": 9,
   "id": "eaf09532",
   "metadata": {},
   "outputs": [
    {
     "name": "stdout",
     "output_type": "stream",
     "text": [
      "f    303005\n",
      "w    163280\n",
      "Name: initial_list_status, dtype: int64\n",
      "0\n"
     ]
    }
   ],
   "source": [
    "print(data['initial_list_status'].value_counts())\n",
    "print(data['initial_list_status'].isnull().sum())"
   ]
  },
  {
   "cell_type": "markdown",
   "id": "14743e0f",
   "metadata": {},
   "source": [
    "### out_prncp"
   ]
  },
  {
   "cell_type": "code",
   "execution_count": 10,
   "id": "24c047af",
   "metadata": {},
   "outputs": [
    {
     "name": "stdout",
     "output_type": "stream",
     "text": [
      "0.00        229999\n",
      "5684.61         80\n",
      "6563.61         79\n",
      "5617.88         78\n",
      "6110.65         76\n",
      "             ...  \n",
      "788.62           1\n",
      "2656.39          1\n",
      "602.44           1\n",
      "18067.18         1\n",
      "3984.38          1\n",
      "Name: out_prncp, Length: 135665, dtype: int64\n",
      "0\n"
     ]
    }
   ],
   "source": [
    "print(data['out_prncp'].value_counts())\n",
    "print(data['out_prncp'].isnull().sum())"
   ]
  },
  {
   "cell_type": "markdown",
   "id": "d9f74fc5",
   "metadata": {},
   "source": [
    "### out_prncp_inv"
   ]
  },
  {
   "cell_type": "code",
   "execution_count": 11,
   "id": "7b2d7cfe",
   "metadata": {},
   "outputs": [
    {
     "name": "stdout",
     "output_type": "stream",
     "text": [
      "0.00        229999\n",
      "6563.61         78\n",
      "5684.61         77\n",
      "5617.88         76\n",
      "6110.65         75\n",
      "             ...  \n",
      "1273.13          1\n",
      "16869.63         1\n",
      "9541.53          1\n",
      "1273.53          1\n",
      "3974.41          1\n",
      "Name: out_prncp_inv, Length: 141189, dtype: int64\n",
      "0\n"
     ]
    }
   ],
   "source": [
    "print(data['out_prncp_inv'].value_counts())\n",
    "print(data['out_prncp_inv'].isnull().sum())"
   ]
  },
  {
   "cell_type": "markdown",
   "id": "06a9be1c",
   "metadata": {},
   "source": [
    "### total_pymnt"
   ]
  },
  {
   "cell_type": "code",
   "execution_count": 8,
   "id": "27af581f",
   "metadata": {},
   "outputs": [
    {
     "name": "stdout",
     "output_type": "stream",
     "text": [
      "6743.730000     117\n",
      "0.000000         87\n",
      "5564.780000      78\n",
      "5497.460000      75\n",
      "5419.430000      75\n",
      "               ... \n",
      "6307.496889       1\n",
      "4271.330000       1\n",
      "10706.700000      1\n",
      "21385.730000      1\n",
      "8821.620000       1\n",
      "Name: total_pymnt, Length: 351609, dtype: int64\n",
      "0\n"
     ]
    }
   ],
   "source": [
    "print(data['total_pymnt'].value_counts())\n",
    "print(data['total_pymnt'].isnull().sum())"
   ]
  },
  {
   "cell_type": "code",
   "execution_count": 9,
   "id": "71eac43f-b228-4874-83d2-cb51bed6f6af",
   "metadata": {},
   "outputs": [
    {
     "name": "stdout",
     "output_type": "stream",
     "text": [
      "10000.00    13267\n",
      "12000.00    10469\n",
      "15000.00     8552\n",
      "20000.00     7673\n",
      "8000.00      6522\n",
      "            ...  \n",
      "16731.08        1\n",
      "3987.47         1\n",
      "6927.01         1\n",
      "11253.08        1\n",
      "6015.62         1\n",
      "Name: total_rec_prncp, Length: 172713, dtype: int64\n",
      "0\n"
     ]
    }
   ],
   "source": [
    "print(data['total_rec_prncp'].value_counts())\n",
    "print(data['total_rec_prncp'].isnull().sum())"
   ]
  },
  {
   "cell_type": "code",
   "execution_count": 10,
   "id": "0785700f-35d8-4bbf-9a73-fcd355db090b",
   "metadata": {},
   "outputs": [
    {
     "name": "stdout",
     "output_type": "stream",
     "text": [
      "0.00       379\n",
      "1249.39     78\n",
      "1329.13     75\n",
      "1037.31     74\n",
      "1350.99     72\n",
      "          ... \n",
      "5322.44      1\n",
      "7909.43      1\n",
      "9697.29      1\n",
      "3723.50      1\n",
      "6072.29      1\n",
      "Name: total_rec_int, Length: 270249, dtype: int64\n",
      "0\n"
     ]
    }
   ],
   "source": [
    "print(data['total_rec_int'].value_counts())\n",
    "print(data['total_rec_int'].isnull().sum())"
   ]
  },
  {
   "cell_type": "code",
   "execution_count": 11,
   "id": "fee8eb4c-2c1e-413c-8716-b4cdb448f294",
   "metadata": {},
   "outputs": [
    {
     "name": "stdout",
     "output_type": "stream",
     "text": [
      "0.000000     455607\n",
      "15.000000      2223\n",
      "30.000000       285\n",
      "45.000000        50\n",
      "16.840000        15\n",
      "              ...  \n",
      "15.026894         1\n",
      "23.190501         1\n",
      "14.959976         1\n",
      "37.751380         1\n",
      "41.150000         1\n",
      "Name: total_rec_late_fee, Length: 5808, dtype: int64\n",
      "0\n"
     ]
    }
   ],
   "source": [
    "print(data['total_rec_late_fee'].value_counts())\n",
    "print(data['total_rec_late_fee'].isnull().sum())"
   ]
  },
  {
   "cell_type": "code",
   "execution_count": 12,
   "id": "c6187098-e1f7-411c-b5a8-93ff6bece9b9",
   "metadata": {},
   "outputs": [
    {
     "name": "stdout",
     "output_type": "stream",
     "text": [
      "0.00       441914\n",
      "14.28           9\n",
      "11.70           9\n",
      "200.00          9\n",
      "10.00           9\n",
      "            ...  \n",
      "423.23          1\n",
      "2311.77         1\n",
      "850.18          1\n",
      "5052.98         1\n",
      "1159.40         1\n",
      "Name: recoveries, Length: 22773, dtype: int64\n",
      "0\n"
     ]
    }
   ],
   "source": [
    "print(data['recoveries'].value_counts())\n",
    "print(data['recoveries'].isnull().sum())"
   ]
  },
  {
   "cell_type": "code",
   "execution_count": 13,
   "id": "973dc5ee-63dd-4611-aeff-9529fe6fb0c6",
   "metadata": {},
   "outputs": [
    {
     "name": "stdout",
     "output_type": "stream",
     "text": [
      "0.0000      443079\n",
      "2.0000          18\n",
      "1.8000          13\n",
      "1.8800          12\n",
      "1.2000          12\n",
      "             ...  \n",
      "330.4404         1\n",
      "149.1210         1\n",
      "2.9795           1\n",
      "8.8326           1\n",
      "11.5940          1\n",
      "Name: collection_recovery_fee, Length: 20275, dtype: int64\n",
      "0\n"
     ]
    }
   ],
   "source": [
    "print(data['collection_recovery_fee'].value_counts())\n",
    "print(data['collection_recovery_fee'].isnull().sum())"
   ]
  },
  {
   "cell_type": "code",
   "execution_count": 14,
   "id": "06ec3ac3-a025-47f6-b8af-38023734c7f2",
   "metadata": {},
   "outputs": [
    {
     "name": "stdout",
     "output_type": "stream",
     "text": [
      "Jan-16    179620\n",
      "Dec-15     62000\n",
      "Jul-15     11703\n",
      "Oct-15     11248\n",
      "Sep-15     10204\n",
      "           ...  \n",
      "Jun-08        20\n",
      "Mar-08        18\n",
      "Jan-08        11\n",
      "Feb-08         8\n",
      "Dec-07         2\n",
      "Name: last_pymnt_d, Length: 98, dtype: int64\n",
      "376\n"
     ]
    }
   ],
   "source": [
    "print(data['last_pymnt_d'].value_counts())\n",
    "print(data['last_pymnt_d'].isnull().sum())"
   ]
  },
  {
   "cell_type": "code",
   "execution_count": 15,
   "id": "fb3a1e9a-9401-4f3b-ad34-9b80aef0ab62",
   "metadata": {},
   "outputs": [
    {
     "name": "stdout",
     "output_type": "stream",
     "text": [
      "327.34      860\n",
      "336.90      828\n",
      "332.10      625\n",
      "491.01      579\n",
      "392.81      567\n",
      "           ... \n",
      "2535.08       1\n",
      "6432.03       1\n",
      "6705.61       1\n",
      "14086.04      1\n",
      "1500.68       1\n",
      "Name: last_pymnt_amnt, Length: 198194, dtype: int64\n",
      "0\n"
     ]
    }
   ],
   "source": [
    "print(data['last_pymnt_amnt'].value_counts())\n",
    "print(data['last_pymnt_amnt'].isnull().sum())"
   ]
  },
  {
   "cell_type": "code",
   "execution_count": 16,
   "id": "423b440e-d404-4006-ba22-f9ea3e29c2c7",
   "metadata": {},
   "outputs": [
    {
     "name": "stdout",
     "output_type": "stream",
     "text": [
      "Feb-16    208393\n",
      "Jan-16     27922\n",
      "Mar-11       107\n",
      "Apr-11       101\n",
      "Feb-11        91\n",
      "           ...  \n",
      "Oct-14         2\n",
      "Feb-08         2\n",
      "May-08         1\n",
      "Mar-15         1\n",
      "Dec-07         1\n",
      "Name: next_pymnt_d, Length: 100, dtype: int64\n",
      "227214\n"
     ]
    }
   ],
   "source": [
    "print(data['next_pymnt_d'].value_counts())\n",
    "print(data['next_pymnt_d'].isnull().sum())"
   ]
  },
  {
   "cell_type": "code",
   "execution_count": 17,
   "id": "12a232b3-5d47-4836-87c7-2579275589e6",
   "metadata": {},
   "outputs": [
    {
     "name": "stdout",
     "output_type": "stream",
     "text": [
      "Jan-16    327699\n",
      "Dec-15     13992\n",
      "Nov-15      8384\n",
      "Sep-15      8051\n",
      "Oct-15      7957\n",
      "           ...  \n",
      "Nov-07         3\n",
      "May-08         1\n",
      "Jun-08         1\n",
      "Jul-08         1\n",
      "Jul-07         1\n",
      "Name: last_credit_pull_d, Length: 103, dtype: int64\n",
      "42\n"
     ]
    }
   ],
   "source": [
    "print(data['last_credit_pull_d'].value_counts())\n",
    "print(data['last_credit_pull_d'].isnull().sum())"
   ]
  },
  {
   "cell_type": "code",
   "execution_count": 18,
   "id": "4fe29ec7-a29d-43cf-b4b0-41938fb41f67",
   "metadata": {},
   "outputs": [
    {
     "name": "stdout",
     "output_type": "stream",
     "text": [
      "0.0     462226\n",
      "1.0       3665\n",
      "2.0        219\n",
      "3.0         19\n",
      "4.0          7\n",
      "6.0          1\n",
      "16.0         1\n",
      "20.0         1\n",
      "5.0          1\n",
      "Name: collections_12_mths_ex_med, dtype: int64\n",
      "145\n"
     ]
    }
   ],
   "source": [
    "print(data['collections_12_mths_ex_med'].value_counts())\n",
    "print(data['collections_12_mths_ex_med'].isnull().sum())"
   ]
  },
  {
   "cell_type": "code",
   "execution_count": 19,
   "id": "27c71d76-f3f8-4be6-9527-267af7c25460",
   "metadata": {},
   "outputs": [
    {
     "name": "stdout",
     "output_type": "stream",
     "text": [
      "45.0     1672\n",
      "46.0     1670\n",
      "42.0     1656\n",
      "48.0     1637\n",
      "41.0     1592\n",
      "         ... \n",
      "162.0       1\n",
      "144.0       1\n",
      "165.0       1\n",
      "169.0       1\n",
      "145.0       1\n",
      "Name: mths_since_last_major_derog, Length: 162, dtype: int64\n",
      "367311\n"
     ]
    }
   ],
   "source": [
    "print(data['mths_since_last_major_derog'].value_counts())\n",
    "print(data['mths_since_last_major_derog'].isnull().sum())"
   ]
  },
  {
   "cell_type": "code",
   "execution_count": 20,
   "id": "e600829d-dc59-4f59-8d3c-625ecdd41c9a",
   "metadata": {},
   "outputs": [
    {
     "name": "stdout",
     "output_type": "stream",
     "text": [
      "1    466285\n",
      "Name: policy_code, dtype: int64\n",
      "0\n"
     ]
    }
   ],
   "source": [
    "print(data['policy_code'].value_counts())\n",
    "print(data['policy_code'].isnull().sum())"
   ]
  },
  {
   "cell_type": "code",
   "execution_count": 21,
   "id": "929e00c1-f5b5-4c6f-a4db-55997628a85f",
   "metadata": {},
   "outputs": [
    {
     "name": "stdout",
     "output_type": "stream",
     "text": [
      "INDIVIDUAL    466285\n",
      "Name: application_type, dtype: int64\n",
      "0\n"
     ]
    }
   ],
   "source": [
    "print(data['application_type'].value_counts())\n",
    "print(data['application_type'].isnull().sum())"
   ]
  },
  {
   "cell_type": "code",
   "execution_count": null,
   "id": "801f0c58-1f39-439a-ac74-391c35e060f9",
   "metadata": {},
   "outputs": [],
   "source": [
    "print(data['acc_now_delinq'].value_counts())\n",
    "print(data['acc_now_delinq'].isnull().sum())"
   ]
  }
 ],
 "metadata": {
  "kernelspec": {
   "display_name": "Python 3 (ipykernel)",
   "language": "python",
   "name": "python3"
  },
  "language_info": {
   "codemirror_mode": {
    "name": "ipython",
    "version": 3
   },
   "file_extension": ".py",
   "mimetype": "text/x-python",
   "name": "python",
   "nbconvert_exporter": "python",
   "pygments_lexer": "ipython3",
   "version": "3.9.7"
  }
 },
 "nbformat": 4,
 "nbformat_minor": 5
}
